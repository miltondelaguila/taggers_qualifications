{
 "cells": [
  {
   "cell_type": "code",
   "execution_count": 12,
   "metadata": {},
   "outputs": [],
   "source": [
    "import dtlpy as dl\n",
    "\n",
    "if dl.token_expired():\n",
    "    dl.login()"
   ]
  },
  {
   "cell_type": "code",
   "execution_count": 13,
   "metadata": {},
   "outputs": [],
   "source": [
    "project = dl.projects.get(project_id='8c217b4c-53e3-4f05-9205-76bf88ec0838')\n",
    "dataset = project.datasets.get(dataset_id='65a388a09d96c8a32c7f8b2c')"
   ]
  },
  {
   "cell_type": "code",
   "execution_count": 14,
   "metadata": {},
   "outputs": [],
   "source": [
    "def filters_funct(crop):\n",
    "    filters = dl.Filters()\n",
    "    filters.resource = dl.FiltersResource.ITEM\n",
    "    filters.add(field='metadata.crop', values=f'{crop}')\n",
    "    return filters\n",
    "\n",
    "def filter_grids_annot():\n",
    "    filters = dl.Filters()\n",
    "    filters.resource = dl.FiltersResource.ANNOTATION\n",
    "    filters.add(field='label', values='AI Weed Area Tags.Tagging Grid', operator=dl.FiltersOperations.NOT_EQUAL)\n",
    "    return filters\n",
    "\n",
    "def get_image_id(item_name):\n",
    "\n",
    "    def filter_name(item_name_def):\n",
    "        filters = dl.Filters()\n",
    "        filters.resource = dl.FiltersResource.ITEM\n",
    "        filters.add(field='name', values=item_name_def)\n",
    "        return filters\n",
    "\n",
    "\n",
    "    filters = filter_name(item_name)\n",
    "    item_id = [item.metadata['user']['ID'] for page in dataset.items.list(filters=filters) for item in page][0]\n",
    "\n",
    "    return item_id"
   ]
  },
  {
   "cell_type": "code",
   "execution_count": 10,
   "metadata": {},
   "outputs": [],
   "source": [
    "dataset_task_name = 'emergence_task'\n",
    "crop = 'Corn'\n",
    "filters_crop = filters_funct(crop)\n",
    "filters_annot = filter_grids_annot()\n",
    "\n",
    "\n",
    "def clone_dataset (dataset_task_name, filters_crop):\n",
    "\n",
    "    task_dataset = dataset.clone(clone_name=dataset_task_name, filters=filters_crop, with_items_annotations=True, with_metadata=False)\n",
    "    print ('task_dataset created')\n",
    "    for page in task_dataset.items.list():\n",
    "        \n",
    "        for item in page:\n",
    "\n",
    "            #Update item_ID\n",
    "            item_name = item.name\n",
    "            item_id = get_image_id(item_name)\n",
    "\n",
    "            item.metadata['user'] = {}\n",
    "            item.metadata['user']['ID'] = item_id\n",
    "            item.update()\n",
    "\n",
    "            #Delete labels (except grids)\n",
    "            for annot in item.annotations.list(filters=filters_annot):\n",
    "                annot.delete()\n",
    "\n",
    "    return task_dataset\n"
   ]
  },
  {
   "cell_type": "code",
   "execution_count": 15,
   "metadata": {},
   "outputs": [
    {
     "name": "stdout",
     "output_type": "stream",
     "text": [
      "Command Progress: 100%|██████████| 100/100 [02:48<00:00,  1.69s/it]\n",
      "task_dataset created\n",
      "Iterate Pages: 100%|██████████| 1/1 [00:00<00:00, 1003.18it/s]\n",
      "Iterate Pages: 100%|██████████| 1/1 [00:00<?, ?it/s]\n",
      "Iterate Pages: 100%|██████████| 1/1 [00:00<?, ?it/s]\n",
      "Iterate Pages: 100%|██████████| 1/1 [00:00<?, ?it/s]\n",
      "Iterate Pages: 100%|██████████| 1/1 [00:00<?, ?it/s]\n",
      "Iterate Pages: 100%|██████████| 1/1 [00:00<?, ?it/s]\n",
      "Iterate Pages: 100%|██████████| 1/1 [00:00<?, ?it/s]\n",
      "Iterate Pages: 100%|██████████| 1/1 [00:00<?, ?it/s]\n",
      "Iterate Pages: 100%|██████████| 1/1 [00:00<00:00, 1004.38it/s]\n",
      "Iterate Pages: 100%|██████████| 1/1 [00:00<?, ?it/s]\n",
      "Iterate Pages: 100%|██████████| 1/1 [00:00<?, ?it/s]\n",
      "Iterate Pages: 100%|██████████| 1/1 [00:00<?, ?it/s]\n",
      "Iterate Pages: 100%|██████████| 1/1 [00:00<?, ?it/s]\n",
      "Iterate Pages: 100%|██████████| 1/1 [00:00<?, ?it/s]\n",
      "Iterate Pages: 100%|██████████| 1/1 [00:00<?, ?it/s]\n",
      "Iterate Pages: 100%|██████████| 1/1 [00:00<?, ?it/s]\n",
      "Iterate Pages: 100%|██████████| 1/1 [00:00<?, ?it/s]\n",
      "Iterate Pages: 100%|██████████| 1/1 [00:00<?, ?it/s]\n",
      "Iterate Pages: 100%|██████████| 1/1 [00:00<?, ?it/s]\n",
      "Iterate Pages: 100%|██████████| 1/1 [00:00<?, ?it/s]\n",
      "Iterate Pages: 100%|██████████| 1/1 [00:00<?, ?it/s]\n",
      "Iterate Pages: 100%|██████████| 1/1 [00:00<?, ?it/s]\n",
      "Iterate Pages: 100%|██████████| 1/1 [00:00<?, ?it/s]\n",
      "Iterate Pages: 100%|██████████| 1/1 [00:00<?, ?it/s]\n",
      "Iterate Pages: 100%|██████████| 1/1 [00:00<?, ?it/s]\n",
      "Iterate Pages: 100%|██████████| 1/1 [00:00<00:00, 1002.94it/s]\n",
      "Iterate Pages: 100%|██████████| 1/1 [00:00<00:00, 1001.51it/s]\n",
      "Iterate Pages: 100%|██████████| 1/1 [00:00<?, ?it/s]\n",
      "Iterate Pages: 100%|██████████| 1/1 [00:00<?, ?it/s]\n",
      "Iterate Pages: 100%|██████████| 1/1 [00:00<?, ?it/s]\n",
      "Iterate Pages: 100%|██████████| 1/1 [09:16<00:00, 556.47s/it]\n"
     ]
    }
   ],
   "source": [
    "dataset_task_name = 'emergence_task_1'\n",
    "crop = 'Corn'\n",
    "filters_crop = filters_funct(crop)\n",
    "filters_annot = filter_grids_annot()\n",
    "\n",
    "\n",
    "clone_dataset (dataset_task_name, filters_crop)"
   ]
  },
  {
   "cell_type": "code",
   "execution_count": null,
   "metadata": {},
   "outputs": [],
   "source": [
    "def create_consensus_task (task_name_func, assignee_users_func):\n",
    "    task_dataset.tasks.create(task_name=task_name_func, assignee_ids=assignee_users_func,\n",
    "                        consensus_percentage=100, consensus_assignees=len(assignee_users_func))\n",
    "    print ('Task Created')\n"
   ]
  }
 ],
 "metadata": {
  "kernelspec": {
   "display_name": "base",
   "language": "python",
   "name": "python3"
  },
  "language_info": {
   "codemirror_mode": {
    "name": "ipython",
    "version": 3
   },
   "file_extension": ".py",
   "mimetype": "text/x-python",
   "name": "python",
   "nbconvert_exporter": "python",
   "pygments_lexer": "ipython3",
   "version": "3.9.7"
  }
 },
 "nbformat": 4,
 "nbformat_minor": 2
}
