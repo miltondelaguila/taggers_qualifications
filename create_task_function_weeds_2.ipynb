{
 "cells": [
  {
   "cell_type": "code",
   "execution_count": 20,
   "metadata": {},
   "outputs": [],
   "source": [
    "import dtlpy as dl\n",
    "from datetime import datetime\n",
    "\n",
    "\n",
    "import random\n",
    "\n",
    "if dl.token_expired():\n",
    "    dl.login()"
   ]
  },
  {
   "cell_type": "code",
   "execution_count": 21,
   "metadata": {},
   "outputs": [
    {
     "name": "stderr",
     "output_type": "stream",
     "text": [
      "[2024-04-17 11:15:47][ERR][dtlpy:v1.72.7][services.api_client:1338] [Response <404>][Reason: Not Found][Text: {\"message\":\" not found, Failed to get a assignment with ID 661022db278f4e7ffa6e277f: resource not found.. Assignment not found in DB.\"}]\n",
      "[2024-04-17 11:15:48][ERR][dtlpy:v1.72.7][services.api_client:1338] [Response <404>][Reason: Not Found][Text: {\"message\":\" not found, Failed to get a assignment with ID 661022db278f4e133a6e2781: resource not found.. Assignment not found in DB.\"}]\n",
      "[2024-04-17 11:15:48][ERR][dtlpy:v1.72.7][services.api_client:1338] [Response <404>][Reason: Not Found][Text: {\"message\":\" not found, Failed to get a assignment with ID 660b5652278f4e07a36d05f5: resource not found.. Assignment not found in DB.\"}]\n",
      "[2024-04-17 11:15:49][ERR][dtlpy:v1.72.7][services.api_client:1338] [Response <404>][Reason: Not Found][Text: {\"message\":\" not found, Failed to get a assignment with ID 661175f9424e22286718b793: resource not found.. Assignment not found in DB.\"}]\n",
      "[2024-04-17 11:15:51][ERR][dtlpy:v1.72.7][services.api_client:1338] [Response <404>][Reason: Not Found][Text: {\"message\":\" not found, Failed to get a assignment with ID 660f34a3278f4eb64b6e1d01: resource not found.. Assignment not found in DB.\"}]\n",
      "[2024-04-17 11:15:58][ERR][dtlpy:v1.72.7][services.api_client:1338] [Response <404>][Reason: Not Found][Text: {\"message\":\" not found, Failed to get a assignment with ID 6619fe7d2bec3654ebf93e49: resource not found.. Assignment not found in DB.\"}]\n",
      "[2024-04-17 11:15:58][ERR][dtlpy:v1.72.7][services.api_client:1338] [Response <404>][Reason: Not Found][Text: {\"message\":\" not found, Failed to get a assignment with ID 6619fe7d2bec360cbff93e47: resource not found.. Assignment not found in DB.\"}]\n",
      "[2024-04-17 11:15:58][ERR][dtlpy:v1.72.7][services.api_client:1338] [Response <404>][Reason: Not Found][Text: {\"message\":\" not found, Failed to get a assignment with ID 6614e6b52bec36799ef93564: resource not found.. Assignment not found in DB.\"}]\n",
      "[2024-04-17 11:15:58][ERR][dtlpy:v1.72.7][services.api_client:1338] [Response <404>][Reason: Not Found][Text: {\"message\":\" not found, Failed to get a assignment with ID 661417ca6f96dedca27544f2: resource not found.. Assignment not found in DB.\"}]\n",
      "[2024-04-17 11:15:58][ERR][dtlpy:v1.72.7][services.api_client:1338] [Response <404>][Reason: Not Found][Text: {\"message\":\" not found, Failed to get a assignment with ID 661417ca6f96de4bb27544f1: resource not found.. Assignment not found in DB.\"}]\n",
      "[2024-04-17 11:15:58][ERR][dtlpy:v1.72.7][services.api_client:1338] [Response <404>][Reason: Not Found][Text: {\"message\":\" not found, Failed to get a assignment with ID 6611eb522bec3671eaf92f99: resource not found.. Assignment not found in DB.\"}]\n",
      "[2024-04-17 11:15:58][ERR][dtlpy:v1.72.7][services.api_client:1338] [Response <404>][Reason: Not Found][Text: {\"message\":\" not found, Failed to get a assignment with ID 66134c5e6f96de5fc475301f: resource not found.. Assignment not found in DB.\"}]\n"
     ]
    }
   ],
   "source": [
    "report = []\n",
    "list_not_found = []\n",
    "list_assign = [\"660b5fe7278f4e62066d0602\",\"660c10016f96de137873d87e\",\"661022db278f4e7ffa6e277f\",\"660c97b86f96de95d873d8be\",\"660dfa8bbb13993c952ebe0c\",\"660f3c2aef9ee5dab0b1d105\",\"660b6a5058f1aa6783c5539e\",\"660b210e6f96dec71d73bf71\",\"660f380bef9ee551c5b1d102\",\"660ae0e92bec365a53f7be83\",\"660dbccd6f96de1d0c749c68\",\"660b6d662bec36d401f7bed5\",\"661022db278f4e133a6e2781\",\"660ae98e424e220363184fef\",\"660b5652278f4e07a36d05f5\",\"661175f9424e22286718b793\",\"660b209c58f1aa5e51c55369\",\"660dbf282bec36a3d2f87f94\",\"660f38dc278f4e413b6e1f4b\",\"660df4c3278f4e2afe6d81c8\",\"660b20bd2bec360f4af7beb1\",\"660b5c176f96deff4773bf8e\",\"660f302c424e22b8a518a2ed\",\"660dfa6c9ff0f6a73109122f\",\"660f34a3278f4e6a6b6e1cff\",\"660f33798ae0d93e35d9ba01\",\"660f564d278f4e0d4c6e2611\",\"660f3677bf4484b7480b8e44\",\"660f156758f1aa4497c6fa7d\",\"660e1d15025e6cda819a9d7f\",\"660f17188ae0d91958d9b9f0\",\"660af1c56f96de82a173bf50\",\"660f4d837c96dc5812ae9c40\",\"660e02182bec363a70f88013\",\"660f654a278f4efdee6e2638\",\"660aeef8424e221473184ffe\",\"660dc5fd424e22319d189ed8\",\"660f50938ae0d94534d9ba16\",\"660e1518424e2276d1189fb7\",\"660f3777278f4e4f8e6e1f40\",\"660b33ec58f1aa3bfcc5537c\",\"660f34a3278f4eb64b6e1d01\",\"660f4bf9bf4484093a0b8e52\",\"660f4b2d543f322617deca94\",\"660dbf21424e2245df189ecd\",\"660f4eb6bf448446f00b8e57\",\"660dfa4e128985e292f568ca\",\"660dc80b6f96de605a74a444\",\"660e1c1e58f1aa8037c6f7d5\",\"660f2d3def9ee5f33bb1d0f1\",\"660deeef424e22679b189f78\",\"660f36f8543f327daddeca88\",\"660dda1f58f1aa80b1c6f751\",\"660efc1f2bec365d64f8d29a\",\"660ef627278f4e02c76e0571\",\"660f0780278f4e33226e09b7\",\"660dda2e6f96de664974ac6f\",\"660ddc40bb139982b22ebd1b\",\"660f370058f1aaf637c6fae0\",\"660dda9658f1aa2640c6f760\",\"660f0e1d2bec360d97f8d2ce\",\"660f0bf5424e22840f18a293\",\"660f4a4f444f4b85f3ffb7b1\",\"660efb377f4d43662b59fda5\",\"660f1ec6278f4eaca36e0dc4\",\"660f4e48bf448404900b8e55\",\"660e184b2bec36581cf8802f\",\"660f1470278f4e7cac6e0dad\",\"660efffb96966cc07ac8d133\",\"660e011f3cae0e0153a2e7b5\",\"660e1a226f96de10f074de50\",\"660f36e3424e2227e218a307\",\"660ef895278f4e823c6e0580\",\"660df04f278f4e62536d81b6\",\"660f4f8d6e64af3fe71ca4a7\",\"660dda6058f1aaa697c6f75a\",\"660df9ca58f1aa028ac6f79c\",\"660f304f7c96dc4ad6ae9c26\",\"66105572424e22523b18a466\",\"660afece2bec362a61f7be9b\",\"660f014b7c96dc2085ae9c0a\",\"6610555158f1aa741ec6fca0\",\"660f2dd46e64afc5531ca48d\",\"660ef4c46e64af1b961ca468\",\"660eff247c96dceda4ae9c08\",\"660f2e227c96dc1cecae9c1b\",\"660efd252bec364d9cf8d2ab\",\"660b3686424e22368e185050\",\"660f30012bec365d66f8dec7\",\"660dd9fe58f1aaf8ccc6f747\",\"660eef8699ec4f4a5046bb63\",\"660f2ce6ef9ee5085eb1d0ed\",\"660efe23424e22b60a18a275\",\"660f2d14ef9ee51e4bb1d0ef\",\"660ef1e5c85d741e2d0f0f69\",\"660eeecf6e64af76cb1ca460\",\"660f381f424e220c0718a311\",\"660f37ccd0f9765187327920\",\"660ef8a2424e22046818a235\",\"660efe2a6e64af52c61ca47c\",\"660ddd2f6e64af82f71c1f12\",\"660ddcf79a94ac77238ab21e\",\"6610555b6e64af74861d0422\",\"6619fe7d2bec3654ebf93e49\",\"6619fe7d2bec360cbff93e47\",\"6614e6b52bec36799ef93564\",\"661417ca6f96dedca27544f2\",\"661417ca6f96de4bb27544f1\",\"6611eb522bec3671eaf92f99\",\"66134c5e6f96de5fc475301f\",\"66072cc0424e224ab9184d35\"]\n",
    "project = dl.projects.get(project_id='07c9bc7f-4a4c-42e6-b810-4eceeadcc1f5')\n",
    "\n",
    "for assign_id in list_assign:\n",
    "    \n",
    "    try:\n",
    "        assign = project.assignments.get(assignment_id=assign_id)\n",
    "        report.append({'Assignment': assign_id,\n",
    "                       'assign_name': assign.name,\n",
    "                       'Tagger': assign.annotator})\n",
    "\n",
    "    except:\n",
    "        list_not_found.append(assign_id)"
   ]
  },
  {
   "cell_type": "code",
   "execution_count": 22,
   "metadata": {},
   "outputs": [
    {
     "data": {
      "text/plain": [
       "Assignment(name='ops-678131-sorghum-BR (6)', annotator='zanchinmayara@gmail.com', status='done', project_id='07c9bc7f-4a4c-42e6-b810-4eceeadcc1f5', id='66072cc0424e224ab9184d35', total_items=13, for_review=0, issues=0)"
      ]
     },
     "execution_count": 22,
     "metadata": {},
     "output_type": "execute_result"
    }
   ],
   "source": [
    "assign"
   ]
  },
  {
   "cell_type": "code",
   "execution_count": 23,
   "metadata": {},
   "outputs": [
    {
     "ename": "PermissionError",
     "evalue": "[Errno 13] Permission denied: 'pupy.csv'",
     "output_type": "error",
     "traceback": [
      "\u001b[1;31m---------------------------------------------------------------------------\u001b[0m",
      "\u001b[1;31mPermissionError\u001b[0m                           Traceback (most recent call last)",
      "\u001b[1;32m~\\AppData\\Local\\Temp/ipykernel_26024/783696527.py\u001b[0m in \u001b[0;36m<module>\u001b[1;34m\u001b[0m\n\u001b[0;32m      1\u001b[0m \u001b[1;32mimport\u001b[0m \u001b[0mpandas\u001b[0m \u001b[1;32mas\u001b[0m \u001b[0mpd\u001b[0m\u001b[1;33m\u001b[0m\u001b[1;33m\u001b[0m\u001b[0m\n\u001b[0;32m      2\u001b[0m \u001b[1;33m\u001b[0m\u001b[0m\n\u001b[1;32m----> 3\u001b[1;33m \u001b[0mpd\u001b[0m\u001b[1;33m.\u001b[0m\u001b[0mDataFrame\u001b[0m\u001b[1;33m(\u001b[0m\u001b[0mreport\u001b[0m\u001b[1;33m)\u001b[0m\u001b[1;33m.\u001b[0m\u001b[0mto_csv\u001b[0m\u001b[1;33m(\u001b[0m\u001b[1;34m'pupy.csv'\u001b[0m\u001b[1;33m,\u001b[0m \u001b[0mindex\u001b[0m\u001b[1;33m=\u001b[0m\u001b[1;32mFalse\u001b[0m\u001b[1;33m)\u001b[0m\u001b[1;33m\u001b[0m\u001b[1;33m\u001b[0m\u001b[0m\n\u001b[0m",
      "\u001b[1;32mc:\\Users\\milton\\anaconda3\\lib\\site-packages\\pandas\\core\\generic.py\u001b[0m in \u001b[0;36mto_csv\u001b[1;34m(self, path_or_buf, sep, na_rep, float_format, columns, header, index, index_label, mode, encoding, compression, quoting, quotechar, line_terminator, chunksize, date_format, doublequote, escapechar, decimal, errors, storage_options)\u001b[0m\n\u001b[0;32m   3464\u001b[0m         )\n\u001b[0;32m   3465\u001b[0m \u001b[1;33m\u001b[0m\u001b[0m\n\u001b[1;32m-> 3466\u001b[1;33m         return DataFrameRenderer(formatter).to_csv(\n\u001b[0m\u001b[0;32m   3467\u001b[0m             \u001b[0mpath_or_buf\u001b[0m\u001b[1;33m,\u001b[0m\u001b[1;33m\u001b[0m\u001b[1;33m\u001b[0m\u001b[0m\n\u001b[0;32m   3468\u001b[0m             \u001b[0mline_terminator\u001b[0m\u001b[1;33m=\u001b[0m\u001b[0mline_terminator\u001b[0m\u001b[1;33m,\u001b[0m\u001b[1;33m\u001b[0m\u001b[1;33m\u001b[0m\u001b[0m\n",
      "\u001b[1;32mc:\\Users\\milton\\anaconda3\\lib\\site-packages\\pandas\\io\\formats\\format.py\u001b[0m in \u001b[0;36mto_csv\u001b[1;34m(self, path_or_buf, encoding, sep, columns, index_label, mode, compression, quoting, quotechar, line_terminator, chunksize, date_format, doublequote, escapechar, errors, storage_options)\u001b[0m\n\u001b[0;32m   1103\u001b[0m             \u001b[0mformatter\u001b[0m\u001b[1;33m=\u001b[0m\u001b[0mself\u001b[0m\u001b[1;33m.\u001b[0m\u001b[0mfmt\u001b[0m\u001b[1;33m,\u001b[0m\u001b[1;33m\u001b[0m\u001b[1;33m\u001b[0m\u001b[0m\n\u001b[0;32m   1104\u001b[0m         )\n\u001b[1;32m-> 1105\u001b[1;33m         \u001b[0mcsv_formatter\u001b[0m\u001b[1;33m.\u001b[0m\u001b[0msave\u001b[0m\u001b[1;33m(\u001b[0m\u001b[1;33m)\u001b[0m\u001b[1;33m\u001b[0m\u001b[1;33m\u001b[0m\u001b[0m\n\u001b[0m\u001b[0;32m   1106\u001b[0m \u001b[1;33m\u001b[0m\u001b[0m\n\u001b[0;32m   1107\u001b[0m         \u001b[1;32mif\u001b[0m \u001b[0mcreated_buffer\u001b[0m\u001b[1;33m:\u001b[0m\u001b[1;33m\u001b[0m\u001b[1;33m\u001b[0m\u001b[0m\n",
      "\u001b[1;32mc:\\Users\\milton\\anaconda3\\lib\\site-packages\\pandas\\io\\formats\\csvs.py\u001b[0m in \u001b[0;36msave\u001b[1;34m(self)\u001b[0m\n\u001b[0;32m    235\u001b[0m         \"\"\"\n\u001b[0;32m    236\u001b[0m         \u001b[1;31m# apply compression and byte/text conversion\u001b[0m\u001b[1;33m\u001b[0m\u001b[1;33m\u001b[0m\u001b[0m\n\u001b[1;32m--> 237\u001b[1;33m         with get_handle(\n\u001b[0m\u001b[0;32m    238\u001b[0m             \u001b[0mself\u001b[0m\u001b[1;33m.\u001b[0m\u001b[0mfilepath_or_buffer\u001b[0m\u001b[1;33m,\u001b[0m\u001b[1;33m\u001b[0m\u001b[1;33m\u001b[0m\u001b[0m\n\u001b[0;32m    239\u001b[0m             \u001b[0mself\u001b[0m\u001b[1;33m.\u001b[0m\u001b[0mmode\u001b[0m\u001b[1;33m,\u001b[0m\u001b[1;33m\u001b[0m\u001b[1;33m\u001b[0m\u001b[0m\n",
      "\u001b[1;32mc:\\Users\\milton\\anaconda3\\lib\\site-packages\\pandas\\io\\common.py\u001b[0m in \u001b[0;36mget_handle\u001b[1;34m(path_or_buf, mode, encoding, compression, memory_map, is_text, errors, storage_options)\u001b[0m\n\u001b[0;32m    700\u001b[0m         \u001b[1;32mif\u001b[0m \u001b[0mioargs\u001b[0m\u001b[1;33m.\u001b[0m\u001b[0mencoding\u001b[0m \u001b[1;32mand\u001b[0m \u001b[1;34m\"b\"\u001b[0m \u001b[1;32mnot\u001b[0m \u001b[1;32min\u001b[0m \u001b[0mioargs\u001b[0m\u001b[1;33m.\u001b[0m\u001b[0mmode\u001b[0m\u001b[1;33m:\u001b[0m\u001b[1;33m\u001b[0m\u001b[1;33m\u001b[0m\u001b[0m\n\u001b[0;32m    701\u001b[0m             \u001b[1;31m# Encoding\u001b[0m\u001b[1;33m\u001b[0m\u001b[1;33m\u001b[0m\u001b[0m\n\u001b[1;32m--> 702\u001b[1;33m             handle = open(\n\u001b[0m\u001b[0;32m    703\u001b[0m                 \u001b[0mhandle\u001b[0m\u001b[1;33m,\u001b[0m\u001b[1;33m\u001b[0m\u001b[1;33m\u001b[0m\u001b[0m\n\u001b[0;32m    704\u001b[0m                 \u001b[0mioargs\u001b[0m\u001b[1;33m.\u001b[0m\u001b[0mmode\u001b[0m\u001b[1;33m,\u001b[0m\u001b[1;33m\u001b[0m\u001b[1;33m\u001b[0m\u001b[0m\n",
      "\u001b[1;31mPermissionError\u001b[0m: [Errno 13] Permission denied: 'pupy.csv'"
     ]
    }
   ],
   "source": [
    "import pandas as pd\n",
    "\n",
    "pd.DataFrame(report).to_csv('pupy.csv', index=False)"
   ]
  },
  {
   "cell_type": "code",
   "execution_count": null,
   "metadata": {},
   "outputs": [],
   "source": [
    "#Get golden project and dataset\n",
    "# Add list of ids you want to check\n",
    "#create dictionary.. {threats: [list_items]}\n",
    "#create List of items with selected items for task dataset\n",
    "#create task dataset\n",
    "#clone items in task dataset\n",
    "#update metadata\n",
    "#create consensus task"
   ]
  },
  {
   "cell_type": "code",
   "execution_count": null,
   "metadata": {},
   "outputs": [],
   "source": [
    "golden_project = dl.projects.get(project_id='0c8c900e-468c-4c77-aaab-1871333f772b')\n",
    "golden_dataset = golden_project.datasets.get(dataset_id='65941df20d5a6843e79c93ed')"
   ]
  },
  {
   "cell_type": "code",
   "execution_count": null,
   "metadata": {},
   "outputs": [],
   "source": [
    "def filters_funct(list_subcat):\n",
    "    filters = dl.Filters()\n",
    "    filters.resource = dl.FiltersResource.ITEM\n",
    "    filters.add(field='metadata.user.Subcategory_id', values=list_subcat, operator=dl.FiltersOperations.IN)\n",
    "    return filters"
   ]
  },
  {
   "cell_type": "code",
   "execution_count": null,
   "metadata": {},
   "outputs": [],
   "source": [
    "def item_grouped_by_threats_funct_with_filters(dataset, filters):\n",
    "    item_per_threat = {}\n",
    "    for folder in dataset.items.list(filters=filters):\n",
    "        for item in folder:\n",
    "            sub_name = item.metadata['user']['Subcategory_name']\n",
    "            if sub_name not in item_per_threat:\n",
    "                item_per_threat[sub_name] = []\n",
    "\n",
    "            item_per_threat[sub_name].append(item)\n",
    "            \n",
    "    return item_per_threat"
   ]
  },
  {
   "cell_type": "code",
   "execution_count": null,
   "metadata": {},
   "outputs": [],
   "source": [
    "def item_grouped_by_threats_funct_without_filters(dataset):\n",
    "    item_per_threat = {}\n",
    "    for folder in dataset.items.list():\n",
    "        for item in folder:\n",
    "            sub_name = item.metadata['user']['Subcategory_name']\n",
    "            if sub_name not in item_per_threat:\n",
    "                item_per_threat[sub_name] = []\n",
    "\n",
    "            item_per_threat[sub_name].append(item)\n",
    "            \n",
    "    return item_per_threat"
   ]
  },
  {
   "cell_type": "code",
   "execution_count": null,
   "metadata": {},
   "outputs": [],
   "source": [
    "def get_selected_images_list_funct(item_threat, num_samples):\n",
    "        \n",
    "    list_select_treats = []\n",
    "    for items_list in item_threat.values():\n",
    "        random_values = random.sample(items_list, num_samples)\n",
    "        list_select_treats.extend(random_values)\n",
    "\n",
    "    return list_select_treats"
   ]
  },
  {
   "cell_type": "code",
   "execution_count": null,
   "metadata": {},
   "outputs": [],
   "source": [
    "def create_new_dataset (task_dataset_name):\n",
    "    task_dataset = golden_project.datasets.create(dataset_name=task_dataset_name, recipe_id='659bbf90136f1b91b4698ab9')\n",
    "    return task_dataset"
   ]
  },
  {
   "cell_type": "code",
   "execution_count": null,
   "metadata": {},
   "outputs": [],
   "source": [
    "def clone_items_in_new_dataset(list_items_for_test, task_dataset, task_name, assignee_users, task_owner):\n",
    "    \n",
    "    def create_consensus_task (task_name_func, assignee_users_func):\n",
    "        task_dataset.tasks.create(task_name=task_name_func, assignee_ids=assignee_users_func,\n",
    "                            consensus_percentage=100, consensus_assignees=len(assignee_users_func), task_owner=task_owner)\n",
    "        print ('Task Created')\n",
    "\n",
    "    for item in list_items_for_test:\n",
    "        item_id = item.metadata['user']['ID']\n",
    "        item_for_task = item.clone(dst_dataset_id=task_dataset.id, remote_filepath='/'+str(item_id), with_metadata=False)\n",
    "\n",
    "        item_for_task.metadata['user'] = {}\n",
    "        item_for_task.metadata['user']['ID'] = item_id\n",
    "        item_for_task.metadata['system'].pop('originalname')\n",
    "        item_for_task.update(system_metadata =True)\n",
    "\n",
    "    create_consensus_task (task_name, assignee_users)\n",
    "        "
   ]
  },
  {
   "cell_type": "code",
   "execution_count": null,
   "metadata": {},
   "outputs": [
    {
     "name": "stdout",
     "output_type": "stream",
     "text": [
      "Iterate Pages: 100%|██████████| 17/17 [00:14<00:00,  1.14it/s]\n",
      "Command Progress: 100%|██████████| 100/100 [00:02<00:00, 48.29it/s]"
     ]
    },
    {
     "name": "stderr",
     "output_type": "stream",
     "text": [
      "[2024-04-16 17:41:35][WAR][dtlpy:v1.72.7][entities.item:113] Item has been fetched from a dataset that is not belong to it\n"
     ]
    },
    {
     "name": "stdout",
     "output_type": "stream",
     "text": [
      "\n",
      "Command Progress: 100%|██████████| 100/100 [00:01<00:00, 69.12it/s]"
     ]
    },
    {
     "name": "stderr",
     "output_type": "stream",
     "text": [
      "[2024-04-16 17:41:38][WAR][dtlpy:v1.72.7][entities.item:113] Item has been fetched from a dataset that is not belong to it\n"
     ]
    },
    {
     "name": "stdout",
     "output_type": "stream",
     "text": [
      "\n",
      "Command Progress: 100%|██████████| 100/100 [00:02<00:00, 48.70it/s]"
     ]
    },
    {
     "name": "stderr",
     "output_type": "stream",
     "text": [
      "[2024-04-16 17:41:41][WAR][dtlpy:v1.72.7][entities.item:113] Item has been fetched from a dataset that is not belong to it\n"
     ]
    },
    {
     "name": "stdout",
     "output_type": "stream",
     "text": [
      "\n",
      "Command Progress: 100%|██████████| 100/100 [00:02<00:00, 48.23it/s]"
     ]
    },
    {
     "name": "stderr",
     "output_type": "stream",
     "text": [
      "[2024-04-16 17:41:44][WAR][dtlpy:v1.72.7][entities.item:113] Item has been fetched from a dataset that is not belong to it\n"
     ]
    },
    {
     "name": "stdout",
     "output_type": "stream",
     "text": [
      "\n",
      "Command Progress: 100%|██████████| 100/100 [00:02<00:00, 48.40it/s]"
     ]
    },
    {
     "name": "stderr",
     "output_type": "stream",
     "text": [
      "[2024-04-16 17:41:46][WAR][dtlpy:v1.72.7][entities.item:113] Item has been fetched from a dataset that is not belong to it\n"
     ]
    },
    {
     "name": "stdout",
     "output_type": "stream",
     "text": [
      "\n",
      "Command Progress: 100%|██████████| 100/100 [00:02<00:00, 47.08it/s]\n"
     ]
    },
    {
     "name": "stderr",
     "output_type": "stream",
     "text": [
      "[2024-04-16 17:41:49][WAR][dtlpy:v1.72.7][entities.item:113] Item has been fetched from a dataset that is not belong to it\n"
     ]
    },
    {
     "name": "stdout",
     "output_type": "stream",
     "text": [
      "Command Progress: 100%|██████████| 100/100 [00:01<00:00, 80.96it/s]"
     ]
    },
    {
     "name": "stderr",
     "output_type": "stream",
     "text": [
      "[2024-04-16 17:41:51][WAR][dtlpy:v1.72.7][entities.item:113] Item has been fetched from a dataset that is not belong to it\n"
     ]
    },
    {
     "name": "stdout",
     "output_type": "stream",
     "text": [
      "\n",
      "Command Progress: 100%|██████████| 100/100 [00:01<00:00, 64.61it/s]"
     ]
    },
    {
     "name": "stderr",
     "output_type": "stream",
     "text": [
      "[2024-04-16 17:41:52][WAR][dtlpy:v1.72.7][entities.item:113] Item has been fetched from a dataset that is not belong to it\n"
     ]
    },
    {
     "name": "stdout",
     "output_type": "stream",
     "text": [
      "\n",
      "Command Progress: 100%|██████████| 100/100 [00:02<00:00, 46.69it/s]"
     ]
    },
    {
     "name": "stderr",
     "output_type": "stream",
     "text": [
      "[2024-04-16 17:41:55][WAR][dtlpy:v1.72.7][entities.item:113] Item has been fetched from a dataset that is not belong to it\n"
     ]
    },
    {
     "name": "stdout",
     "output_type": "stream",
     "text": [
      "\n",
      "Command Progress: 100%|██████████| 100/100 [00:02<00:00, 48.58it/s]"
     ]
    },
    {
     "name": "stderr",
     "output_type": "stream",
     "text": [
      "[2024-04-16 17:41:58][WAR][dtlpy:v1.72.7][entities.item:113] Item has been fetched from a dataset that is not belong to it\n"
     ]
    },
    {
     "name": "stdout",
     "output_type": "stream",
     "text": [
      "\n",
      "Command Progress: 100%|██████████| 100/100 [00:02<00:00, 43.86it/s]\n"
     ]
    },
    {
     "name": "stderr",
     "output_type": "stream",
     "text": [
      "[2024-04-16 17:42:00][WAR][dtlpy:v1.72.7][entities.item:113] Item has been fetched from a dataset that is not belong to it\n"
     ]
    },
    {
     "name": "stdout",
     "output_type": "stream",
     "text": [
      "Command Progress: 100%|██████████| 100/100 [00:02<00:00, 46.96it/s]"
     ]
    },
    {
     "name": "stderr",
     "output_type": "stream",
     "text": [
      "[2024-04-16 17:42:03][WAR][dtlpy:v1.72.7][entities.item:113] Item has been fetched from a dataset that is not belong to it\n"
     ]
    },
    {
     "name": "stdout",
     "output_type": "stream",
     "text": [
      "\n",
      "Command Progress: 100%|██████████| 100/100 [00:02<00:00, 48.43it/s]"
     ]
    },
    {
     "name": "stderr",
     "output_type": "stream",
     "text": [
      "[2024-04-16 17:42:06][WAR][dtlpy:v1.72.7][entities.item:113] Item has been fetched from a dataset that is not belong to it\n"
     ]
    },
    {
     "name": "stdout",
     "output_type": "stream",
     "text": [
      "\n",
      "Command Progress: 100%|██████████| 100/100 [00:02<00:00, 49.65it/s]"
     ]
    },
    {
     "name": "stderr",
     "output_type": "stream",
     "text": [
      "[2024-04-16 17:42:08][WAR][dtlpy:v1.72.7][entities.item:113] Item has been fetched from a dataset that is not belong to it\n"
     ]
    },
    {
     "name": "stdout",
     "output_type": "stream",
     "text": [
      "\n",
      "Command Progress: 100%|██████████| 100/100 [00:02<00:00, 48.85it/s]"
     ]
    },
    {
     "name": "stderr",
     "output_type": "stream",
     "text": [
      "[2024-04-16 17:42:10][WAR][dtlpy:v1.72.7][entities.item:113] Item has been fetched from a dataset that is not belong to it\n"
     ]
    },
    {
     "name": "stdout",
     "output_type": "stream",
     "text": [
      "\n",
      "Command Progress: 100%|██████████| 100/100 [00:01<00:00, 69.49it/s]\n"
     ]
    },
    {
     "name": "stderr",
     "output_type": "stream",
     "text": [
      "[2024-04-16 17:42:13][WAR][dtlpy:v1.72.7][entities.item:113] Item has been fetched from a dataset that is not belong to it\n"
     ]
    },
    {
     "name": "stdout",
     "output_type": "stream",
     "text": [
      "Command Progress: 100%|██████████| 100/100 [00:01<00:00, 66.34it/s]\n"
     ]
    },
    {
     "name": "stderr",
     "output_type": "stream",
     "text": [
      "[2024-04-16 17:42:15][WAR][dtlpy:v1.72.7][entities.item:113] Item has been fetched from a dataset that is not belong to it\n"
     ]
    },
    {
     "name": "stdout",
     "output_type": "stream",
     "text": [
      "Command Progress: 100%|██████████| 100/100 [00:01<00:00, 79.67it/s]"
     ]
    },
    {
     "name": "stderr",
     "output_type": "stream",
     "text": [
      "[2024-04-16 17:42:17][WAR][dtlpy:v1.72.7][entities.item:113] Item has been fetched from a dataset that is not belong to it\n"
     ]
    },
    {
     "name": "stdout",
     "output_type": "stream",
     "text": [
      "\n",
      "Command Progress: 100%|██████████| 100/100 [00:00<00:00, 104.60it/s]"
     ]
    },
    {
     "name": "stderr",
     "output_type": "stream",
     "text": [
      "[2024-04-16 17:42:18][WAR][dtlpy:v1.72.7][entities.item:113] Item has been fetched from a dataset that is not belong to it\n"
     ]
    },
    {
     "name": "stdout",
     "output_type": "stream",
     "text": [
      "\n",
      "Command Progress: 100%|██████████| 100/100 [00:02<00:00, 48.39it/s]"
     ]
    },
    {
     "name": "stderr",
     "output_type": "stream",
     "text": [
      "[2024-04-16 17:42:21][WAR][dtlpy:v1.72.7][entities.item:113] Item has been fetched from a dataset that is not belong to it\n"
     ]
    },
    {
     "name": "stdout",
     "output_type": "stream",
     "text": [
      "\n",
      "Command Progress: 100%|██████████| 100/100 [00:02<00:00, 48.26it/s]"
     ]
    },
    {
     "name": "stderr",
     "output_type": "stream",
     "text": [
      "[2024-04-16 17:42:23][WAR][dtlpy:v1.72.7][entities.item:113] Item has been fetched from a dataset that is not belong to it\n"
     ]
    },
    {
     "name": "stdout",
     "output_type": "stream",
     "text": [
      "\n",
      "Command Progress: 100%|██████████| 100/100 [00:02<00:00, 46.06it/s]\n"
     ]
    },
    {
     "name": "stderr",
     "output_type": "stream",
     "text": [
      "[2024-04-16 17:42:26][WAR][dtlpy:v1.72.7][entities.item:113] Item has been fetched from a dataset that is not belong to it\n"
     ]
    },
    {
     "name": "stdout",
     "output_type": "stream",
     "text": [
      "Command Progress: 100%|██████████| 100/100 [00:01<00:00, 66.01it/s]"
     ]
    },
    {
     "name": "stderr",
     "output_type": "stream",
     "text": [
      "[2024-04-16 17:42:28][WAR][dtlpy:v1.72.7][entities.item:113] Item has been fetched from a dataset that is not belong to it\n"
     ]
    },
    {
     "name": "stdout",
     "output_type": "stream",
     "text": [
      "\n",
      "Command Progress: 100%|██████████| 100/100 [00:02<00:00, 48.73it/s]"
     ]
    },
    {
     "name": "stderr",
     "output_type": "stream",
     "text": [
      "[2024-04-16 17:42:31][WAR][dtlpy:v1.72.7][entities.item:113] Item has been fetched from a dataset that is not belong to it\n"
     ]
    },
    {
     "name": "stdout",
     "output_type": "stream",
     "text": [
      "\n",
      "Command Progress: 100%|██████████| 100/100 [00:02<00:00, 48.79it/s]"
     ]
    },
    {
     "name": "stderr",
     "output_type": "stream",
     "text": [
      "[2024-04-16 17:42:33][WAR][dtlpy:v1.72.7][entities.item:113] Item has been fetched from a dataset that is not belong to it\n"
     ]
    },
    {
     "name": "stdout",
     "output_type": "stream",
     "text": [
      "\n",
      "Command Progress: 100%|██████████| 100/100 [00:02<00:00, 48.31it/s]"
     ]
    },
    {
     "name": "stderr",
     "output_type": "stream",
     "text": [
      "[2024-04-16 17:42:35][WAR][dtlpy:v1.72.7][entities.item:113] Item has been fetched from a dataset that is not belong to it\n"
     ]
    },
    {
     "name": "stdout",
     "output_type": "stream",
     "text": [
      "\n",
      "Command Progress: 100%|██████████| 100/100 [00:02<00:00, 46.37it/s]"
     ]
    },
    {
     "name": "stderr",
     "output_type": "stream",
     "text": [
      "[2024-04-16 17:42:38][WAR][dtlpy:v1.72.7][entities.item:113] Item has been fetched from a dataset that is not belong to it\n"
     ]
    },
    {
     "name": "stdout",
     "output_type": "stream",
     "text": [
      "\n",
      "Command Progress: 100%|██████████| 100/100 [00:01<00:00, 76.68it/s]"
     ]
    },
    {
     "name": "stderr",
     "output_type": "stream",
     "text": [
      "[2024-04-16 17:42:40][WAR][dtlpy:v1.72.7][entities.item:113] Item has been fetched from a dataset that is not belong to it\n"
     ]
    },
    {
     "name": "stdout",
     "output_type": "stream",
     "text": [
      "\n",
      "Command Progress: 100%|██████████| 100/100 [00:01<00:00, 78.95it/s]"
     ]
    },
    {
     "name": "stderr",
     "output_type": "stream",
     "text": [
      "[2024-04-16 17:42:42][WAR][dtlpy:v1.72.7][entities.item:113] Item has been fetched from a dataset that is not belong to it\n"
     ]
    },
    {
     "name": "stdout",
     "output_type": "stream",
     "text": [
      "\n",
      "Command Progress: 100%|██████████| 100/100 [00:01<00:00, 78.98it/s]"
     ]
    },
    {
     "name": "stderr",
     "output_type": "stream",
     "text": [
      "[2024-04-16 17:42:43][WAR][dtlpy:v1.72.7][entities.item:113] Item has been fetched from a dataset that is not belong to it\n"
     ]
    },
    {
     "name": "stdout",
     "output_type": "stream",
     "text": [
      "\n",
      "Command Progress: 100%|██████████| 100/100 [00:01<00:00, 70.75it/s]"
     ]
    },
    {
     "name": "stderr",
     "output_type": "stream",
     "text": [
      "[2024-04-16 17:42:45][WAR][dtlpy:v1.72.7][entities.item:113] Item has been fetched from a dataset that is not belong to it\n"
     ]
    },
    {
     "name": "stdout",
     "output_type": "stream",
     "text": [
      "\n",
      "Command Progress: 100%|██████████| 100/100 [00:02<00:00, 47.13it/s]"
     ]
    },
    {
     "name": "stderr",
     "output_type": "stream",
     "text": [
      "[2024-04-16 17:42:48][WAR][dtlpy:v1.72.7][entities.item:113] Item has been fetched from a dataset that is not belong to it\n"
     ]
    },
    {
     "name": "stdout",
     "output_type": "stream",
     "text": [
      "\n",
      "Command Progress: 100%|██████████| 100/100 [00:02<00:00, 44.35it/s]"
     ]
    },
    {
     "name": "stderr",
     "output_type": "stream",
     "text": [
      "[2024-04-16 17:42:51][WAR][dtlpy:v1.72.7][entities.item:113] Item has been fetched from a dataset that is not belong to it\n"
     ]
    },
    {
     "name": "stdout",
     "output_type": "stream",
     "text": [
      "\n",
      "Command Progress: 100%|██████████| 100/100 [00:02<00:00, 42.67it/s]"
     ]
    },
    {
     "name": "stderr",
     "output_type": "stream",
     "text": [
      "[2024-04-16 17:42:53][WAR][dtlpy:v1.72.7][entities.item:113] Item has been fetched from a dataset that is not belong to it\n"
     ]
    },
    {
     "name": "stdout",
     "output_type": "stream",
     "text": [
      "\n",
      "Command Progress: 100%|██████████| 100/100 [00:02<00:00, 49.42it/s]"
     ]
    },
    {
     "name": "stderr",
     "output_type": "stream",
     "text": [
      "[2024-04-16 17:42:56][WAR][dtlpy:v1.72.7][entities.item:113] Item has been fetched from a dataset that is not belong to it\n"
     ]
    },
    {
     "name": "stdout",
     "output_type": "stream",
     "text": [
      "\n",
      "Command Progress: 100%|██████████| 100/100 [00:02<00:00, 48.11it/s]"
     ]
    },
    {
     "name": "stderr",
     "output_type": "stream",
     "text": [
      "[2024-04-16 17:42:58][WAR][dtlpy:v1.72.7][entities.item:113] Item has been fetched from a dataset that is not belong to it\n"
     ]
    },
    {
     "name": "stdout",
     "output_type": "stream",
     "text": [
      "\n",
      "Command Progress: 100%|██████████| 100/100 [00:02<00:00, 42.16it/s]"
     ]
    },
    {
     "name": "stderr",
     "output_type": "stream",
     "text": [
      "[2024-04-16 17:43:01][WAR][dtlpy:v1.72.7][entities.item:113] Item has been fetched from a dataset that is not belong to it\n"
     ]
    },
    {
     "name": "stdout",
     "output_type": "stream",
     "text": [
      "\n",
      "Command Progress: 100%|██████████| 100/100 [00:01<00:00, 78.16it/s]"
     ]
    },
    {
     "name": "stderr",
     "output_type": "stream",
     "text": [
      "[2024-04-16 17:43:03][WAR][dtlpy:v1.72.7][entities.item:113] Item has been fetched from a dataset that is not belong to it\n"
     ]
    },
    {
     "name": "stdout",
     "output_type": "stream",
     "text": [
      "\n",
      "Command Progress: 100%|██████████| 100/100 [00:02<00:00, 49.14it/s]"
     ]
    },
    {
     "name": "stderr",
     "output_type": "stream",
     "text": [
      "[2024-04-16 17:43:06][WAR][dtlpy:v1.72.7][entities.item:113] Item has been fetched from a dataset that is not belong to it\n"
     ]
    },
    {
     "name": "stdout",
     "output_type": "stream",
     "text": [
      "\n",
      "Command Progress: 100%|██████████| 100/100 [00:02<00:00, 49.14it/s]"
     ]
    },
    {
     "name": "stderr",
     "output_type": "stream",
     "text": [
      "[2024-04-16 17:43:08][WAR][dtlpy:v1.72.7][entities.item:113] Item has been fetched from a dataset that is not belong to it\n"
     ]
    },
    {
     "name": "stdout",
     "output_type": "stream",
     "text": [
      "\n",
      "Command Progress: 100%|██████████| 100/100 [00:02<00:00, 49.25it/s]"
     ]
    },
    {
     "name": "stderr",
     "output_type": "stream",
     "text": [
      "[2024-04-16 17:43:11][WAR][dtlpy:v1.72.7][entities.item:113] Item has been fetched from a dataset that is not belong to it\n"
     ]
    },
    {
     "name": "stdout",
     "output_type": "stream",
     "text": [
      "\n",
      "Command Progress: 100%|██████████| 100/100 [00:02<00:00, 40.07it/s]\n"
     ]
    },
    {
     "name": "stderr",
     "output_type": "stream",
     "text": [
      "[2024-04-16 17:43:14][WAR][dtlpy:v1.72.7][entities.item:113] Item has been fetched from a dataset that is not belong to it\n"
     ]
    },
    {
     "name": "stdout",
     "output_type": "stream",
     "text": [
      "Command Progress: 100%|██████████| 100/100 [00:00<00:00, 497.66it/s]\n"
     ]
    },
    {
     "name": "stderr",
     "output_type": "stream",
     "text": [
      "[2024-04-16 17:43:16][WAR][dtlpy:v1.72.7][entities.item:113] Item has been fetched from a dataset that is not belong to it\n"
     ]
    },
    {
     "name": "stdout",
     "output_type": "stream",
     "text": [
      "Command Progress: 100%|██████████| 100/100 [00:01<00:00, 69.92it/s]"
     ]
    },
    {
     "name": "stderr",
     "output_type": "stream",
     "text": [
      "[2024-04-16 17:43:18][WAR][dtlpy:v1.72.7][entities.item:113] Item has been fetched from a dataset that is not belong to it\n"
     ]
    },
    {
     "name": "stdout",
     "output_type": "stream",
     "text": [
      "\n",
      "Command Progress: 100%|██████████| 100/100 [00:02<00:00, 49.68it/s]"
     ]
    },
    {
     "name": "stderr",
     "output_type": "stream",
     "text": [
      "[2024-04-16 17:43:21][WAR][dtlpy:v1.72.7][entities.item:113] Item has been fetched from a dataset that is not belong to it\n"
     ]
    },
    {
     "name": "stdout",
     "output_type": "stream",
     "text": [
      "\n",
      "Command Progress: 100%|██████████| 100/100 [00:02<00:00, 48.48it/s]"
     ]
    },
    {
     "name": "stderr",
     "output_type": "stream",
     "text": [
      "[2024-04-16 17:43:23][WAR][dtlpy:v1.72.7][entities.item:113] Item has been fetched from a dataset that is not belong to it\n"
     ]
    },
    {
     "name": "stdout",
     "output_type": "stream",
     "text": [
      "\n",
      "Command Progress: 100%|██████████| 100/100 [00:02<00:00, 49.39it/s]"
     ]
    },
    {
     "name": "stderr",
     "output_type": "stream",
     "text": [
      "[2024-04-16 17:43:25][WAR][dtlpy:v1.72.7][entities.item:113] Item has been fetched from a dataset that is not belong to it\n"
     ]
    },
    {
     "name": "stdout",
     "output_type": "stream",
     "text": [
      "\n",
      "Command Progress: 100%|██████████| 100/100 [00:02<00:00, 47.47it/s]"
     ]
    },
    {
     "name": "stderr",
     "output_type": "stream",
     "text": [
      "[2024-04-16 17:43:28][WAR][dtlpy:v1.72.7][entities.item:113] Item has been fetched from a dataset that is not belong to it\n"
     ]
    },
    {
     "name": "stdout",
     "output_type": "stream",
     "text": [
      "\n",
      "Command Progress: 100%|██████████| 100/100 [00:01<00:00, 77.55it/s]"
     ]
    },
    {
     "name": "stderr",
     "output_type": "stream",
     "text": [
      "[2024-04-16 17:43:30][WAR][dtlpy:v1.72.7][entities.item:113] Item has been fetched from a dataset that is not belong to it\n"
     ]
    },
    {
     "name": "stdout",
     "output_type": "stream",
     "text": [
      "\n",
      "Command Progress: 100%|██████████| 100/100 [00:02<00:00, 49.46it/s]"
     ]
    },
    {
     "name": "stderr",
     "output_type": "stream",
     "text": [
      "[2024-04-16 17:43:32][WAR][dtlpy:v1.72.7][entities.item:113] Item has been fetched from a dataset that is not belong to it\n"
     ]
    },
    {
     "name": "stdout",
     "output_type": "stream",
     "text": [
      "\n",
      "Command Progress: 100%|██████████| 100/100 [00:02<00:00, 48.75it/s]"
     ]
    },
    {
     "name": "stderr",
     "output_type": "stream",
     "text": [
      "[2024-04-16 17:43:35][WAR][dtlpy:v1.72.7][entities.item:113] Item has been fetched from a dataset that is not belong to it\n"
     ]
    },
    {
     "name": "stdout",
     "output_type": "stream",
     "text": [
      "\n",
      "Command Progress: 100%|██████████| 100/100 [00:02<00:00, 49.41it/s]"
     ]
    },
    {
     "name": "stderr",
     "output_type": "stream",
     "text": [
      "[2024-04-16 17:43:37][WAR][dtlpy:v1.72.7][entities.item:113] Item has been fetched from a dataset that is not belong to it\n"
     ]
    },
    {
     "name": "stdout",
     "output_type": "stream",
     "text": [
      "\n",
      "Command Progress: 100%|██████████| 100/100 [00:02<00:00, 48.48it/s]\n"
     ]
    },
    {
     "name": "stderr",
     "output_type": "stream",
     "text": [
      "[2024-04-16 17:43:40][WAR][dtlpy:v1.72.7][entities.item:113] Item has been fetched from a dataset that is not belong to it\n"
     ]
    },
    {
     "name": "stdout",
     "output_type": "stream",
     "text": [
      "Command Progress: 100%|██████████| 100/100 [00:01<00:00, 80.42it/s]"
     ]
    },
    {
     "name": "stderr",
     "output_type": "stream",
     "text": [
      "[2024-04-16 17:43:42][WAR][dtlpy:v1.72.7][entities.item:113] Item has been fetched from a dataset that is not belong to it\n"
     ]
    },
    {
     "name": "stdout",
     "output_type": "stream",
     "text": [
      "\n",
      "Command Progress: 100%|██████████| 100/100 [00:02<00:00, 49.46it/s]"
     ]
    },
    {
     "name": "stderr",
     "output_type": "stream",
     "text": [
      "[2024-04-16 17:43:44][WAR][dtlpy:v1.72.7][entities.item:113] Item has been fetched from a dataset that is not belong to it\n"
     ]
    },
    {
     "name": "stdout",
     "output_type": "stream",
     "text": [
      "\n",
      "Command Progress: 100%|██████████| 100/100 [00:02<00:00, 48.84it/s]"
     ]
    },
    {
     "name": "stderr",
     "output_type": "stream",
     "text": [
      "[2024-04-16 17:43:46][WAR][dtlpy:v1.72.7][entities.item:113] Item has been fetched from a dataset that is not belong to it\n"
     ]
    },
    {
     "name": "stdout",
     "output_type": "stream",
     "text": [
      "\n",
      "Command Progress: 100%|██████████| 100/100 [00:02<00:00, 49.18it/s]"
     ]
    },
    {
     "name": "stderr",
     "output_type": "stream",
     "text": [
      "[2024-04-16 17:43:49][WAR][dtlpy:v1.72.7][entities.item:113] Item has been fetched from a dataset that is not belong to it\n"
     ]
    },
    {
     "name": "stdout",
     "output_type": "stream",
     "text": [
      "\n",
      "Command Progress: 100%|██████████| 100/100 [00:02<00:00, 46.68it/s]\n"
     ]
    },
    {
     "name": "stderr",
     "output_type": "stream",
     "text": [
      "[2024-04-16 17:43:52][WAR][dtlpy:v1.72.7][entities.item:113] Item has been fetched from a dataset that is not belong to it\n"
     ]
    },
    {
     "name": "stdout",
     "output_type": "stream",
     "text": [
      "Command Progress: 100%|██████████| 100/100 [00:02<00:00, 47.06it/s]"
     ]
    },
    {
     "name": "stderr",
     "output_type": "stream",
     "text": [
      "[2024-04-16 17:43:54][WAR][dtlpy:v1.72.7][entities.item:113] Item has been fetched from a dataset that is not belong to it\n"
     ]
    },
    {
     "name": "stdout",
     "output_type": "stream",
     "text": [
      "\n",
      "Command Progress: 100%|██████████| 100/100 [00:02<00:00, 48.95it/s]"
     ]
    },
    {
     "name": "stderr",
     "output_type": "stream",
     "text": [
      "[2024-04-16 17:43:57][WAR][dtlpy:v1.72.7][entities.item:113] Item has been fetched from a dataset that is not belong to it\n"
     ]
    },
    {
     "name": "stdout",
     "output_type": "stream",
     "text": [
      "\n",
      "Command Progress: 100%|██████████| 100/100 [00:01<00:00, 88.96it/s]"
     ]
    },
    {
     "name": "stderr",
     "output_type": "stream",
     "text": [
      "[2024-04-16 17:43:58][WAR][dtlpy:v1.72.7][entities.item:113] Item has been fetched from a dataset that is not belong to it\n"
     ]
    },
    {
     "name": "stdout",
     "output_type": "stream",
     "text": [
      "\n",
      "Command Progress: 100%|██████████| 100/100 [00:02<00:00, 49.48it/s]"
     ]
    },
    {
     "name": "stderr",
     "output_type": "stream",
     "text": [
      "[2024-04-16 17:44:01][WAR][dtlpy:v1.72.7][entities.item:113] Item has been fetched from a dataset that is not belong to it\n"
     ]
    },
    {
     "name": "stdout",
     "output_type": "stream",
     "text": [
      "\n",
      "Command Progress: 100%|██████████| 100/100 [00:02<00:00, 47.51it/s]"
     ]
    },
    {
     "name": "stderr",
     "output_type": "stream",
     "text": [
      "[2024-04-16 17:44:03][WAR][dtlpy:v1.72.7][entities.item:113] Item has been fetched from a dataset that is not belong to it\n"
     ]
    },
    {
     "name": "stdout",
     "output_type": "stream",
     "text": [
      "\n",
      "Command Progress: 100%|██████████| 100/100 [00:01<00:00, 72.48it/s]"
     ]
    },
    {
     "name": "stderr",
     "output_type": "stream",
     "text": [
      "[2024-04-16 17:44:05][WAR][dtlpy:v1.72.7][entities.item:113] Item has been fetched from a dataset that is not belong to it\n"
     ]
    },
    {
     "name": "stdout",
     "output_type": "stream",
     "text": [
      "\n",
      "Command Progress: 100%|██████████| 100/100 [00:02<00:00, 48.98it/s]"
     ]
    },
    {
     "name": "stderr",
     "output_type": "stream",
     "text": [
      "[2024-04-16 17:44:08][WAR][dtlpy:v1.72.7][entities.item:113] Item has been fetched from a dataset that is not belong to it\n"
     ]
    },
    {
     "name": "stdout",
     "output_type": "stream",
     "text": [
      "\n",
      "Command Progress: 100%|██████████| 100/100 [00:02<00:00, 49.13it/s]"
     ]
    },
    {
     "name": "stderr",
     "output_type": "stream",
     "text": [
      "[2024-04-16 17:44:10][WAR][dtlpy:v1.72.7][entities.item:113] Item has been fetched from a dataset that is not belong to it\n"
     ]
    },
    {
     "name": "stdout",
     "output_type": "stream",
     "text": [
      "\n",
      "Command Progress: 100%|██████████| 100/100 [00:02<00:00, 49.03it/s]"
     ]
    },
    {
     "name": "stderr",
     "output_type": "stream",
     "text": [
      "[2024-04-16 17:44:13][WAR][dtlpy:v1.72.7][entities.item:113] Item has been fetched from a dataset that is not belong to it\n"
     ]
    },
    {
     "name": "stdout",
     "output_type": "stream",
     "text": [
      "\n",
      "Command Progress: 100%|██████████| 100/100 [00:02<00:00, 47.08it/s]\n"
     ]
    },
    {
     "name": "stderr",
     "output_type": "stream",
     "text": [
      "[2024-04-16 17:44:15][WAR][dtlpy:v1.72.7][entities.item:113] Item has been fetched from a dataset that is not belong to it\n"
     ]
    },
    {
     "name": "stdout",
     "output_type": "stream",
     "text": [
      "Command Progress: 100%|██████████| 100/100 [00:01<00:00, 66.46it/s]\n"
     ]
    },
    {
     "name": "stderr",
     "output_type": "stream",
     "text": [
      "[2024-04-16 17:44:18][WAR][dtlpy:v1.72.7][entities.item:113] Item has been fetched from a dataset that is not belong to it\n"
     ]
    },
    {
     "name": "stdout",
     "output_type": "stream",
     "text": [
      "Command Progress: 100%|██████████| 100/100 [00:01<00:00, 69.08it/s]"
     ]
    },
    {
     "name": "stderr",
     "output_type": "stream",
     "text": [
      "[2024-04-16 17:44:20][WAR][dtlpy:v1.72.7][entities.item:113] Item has been fetched from a dataset that is not belong to it\n"
     ]
    },
    {
     "name": "stdout",
     "output_type": "stream",
     "text": [
      "\n",
      "Command Progress: 100%|██████████| 100/100 [00:02<00:00, 49.12it/s]"
     ]
    },
    {
     "name": "stderr",
     "output_type": "stream",
     "text": [
      "[2024-04-16 17:44:22][WAR][dtlpy:v1.72.7][entities.item:113] Item has been fetched from a dataset that is not belong to it\n"
     ]
    },
    {
     "name": "stdout",
     "output_type": "stream",
     "text": [
      "\n",
      "Command Progress: 100%|██████████| 100/100 [00:02<00:00, 48.61it/s]"
     ]
    },
    {
     "name": "stderr",
     "output_type": "stream",
     "text": [
      "[2024-04-16 17:44:25][WAR][dtlpy:v1.72.7][entities.item:113] Item has been fetched from a dataset that is not belong to it\n"
     ]
    },
    {
     "name": "stdout",
     "output_type": "stream",
     "text": [
      "\n",
      "Command Progress: 100%|██████████| 100/100 [00:02<00:00, 49.25it/s]"
     ]
    },
    {
     "name": "stderr",
     "output_type": "stream",
     "text": [
      "[2024-04-16 17:44:27][WAR][dtlpy:v1.72.7][entities.item:113] Item has been fetched from a dataset that is not belong to it\n"
     ]
    },
    {
     "name": "stdout",
     "output_type": "stream",
     "text": [
      "\n",
      "Command Progress: 100%|██████████| 100/100 [00:02<00:00, 47.31it/s]"
     ]
    },
    {
     "name": "stderr",
     "output_type": "stream",
     "text": [
      "[2024-04-16 17:44:30][WAR][dtlpy:v1.72.7][entities.item:113] Item has been fetched from a dataset that is not belong to it\n"
     ]
    },
    {
     "name": "stdout",
     "output_type": "stream",
     "text": [
      "\n",
      "Command Progress: 100%|██████████| 100/100 [00:01<00:00, 70.34it/s]"
     ]
    },
    {
     "name": "stderr",
     "output_type": "stream",
     "text": [
      "[2024-04-16 17:44:32][WAR][dtlpy:v1.72.7][entities.item:113] Item has been fetched from a dataset that is not belong to it\n"
     ]
    },
    {
     "name": "stdout",
     "output_type": "stream",
     "text": [
      "\n",
      "Command Progress: 100%|██████████| 100/100 [00:02<00:00, 47.38it/s]"
     ]
    },
    {
     "name": "stderr",
     "output_type": "stream",
     "text": [
      "[2024-04-16 17:44:34][WAR][dtlpy:v1.72.7][entities.item:113] Item has been fetched from a dataset that is not belong to it\n"
     ]
    },
    {
     "name": "stdout",
     "output_type": "stream",
     "text": [
      "\n",
      "Command Progress: 100%|██████████| 100/100 [00:02<00:00, 49.17it/s]"
     ]
    },
    {
     "name": "stderr",
     "output_type": "stream",
     "text": [
      "[2024-04-16 17:44:37][WAR][dtlpy:v1.72.7][entities.item:113] Item has been fetched from a dataset that is not belong to it\n"
     ]
    },
    {
     "name": "stdout",
     "output_type": "stream",
     "text": [
      "\n",
      "Command Progress: 100%|██████████| 100/100 [00:02<00:00, 48.83it/s]"
     ]
    },
    {
     "name": "stderr",
     "output_type": "stream",
     "text": [
      "[2024-04-16 17:44:40][WAR][dtlpy:v1.72.7][entities.item:113] Item has been fetched from a dataset that is not belong to it\n"
     ]
    },
    {
     "name": "stdout",
     "output_type": "stream",
     "text": [
      "\n",
      "Command Progress: 100%|██████████| 100/100 [00:02<00:00, 41.27it/s]"
     ]
    },
    {
     "name": "stderr",
     "output_type": "stream",
     "text": [
      "[2024-04-16 17:44:42][WAR][dtlpy:v1.72.7][entities.item:113] Item has been fetched from a dataset that is not belong to it\n"
     ]
    },
    {
     "name": "stdout",
     "output_type": "stream",
     "text": [
      "\n",
      "Command Progress: 100%|██████████| 100/100 [00:02<00:00, 48.61it/s]"
     ]
    },
    {
     "name": "stderr",
     "output_type": "stream",
     "text": [
      "[2024-04-16 17:44:45][WAR][dtlpy:v1.72.7][entities.item:113] Item has been fetched from a dataset that is not belong to it\n"
     ]
    },
    {
     "name": "stdout",
     "output_type": "stream",
     "text": [
      "\n",
      "Command Progress: 100%|██████████| 100/100 [00:02<00:00, 49.07it/s]"
     ]
    },
    {
     "name": "stderr",
     "output_type": "stream",
     "text": [
      "[2024-04-16 17:44:47][WAR][dtlpy:v1.72.7][entities.item:113] Item has been fetched from a dataset that is not belong to it\n"
     ]
    },
    {
     "name": "stdout",
     "output_type": "stream",
     "text": [
      "\n",
      "Command Progress: 100%|██████████| 100/100 [00:02<00:00, 49.50it/s]"
     ]
    },
    {
     "name": "stderr",
     "output_type": "stream",
     "text": [
      "[2024-04-16 17:44:50][WAR][dtlpy:v1.72.7][entities.item:113] Item has been fetched from a dataset that is not belong to it\n"
     ]
    },
    {
     "name": "stdout",
     "output_type": "stream",
     "text": [
      "\n",
      "Command Progress: 100%|██████████| 100/100 [00:02<00:00, 49.48it/s]"
     ]
    },
    {
     "name": "stderr",
     "output_type": "stream",
     "text": [
      "[2024-04-16 17:44:52][WAR][dtlpy:v1.72.7][entities.item:113] Item has been fetched from a dataset that is not belong to it\n"
     ]
    },
    {
     "name": "stdout",
     "output_type": "stream",
     "text": [
      "\n",
      "Command Progress: 100%|██████████| 100/100 [00:01<00:00, 65.00it/s]\n"
     ]
    },
    {
     "name": "stderr",
     "output_type": "stream",
     "text": [
      "[2024-04-16 17:44:54][WAR][dtlpy:v1.72.7][entities.item:113] Item has been fetched from a dataset that is not belong to it\n"
     ]
    },
    {
     "name": "stdout",
     "output_type": "stream",
     "text": [
      "Command Progress: 100%|██████████| 100/100 [00:02<00:00, 48.77it/s]"
     ]
    },
    {
     "name": "stderr",
     "output_type": "stream",
     "text": [
      "[2024-04-16 17:44:57][WAR][dtlpy:v1.72.7][entities.item:113] Item has been fetched from a dataset that is not belong to it\n"
     ]
    },
    {
     "name": "stdout",
     "output_type": "stream",
     "text": [
      "\n",
      "Command Progress: 100%|██████████| 100/100 [00:02<00:00, 49.07it/s]"
     ]
    },
    {
     "name": "stderr",
     "output_type": "stream",
     "text": [
      "[2024-04-16 17:45:00][WAR][dtlpy:v1.72.7][entities.item:113] Item has been fetched from a dataset that is not belong to it\n"
     ]
    },
    {
     "name": "stdout",
     "output_type": "stream",
     "text": [
      "\n",
      "Command Progress: 100%|██████████| 100/100 [00:02<00:00, 49.28it/s]"
     ]
    },
    {
     "name": "stderr",
     "output_type": "stream",
     "text": [
      "[2024-04-16 17:45:02][WAR][dtlpy:v1.72.7][entities.item:113] Item has been fetched from a dataset that is not belong to it\n"
     ]
    },
    {
     "name": "stdout",
     "output_type": "stream",
     "text": [
      "\n",
      "Command Progress: 100%|██████████| 100/100 [00:02<00:00, 49.33it/s]"
     ]
    },
    {
     "name": "stderr",
     "output_type": "stream",
     "text": [
      "[2024-04-16 17:45:04][WAR][dtlpy:v1.72.7][entities.item:113] Item has been fetched from a dataset that is not belong to it\n"
     ]
    },
    {
     "name": "stdout",
     "output_type": "stream",
     "text": [
      "\n",
      "Command Progress: 100%|██████████| 100/100 [00:01<00:00, 71.81it/s]"
     ]
    },
    {
     "name": "stderr",
     "output_type": "stream",
     "text": [
      "[2024-04-16 17:45:06][WAR][dtlpy:v1.72.7][entities.item:113] Item has been fetched from a dataset that is not belong to it\n"
     ]
    },
    {
     "name": "stdout",
     "output_type": "stream",
     "text": [
      "\n",
      "Command Progress: 100%|██████████| 100/100 [00:02<00:00, 49.52it/s]"
     ]
    },
    {
     "name": "stderr",
     "output_type": "stream",
     "text": [
      "[2024-04-16 17:45:09][WAR][dtlpy:v1.72.7][entities.item:113] Item has been fetched from a dataset that is not belong to it\n"
     ]
    },
    {
     "name": "stdout",
     "output_type": "stream",
     "text": [
      "\n",
      "Command Progress: 100%|██████████| 100/100 [00:02<00:00, 49.62it/s]"
     ]
    },
    {
     "name": "stderr",
     "output_type": "stream",
     "text": [
      "[2024-04-16 17:45:11][WAR][dtlpy:v1.72.7][entities.item:113] Item has been fetched from a dataset that is not belong to it\n"
     ]
    },
    {
     "name": "stdout",
     "output_type": "stream",
     "text": [
      "\n",
      "Command Progress: 100%|██████████| 100/100 [00:01<00:00, 50.01it/s]"
     ]
    },
    {
     "name": "stderr",
     "output_type": "stream",
     "text": [
      "[2024-04-16 17:45:14][WAR][dtlpy:v1.72.7][entities.item:113] Item has been fetched from a dataset that is not belong to it\n"
     ]
    },
    {
     "name": "stdout",
     "output_type": "stream",
     "text": [
      "\n",
      "Command Progress: 100%|██████████| 100/100 [00:02<00:00, 49.07it/s]"
     ]
    },
    {
     "name": "stderr",
     "output_type": "stream",
     "text": [
      "[2024-04-16 17:45:16][WAR][dtlpy:v1.72.7][entities.item:113] Item has been fetched from a dataset that is not belong to it\n"
     ]
    },
    {
     "name": "stdout",
     "output_type": "stream",
     "text": [
      "\n",
      "Command Progress: 100%|██████████| 100/100 [00:01<00:00, 74.63it/s]\n"
     ]
    },
    {
     "name": "stderr",
     "output_type": "stream",
     "text": [
      "[2024-04-16 17:45:18][WAR][dtlpy:v1.72.7][entities.item:113] Item has been fetched from a dataset that is not belong to it\n"
     ]
    },
    {
     "name": "stdout",
     "output_type": "stream",
     "text": [
      "Command Progress: 100%|██████████| 100/100 [00:01<00:00, 66.38it/s]\n"
     ]
    },
    {
     "name": "stderr",
     "output_type": "stream",
     "text": [
      "[2024-04-16 17:45:20][WAR][dtlpy:v1.72.7][entities.item:113] Item has been fetched from a dataset that is not belong to it\n"
     ]
    },
    {
     "name": "stdout",
     "output_type": "stream",
     "text": [
      "Command Progress: 100%|██████████| 100/100 [00:01<00:00, 78.65it/s]"
     ]
    },
    {
     "name": "stderr",
     "output_type": "stream",
     "text": [
      "[2024-04-16 17:45:22][WAR][dtlpy:v1.72.7][entities.item:113] Item has been fetched from a dataset that is not belong to it\n"
     ]
    },
    {
     "name": "stdout",
     "output_type": "stream",
     "text": [
      "\n",
      "Command Progress: 100%|██████████| 100/100 [00:02<00:00, 49.52it/s]"
     ]
    },
    {
     "name": "stderr",
     "output_type": "stream",
     "text": [
      "[2024-04-16 17:45:25][WAR][dtlpy:v1.72.7][entities.item:113] Item has been fetched from a dataset that is not belong to it\n"
     ]
    },
    {
     "name": "stdout",
     "output_type": "stream",
     "text": [
      "\n",
      "Command Progress: 100%|██████████| 100/100 [00:02<00:00, 49.37it/s]\n"
     ]
    },
    {
     "name": "stderr",
     "output_type": "stream",
     "text": [
      "[2024-04-16 17:45:27][WAR][dtlpy:v1.72.7][entities.item:113] Item has been fetched from a dataset that is not belong to it\n"
     ]
    },
    {
     "name": "stdout",
     "output_type": "stream",
     "text": [
      "Command Progress: 100%|██████████| 100/100 [00:02<00:00, 49.65it/s]"
     ]
    },
    {
     "name": "stderr",
     "output_type": "stream",
     "text": [
      "[2024-04-16 17:45:30][WAR][dtlpy:v1.72.7][entities.item:113] Item has been fetched from a dataset that is not belong to it\n"
     ]
    },
    {
     "name": "stdout",
     "output_type": "stream",
     "text": [
      "\n",
      "Command Progress: 100%|██████████| 100/100 [00:02<00:00, 46.16it/s]\n"
     ]
    },
    {
     "name": "stderr",
     "output_type": "stream",
     "text": [
      "[2024-04-16 17:45:32][WAR][dtlpy:v1.72.7][entities.item:113] Item has been fetched from a dataset that is not belong to it\n"
     ]
    },
    {
     "name": "stdout",
     "output_type": "stream",
     "text": [
      "Command Progress: 100%|██████████| 100/100 [00:02<00:00, 49.88it/s]"
     ]
    },
    {
     "name": "stderr",
     "output_type": "stream",
     "text": [
      "[2024-04-16 17:45:35][WAR][dtlpy:v1.72.7][entities.item:113] Item has been fetched from a dataset that is not belong to it\n"
     ]
    },
    {
     "name": "stdout",
     "output_type": "stream",
     "text": [
      "\n",
      "Command Progress: 100%|██████████| 100/100 [00:02<00:00, 44.23it/s]"
     ]
    },
    {
     "name": "stderr",
     "output_type": "stream",
     "text": [
      "[2024-04-16 17:45:37][WAR][dtlpy:v1.72.7][entities.item:113] Item has been fetched from a dataset that is not belong to it\n"
     ]
    },
    {
     "name": "stdout",
     "output_type": "stream",
     "text": [
      "\n",
      "Command Progress: 100%|██████████| 100/100 [00:02<00:00, 49.16it/s]"
     ]
    },
    {
     "name": "stderr",
     "output_type": "stream",
     "text": [
      "[2024-04-16 17:45:40][WAR][dtlpy:v1.72.7][entities.item:113] Item has been fetched from a dataset that is not belong to it\n"
     ]
    },
    {
     "name": "stdout",
     "output_type": "stream",
     "text": [
      "\n",
      "Command Progress: 100%|██████████| 100/100 [00:02<00:00, 49.25it/s]"
     ]
    },
    {
     "name": "stderr",
     "output_type": "stream",
     "text": [
      "[2024-04-16 17:45:42][WAR][dtlpy:v1.72.7][entities.item:113] Item has been fetched from a dataset that is not belong to it\n"
     ]
    },
    {
     "name": "stdout",
     "output_type": "stream",
     "text": [
      "\n",
      "Command Progress: 100%|██████████| 100/100 [00:00<00:00, 104.61it/s]\n"
     ]
    },
    {
     "name": "stderr",
     "output_type": "stream",
     "text": [
      "[2024-04-16 17:45:44][WAR][dtlpy:v1.72.7][entities.item:113] Item has been fetched from a dataset that is not belong to it\n"
     ]
    },
    {
     "name": "stdout",
     "output_type": "stream",
     "text": [
      "Command Progress: 100%|██████████| 100/100 [00:02<00:00, 49.13it/s]"
     ]
    },
    {
     "name": "stderr",
     "output_type": "stream",
     "text": [
      "[2024-04-16 17:45:47][WAR][dtlpy:v1.72.7][entities.item:113] Item has been fetched from a dataset that is not belong to it\n"
     ]
    },
    {
     "name": "stdout",
     "output_type": "stream",
     "text": [
      "\n",
      "Command Progress: 100%|██████████| 100/100 [00:02<00:00, 48.61it/s]"
     ]
    },
    {
     "name": "stderr",
     "output_type": "stream",
     "text": [
      "[2024-04-16 17:45:49][WAR][dtlpy:v1.72.7][entities.item:113] Item has been fetched from a dataset that is not belong to it\n"
     ]
    },
    {
     "name": "stdout",
     "output_type": "stream",
     "text": [
      "\n",
      "Command Progress: 100%|██████████| 100/100 [00:02<00:00, 49.87it/s]"
     ]
    },
    {
     "name": "stderr",
     "output_type": "stream",
     "text": [
      "[2024-04-16 17:45:52][WAR][dtlpy:v1.72.7][entities.item:113] Item has been fetched from a dataset that is not belong to it\n"
     ]
    },
    {
     "name": "stdout",
     "output_type": "stream",
     "text": [
      "\n",
      "Command Progress: 100%|██████████| 100/100 [00:02<00:00, 49.29it/s]"
     ]
    },
    {
     "name": "stderr",
     "output_type": "stream",
     "text": [
      "[2024-04-16 17:45:54][WAR][dtlpy:v1.72.7][entities.item:113] Item has been fetched from a dataset that is not belong to it\n"
     ]
    },
    {
     "name": "stdout",
     "output_type": "stream",
     "text": [
      "\n",
      "Command Progress: 100%|██████████| 100/100 [00:02<00:00, 46.67it/s]"
     ]
    },
    {
     "name": "stderr",
     "output_type": "stream",
     "text": [
      "[2024-04-16 17:45:57][WAR][dtlpy:v1.72.7][entities.item:113] Item has been fetched from a dataset that is not belong to it\n"
     ]
    },
    {
     "name": "stdout",
     "output_type": "stream",
     "text": [
      "\n",
      "Command Progress: 100%|██████████| 100/100 [00:02<00:00, 46.82it/s]"
     ]
    },
    {
     "name": "stderr",
     "output_type": "stream",
     "text": [
      "[2024-04-16 17:46:00][WAR][dtlpy:v1.72.7][entities.item:113] Item has been fetched from a dataset that is not belong to it\n"
     ]
    },
    {
     "name": "stdout",
     "output_type": "stream",
     "text": [
      "\n",
      "Command Progress: 100%|██████████| 100/100 [00:02<00:00, 49.72it/s]"
     ]
    },
    {
     "name": "stderr",
     "output_type": "stream",
     "text": [
      "[2024-04-16 17:46:02][WAR][dtlpy:v1.72.7][entities.item:113] Item has been fetched from a dataset that is not belong to it\n"
     ]
    },
    {
     "name": "stdout",
     "output_type": "stream",
     "text": [
      "\n",
      "Command Progress: 100%|██████████| 100/100 [00:02<00:00, 49.62it/s]"
     ]
    },
    {
     "name": "stderr",
     "output_type": "stream",
     "text": [
      "[2024-04-16 17:46:05][WAR][dtlpy:v1.72.7][entities.item:113] Item has been fetched from a dataset that is not belong to it\n"
     ]
    },
    {
     "name": "stdout",
     "output_type": "stream",
     "text": [
      "\n",
      "Command Progress: 100%|██████████| 100/100 [00:02<00:00, 49.20it/s]\n"
     ]
    },
    {
     "name": "stderr",
     "output_type": "stream",
     "text": [
      "[2024-04-16 17:46:07][WAR][dtlpy:v1.72.7][entities.item:113] Item has been fetched from a dataset that is not belong to it\n"
     ]
    },
    {
     "name": "stdout",
     "output_type": "stream",
     "text": [
      "Command Progress: 100%|██████████| 100/100 [00:02<00:00, 49.17it/s]"
     ]
    },
    {
     "name": "stderr",
     "output_type": "stream",
     "text": [
      "[2024-04-16 17:46:10][WAR][dtlpy:v1.72.7][entities.item:113] Item has been fetched from a dataset that is not belong to it\n"
     ]
    },
    {
     "name": "stdout",
     "output_type": "stream",
     "text": [
      "\n",
      "Command Progress: 100%|██████████| 100/100 [00:02<00:00, 43.89it/s]"
     ]
    },
    {
     "name": "stderr",
     "output_type": "stream",
     "text": [
      "[2024-04-16 17:46:12][WAR][dtlpy:v1.72.7][entities.item:113] Item has been fetched from a dataset that is not belong to it\n"
     ]
    },
    {
     "name": "stdout",
     "output_type": "stream",
     "text": [
      "\n",
      "Command Progress: 100%|██████████| 100/100 [00:02<00:00, 43.12it/s]"
     ]
    },
    {
     "name": "stderr",
     "output_type": "stream",
     "text": [
      "[2024-04-16 17:46:15][WAR][dtlpy:v1.72.7][entities.item:113] Item has been fetched from a dataset that is not belong to it\n"
     ]
    },
    {
     "name": "stdout",
     "output_type": "stream",
     "text": [
      "\n",
      "Command Progress: 100%|██████████| 100/100 [00:02<00:00, 48.59it/s]"
     ]
    },
    {
     "name": "stderr",
     "output_type": "stream",
     "text": [
      "[2024-04-16 17:46:18][WAR][dtlpy:v1.72.7][entities.item:113] Item has been fetched from a dataset that is not belong to it\n"
     ]
    },
    {
     "name": "stdout",
     "output_type": "stream",
     "text": [
      "\n",
      "Command Progress: 100%|██████████| 100/100 [00:02<00:00, 49.45it/s]"
     ]
    },
    {
     "name": "stderr",
     "output_type": "stream",
     "text": [
      "[2024-04-16 17:46:20][WAR][dtlpy:v1.72.7][entities.item:113] Item has been fetched from a dataset that is not belong to it\n"
     ]
    },
    {
     "name": "stdout",
     "output_type": "stream",
     "text": [
      "\n",
      "Command Progress: 100%|██████████| 100/100 [00:02<00:00, 49.46it/s]"
     ]
    },
    {
     "name": "stderr",
     "output_type": "stream",
     "text": [
      "[2024-04-16 17:46:22][WAR][dtlpy:v1.72.7][entities.item:113] Item has been fetched from a dataset that is not belong to it\n"
     ]
    },
    {
     "name": "stdout",
     "output_type": "stream",
     "text": [
      "\n",
      "Command Progress: 100%|██████████| 100/100 [00:01<00:00, 82.11it/s]"
     ]
    },
    {
     "name": "stderr",
     "output_type": "stream",
     "text": [
      "[2024-04-16 17:46:24][WAR][dtlpy:v1.72.7][entities.item:113] Item has been fetched from a dataset that is not belong to it\n"
     ]
    },
    {
     "name": "stdout",
     "output_type": "stream",
     "text": [
      "\n",
      "Command Progress: 100%|██████████| 100/100 [00:02<00:00, 49.48it/s]"
     ]
    },
    {
     "name": "stderr",
     "output_type": "stream",
     "text": [
      "[2024-04-16 17:46:27][WAR][dtlpy:v1.72.7][entities.item:113] Item has been fetched from a dataset that is not belong to it\n"
     ]
    },
    {
     "name": "stdout",
     "output_type": "stream",
     "text": [
      "\n",
      "Command Progress: 100%|██████████| 100/100 [00:02<00:00, 48.98it/s]"
     ]
    },
    {
     "name": "stderr",
     "output_type": "stream",
     "text": [
      "[2024-04-16 17:46:29][WAR][dtlpy:v1.72.7][entities.item:113] Item has been fetched from a dataset that is not belong to it\n"
     ]
    },
    {
     "name": "stdout",
     "output_type": "stream",
     "text": [
      "\n",
      "Command Progress: 100%|██████████| 100/100 [00:02<00:00, 49.39it/s]"
     ]
    },
    {
     "name": "stderr",
     "output_type": "stream",
     "text": [
      "[2024-04-16 17:46:32][WAR][dtlpy:v1.72.7][entities.item:113] Item has been fetched from a dataset that is not belong to it\n"
     ]
    },
    {
     "name": "stdout",
     "output_type": "stream",
     "text": [
      "\n",
      "Command Progress: 100%|██████████| 100/100 [00:02<00:00, 45.35it/s]"
     ]
    },
    {
     "name": "stderr",
     "output_type": "stream",
     "text": [
      "[2024-04-16 17:46:34][WAR][dtlpy:v1.72.7][entities.item:113] Item has been fetched from a dataset that is not belong to it\n"
     ]
    },
    {
     "name": "stdout",
     "output_type": "stream",
     "text": [
      "\n",
      "Command Progress: 100%|██████████| 100/100 [00:02<00:00, 49.71it/s]"
     ]
    },
    {
     "name": "stderr",
     "output_type": "stream",
     "text": [
      "[2024-04-16 17:46:37][WAR][dtlpy:v1.72.7][entities.item:113] Item has been fetched from a dataset that is not belong to it\n"
     ]
    },
    {
     "name": "stdout",
     "output_type": "stream",
     "text": [
      "\n",
      "Command Progress: 100%|██████████| 100/100 [00:02<00:00, 49.22it/s]"
     ]
    },
    {
     "name": "stderr",
     "output_type": "stream",
     "text": [
      "[2024-04-16 17:46:40][WAR][dtlpy:v1.72.7][entities.item:113] Item has been fetched from a dataset that is not belong to it\n"
     ]
    },
    {
     "name": "stdout",
     "output_type": "stream",
     "text": [
      "\n",
      "Command Progress: 100%|██████████| 100/100 [00:02<00:00, 48.21it/s]"
     ]
    },
    {
     "name": "stderr",
     "output_type": "stream",
     "text": [
      "[2024-04-16 17:46:42][WAR][dtlpy:v1.72.7][entities.item:113] Item has been fetched from a dataset that is not belong to it\n"
     ]
    },
    {
     "name": "stdout",
     "output_type": "stream",
     "text": [
      "\n",
      "Command Progress: 100%|██████████| 100/100 [00:02<00:00, 48.14it/s]"
     ]
    },
    {
     "name": "stderr",
     "output_type": "stream",
     "text": [
      "[2024-04-16 17:46:44][WAR][dtlpy:v1.72.7][entities.item:113] Item has been fetched from a dataset that is not belong to it\n"
     ]
    },
    {
     "name": "stdout",
     "output_type": "stream",
     "text": [
      "\n",
      "Command Progress: 100%|██████████| 100/100 [00:02<00:00, 39.96it/s]"
     ]
    },
    {
     "name": "stderr",
     "output_type": "stream",
     "text": [
      "[2024-04-16 17:46:47][WAR][dtlpy:v1.72.7][entities.item:113] Item has been fetched from a dataset that is not belong to it\n"
     ]
    },
    {
     "name": "stdout",
     "output_type": "stream",
     "text": [
      "\n",
      "Command Progress: 100%|██████████| 100/100 [00:02<00:00, 49.36it/s]"
     ]
    },
    {
     "name": "stderr",
     "output_type": "stream",
     "text": [
      "[2024-04-16 17:46:50][WAR][dtlpy:v1.72.7][entities.item:113] Item has been fetched from a dataset that is not belong to it\n"
     ]
    },
    {
     "name": "stdout",
     "output_type": "stream",
     "text": [
      "\n",
      "Command Progress: 100%|██████████| 100/100 [00:02<00:00, 49.20it/s]"
     ]
    },
    {
     "name": "stderr",
     "output_type": "stream",
     "text": [
      "[2024-04-16 17:46:52][WAR][dtlpy:v1.72.7][entities.item:113] Item has been fetched from a dataset that is not belong to it\n"
     ]
    },
    {
     "name": "stdout",
     "output_type": "stream",
     "text": [
      "\n",
      "Command Progress: 100%|██████████| 100/100 [00:02<00:00, 49.04it/s]"
     ]
    },
    {
     "name": "stderr",
     "output_type": "stream",
     "text": [
      "[2024-04-16 17:46:55][WAR][dtlpy:v1.72.7][entities.item:113] Item has been fetched from a dataset that is not belong to it\n"
     ]
    },
    {
     "name": "stdout",
     "output_type": "stream",
     "text": [
      "\n",
      "Command Progress: 100%|██████████| 100/100 [00:02<00:00, 46.33it/s]\n"
     ]
    },
    {
     "name": "stderr",
     "output_type": "stream",
     "text": [
      "[2024-04-16 17:46:57][WAR][dtlpy:v1.72.7][entities.item:113] Item has been fetched from a dataset that is not belong to it\n"
     ]
    },
    {
     "name": "stdout",
     "output_type": "stream",
     "text": [
      "Command Progress: 100%|██████████| 100/100 [00:01<00:00, 67.16it/s]\n"
     ]
    },
    {
     "name": "stderr",
     "output_type": "stream",
     "text": [
      "[2024-04-16 17:47:00][WAR][dtlpy:v1.72.7][entities.item:113] Item has been fetched from a dataset that is not belong to it\n"
     ]
    },
    {
     "name": "stdout",
     "output_type": "stream",
     "text": [
      "Command Progress: 100%|██████████| 100/100 [00:01<00:00, 82.29it/s]"
     ]
    },
    {
     "name": "stderr",
     "output_type": "stream",
     "text": [
      "[2024-04-16 17:47:02][WAR][dtlpy:v1.72.7][entities.item:113] Item has been fetched from a dataset that is not belong to it\n"
     ]
    },
    {
     "name": "stdout",
     "output_type": "stream",
     "text": [
      "\n",
      "Command Progress: 100%|██████████| 100/100 [00:02<00:00, 49.49it/s]"
     ]
    },
    {
     "name": "stderr",
     "output_type": "stream",
     "text": [
      "[2024-04-16 17:47:04][WAR][dtlpy:v1.72.7][entities.item:113] Item has been fetched from a dataset that is not belong to it\n"
     ]
    },
    {
     "name": "stdout",
     "output_type": "stream",
     "text": [
      "\n",
      "Command Progress: 100%|██████████| 100/100 [00:02<00:00, 49.00it/s]"
     ]
    },
    {
     "name": "stderr",
     "output_type": "stream",
     "text": [
      "[2024-04-16 17:47:07][WAR][dtlpy:v1.72.7][entities.item:113] Item has been fetched from a dataset that is not belong to it\n"
     ]
    },
    {
     "name": "stdout",
     "output_type": "stream",
     "text": [
      "\n",
      "Command Progress: 100%|██████████| 100/100 [00:02<00:00, 49.07it/s]"
     ]
    },
    {
     "name": "stderr",
     "output_type": "stream",
     "text": [
      "[2024-04-16 17:47:09][WAR][dtlpy:v1.72.7][entities.item:113] Item has been fetched from a dataset that is not belong to it\n"
     ]
    },
    {
     "name": "stdout",
     "output_type": "stream",
     "text": [
      "\n",
      "Command Progress: 100%|██████████| 100/100 [00:02<00:00, 46.62it/s]\n"
     ]
    },
    {
     "name": "stderr",
     "output_type": "stream",
     "text": [
      "[2024-04-16 17:47:14][WAR][dtlpy:v1.72.7][entities.item:113] Item has been fetched from a dataset that is not belong to it\n"
     ]
    },
    {
     "name": "stdout",
     "output_type": "stream",
     "text": [
      "Command Progress: 100%|██████████| 100/100 [00:02<00:00, 49.49it/s]"
     ]
    },
    {
     "name": "stderr",
     "output_type": "stream",
     "text": [
      "[2024-04-16 17:47:16][WAR][dtlpy:v1.72.7][entities.item:113] Item has been fetched from a dataset that is not belong to it\n"
     ]
    },
    {
     "name": "stdout",
     "output_type": "stream",
     "text": [
      "\n",
      "Command Progress: 100%|██████████| 100/100 [00:02<00:00, 49.38it/s]"
     ]
    },
    {
     "name": "stderr",
     "output_type": "stream",
     "text": [
      "[2024-04-16 17:47:19][WAR][dtlpy:v1.72.7][entities.item:113] Item has been fetched from a dataset that is not belong to it\n"
     ]
    },
    {
     "name": "stdout",
     "output_type": "stream",
     "text": [
      "\n",
      "Command Progress: 100%|██████████| 100/100 [00:02<00:00, 49.44it/s]"
     ]
    },
    {
     "name": "stderr",
     "output_type": "stream",
     "text": [
      "[2024-04-16 17:47:21][WAR][dtlpy:v1.72.7][entities.item:113] Item has been fetched from a dataset that is not belong to it\n"
     ]
    },
    {
     "name": "stdout",
     "output_type": "stream",
     "text": [
      "\n",
      "Command Progress: 100%|██████████| 100/100 [00:02<00:00, 45.57it/s]"
     ]
    },
    {
     "name": "stderr",
     "output_type": "stream",
     "text": [
      "[2024-04-16 17:47:24][WAR][dtlpy:v1.72.7][entities.item:113] Item has been fetched from a dataset that is not belong to it\n"
     ]
    },
    {
     "name": "stdout",
     "output_type": "stream",
     "text": [
      "\n",
      "Command Progress: 100%|██████████| 100/100 [00:01<00:00, 68.56it/s]"
     ]
    },
    {
     "name": "stderr",
     "output_type": "stream",
     "text": [
      "[2024-04-16 17:47:26][WAR][dtlpy:v1.72.7][entities.item:113] Item has been fetched from a dataset that is not belong to it\n"
     ]
    },
    {
     "name": "stdout",
     "output_type": "stream",
     "text": [
      "\n",
      "Command Progress: 100%|██████████| 100/100 [00:02<00:00, 47.69it/s]"
     ]
    },
    {
     "name": "stderr",
     "output_type": "stream",
     "text": [
      "[2024-04-16 17:47:28][WAR][dtlpy:v1.72.7][entities.item:113] Item has been fetched from a dataset that is not belong to it\n"
     ]
    },
    {
     "name": "stdout",
     "output_type": "stream",
     "text": [
      "\n",
      "Command Progress: 100%|██████████| 100/100 [00:02<00:00, 49.06it/s]"
     ]
    },
    {
     "name": "stderr",
     "output_type": "stream",
     "text": [
      "[2024-04-16 17:47:31][WAR][dtlpy:v1.72.7][entities.item:113] Item has been fetched from a dataset that is not belong to it\n"
     ]
    },
    {
     "name": "stdout",
     "output_type": "stream",
     "text": [
      "\n",
      "Command Progress: 100%|██████████| 100/100 [00:02<00:00, 48.82it/s]"
     ]
    },
    {
     "name": "stderr",
     "output_type": "stream",
     "text": [
      "[2024-04-16 17:47:33][WAR][dtlpy:v1.72.7][entities.item:113] Item has been fetched from a dataset that is not belong to it\n"
     ]
    },
    {
     "name": "stdout",
     "output_type": "stream",
     "text": [
      "\n",
      "Command Progress: 100%|██████████| 100/100 [00:02<00:00, 47.98it/s]"
     ]
    },
    {
     "name": "stderr",
     "output_type": "stream",
     "text": [
      "[2024-04-16 17:47:36][WAR][dtlpy:v1.72.7][entities.item:113] Item has been fetched from a dataset that is not belong to it\n"
     ]
    },
    {
     "name": "stdout",
     "output_type": "stream",
     "text": [
      "\n",
      "Command Progress: 100%|██████████| 100/100 [00:02<00:00, 49.83it/s]"
     ]
    },
    {
     "name": "stderr",
     "output_type": "stream",
     "text": [
      "[2024-04-16 17:47:38][WAR][dtlpy:v1.72.7][entities.item:113] Item has been fetched from a dataset that is not belong to it\n"
     ]
    },
    {
     "name": "stdout",
     "output_type": "stream",
     "text": [
      "\n",
      "Command Progress: 100%|██████████| 100/100 [00:01<00:00, 64.00it/s]"
     ]
    },
    {
     "name": "stderr",
     "output_type": "stream",
     "text": [
      "[2024-04-16 17:47:40][WAR][dtlpy:v1.72.7][entities.item:113] Item has been fetched from a dataset that is not belong to it\n"
     ]
    },
    {
     "name": "stdout",
     "output_type": "stream",
     "text": [
      "\n",
      "Command Progress: 100%|██████████| 100/100 [00:02<00:00, 48.58it/s]"
     ]
    },
    {
     "name": "stderr",
     "output_type": "stream",
     "text": [
      "[2024-04-16 17:47:43][WAR][dtlpy:v1.72.7][entities.item:113] Item has been fetched from a dataset that is not belong to it\n"
     ]
    },
    {
     "name": "stdout",
     "output_type": "stream",
     "text": [
      "\n",
      "Command Progress: 100%|██████████| 100/100 [00:02<00:00, 49.14it/s]"
     ]
    },
    {
     "name": "stderr",
     "output_type": "stream",
     "text": [
      "[2024-04-16 17:47:45][WAR][dtlpy:v1.72.7][entities.item:113] Item has been fetched from a dataset that is not belong to it\n"
     ]
    },
    {
     "name": "stdout",
     "output_type": "stream",
     "text": [
      "\n",
      "Command Progress: 100%|██████████| 100/100 [00:02<00:00, 42.37it/s]"
     ]
    },
    {
     "name": "stderr",
     "output_type": "stream",
     "text": [
      "[2024-04-16 17:47:48][WAR][dtlpy:v1.72.7][entities.item:113] Item has been fetched from a dataset that is not belong to it\n"
     ]
    },
    {
     "name": "stdout",
     "output_type": "stream",
     "text": [
      "\n",
      "Command Progress: 100%|██████████| 100/100 [00:02<00:00, 34.30it/s]\n"
     ]
    },
    {
     "name": "stderr",
     "output_type": "stream",
     "text": [
      "[2024-04-16 17:47:51][WAR][dtlpy:v1.72.7][entities.item:113] Item has been fetched from a dataset that is not belong to it\n"
     ]
    },
    {
     "name": "stdout",
     "output_type": "stream",
     "text": [
      "Command Progress: 100%|██████████| 100/100 [00:02<00:00, 48.95it/s]"
     ]
    },
    {
     "name": "stderr",
     "output_type": "stream",
     "text": [
      "[2024-04-16 17:47:54][WAR][dtlpy:v1.72.7][entities.item:113] Item has been fetched from a dataset that is not belong to it\n"
     ]
    },
    {
     "name": "stdout",
     "output_type": "stream",
     "text": [
      "\n",
      "Command Progress: 100%|██████████| 100/100 [00:02<00:00, 49.37it/s]"
     ]
    },
    {
     "name": "stderr",
     "output_type": "stream",
     "text": [
      "[2024-04-16 17:47:56][WAR][dtlpy:v1.72.7][entities.item:113] Item has been fetched from a dataset that is not belong to it\n"
     ]
    },
    {
     "name": "stdout",
     "output_type": "stream",
     "text": [
      "\n",
      "Command Progress: 100%|██████████| 100/100 [00:02<00:00, 47.36it/s]"
     ]
    },
    {
     "name": "stderr",
     "output_type": "stream",
     "text": [
      "[2024-04-16 17:47:59][WAR][dtlpy:v1.72.7][entities.item:113] Item has been fetched from a dataset that is not belong to it\n"
     ]
    },
    {
     "name": "stdout",
     "output_type": "stream",
     "text": [
      "\n",
      "Command Progress: 100%|██████████| 100/100 [00:02<00:00, 49.08it/s]"
     ]
    },
    {
     "name": "stderr",
     "output_type": "stream",
     "text": [
      "[2024-04-16 17:48:01][WAR][dtlpy:v1.72.7][entities.item:113] Item has been fetched from a dataset that is not belong to it\n"
     ]
    },
    {
     "name": "stdout",
     "output_type": "stream",
     "text": [
      "\n",
      "Command Progress: 100%|██████████| 100/100 [00:01<00:00, 81.72it/s]"
     ]
    },
    {
     "name": "stderr",
     "output_type": "stream",
     "text": [
      "[2024-04-16 17:48:03][WAR][dtlpy:v1.72.7][entities.item:113] Item has been fetched from a dataset that is not belong to it\n"
     ]
    },
    {
     "name": "stdout",
     "output_type": "stream",
     "text": [
      "\n",
      "Command Progress: 100%|██████████| 100/100 [00:01<00:00, 80.97it/s]"
     ]
    },
    {
     "name": "stderr",
     "output_type": "stream",
     "text": [
      "[2024-04-16 17:48:05][WAR][dtlpy:v1.72.7][entities.item:113] Item has been fetched from a dataset that is not belong to it\n"
     ]
    },
    {
     "name": "stdout",
     "output_type": "stream",
     "text": [
      "\n",
      "Command Progress: 100%|██████████| 100/100 [00:02<00:00, 47.16it/s]"
     ]
    },
    {
     "name": "stderr",
     "output_type": "stream",
     "text": [
      "[2024-04-16 17:48:07][WAR][dtlpy:v1.72.7][entities.item:113] Item has been fetched from a dataset that is not belong to it\n"
     ]
    },
    {
     "name": "stdout",
     "output_type": "stream",
     "text": [
      "\n",
      "Command Progress: 100%|██████████| 100/100 [00:02<00:00, 49.78it/s]"
     ]
    },
    {
     "name": "stderr",
     "output_type": "stream",
     "text": [
      "[2024-04-16 17:48:10][WAR][dtlpy:v1.72.7][entities.item:113] Item has been fetched from a dataset that is not belong to it\n"
     ]
    },
    {
     "name": "stdout",
     "output_type": "stream",
     "text": [
      "\n",
      "Command Progress: 100%|██████████| 100/100 [00:02<00:00, 49.93it/s]"
     ]
    },
    {
     "name": "stderr",
     "output_type": "stream",
     "text": [
      "[2024-04-16 17:48:12][WAR][dtlpy:v1.72.7][entities.item:113] Item has been fetched from a dataset that is not belong to it\n"
     ]
    },
    {
     "name": "stdout",
     "output_type": "stream",
     "text": [
      "\n",
      "Command Progress: 100%|██████████| 100/100 [00:02<00:00, 48.00it/s]"
     ]
    },
    {
     "name": "stderr",
     "output_type": "stream",
     "text": [
      "[2024-04-16 17:48:14][WAR][dtlpy:v1.72.7][entities.item:113] Item has been fetched from a dataset that is not belong to it\n"
     ]
    },
    {
     "name": "stdout",
     "output_type": "stream",
     "text": [
      "\n",
      "Command Progress: 100%|██████████| 100/100 [00:02<00:00, 49.54it/s]"
     ]
    },
    {
     "name": "stderr",
     "output_type": "stream",
     "text": [
      "[2024-04-16 17:48:17][WAR][dtlpy:v1.72.7][entities.item:113] Item has been fetched from a dataset that is not belong to it\n"
     ]
    },
    {
     "name": "stdout",
     "output_type": "stream",
     "text": [
      "\n",
      "Command Progress: 100%|██████████| 100/100 [00:01<00:00, 70.25it/s]\n"
     ]
    },
    {
     "name": "stderr",
     "output_type": "stream",
     "text": [
      "[2024-04-16 17:48:19][WAR][dtlpy:v1.72.7][entities.item:113] Item has been fetched from a dataset that is not belong to it\n"
     ]
    },
    {
     "name": "stdout",
     "output_type": "stream",
     "text": [
      "Command Progress: 100%|██████████| 100/100 [00:02<00:00, 49.84it/s]\n"
     ]
    },
    {
     "name": "stderr",
     "output_type": "stream",
     "text": [
      "[2024-04-16 17:48:22][WAR][dtlpy:v1.72.7][entities.item:113] Item has been fetched from a dataset that is not belong to it\n"
     ]
    },
    {
     "name": "stdout",
     "output_type": "stream",
     "text": [
      "Command Progress: 100%|██████████| 100/100 [00:02<00:00, 48.83it/s]"
     ]
    },
    {
     "name": "stderr",
     "output_type": "stream",
     "text": [
      "[2024-04-16 17:48:24][WAR][dtlpy:v1.72.7][entities.item:113] Item has been fetched from a dataset that is not belong to it\n"
     ]
    },
    {
     "name": "stdout",
     "output_type": "stream",
     "text": [
      "\n",
      "Command Progress: 100%|██████████| 100/100 [00:01<00:00, 50.17it/s]"
     ]
    },
    {
     "name": "stderr",
     "output_type": "stream",
     "text": [
      "[2024-04-16 17:48:26][WAR][dtlpy:v1.72.7][entities.item:113] Item has been fetched from a dataset that is not belong to it\n"
     ]
    },
    {
     "name": "stdout",
     "output_type": "stream",
     "text": [
      "\n",
      "Command Progress: 100%|██████████| 100/100 [00:02<00:00, 49.62it/s]"
     ]
    },
    {
     "name": "stderr",
     "output_type": "stream",
     "text": [
      "[2024-04-16 17:48:29][WAR][dtlpy:v1.72.7][entities.item:113] Item has been fetched from a dataset that is not belong to it\n"
     ]
    },
    {
     "name": "stdout",
     "output_type": "stream",
     "text": [
      "\n",
      "Command Progress: 100%|██████████| 100/100 [00:01<00:00, 69.45it/s]\n"
     ]
    },
    {
     "name": "stderr",
     "output_type": "stream",
     "text": [
      "[2024-04-16 17:48:31][WAR][dtlpy:v1.72.7][entities.item:113] Item has been fetched from a dataset that is not belong to it\n"
     ]
    },
    {
     "name": "stdout",
     "output_type": "stream",
     "text": [
      "Command Progress: 100%|██████████| 100/100 [00:02<00:00, 48.97it/s]"
     ]
    },
    {
     "name": "stderr",
     "output_type": "stream",
     "text": [
      "[2024-04-16 17:48:33][WAR][dtlpy:v1.72.7][entities.item:113] Item has been fetched from a dataset that is not belong to it\n"
     ]
    },
    {
     "name": "stdout",
     "output_type": "stream",
     "text": [
      "\n",
      "Command Progress: 100%|██████████| 100/100 [00:02<00:00, 49.60it/s]"
     ]
    },
    {
     "name": "stderr",
     "output_type": "stream",
     "text": [
      "[2024-04-16 17:48:35][WAR][dtlpy:v1.72.7][entities.item:113] Item has been fetched from a dataset that is not belong to it\n"
     ]
    },
    {
     "name": "stdout",
     "output_type": "stream",
     "text": [
      "\n",
      "Command Progress: 100%|██████████| 100/100 [00:02<00:00, 49.85it/s]"
     ]
    },
    {
     "name": "stderr",
     "output_type": "stream",
     "text": [
      "[2024-04-16 17:48:38][WAR][dtlpy:v1.72.7][entities.item:113] Item has been fetched from a dataset that is not belong to it\n"
     ]
    },
    {
     "name": "stdout",
     "output_type": "stream",
     "text": [
      "\n",
      "Command Progress: 100%|██████████| 100/100 [00:02<00:00, 48.71it/s]"
     ]
    },
    {
     "name": "stderr",
     "output_type": "stream",
     "text": [
      "[2024-04-16 17:48:41][WAR][dtlpy:v1.72.7][entities.item:113] Item has been fetched from a dataset that is not belong to it\n"
     ]
    },
    {
     "name": "stdout",
     "output_type": "stream",
     "text": [
      "\n",
      "Command Progress: 100%|██████████| 100/100 [00:01<00:00, 62.23it/s]\n"
     ]
    },
    {
     "name": "stderr",
     "output_type": "stream",
     "text": [
      "[2024-04-16 17:48:43][WAR][dtlpy:v1.72.7][entities.item:113] Item has been fetched from a dataset that is not belong to it\n"
     ]
    },
    {
     "name": "stdout",
     "output_type": "stream",
     "text": [
      "Command Progress: 100%|██████████| 100/100 [00:02<00:00, 49.11it/s]"
     ]
    },
    {
     "name": "stderr",
     "output_type": "stream",
     "text": [
      "[2024-04-16 17:48:45][WAR][dtlpy:v1.72.7][entities.item:113] Item has been fetched from a dataset that is not belong to it\n"
     ]
    },
    {
     "name": "stdout",
     "output_type": "stream",
     "text": [
      "\n",
      "Command Progress: 100%|██████████| 100/100 [00:02<00:00, 49.29it/s]"
     ]
    },
    {
     "name": "stderr",
     "output_type": "stream",
     "text": [
      "[2024-04-16 17:48:48][WAR][dtlpy:v1.72.7][entities.item:113] Item has been fetched from a dataset that is not belong to it\n"
     ]
    },
    {
     "name": "stdout",
     "output_type": "stream",
     "text": [
      "\n",
      "Command Progress: 100%|██████████| 100/100 [00:02<00:00, 46.77it/s]"
     ]
    },
    {
     "name": "stderr",
     "output_type": "stream",
     "text": [
      "[2024-04-16 17:48:50][WAR][dtlpy:v1.72.7][entities.item:113] Item has been fetched from a dataset that is not belong to it\n"
     ]
    },
    {
     "name": "stdout",
     "output_type": "stream",
     "text": [
      "\n",
      "Command Progress: 100%|██████████| 100/100 [00:02<00:00, 49.78it/s]"
     ]
    },
    {
     "name": "stderr",
     "output_type": "stream",
     "text": [
      "[2024-04-16 17:48:52][WAR][dtlpy:v1.72.7][entities.item:113] Item has been fetched from a dataset that is not belong to it\n"
     ]
    },
    {
     "name": "stdout",
     "output_type": "stream",
     "text": [
      "\n",
      "Command Progress: 100%|██████████| 100/100 [00:01<00:00, 66.26it/s]"
     ]
    },
    {
     "name": "stderr",
     "output_type": "stream",
     "text": [
      "[2024-04-16 17:48:54][WAR][dtlpy:v1.72.7][entities.item:113] Item has been fetched from a dataset that is not belong to it\n"
     ]
    },
    {
     "name": "stdout",
     "output_type": "stream",
     "text": [
      "\n",
      "Command Progress: 100%|██████████| 100/100 [00:02<00:00, 49.70it/s]"
     ]
    },
    {
     "name": "stderr",
     "output_type": "stream",
     "text": [
      "[2024-04-16 17:48:57][WAR][dtlpy:v1.72.7][entities.item:113] Item has been fetched from a dataset that is not belong to it\n"
     ]
    },
    {
     "name": "stdout",
     "output_type": "stream",
     "text": [
      "\n",
      "Command Progress: 100%|██████████| 100/100 [00:02<00:00, 47.80it/s]"
     ]
    },
    {
     "name": "stderr",
     "output_type": "stream",
     "text": [
      "[2024-04-16 17:49:00][WAR][dtlpy:v1.72.7][entities.item:113] Item has been fetched from a dataset that is not belong to it\n"
     ]
    },
    {
     "name": "stdout",
     "output_type": "stream",
     "text": [
      "\n",
      "Command Progress: 100%|██████████| 100/100 [00:01<00:00, 66.10it/s]"
     ]
    },
    {
     "name": "stderr",
     "output_type": "stream",
     "text": [
      "[2024-04-16 17:49:02][WAR][dtlpy:v1.72.7][entities.item:113] Item has been fetched from a dataset that is not belong to it\n"
     ]
    },
    {
     "name": "stdout",
     "output_type": "stream",
     "text": [
      "\n",
      "Command Progress: 100%|██████████| 100/100 [00:02<00:00, 49.53it/s]"
     ]
    },
    {
     "name": "stderr",
     "output_type": "stream",
     "text": [
      "[2024-04-16 17:49:04][WAR][dtlpy:v1.72.7][entities.item:113] Item has been fetched from a dataset that is not belong to it\n"
     ]
    },
    {
     "name": "stdout",
     "output_type": "stream",
     "text": [
      "\n",
      "Command Progress: 100%|██████████| 100/100 [00:01<00:00, 64.58it/s]"
     ]
    },
    {
     "name": "stderr",
     "output_type": "stream",
     "text": [
      "[2024-04-16 17:49:06][WAR][dtlpy:v1.72.7][entities.item:113] Item has been fetched from a dataset that is not belong to it\n"
     ]
    },
    {
     "name": "stdout",
     "output_type": "stream",
     "text": [
      "\n",
      "Command Progress: 100%|██████████| 100/100 [00:01<00:00, 54.30it/s]"
     ]
    },
    {
     "name": "stderr",
     "output_type": "stream",
     "text": [
      "[2024-04-16 17:49:08][WAR][dtlpy:v1.72.7][entities.item:113] Item has been fetched from a dataset that is not belong to it\n"
     ]
    },
    {
     "name": "stdout",
     "output_type": "stream",
     "text": [
      "\n",
      "Command Progress: 100%|██████████| 100/100 [00:01<00:00, 67.11it/s]"
     ]
    },
    {
     "name": "stderr",
     "output_type": "stream",
     "text": [
      "[2024-04-16 17:49:11][WAR][dtlpy:v1.72.7][entities.item:113] Item has been fetched from a dataset that is not belong to it\n"
     ]
    },
    {
     "name": "stdout",
     "output_type": "stream",
     "text": [
      "\n",
      "Command Progress: 100%|██████████| 100/100 [00:02<00:00, 46.90it/s]"
     ]
    },
    {
     "name": "stderr",
     "output_type": "stream",
     "text": [
      "[2024-04-16 17:49:13][WAR][dtlpy:v1.72.7][entities.item:113] Item has been fetched from a dataset that is not belong to it\n"
     ]
    },
    {
     "name": "stdout",
     "output_type": "stream",
     "text": [
      "\n",
      "Command Progress: 100%|██████████| 100/100 [00:02<00:00, 49.73it/s]"
     ]
    },
    {
     "name": "stderr",
     "output_type": "stream",
     "text": [
      "[2024-04-16 17:49:15][WAR][dtlpy:v1.72.7][entities.item:113] Item has been fetched from a dataset that is not belong to it\n"
     ]
    },
    {
     "name": "stdout",
     "output_type": "stream",
     "text": [
      "\n",
      "Command Progress: 100%|██████████| 100/100 [00:02<00:00, 49.49it/s]"
     ]
    },
    {
     "name": "stderr",
     "output_type": "stream",
     "text": [
      "[2024-04-16 17:49:18][WAR][dtlpy:v1.72.7][entities.item:113] Item has been fetched from a dataset that is not belong to it\n"
     ]
    },
    {
     "name": "stdout",
     "output_type": "stream",
     "text": [
      "\n",
      "Command Progress: 100%|██████████| 100/100 [00:02<00:00, 47.44it/s]"
     ]
    },
    {
     "name": "stderr",
     "output_type": "stream",
     "text": [
      "[2024-04-16 17:49:20][WAR][dtlpy:v1.72.7][entities.item:113] Item has been fetched from a dataset that is not belong to it\n"
     ]
    },
    {
     "name": "stdout",
     "output_type": "stream",
     "text": [
      "\n",
      "Command Progress: 100%|██████████| 100/100 [00:02<00:00, 46.97it/s]"
     ]
    },
    {
     "name": "stderr",
     "output_type": "stream",
     "text": [
      "[2024-04-16 17:49:23][WAR][dtlpy:v1.72.7][entities.item:113] Item has been fetched from a dataset that is not belong to it\n"
     ]
    },
    {
     "name": "stdout",
     "output_type": "stream",
     "text": [
      "\n",
      "Command Progress: 100%|██████████| 100/100 [00:01<00:00, 66.44it/s]"
     ]
    },
    {
     "name": "stderr",
     "output_type": "stream",
     "text": [
      "[2024-04-16 17:49:25][WAR][dtlpy:v1.72.7][entities.item:113] Item has been fetched from a dataset that is not belong to it\n"
     ]
    },
    {
     "name": "stdout",
     "output_type": "stream",
     "text": [
      "\n",
      "Command Progress: 100%|██████████| 100/100 [00:02<00:00, 49.33it/s]"
     ]
    },
    {
     "name": "stderr",
     "output_type": "stream",
     "text": [
      "[2024-04-16 17:49:27][WAR][dtlpy:v1.72.7][entities.item:113] Item has been fetched from a dataset that is not belong to it\n"
     ]
    },
    {
     "name": "stdout",
     "output_type": "stream",
     "text": [
      "\n",
      "Command Progress: 100%|██████████| 100/100 [00:02<00:00, 49.74it/s]"
     ]
    },
    {
     "name": "stderr",
     "output_type": "stream",
     "text": [
      "[2024-04-16 17:49:30][WAR][dtlpy:v1.72.7][entities.item:113] Item has been fetched from a dataset that is not belong to it\n"
     ]
    },
    {
     "name": "stdout",
     "output_type": "stream",
     "text": [
      "\n",
      "Command Progress: 100%|██████████| 100/100 [00:02<00:00, 49.58it/s]"
     ]
    },
    {
     "name": "stderr",
     "output_type": "stream",
     "text": [
      "[2024-04-16 17:49:32][WAR][dtlpy:v1.72.7][entities.item:113] Item has been fetched from a dataset that is not belong to it\n"
     ]
    },
    {
     "name": "stdout",
     "output_type": "stream",
     "text": [
      "\n",
      "Command Progress: 100%|██████████| 100/100 [00:02<00:00, 49.40it/s]\n"
     ]
    },
    {
     "name": "stderr",
     "output_type": "stream",
     "text": [
      "[2024-04-16 17:49:35][WAR][dtlpy:v1.72.7][entities.item:113] Item has been fetched from a dataset that is not belong to it\n"
     ]
    },
    {
     "name": "stdout",
     "output_type": "stream",
     "text": [
      "Command Progress: 100%|██████████| 100/100 [00:01<00:00, 64.44it/s]"
     ]
    },
    {
     "name": "stderr",
     "output_type": "stream",
     "text": [
      "[2024-04-16 17:49:36][WAR][dtlpy:v1.72.7][entities.item:113] Item has been fetched from a dataset that is not belong to it\n"
     ]
    },
    {
     "name": "stdout",
     "output_type": "stream",
     "text": [
      "\n",
      "Command Progress: 100%|██████████| 100/100 [00:01<00:00, 68.94it/s]"
     ]
    },
    {
     "name": "stderr",
     "output_type": "stream",
     "text": [
      "[2024-04-16 17:49:38][WAR][dtlpy:v1.72.7][entities.item:113] Item has been fetched from a dataset that is not belong to it\n"
     ]
    },
    {
     "name": "stdout",
     "output_type": "stream",
     "text": [
      "\n",
      "Command Progress: 100%|██████████| 100/100 [00:02<00:00, 49.20it/s]"
     ]
    },
    {
     "name": "stderr",
     "output_type": "stream",
     "text": [
      "[2024-04-16 17:49:41][WAR][dtlpy:v1.72.7][entities.item:113] Item has been fetched from a dataset that is not belong to it\n"
     ]
    },
    {
     "name": "stdout",
     "output_type": "stream",
     "text": [
      "\n",
      "Command Progress: 100%|██████████| 100/100 [00:02<00:00, 49.74it/s]"
     ]
    },
    {
     "name": "stderr",
     "output_type": "stream",
     "text": [
      "[2024-04-16 17:49:43][WAR][dtlpy:v1.72.7][entities.item:113] Item has been fetched from a dataset that is not belong to it\n"
     ]
    },
    {
     "name": "stdout",
     "output_type": "stream",
     "text": [
      "\n",
      "Command Progress: 100%|██████████| 100/100 [00:02<00:00, 49.82it/s]"
     ]
    },
    {
     "name": "stderr",
     "output_type": "stream",
     "text": [
      "[2024-04-16 17:49:45][WAR][dtlpy:v1.72.7][entities.item:113] Item has been fetched from a dataset that is not belong to it\n"
     ]
    },
    {
     "name": "stdout",
     "output_type": "stream",
     "text": [
      "\n",
      "Command Progress: 100%|██████████| 100/100 [00:02<00:00, 46.82it/s]"
     ]
    },
    {
     "name": "stderr",
     "output_type": "stream",
     "text": [
      "[2024-04-16 17:49:48][WAR][dtlpy:v1.72.7][entities.item:113] Item has been fetched from a dataset that is not belong to it\n"
     ]
    },
    {
     "name": "stdout",
     "output_type": "stream",
     "text": [
      "\n",
      "Command Progress: 100%|██████████| 100/100 [00:02<00:00, 49.63it/s]"
     ]
    },
    {
     "name": "stderr",
     "output_type": "stream",
     "text": [
      "[2024-04-16 17:49:50][WAR][dtlpy:v1.72.7][entities.item:113] Item has been fetched from a dataset that is not belong to it\n"
     ]
    },
    {
     "name": "stdout",
     "output_type": "stream",
     "text": [
      "\n",
      "Command Progress: 100%|██████████| 100/100 [00:01<00:00, 71.48it/s]"
     ]
    },
    {
     "name": "stderr",
     "output_type": "stream",
     "text": [
      "[2024-04-16 17:49:52][WAR][dtlpy:v1.72.7][entities.item:113] Item has been fetched from a dataset that is not belong to it\n"
     ]
    },
    {
     "name": "stdout",
     "output_type": "stream",
     "text": [
      "\n",
      "Command Progress: 100%|██████████| 100/100 [00:02<00:00, 49.66it/s]"
     ]
    },
    {
     "name": "stderr",
     "output_type": "stream",
     "text": [
      "[2024-04-16 17:49:55][WAR][dtlpy:v1.72.7][entities.item:113] Item has been fetched from a dataset that is not belong to it\n"
     ]
    },
    {
     "name": "stdout",
     "output_type": "stream",
     "text": [
      "\n",
      "Command Progress: 100%|██████████| 100/100 [00:02<00:00, 49.19it/s]"
     ]
    },
    {
     "name": "stderr",
     "output_type": "stream",
     "text": [
      "[2024-04-16 17:49:57][WAR][dtlpy:v1.72.7][entities.item:113] Item has been fetched from a dataset that is not belong to it\n"
     ]
    },
    {
     "name": "stdout",
     "output_type": "stream",
     "text": [
      "\n",
      "Command Progress: 100%|██████████| 100/100 [00:02<00:00, 46.81it/s]"
     ]
    },
    {
     "name": "stderr",
     "output_type": "stream",
     "text": [
      "[2024-04-16 17:50:00][WAR][dtlpy:v1.72.7][entities.item:113] Item has been fetched from a dataset that is not belong to it\n"
     ]
    },
    {
     "name": "stdout",
     "output_type": "stream",
     "text": [
      "\n",
      "Command Progress: 100%|██████████| 100/100 [00:02<00:00, 49.09it/s]"
     ]
    },
    {
     "name": "stderr",
     "output_type": "stream",
     "text": [
      "[2024-04-16 17:50:02][WAR][dtlpy:v1.72.7][entities.item:113] Item has been fetched from a dataset that is not belong to it\n"
     ]
    },
    {
     "name": "stdout",
     "output_type": "stream",
     "text": [
      "\n",
      "Command Progress: 100%|██████████| 100/100 [00:02<00:00, 48.95it/s]\n"
     ]
    },
    {
     "name": "stderr",
     "output_type": "stream",
     "text": [
      "[2024-04-16 17:50:06][WAR][dtlpy:v1.72.7][entities.item:113] Item has been fetched from a dataset that is not belong to it\n"
     ]
    },
    {
     "name": "stdout",
     "output_type": "stream",
     "text": [
      "Command Progress: 100%|██████████| 100/100 [00:02<00:00, 43.66it/s]"
     ]
    },
    {
     "name": "stderr",
     "output_type": "stream",
     "text": [
      "[2024-04-16 17:50:12][WAR][dtlpy:v1.72.7][entities.item:113] Item has been fetched from a dataset that is not belong to it\n"
     ]
    },
    {
     "name": "stdout",
     "output_type": "stream",
     "text": [
      "\n",
      "Command Progress: 100%|██████████| 100/100 [00:02<00:00, 49.21it/s]"
     ]
    },
    {
     "name": "stderr",
     "output_type": "stream",
     "text": [
      "[2024-04-16 17:50:14][WAR][dtlpy:v1.72.7][entities.item:113] Item has been fetched from a dataset that is not belong to it\n"
     ]
    },
    {
     "name": "stdout",
     "output_type": "stream",
     "text": [
      "\n",
      "Command Progress: 100%|██████████| 100/100 [00:01<00:00, 87.85it/s]"
     ]
    },
    {
     "name": "stderr",
     "output_type": "stream",
     "text": [
      "[2024-04-16 17:50:16][WAR][dtlpy:v1.72.7][entities.item:113] Item has been fetched from a dataset that is not belong to it\n"
     ]
    },
    {
     "name": "stdout",
     "output_type": "stream",
     "text": [
      "\n",
      "Command Progress: 100%|██████████| 100/100 [00:02<00:00, 48.00it/s]"
     ]
    },
    {
     "name": "stderr",
     "output_type": "stream",
     "text": [
      "[2024-04-16 17:50:18][WAR][dtlpy:v1.72.7][entities.item:113] Item has been fetched from a dataset that is not belong to it\n"
     ]
    },
    {
     "name": "stdout",
     "output_type": "stream",
     "text": [
      "\n",
      "Command Progress: 100%|██████████| 100/100 [00:02<00:00, 49.31it/s]"
     ]
    },
    {
     "name": "stderr",
     "output_type": "stream",
     "text": [
      "[2024-04-16 17:50:21][WAR][dtlpy:v1.72.7][entities.item:113] Item has been fetched from a dataset that is not belong to it\n"
     ]
    },
    {
     "name": "stdout",
     "output_type": "stream",
     "text": [
      "\n",
      "Command Progress: 100%|██████████| 100/100 [00:02<00:00, 42.75it/s]"
     ]
    },
    {
     "name": "stderr",
     "output_type": "stream",
     "text": [
      "[2024-04-16 17:50:24][WAR][dtlpy:v1.72.7][entities.item:113] Item has been fetched from a dataset that is not belong to it\n"
     ]
    },
    {
     "name": "stdout",
     "output_type": "stream",
     "text": [
      "\n",
      "Command Progress: 100%|██████████| 100/100 [00:02<00:00, 41.30it/s]"
     ]
    },
    {
     "name": "stderr",
     "output_type": "stream",
     "text": [
      "[2024-04-16 17:50:27][WAR][dtlpy:v1.72.7][entities.item:113] Item has been fetched from a dataset that is not belong to it\n"
     ]
    },
    {
     "name": "stdout",
     "output_type": "stream",
     "text": [
      "\n",
      "Command Progress: 100%|██████████| 100/100 [00:02<00:00, 48.63it/s]"
     ]
    },
    {
     "name": "stderr",
     "output_type": "stream",
     "text": [
      "[2024-04-16 17:50:30][WAR][dtlpy:v1.72.7][entities.item:113] Item has been fetched from a dataset that is not belong to it\n"
     ]
    },
    {
     "name": "stdout",
     "output_type": "stream",
     "text": [
      "\n",
      "Command Progress: 100%|██████████| 100/100 [00:02<00:00, 48.45it/s]"
     ]
    },
    {
     "name": "stderr",
     "output_type": "stream",
     "text": [
      "[2024-04-16 17:50:32][WAR][dtlpy:v1.72.7][entities.item:113] Item has been fetched from a dataset that is not belong to it\n"
     ]
    },
    {
     "name": "stdout",
     "output_type": "stream",
     "text": [
      "\n",
      "Command Progress: 100%|██████████| 100/100 [00:02<00:00, 46.57it/s]"
     ]
    },
    {
     "name": "stderr",
     "output_type": "stream",
     "text": [
      "[2024-04-16 17:50:35][WAR][dtlpy:v1.72.7][entities.item:113] Item has been fetched from a dataset that is not belong to it\n"
     ]
    },
    {
     "name": "stdout",
     "output_type": "stream",
     "text": [
      "\n",
      "Command Progress: 100%|██████████| 100/100 [00:02<00:00, 43.95it/s]"
     ]
    },
    {
     "name": "stderr",
     "output_type": "stream",
     "text": [
      "[2024-04-16 17:50:38][WAR][dtlpy:v1.72.7][entities.item:113] Item has been fetched from a dataset that is not belong to it\n"
     ]
    },
    {
     "name": "stdout",
     "output_type": "stream",
     "text": [
      "\n",
      "Command Progress: 100%|██████████| 100/100 [00:02<00:00, 48.81it/s]"
     ]
    },
    {
     "name": "stderr",
     "output_type": "stream",
     "text": [
      "[2024-04-16 17:50:40][WAR][dtlpy:v1.72.7][entities.item:113] Item has been fetched from a dataset that is not belong to it\n"
     ]
    },
    {
     "name": "stdout",
     "output_type": "stream",
     "text": [
      "\n",
      "Command Progress: 100%|██████████| 100/100 [00:02<00:00, 49.55it/s]"
     ]
    },
    {
     "name": "stderr",
     "output_type": "stream",
     "text": [
      "[2024-04-16 17:50:43][WAR][dtlpy:v1.72.7][entities.item:113] Item has been fetched from a dataset that is not belong to it\n"
     ]
    },
    {
     "name": "stdout",
     "output_type": "stream",
     "text": [
      "\n",
      "Command Progress: 100%|██████████| 100/100 [00:02<00:00, 49.18it/s]"
     ]
    },
    {
     "name": "stderr",
     "output_type": "stream",
     "text": [
      "[2024-04-16 17:50:45][WAR][dtlpy:v1.72.7][entities.item:113] Item has been fetched from a dataset that is not belong to it\n"
     ]
    },
    {
     "name": "stdout",
     "output_type": "stream",
     "text": [
      "\n",
      "Command Progress: 100%|██████████| 100/100 [00:02<00:00, 49.40it/s]\n"
     ]
    },
    {
     "name": "stderr",
     "output_type": "stream",
     "text": [
      "[2024-04-16 17:50:48][WAR][dtlpy:v1.72.7][entities.item:113] Item has been fetched from a dataset that is not belong to it\n"
     ]
    },
    {
     "name": "stdout",
     "output_type": "stream",
     "text": [
      "Command Progress: 100%|██████████| 100/100 [00:01<00:00, 75.22it/s]"
     ]
    },
    {
     "name": "stderr",
     "output_type": "stream",
     "text": [
      "[2024-04-16 17:50:50][WAR][dtlpy:v1.72.7][entities.item:113] Item has been fetched from a dataset that is not belong to it\n"
     ]
    },
    {
     "name": "stdout",
     "output_type": "stream",
     "text": [
      "\n",
      "Command Progress: 100%|██████████| 100/100 [00:02<00:00, 49.77it/s]"
     ]
    },
    {
     "name": "stderr",
     "output_type": "stream",
     "text": [
      "[2024-04-16 17:50:52][WAR][dtlpy:v1.72.7][entities.item:113] Item has been fetched from a dataset that is not belong to it\n"
     ]
    },
    {
     "name": "stdout",
     "output_type": "stream",
     "text": [
      "\n",
      "Command Progress: 100%|██████████| 100/100 [00:02<00:00, 49.40it/s]"
     ]
    },
    {
     "name": "stderr",
     "output_type": "stream",
     "text": [
      "[2024-04-16 17:50:55][WAR][dtlpy:v1.72.7][entities.item:113] Item has been fetched from a dataset that is not belong to it\n"
     ]
    },
    {
     "name": "stdout",
     "output_type": "stream",
     "text": [
      "\n",
      "Command Progress: 100%|██████████| 100/100 [00:02<00:00, 49.06it/s]\n"
     ]
    },
    {
     "name": "stderr",
     "output_type": "stream",
     "text": [
      "[2024-04-16 17:50:57][WAR][dtlpy:v1.72.7][entities.item:113] Item has been fetched from a dataset that is not belong to it\n"
     ]
    },
    {
     "name": "stdout",
     "output_type": "stream",
     "text": [
      "Command Progress: 100%|██████████| 100/100 [00:02<00:00, 45.66it/s]"
     ]
    },
    {
     "name": "stderr",
     "output_type": "stream",
     "text": [
      "[2024-04-16 17:51:00][WAR][dtlpy:v1.72.7][entities.item:113] Item has been fetched from a dataset that is not belong to it\n"
     ]
    },
    {
     "name": "stdout",
     "output_type": "stream",
     "text": [
      "\n",
      "Command Progress: 100%|██████████| 100/100 [00:01<00:00, 66.86it/s]"
     ]
    },
    {
     "name": "stderr",
     "output_type": "stream",
     "text": [
      "[2024-04-16 17:51:02][WAR][dtlpy:v1.72.7][entities.item:113] Item has been fetched from a dataset that is not belong to it\n"
     ]
    },
    {
     "name": "stdout",
     "output_type": "stream",
     "text": [
      "\n",
      "Command Progress: 100%|██████████| 100/100 [00:02<00:00, 49.11it/s]\n"
     ]
    },
    {
     "name": "stderr",
     "output_type": "stream",
     "text": [
      "[2024-04-16 17:51:05][WAR][dtlpy:v1.72.7][entities.item:113] Item has been fetched from a dataset that is not belong to it\n"
     ]
    },
    {
     "name": "stdout",
     "output_type": "stream",
     "text": [
      "Command Progress: 100%|██████████| 100/100 [00:02<00:00, 49.20it/s]"
     ]
    },
    {
     "name": "stderr",
     "output_type": "stream",
     "text": [
      "[2024-04-16 17:51:07][WAR][dtlpy:v1.72.7][entities.item:113] Item has been fetched from a dataset that is not belong to it\n"
     ]
    },
    {
     "name": "stdout",
     "output_type": "stream",
     "text": [
      "\n",
      "Command Progress: 100%|██████████| 100/100 [00:02<00:00, 49.67it/s]"
     ]
    },
    {
     "name": "stderr",
     "output_type": "stream",
     "text": [
      "[2024-04-16 17:51:09][WAR][dtlpy:v1.72.7][entities.item:113] Item has been fetched from a dataset that is not belong to it\n"
     ]
    },
    {
     "name": "stdout",
     "output_type": "stream",
     "text": [
      "\n",
      "Command Progress: 100%|██████████| 100/100 [00:02<00:00, 48.58it/s]"
     ]
    },
    {
     "name": "stderr",
     "output_type": "stream",
     "text": [
      "[2024-04-16 17:51:12][WAR][dtlpy:v1.72.7][entities.item:113] Item has been fetched from a dataset that is not belong to it\n"
     ]
    },
    {
     "name": "stdout",
     "output_type": "stream",
     "text": [
      "\n",
      "Command Progress: 100%|██████████| 100/100 [00:01<00:00, 84.90it/s]"
     ]
    },
    {
     "name": "stderr",
     "output_type": "stream",
     "text": [
      "[2024-04-16 17:51:14][WAR][dtlpy:v1.72.7][entities.item:113] Item has been fetched from a dataset that is not belong to it\n"
     ]
    },
    {
     "name": "stdout",
     "output_type": "stream",
     "text": [
      "\n",
      "Command Progress: 100%|██████████| 100/100 [00:02<00:00, 45.43it/s]"
     ]
    },
    {
     "name": "stderr",
     "output_type": "stream",
     "text": [
      "[2024-04-16 17:51:16][WAR][dtlpy:v1.72.7][entities.item:113] Item has been fetched from a dataset that is not belong to it\n"
     ]
    },
    {
     "name": "stdout",
     "output_type": "stream",
     "text": [
      "\n",
      "Command Progress: 100%|██████████| 100/100 [00:02<00:00, 48.99it/s]"
     ]
    },
    {
     "name": "stderr",
     "output_type": "stream",
     "text": [
      "[2024-04-16 17:51:19][WAR][dtlpy:v1.72.7][entities.item:113] Item has been fetched from a dataset that is not belong to it\n"
     ]
    },
    {
     "name": "stdout",
     "output_type": "stream",
     "text": [
      "\n",
      "Command Progress: 100%|██████████| 100/100 [00:02<00:00, 46.52it/s]"
     ]
    },
    {
     "name": "stderr",
     "output_type": "stream",
     "text": [
      "[2024-04-16 17:51:22][WAR][dtlpy:v1.72.7][entities.item:113] Item has been fetched from a dataset that is not belong to it\n"
     ]
    },
    {
     "name": "stdout",
     "output_type": "stream",
     "text": [
      "\n",
      "Command Progress: 100%|██████████| 100/100 [00:02<00:00, 48.66it/s]"
     ]
    },
    {
     "name": "stderr",
     "output_type": "stream",
     "text": [
      "[2024-04-16 17:51:24][WAR][dtlpy:v1.72.7][entities.item:113] Item has been fetched from a dataset that is not belong to it\n"
     ]
    },
    {
     "name": "stdout",
     "output_type": "stream",
     "text": [
      "\n",
      "Command Progress: 100%|██████████| 100/100 [00:01<00:00, 52.25it/s]"
     ]
    },
    {
     "name": "stderr",
     "output_type": "stream",
     "text": [
      "[2024-04-16 17:51:27][WAR][dtlpy:v1.72.7][entities.item:113] Item has been fetched from a dataset that is not belong to it\n"
     ]
    },
    {
     "name": "stdout",
     "output_type": "stream",
     "text": [
      "\n",
      "Command Progress: 100%|██████████| 100/100 [00:02<00:00, 43.54it/s]"
     ]
    },
    {
     "name": "stderr",
     "output_type": "stream",
     "text": [
      "[2024-04-16 17:51:29][WAR][dtlpy:v1.72.7][entities.item:113] Item has been fetched from a dataset that is not belong to it\n"
     ]
    },
    {
     "name": "stdout",
     "output_type": "stream",
     "text": [
      "\n",
      "Command Progress: 100%|██████████| 100/100 [00:02<00:00, 49.14it/s]"
     ]
    },
    {
     "name": "stderr",
     "output_type": "stream",
     "text": [
      "[2024-04-16 17:51:32][WAR][dtlpy:v1.72.7][entities.item:113] Item has been fetched from a dataset that is not belong to it\n"
     ]
    },
    {
     "name": "stdout",
     "output_type": "stream",
     "text": [
      "\n",
      "Command Progress: 100%|██████████| 100/100 [00:02<00:00, 49.28it/s]"
     ]
    },
    {
     "name": "stderr",
     "output_type": "stream",
     "text": [
      "[2024-04-16 17:51:34][WAR][dtlpy:v1.72.7][entities.item:113] Item has been fetched from a dataset that is not belong to it\n"
     ]
    },
    {
     "name": "stdout",
     "output_type": "stream",
     "text": [
      "\n",
      "Command Progress: 100%|██████████| 100/100 [00:02<00:00, 46.58it/s]"
     ]
    },
    {
     "name": "stderr",
     "output_type": "stream",
     "text": [
      "[2024-04-16 17:51:37][WAR][dtlpy:v1.72.7][entities.item:113] Item has been fetched from a dataset that is not belong to it\n"
     ]
    },
    {
     "name": "stdout",
     "output_type": "stream",
     "text": [
      "\n",
      "Command Progress: 100%|██████████| 100/100 [00:02<00:00, 42.73it/s]\n"
     ]
    },
    {
     "name": "stderr",
     "output_type": "stream",
     "text": [
      "[2024-04-16 17:51:40][WAR][dtlpy:v1.72.7][entities.item:113] Item has been fetched from a dataset that is not belong to it\n"
     ]
    },
    {
     "name": "stdout",
     "output_type": "stream",
     "text": [
      "Command Progress: 100%|██████████| 100/100 [00:02<00:00, 48.13it/s]"
     ]
    },
    {
     "name": "stderr",
     "output_type": "stream",
     "text": [
      "[2024-04-16 17:51:43][WAR][dtlpy:v1.72.7][entities.item:113] Item has been fetched from a dataset that is not belong to it\n"
     ]
    },
    {
     "name": "stdout",
     "output_type": "stream",
     "text": [
      "\n",
      "Command Progress: 100%|██████████| 100/100 [00:02<00:00, 49.15it/s]"
     ]
    },
    {
     "name": "stderr",
     "output_type": "stream",
     "text": [
      "[2024-04-16 17:51:46][WAR][dtlpy:v1.72.7][entities.item:113] Item has been fetched from a dataset that is not belong to it\n"
     ]
    },
    {
     "name": "stdout",
     "output_type": "stream",
     "text": [
      "\n",
      "Command Progress: 100%|██████████| 100/100 [00:02<00:00, 48.94it/s]"
     ]
    },
    {
     "name": "stderr",
     "output_type": "stream",
     "text": [
      "[2024-04-16 17:51:48][WAR][dtlpy:v1.72.7][entities.item:113] Item has been fetched from a dataset that is not belong to it\n"
     ]
    },
    {
     "name": "stdout",
     "output_type": "stream",
     "text": [
      "\n",
      "Command Progress: 100%|██████████| 100/100 [00:02<00:00, 49.13it/s]"
     ]
    },
    {
     "name": "stderr",
     "output_type": "stream",
     "text": [
      "[2024-04-16 17:51:51][WAR][dtlpy:v1.72.7][entities.item:113] Item has been fetched from a dataset that is not belong to it\n"
     ]
    },
    {
     "name": "stdout",
     "output_type": "stream",
     "text": [
      "\n",
      "Command Progress: 100%|██████████| 100/100 [00:02<00:00, 42.30it/s]"
     ]
    },
    {
     "name": "stderr",
     "output_type": "stream",
     "text": [
      "[2024-04-16 17:51:54][WAR][dtlpy:v1.72.7][entities.item:113] Item has been fetched from a dataset that is not belong to it\n"
     ]
    },
    {
     "name": "stdout",
     "output_type": "stream",
     "text": [
      "\n",
      "Command Progress: 100%|██████████| 100/100 [00:02<00:00, 48.40it/s]"
     ]
    },
    {
     "name": "stderr",
     "output_type": "stream",
     "text": [
      "[2024-04-16 17:51:56][WAR][dtlpy:v1.72.7][entities.item:113] Item has been fetched from a dataset that is not belong to it\n"
     ]
    },
    {
     "name": "stdout",
     "output_type": "stream",
     "text": [
      "\n",
      "Command Progress: 100%|██████████| 100/100 [00:01<00:00, 68.60it/s]\n"
     ]
    },
    {
     "name": "stderr",
     "output_type": "stream",
     "text": [
      "[2024-04-16 17:51:59][WAR][dtlpy:v1.72.7][entities.item:113] Item has been fetched from a dataset that is not belong to it\n"
     ]
    },
    {
     "name": "stdout",
     "output_type": "stream",
     "text": [
      "Command Progress: 100%|██████████| 100/100 [00:02<00:00, 48.18it/s]"
     ]
    },
    {
     "name": "stderr",
     "output_type": "stream",
     "text": [
      "[2024-04-16 17:52:03][WAR][dtlpy:v1.72.7][entities.item:113] Item has been fetched from a dataset that is not belong to it\n"
     ]
    },
    {
     "name": "stdout",
     "output_type": "stream",
     "text": [
      "\n",
      "Command Progress: 100%|██████████| 100/100 [00:02<00:00, 45.24it/s]"
     ]
    },
    {
     "name": "stderr",
     "output_type": "stream",
     "text": [
      "[2024-04-16 17:52:06][WAR][dtlpy:v1.72.7][entities.item:113] Item has been fetched from a dataset that is not belong to it\n"
     ]
    },
    {
     "name": "stdout",
     "output_type": "stream",
     "text": [
      "\n",
      "Command Progress: 100%|██████████| 100/100 [00:07<00:00, 13.55it/s]"
     ]
    },
    {
     "name": "stderr",
     "output_type": "stream",
     "text": [
      "[2024-04-16 17:52:14][WAR][dtlpy:v1.72.7][entities.item:113] Item has been fetched from a dataset that is not belong to it\n"
     ]
    },
    {
     "name": "stdout",
     "output_type": "stream",
     "text": [
      "\n",
      "Command Progress: 100%|██████████| 100/100 [00:04<00:00, 24.75it/s]\n"
     ]
    },
    {
     "name": "stderr",
     "output_type": "stream",
     "text": [
      "[2024-04-16 17:52:19][WAR][dtlpy:v1.72.7][entities.item:113] Item has been fetched from a dataset that is not belong to it\n"
     ]
    },
    {
     "name": "stdout",
     "output_type": "stream",
     "text": [
      "Command Progress: 100%|██████████| 100/100 [00:03<00:00, 26.63it/s]\n"
     ]
    },
    {
     "name": "stderr",
     "output_type": "stream",
     "text": [
      "[2024-04-16 17:52:25][WAR][dtlpy:v1.72.7][entities.item:113] Item has been fetched from a dataset that is not belong to it\n"
     ]
    },
    {
     "name": "stdout",
     "output_type": "stream",
     "text": [
      "Command Progress: 100%|██████████| 100/100 [00:04<00:00, 24.27it/s]\n"
     ]
    },
    {
     "name": "stderr",
     "output_type": "stream",
     "text": [
      "[2024-04-16 17:52:30][WAR][dtlpy:v1.72.7][entities.item:113] Item has been fetched from a dataset that is not belong to it\n"
     ]
    },
    {
     "name": "stdout",
     "output_type": "stream",
     "text": [
      "Command Progress: 100%|██████████| 100/100 [00:03<00:00, 26.86it/s]\n"
     ]
    },
    {
     "name": "stderr",
     "output_type": "stream",
     "text": [
      "[2024-04-16 17:52:36][WAR][dtlpy:v1.72.7][entities.item:113] Item has been fetched from a dataset that is not belong to it\n"
     ]
    },
    {
     "name": "stdout",
     "output_type": "stream",
     "text": [
      "Command Progress: 100%|██████████| 100/100 [00:07<00:00, 13.54it/s]\n"
     ]
    },
    {
     "name": "stderr",
     "output_type": "stream",
     "text": [
      "[2024-04-16 17:52:46][WAR][dtlpy:v1.72.7][entities.item:113] Item has been fetched from a dataset that is not belong to it\n"
     ]
    },
    {
     "name": "stdout",
     "output_type": "stream",
     "text": [
      "Command Progress: 100%|██████████| 100/100 [00:03<00:00, 26.56it/s]\n"
     ]
    },
    {
     "name": "stderr",
     "output_type": "stream",
     "text": [
      "[2024-04-16 17:52:54][WAR][dtlpy:v1.72.7][entities.item:113] Item has been fetched from a dataset that is not belong to it\n"
     ]
    },
    {
     "name": "stdout",
     "output_type": "stream",
     "text": [
      "Command Progress: 100%|██████████| 100/100 [00:04<00:00, 24.62it/s]\n"
     ]
    },
    {
     "name": "stderr",
     "output_type": "stream",
     "text": [
      "[2024-04-16 17:53:03][WAR][dtlpy:v1.72.7][entities.item:113] Item has been fetched from a dataset that is not belong to it\n"
     ]
    },
    {
     "name": "stdout",
     "output_type": "stream",
     "text": [
      "Command Progress: 100%|██████████| 100/100 [00:07<00:00, 13.99it/s]\n"
     ]
    },
    {
     "name": "stderr",
     "output_type": "stream",
     "text": [
      "[2024-04-16 17:53:14][WAR][dtlpy:v1.72.7][entities.item:113] Item has been fetched from a dataset that is not belong to it\n"
     ]
    },
    {
     "name": "stdout",
     "output_type": "stream",
     "text": [
      "Command Progress: 100%|██████████| 100/100 [00:07<00:00, 13.40it/s]\n"
     ]
    },
    {
     "name": "stderr",
     "output_type": "stream",
     "text": [
      "[2024-04-16 17:53:24][WAR][dtlpy:v1.72.7][entities.item:113] Item has been fetched from a dataset that is not belong to it\n"
     ]
    },
    {
     "name": "stdout",
     "output_type": "stream",
     "text": [
      "Command Progress: 100%|██████████| 100/100 [00:07<00:00, 13.97it/s]"
     ]
    },
    {
     "name": "stderr",
     "output_type": "stream",
     "text": [
      "[2024-04-16 17:53:34][WAR][dtlpy:v1.72.7][entities.item:113] Item has been fetched from a dataset that is not belong to it\n"
     ]
    },
    {
     "name": "stdout",
     "output_type": "stream",
     "text": [
      "\n",
      "Command Progress: 100%|██████████| 100/100 [00:07<00:00, 14.16it/s]\n"
     ]
    },
    {
     "name": "stderr",
     "output_type": "stream",
     "text": [
      "[2024-04-16 17:53:43][WAR][dtlpy:v1.72.7][entities.item:113] Item has been fetched from a dataset that is not belong to it\n"
     ]
    },
    {
     "name": "stdout",
     "output_type": "stream",
     "text": [
      "Command Progress: 100%|██████████| 100/100 [00:02<00:00, 40.56it/s]\n"
     ]
    },
    {
     "name": "stderr",
     "output_type": "stream",
     "text": [
      "[2024-04-16 17:53:47][WAR][dtlpy:v1.72.7][entities.item:113] Item has been fetched from a dataset that is not belong to it\n"
     ]
    },
    {
     "name": "stdout",
     "output_type": "stream",
     "text": [
      "Command Progress: 100%|██████████| 100/100 [00:03<00:00, 26.44it/s]\n"
     ]
    },
    {
     "name": "stderr",
     "output_type": "stream",
     "text": [
      "[2024-04-16 17:53:55][WAR][dtlpy:v1.72.7][entities.item:113] Item has been fetched from a dataset that is not belong to it\n"
     ]
    },
    {
     "name": "stdout",
     "output_type": "stream",
     "text": [
      "Command Progress: 100%|██████████| 100/100 [00:03<00:00, 25.39it/s]\n"
     ]
    },
    {
     "name": "stderr",
     "output_type": "stream",
     "text": [
      "[2024-04-16 17:54:01][WAR][dtlpy:v1.72.7][entities.item:113] Item has been fetched from a dataset that is not belong to it\n"
     ]
    },
    {
     "name": "stdout",
     "output_type": "stream",
     "text": [
      "Command Progress: 100%|██████████| 100/100 [00:07<00:00, 13.98it/s]\n"
     ]
    },
    {
     "name": "stderr",
     "output_type": "stream",
     "text": [
      "[2024-04-16 17:54:10][WAR][dtlpy:v1.72.7][entities.item:113] Item has been fetched from a dataset that is not belong to it\n"
     ]
    },
    {
     "name": "stdout",
     "output_type": "stream",
     "text": [
      "Command Progress: 100%|██████████| 100/100 [00:03<00:00, 26.74it/s]\n"
     ]
    },
    {
     "name": "stderr",
     "output_type": "stream",
     "text": [
      "[2024-04-16 17:54:17][WAR][dtlpy:v1.72.7][entities.item:113] Item has been fetched from a dataset that is not belong to it\n"
     ]
    },
    {
     "name": "stdout",
     "output_type": "stream",
     "text": [
      "Command Progress: 100%|██████████| 100/100 [00:07<00:00, 13.39it/s]\n"
     ]
    },
    {
     "name": "stderr",
     "output_type": "stream",
     "text": [
      "[2024-04-16 17:54:29][WAR][dtlpy:v1.72.7][entities.item:113] Item has been fetched from a dataset that is not belong to it\n"
     ]
    },
    {
     "name": "stdout",
     "output_type": "stream",
     "text": [
      "Command Progress: 100%|██████████| 100/100 [00:04<00:00, 23.15it/s]\n"
     ]
    },
    {
     "name": "stderr",
     "output_type": "stream",
     "text": [
      "[2024-04-16 17:54:36][WAR][dtlpy:v1.72.7][entities.item:113] Item has been fetched from a dataset that is not belong to it\n"
     ]
    },
    {
     "name": "stdout",
     "output_type": "stream",
     "text": [
      "Command Progress: 100%|██████████| 100/100 [00:07<00:00, 14.23it/s]\n"
     ]
    },
    {
     "name": "stderr",
     "output_type": "stream",
     "text": [
      "[2024-04-16 17:54:45][WAR][dtlpy:v1.72.7][entities.item:113] Item has been fetched from a dataset that is not belong to it\n"
     ]
    },
    {
     "name": "stdout",
     "output_type": "stream",
     "text": [
      "Command Progress: 100%|██████████| 100/100 [00:03<00:00, 26.60it/s]\n"
     ]
    },
    {
     "name": "stderr",
     "output_type": "stream",
     "text": [
      "[2024-04-16 17:54:53][WAR][dtlpy:v1.72.7][entities.item:113] Item has been fetched from a dataset that is not belong to it\n"
     ]
    },
    {
     "name": "stdout",
     "output_type": "stream",
     "text": [
      "Command Progress: 100%|██████████| 100/100 [00:03<00:00, 25.40it/s]\n"
     ]
    },
    {
     "name": "stderr",
     "output_type": "stream",
     "text": [
      "[2024-04-16 17:55:00][WAR][dtlpy:v1.72.7][entities.item:113] Item has been fetched from a dataset that is not belong to it\n"
     ]
    },
    {
     "name": "stdout",
     "output_type": "stream",
     "text": [
      "Command Progress: 100%|██████████| 100/100 [00:03<00:00, 26.71it/s]\n"
     ]
    },
    {
     "name": "stderr",
     "output_type": "stream",
     "text": [
      "[2024-04-16 17:55:06][WAR][dtlpy:v1.72.7][entities.item:113] Item has been fetched from a dataset that is not belong to it\n"
     ]
    },
    {
     "name": "stdout",
     "output_type": "stream",
     "text": [
      "Command Progress: 100%|██████████| 100/100 [00:04<00:00, 24.94it/s]\n"
     ]
    },
    {
     "name": "stderr",
     "output_type": "stream",
     "text": [
      "[2024-04-16 17:55:13][WAR][dtlpy:v1.72.7][entities.item:113] Item has been fetched from a dataset that is not belong to it\n"
     ]
    },
    {
     "name": "stdout",
     "output_type": "stream",
     "text": [
      "Command Progress: 100%|██████████| 100/100 [00:07<00:00, 13.59it/s]\n"
     ]
    },
    {
     "name": "stderr",
     "output_type": "stream",
     "text": [
      "[2024-04-16 17:55:22][WAR][dtlpy:v1.72.7][entities.item:113] Item has been fetched from a dataset that is not belong to it\n"
     ]
    },
    {
     "name": "stdout",
     "output_type": "stream",
     "text": [
      "Command Progress: 100%|██████████| 100/100 [00:03<00:00, 26.67it/s]\n"
     ]
    },
    {
     "name": "stderr",
     "output_type": "stream",
     "text": [
      "[2024-04-16 17:55:29][WAR][dtlpy:v1.72.7][entities.item:113] Item has been fetched from a dataset that is not belong to it\n"
     ]
    },
    {
     "name": "stdout",
     "output_type": "stream",
     "text": [
      "Command Progress: 100%|██████████| 100/100 [00:04<00:00, 24.50it/s]\n"
     ]
    },
    {
     "name": "stderr",
     "output_type": "stream",
     "text": [
      "[2024-04-16 17:55:35][WAR][dtlpy:v1.72.7][entities.item:113] Item has been fetched from a dataset that is not belong to it\n"
     ]
    },
    {
     "name": "stdout",
     "output_type": "stream",
     "text": [
      "Command Progress: 100%|██████████| 100/100 [00:04<00:00, 24.35it/s]\n"
     ]
    },
    {
     "name": "stderr",
     "output_type": "stream",
     "text": [
      "[2024-04-16 17:55:42][WAR][dtlpy:v1.72.7][entities.item:113] Item has been fetched from a dataset that is not belong to it\n"
     ]
    },
    {
     "name": "stdout",
     "output_type": "stream",
     "text": [
      "Command Progress: 100%|██████████| 100/100 [00:03<00:00, 26.62it/s]\n"
     ]
    },
    {
     "name": "stderr",
     "output_type": "stream",
     "text": [
      "[2024-04-16 17:55:48][WAR][dtlpy:v1.72.7][entities.item:113] Item has been fetched from a dataset that is not belong to it\n"
     ]
    },
    {
     "name": "stdout",
     "output_type": "stream",
     "text": [
      "Command Progress: 100%|██████████| 100/100 [00:04<00:00, 23.75it/s]\n"
     ]
    },
    {
     "name": "stderr",
     "output_type": "stream",
     "text": [
      "[2024-04-16 17:55:54][WAR][dtlpy:v1.72.7][entities.item:113] Item has been fetched from a dataset that is not belong to it\n"
     ]
    },
    {
     "name": "stdout",
     "output_type": "stream",
     "text": [
      "Command Progress: 100%|██████████| 100/100 [00:03<00:00, 26.79it/s]\n"
     ]
    },
    {
     "name": "stderr",
     "output_type": "stream",
     "text": [
      "[2024-04-16 17:56:00][WAR][dtlpy:v1.72.7][entities.item:113] Item has been fetched from a dataset that is not belong to it\n"
     ]
    },
    {
     "name": "stdout",
     "output_type": "stream",
     "text": [
      "Command Progress: 100%|██████████| 100/100 [00:07<00:00, 13.86it/s]\n"
     ]
    },
    {
     "name": "stderr",
     "output_type": "stream",
     "text": [
      "[2024-04-16 17:56:10][WAR][dtlpy:v1.72.7][entities.item:113] Item has been fetched from a dataset that is not belong to it\n"
     ]
    },
    {
     "name": "stdout",
     "output_type": "stream",
     "text": [
      "Command Progress: 100%|██████████| 100/100 [00:03<00:00, 26.42it/s]\n"
     ]
    },
    {
     "name": "stderr",
     "output_type": "stream",
     "text": [
      "[2024-04-16 17:56:16][WAR][dtlpy:v1.72.7][entities.item:113] Item has been fetched from a dataset that is not belong to it\n"
     ]
    },
    {
     "name": "stdout",
     "output_type": "stream",
     "text": [
      "Command Progress: 100%|██████████| 100/100 [00:07<00:00, 13.49it/s]\n"
     ]
    },
    {
     "name": "stderr",
     "output_type": "stream",
     "text": [
      "[2024-04-16 17:56:27][WAR][dtlpy:v1.72.7][entities.item:113] Item has been fetched from a dataset that is not belong to it\n"
     ]
    },
    {
     "name": "stdout",
     "output_type": "stream",
     "text": [
      "Command Progress: 100%|██████████| 100/100 [00:03<00:00, 25.50it/s]\n"
     ]
    },
    {
     "name": "stderr",
     "output_type": "stream",
     "text": [
      "[2024-04-16 17:56:34][WAR][dtlpy:v1.72.7][entities.item:113] Item has been fetched from a dataset that is not belong to it\n"
     ]
    },
    {
     "name": "stdout",
     "output_type": "stream",
     "text": [
      "Command Progress: 100%|██████████| 100/100 [00:04<00:00, 22.42it/s]\n"
     ]
    },
    {
     "name": "stderr",
     "output_type": "stream",
     "text": [
      "[2024-04-16 17:56:42][WAR][dtlpy:v1.72.7][entities.item:113] Item has been fetched from a dataset that is not belong to it\n"
     ]
    },
    {
     "name": "stdout",
     "output_type": "stream",
     "text": [
      "Command Progress: 100%|██████████| 100/100 [00:04<00:00, 24.47it/s]\n"
     ]
    },
    {
     "name": "stderr",
     "output_type": "stream",
     "text": [
      "[2024-04-16 17:56:49][WAR][dtlpy:v1.72.7][entities.item:113] Item has been fetched from a dataset that is not belong to it\n"
     ]
    },
    {
     "name": "stdout",
     "output_type": "stream",
     "text": [
      "Command Progress: 100%|██████████| 100/100 [00:03<00:00, 25.83it/s]\n"
     ]
    },
    {
     "name": "stderr",
     "output_type": "stream",
     "text": [
      "[2024-04-16 17:56:56][WAR][dtlpy:v1.72.7][entities.item:113] Item has been fetched from a dataset that is not belong to it\n"
     ]
    },
    {
     "name": "stdout",
     "output_type": "stream",
     "text": [
      "Command Progress: 100%|██████████| 100/100 [00:03<00:00, 26.61it/s]\n"
     ]
    },
    {
     "name": "stderr",
     "output_type": "stream",
     "text": [
      "[2024-04-16 17:57:02][WAR][dtlpy:v1.72.7][entities.item:113] Item has been fetched from a dataset that is not belong to it\n"
     ]
    },
    {
     "name": "stdout",
     "output_type": "stream",
     "text": [
      "Command Progress: 100%|██████████| 100/100 [00:04<00:00, 24.22it/s]\n"
     ]
    },
    {
     "name": "stderr",
     "output_type": "stream",
     "text": [
      "[2024-04-16 17:57:08][WAR][dtlpy:v1.72.7][entities.item:113] Item has been fetched from a dataset that is not belong to it\n"
     ]
    },
    {
     "name": "stdout",
     "output_type": "stream",
     "text": [
      "Command Progress: 100%|██████████| 100/100 [00:03<00:00, 26.68it/s]\n"
     ]
    },
    {
     "name": "stderr",
     "output_type": "stream",
     "text": [
      "[2024-04-16 17:57:14][WAR][dtlpy:v1.72.7][entities.item:113] Item has been fetched from a dataset that is not belong to it\n"
     ]
    },
    {
     "name": "stdout",
     "output_type": "stream",
     "text": [
      "Command Progress: 100%|██████████| 100/100 [00:04<00:00, 24.82it/s]\n"
     ]
    },
    {
     "name": "stderr",
     "output_type": "stream",
     "text": [
      "[2024-04-16 17:57:21][WAR][dtlpy:v1.72.7][entities.item:113] Item has been fetched from a dataset that is not belong to it\n"
     ]
    },
    {
     "name": "stdout",
     "output_type": "stream",
     "text": [
      "Command Progress: 100%|██████████| 100/100 [00:03<00:00, 26.68it/s]\n"
     ]
    },
    {
     "name": "stderr",
     "output_type": "stream",
     "text": [
      "[2024-04-16 17:57:28][WAR][dtlpy:v1.72.7][entities.item:113] Item has been fetched from a dataset that is not belong to it\n"
     ]
    },
    {
     "name": "stdout",
     "output_type": "stream",
     "text": [
      "Command Progress: 100%|██████████| 100/100 [00:03<00:00, 26.55it/s]\n"
     ]
    },
    {
     "name": "stderr",
     "output_type": "stream",
     "text": [
      "[2024-04-16 17:57:37][WAR][dtlpy:v1.72.7][entities.item:113] Item has been fetched from a dataset that is not belong to it\n"
     ]
    },
    {
     "name": "stdout",
     "output_type": "stream",
     "text": [
      "Command Progress: 100%|██████████| 100/100 [00:03<00:00, 25.52it/s]\n"
     ]
    },
    {
     "name": "stderr",
     "output_type": "stream",
     "text": [
      "[2024-04-16 17:57:44][WAR][dtlpy:v1.72.7][entities.item:113] Item has been fetched from a dataset that is not belong to it\n"
     ]
    },
    {
     "name": "stdout",
     "output_type": "stream",
     "text": [
      "Command Progress: 100%|██████████| 100/100 [00:04<00:00, 24.51it/s]\n"
     ]
    },
    {
     "name": "stderr",
     "output_type": "stream",
     "text": [
      "[2024-04-16 17:57:51][WAR][dtlpy:v1.72.7][entities.item:113] Item has been fetched from a dataset that is not belong to it\n"
     ]
    },
    {
     "name": "stdout",
     "output_type": "stream",
     "text": [
      "Command Progress: 100%|██████████| 100/100 [00:03<00:00, 26.79it/s]\n"
     ]
    },
    {
     "name": "stderr",
     "output_type": "stream",
     "text": [
      "[2024-04-16 17:58:06][WAR][dtlpy:v1.72.7][entities.item:113] Item has been fetched from a dataset that is not belong to it\n"
     ]
    },
    {
     "name": "stdout",
     "output_type": "stream",
     "text": [
      "Command Progress: 100%|██████████| 100/100 [00:03<00:00, 25.97it/s]\n"
     ]
    },
    {
     "name": "stderr",
     "output_type": "stream",
     "text": [
      "[2024-04-16 17:58:17][WAR][dtlpy:v1.72.7][entities.item:113] Item has been fetched from a dataset that is not belong to it\n"
     ]
    },
    {
     "name": "stdout",
     "output_type": "stream",
     "text": [
      "Command Progress: 100%|██████████| 100/100 [00:03<00:00, 26.97it/s]\n"
     ]
    },
    {
     "name": "stderr",
     "output_type": "stream",
     "text": [
      "[2024-04-16 17:58:23][WAR][dtlpy:v1.72.7][entities.item:113] Item has been fetched from a dataset that is not belong to it\n"
     ]
    },
    {
     "name": "stdout",
     "output_type": "stream",
     "text": [
      "Command Progress: 100%|██████████| 100/100 [00:03<00:00, 26.56it/s]\n"
     ]
    },
    {
     "name": "stderr",
     "output_type": "stream",
     "text": [
      "[2024-04-16 17:58:29][WAR][dtlpy:v1.72.7][entities.item:113] Item has been fetched from a dataset that is not belong to it\n"
     ]
    },
    {
     "name": "stdout",
     "output_type": "stream",
     "text": [
      "Command Progress: 100%|██████████| 100/100 [00:03<00:00, 26.35it/s]\n"
     ]
    },
    {
     "name": "stderr",
     "output_type": "stream",
     "text": [
      "[2024-04-16 17:58:35][WAR][dtlpy:v1.72.7][entities.item:113] Item has been fetched from a dataset that is not belong to it\n"
     ]
    },
    {
     "name": "stdout",
     "output_type": "stream",
     "text": [
      "Command Progress: 100%|██████████| 100/100 [00:07<00:00, 14.21it/s]\n"
     ]
    },
    {
     "name": "stderr",
     "output_type": "stream",
     "text": [
      "[2024-04-16 17:58:44][WAR][dtlpy:v1.72.7][entities.item:113] Item has been fetched from a dataset that is not belong to it\n"
     ]
    },
    {
     "name": "stdout",
     "output_type": "stream",
     "text": [
      "Command Progress: 100%|██████████| 100/100 [00:03<00:00, 26.79it/s]\n"
     ]
    },
    {
     "name": "stderr",
     "output_type": "stream",
     "text": [
      "[2024-04-16 17:58:55][WAR][dtlpy:v1.72.7][entities.item:113] Item has been fetched from a dataset that is not belong to it\n"
     ]
    },
    {
     "name": "stdout",
     "output_type": "stream",
     "text": [
      "Command Progress: 100%|██████████| 100/100 [00:03<00:00, 25.89it/s]\n"
     ]
    },
    {
     "name": "stderr",
     "output_type": "stream",
     "text": [
      "[2024-04-16 17:59:13][WAR][dtlpy:v1.72.7][entities.item:113] Item has been fetched from a dataset that is not belong to it\n"
     ]
    },
    {
     "name": "stdout",
     "output_type": "stream",
     "text": [
      "Command Progress: 100%|██████████| 100/100 [00:03<00:00, 26.33it/s]\n"
     ]
    },
    {
     "name": "stderr",
     "output_type": "stream",
     "text": [
      "[2024-04-16 17:59:22][WAR][dtlpy:v1.72.7][entities.item:113] Item has been fetched from a dataset that is not belong to it\n"
     ]
    },
    {
     "name": "stdout",
     "output_type": "stream",
     "text": [
      "Command Progress: 100%|██████████| 100/100 [00:03<00:00, 26.94it/s]\n"
     ]
    },
    {
     "name": "stderr",
     "output_type": "stream",
     "text": [
      "[2024-04-16 17:59:29][WAR][dtlpy:v1.72.7][entities.item:113] Item has been fetched from a dataset that is not belong to it\n"
     ]
    },
    {
     "name": "stdout",
     "output_type": "stream",
     "text": [
      "Command Progress: 100%|██████████| 100/100 [00:03<00:00, 31.14it/s]"
     ]
    },
    {
     "name": "stderr",
     "output_type": "stream",
     "text": [
      "[2024-04-16 17:59:35][WAR][dtlpy:v1.72.7][entities.item:113] Item has been fetched from a dataset that is not belong to it\n"
     ]
    },
    {
     "name": "stdout",
     "output_type": "stream",
     "text": [
      "\n",
      "Command Progress: 100%|██████████| 100/100 [00:04<00:00, 22.47it/s]\n"
     ]
    },
    {
     "name": "stderr",
     "output_type": "stream",
     "text": [
      "[2024-04-16 17:59:49][WAR][dtlpy:v1.72.7][entities.item:113] Item has been fetched from a dataset that is not belong to it\n"
     ]
    },
    {
     "name": "stdout",
     "output_type": "stream",
     "text": [
      "Command Progress: 100%|██████████| 100/100 [00:03<00:00, 26.52it/s]\n"
     ]
    },
    {
     "name": "stderr",
     "output_type": "stream",
     "text": [
      "[2024-04-16 17:59:54][WAR][dtlpy:v1.72.7][entities.item:113] Item has been fetched from a dataset that is not belong to it\n"
     ]
    },
    {
     "name": "stdout",
     "output_type": "stream",
     "text": [
      "Command Progress: 100%|██████████| 100/100 [00:03<00:00, 25.68it/s]\n"
     ]
    },
    {
     "name": "stderr",
     "output_type": "stream",
     "text": [
      "[2024-04-16 17:59:59][WAR][dtlpy:v1.72.7][entities.item:113] Item has been fetched from a dataset that is not belong to it\n"
     ]
    },
    {
     "name": "stdout",
     "output_type": "stream",
     "text": [
      "Command Progress: 100%|██████████| 100/100 [00:02<00:00, 37.77it/s]\n"
     ]
    },
    {
     "name": "stderr",
     "output_type": "stream",
     "text": [
      "[2024-04-16 18:00:06][WAR][dtlpy:v1.72.7][entities.item:113] Item has been fetched from a dataset that is not belong to it\n"
     ]
    },
    {
     "name": "stdout",
     "output_type": "stream",
     "text": [
      "Command Progress: 100%|██████████| 100/100 [00:02<00:00, 34.06it/s]\n"
     ]
    },
    {
     "name": "stderr",
     "output_type": "stream",
     "text": [
      "[2024-04-16 18:00:13][WAR][dtlpy:v1.72.7][entities.item:113] Item has been fetched from a dataset that is not belong to it\n"
     ]
    },
    {
     "name": "stdout",
     "output_type": "stream",
     "text": [
      "Command Progress: 100%|██████████| 100/100 [00:03<00:00, 26.72it/s]\n"
     ]
    },
    {
     "name": "stderr",
     "output_type": "stream",
     "text": [
      "[2024-04-16 18:00:19][WAR][dtlpy:v1.72.7][entities.item:113] Item has been fetched from a dataset that is not belong to it\n"
     ]
    },
    {
     "name": "stdout",
     "output_type": "stream",
     "text": [
      "Command Progress: 100%|██████████| 100/100 [00:03<00:00, 25.70it/s]\n"
     ]
    },
    {
     "name": "stderr",
     "output_type": "stream",
     "text": [
      "[2024-04-16 18:00:25][WAR][dtlpy:v1.72.7][entities.item:113] Item has been fetched from a dataset that is not belong to it\n"
     ]
    },
    {
     "name": "stdout",
     "output_type": "stream",
     "text": [
      "Command Progress: 100%|██████████| 100/100 [00:03<00:00, 25.37it/s]\n"
     ]
    },
    {
     "name": "stderr",
     "output_type": "stream",
     "text": [
      "[2024-04-16 18:00:30][WAR][dtlpy:v1.72.7][entities.item:113] Item has been fetched from a dataset that is not belong to it\n"
     ]
    },
    {
     "name": "stdout",
     "output_type": "stream",
     "text": [
      "Command Progress: 100%|██████████| 100/100 [00:03<00:00, 25.91it/s]\n"
     ]
    },
    {
     "name": "stderr",
     "output_type": "stream",
     "text": [
      "[2024-04-16 18:00:37][WAR][dtlpy:v1.72.7][entities.item:113] Item has been fetched from a dataset that is not belong to it\n"
     ]
    },
    {
     "name": "stdout",
     "output_type": "stream",
     "text": [
      "Command Progress: 100%|██████████| 100/100 [00:04<00:00, 24.20it/s]\n"
     ]
    },
    {
     "name": "stderr",
     "output_type": "stream",
     "text": [
      "[2024-04-16 18:00:42][WAR][dtlpy:v1.72.7][entities.item:113] Item has been fetched from a dataset that is not belong to it\n"
     ]
    },
    {
     "name": "stdout",
     "output_type": "stream",
     "text": [
      "Command Progress: 100%|██████████| 100/100 [00:03<00:00, 26.12it/s]\n"
     ]
    },
    {
     "name": "stderr",
     "output_type": "stream",
     "text": [
      "[2024-04-16 18:00:47][WAR][dtlpy:v1.72.7][entities.item:113] Item has been fetched from a dataset that is not belong to it\n"
     ]
    },
    {
     "name": "stdout",
     "output_type": "stream",
     "text": [
      "Command Progress: 100%|██████████| 100/100 [00:07<00:00, 13.88it/s]\n"
     ]
    },
    {
     "name": "stderr",
     "output_type": "stream",
     "text": [
      "[2024-04-16 18:00:56][WAR][dtlpy:v1.72.7][entities.item:113] Item has been fetched from a dataset that is not belong to it\n"
     ]
    },
    {
     "name": "stdout",
     "output_type": "stream",
     "text": [
      "Command Progress: 100%|██████████| 100/100 [00:03<00:00, 26.82it/s]\n"
     ]
    },
    {
     "name": "stderr",
     "output_type": "stream",
     "text": [
      "[2024-04-16 18:01:02][WAR][dtlpy:v1.72.7][entities.item:113] Item has been fetched from a dataset that is not belong to it\n"
     ]
    },
    {
     "name": "stdout",
     "output_type": "stream",
     "text": [
      "Command Progress: 100%|██████████| 100/100 [00:02<00:00, 44.24it/s]\n"
     ]
    },
    {
     "name": "stderr",
     "output_type": "stream",
     "text": [
      "[2024-04-16 18:01:07][WAR][dtlpy:v1.72.7][entities.item:113] Item has been fetched from a dataset that is not belong to it\n"
     ]
    },
    {
     "name": "stdout",
     "output_type": "stream",
     "text": [
      "Command Progress: 100%|██████████| 100/100 [00:03<00:00, 25.46it/s]"
     ]
    },
    {
     "name": "stderr",
     "output_type": "stream",
     "text": [
      "[2024-04-16 18:01:12][WAR][dtlpy:v1.72.7][entities.item:113] Item has been fetched from a dataset that is not belong to it\n"
     ]
    },
    {
     "name": "stdout",
     "output_type": "stream",
     "text": [
      "\n",
      "Command Progress: 100%|██████████| 100/100 [00:03<00:00, 25.50it/s]"
     ]
    },
    {
     "name": "stderr",
     "output_type": "stream",
     "text": [
      "[2024-04-16 18:01:17][WAR][dtlpy:v1.72.7][entities.item:113] Item has been fetched from a dataset that is not belong to it\n"
     ]
    },
    {
     "name": "stdout",
     "output_type": "stream",
     "text": [
      "\n",
      "Command Progress: 100%|██████████| 100/100 [00:03<00:00, 26.65it/s]\n"
     ]
    },
    {
     "name": "stderr",
     "output_type": "stream",
     "text": [
      "[2024-04-16 18:01:22][WAR][dtlpy:v1.72.7][entities.item:113] Item has been fetched from a dataset that is not belong to it\n"
     ]
    },
    {
     "name": "stdout",
     "output_type": "stream",
     "text": [
      "Command Progress: 100%|██████████| 100/100 [00:02<00:00, 49.17it/s]"
     ]
    },
    {
     "name": "stderr",
     "output_type": "stream",
     "text": [
      "[2024-04-16 18:01:24][WAR][dtlpy:v1.72.7][entities.item:113] Item has been fetched from a dataset that is not belong to it\n"
     ]
    },
    {
     "name": "stdout",
     "output_type": "stream",
     "text": [
      "\n",
      "Command Progress: 100%|██████████| 100/100 [00:02<00:00, 44.42it/s]\n"
     ]
    },
    {
     "name": "stderr",
     "output_type": "stream",
     "text": [
      "[2024-04-16 18:01:28][WAR][dtlpy:v1.72.7][entities.item:113] Item has been fetched from a dataset that is not belong to it\n"
     ]
    },
    {
     "name": "stdout",
     "output_type": "stream",
     "text": [
      "Command Progress: 100%|██████████| 100/100 [00:02<00:00, 45.86it/s]\n"
     ]
    },
    {
     "name": "stderr",
     "output_type": "stream",
     "text": [
      "[2024-04-16 18:01:32][WAR][dtlpy:v1.72.7][entities.item:113] Item has been fetched from a dataset that is not belong to it\n"
     ]
    },
    {
     "name": "stdout",
     "output_type": "stream",
     "text": [
      "Command Progress: 100%|██████████| 100/100 [00:03<00:00, 26.75it/s]\n"
     ]
    },
    {
     "name": "stderr",
     "output_type": "stream",
     "text": [
      "[2024-04-16 18:01:36][WAR][dtlpy:v1.72.7][entities.item:113] Item has been fetched from a dataset that is not belong to it\n"
     ]
    },
    {
     "name": "stdout",
     "output_type": "stream",
     "text": [
      "Command Progress: 100%|██████████| 100/100 [00:02<00:00, 45.42it/s]\n"
     ]
    },
    {
     "name": "stderr",
     "output_type": "stream",
     "text": [
      "[2024-04-16 18:01:40][WAR][dtlpy:v1.72.7][entities.item:113] Item has been fetched from a dataset that is not belong to it\n"
     ]
    },
    {
     "name": "stdout",
     "output_type": "stream",
     "text": [
      "Command Progress: 100%|██████████| 100/100 [00:02<00:00, 47.70it/s]\n"
     ]
    },
    {
     "name": "stderr",
     "output_type": "stream",
     "text": [
      "[2024-04-16 18:01:43][WAR][dtlpy:v1.72.7][entities.item:113] Item has been fetched from a dataset that is not belong to it\n"
     ]
    },
    {
     "name": "stdout",
     "output_type": "stream",
     "text": [
      "Command Progress: 100%|██████████| 100/100 [00:02<00:00, 45.45it/s]\n"
     ]
    },
    {
     "name": "stderr",
     "output_type": "stream",
     "text": [
      "[2024-04-16 18:01:46][WAR][dtlpy:v1.72.7][entities.item:113] Item has been fetched from a dataset that is not belong to it\n"
     ]
    },
    {
     "name": "stdout",
     "output_type": "stream",
     "text": [
      "Command Progress: 100%|██████████| 100/100 [00:03<00:00, 26.94it/s]\n"
     ]
    },
    {
     "name": "stderr",
     "output_type": "stream",
     "text": [
      "[2024-04-16 18:01:51][WAR][dtlpy:v1.72.7][entities.item:113] Item has been fetched from a dataset that is not belong to it\n"
     ]
    },
    {
     "name": "stdout",
     "output_type": "stream",
     "text": [
      "Command Progress: 100%|██████████| 100/100 [00:02<00:00, 48.38it/s]\n"
     ]
    },
    {
     "name": "stderr",
     "output_type": "stream",
     "text": [
      "[2024-04-16 18:01:54][WAR][dtlpy:v1.72.7][entities.item:113] Item has been fetched from a dataset that is not belong to it\n"
     ]
    },
    {
     "name": "stdout",
     "output_type": "stream",
     "text": [
      "Command Progress: 100%|██████████| 100/100 [00:02<00:00, 45.15it/s]\n"
     ]
    },
    {
     "name": "stderr",
     "output_type": "stream",
     "text": [
      "[2024-04-16 18:01:57][WAR][dtlpy:v1.72.7][entities.item:113] Item has been fetched from a dataset that is not belong to it\n"
     ]
    },
    {
     "name": "stdout",
     "output_type": "stream",
     "text": [
      "Command Progress: 100%|██████████| 100/100 [00:03<00:00, 26.34it/s]\n"
     ]
    },
    {
     "name": "stderr",
     "output_type": "stream",
     "text": [
      "[2024-04-16 18:02:02][WAR][dtlpy:v1.72.7][entities.item:113] Item has been fetched from a dataset that is not belong to it\n"
     ]
    },
    {
     "name": "stdout",
     "output_type": "stream",
     "text": [
      "Command Progress: 100%|██████████| 100/100 [00:03<00:00, 25.08it/s]\n"
     ]
    },
    {
     "name": "stderr",
     "output_type": "stream",
     "text": [
      "[2024-04-16 18:02:08][WAR][dtlpy:v1.72.7][entities.item:113] Item has been fetched from a dataset that is not belong to it\n"
     ]
    },
    {
     "name": "stdout",
     "output_type": "stream",
     "text": [
      "Command Progress: 100%|██████████| 100/100 [00:03<00:00, 26.92it/s]\n"
     ]
    },
    {
     "name": "stderr",
     "output_type": "stream",
     "text": [
      "[2024-04-16 18:02:14][WAR][dtlpy:v1.72.7][entities.item:113] Item has been fetched from a dataset that is not belong to it\n"
     ]
    },
    {
     "name": "stdout",
     "output_type": "stream",
     "text": [
      "Command Progress: 100%|██████████| 100/100 [00:04<00:00, 23.70it/s]\n"
     ]
    },
    {
     "name": "stderr",
     "output_type": "stream",
     "text": [
      "[2024-04-16 18:02:20][WAR][dtlpy:v1.72.7][entities.item:113] Item has been fetched from a dataset that is not belong to it\n"
     ]
    },
    {
     "name": "stdout",
     "output_type": "stream",
     "text": [
      "Command Progress: 100%|██████████| 100/100 [00:03<00:00, 26.72it/s]\n"
     ]
    },
    {
     "name": "stderr",
     "output_type": "stream",
     "text": [
      "[2024-04-16 18:02:26][WAR][dtlpy:v1.72.7][entities.item:113] Item has been fetched from a dataset that is not belong to it\n"
     ]
    },
    {
     "name": "stdout",
     "output_type": "stream",
     "text": [
      "Command Progress: 100%|██████████| 100/100 [00:03<00:00, 26.29it/s]\n"
     ]
    },
    {
     "name": "stderr",
     "output_type": "stream",
     "text": [
      "[2024-04-16 18:02:33][WAR][dtlpy:v1.72.7][entities.item:113] Item has been fetched from a dataset that is not belong to it\n"
     ]
    },
    {
     "name": "stdout",
     "output_type": "stream",
     "text": [
      "Command Progress: 100%|██████████| 100/100 [00:04<00:00, 24.92it/s]\n"
     ]
    },
    {
     "name": "stderr",
     "output_type": "stream",
     "text": [
      "[2024-04-16 18:02:40][WAR][dtlpy:v1.72.7][entities.item:113] Item has been fetched from a dataset that is not belong to it\n"
     ]
    },
    {
     "name": "stdout",
     "output_type": "stream",
     "text": [
      "Command Progress: 100%|██████████| 100/100 [00:03<00:00, 26.70it/s]\n"
     ]
    },
    {
     "name": "stderr",
     "output_type": "stream",
     "text": [
      "[2024-04-16 18:02:46][WAR][dtlpy:v1.72.7][entities.item:113] Item has been fetched from a dataset that is not belong to it\n"
     ]
    },
    {
     "name": "stdout",
     "output_type": "stream",
     "text": [
      "Command Progress: 100%|██████████| 100/100 [00:02<00:00, 48.05it/s]\n"
     ]
    },
    {
     "name": "stderr",
     "output_type": "stream",
     "text": [
      "[2024-04-16 18:02:51][WAR][dtlpy:v1.72.7][entities.item:113] Item has been fetched from a dataset that is not belong to it\n"
     ]
    },
    {
     "name": "stdout",
     "output_type": "stream",
     "text": [
      "Command Progress: 100%|██████████| 100/100 [00:03<00:00, 26.42it/s]\n"
     ]
    },
    {
     "name": "stderr",
     "output_type": "stream",
     "text": [
      "[2024-04-16 18:02:57][WAR][dtlpy:v1.72.7][entities.item:113] Item has been fetched from a dataset that is not belong to it\n"
     ]
    },
    {
     "name": "stdout",
     "output_type": "stream",
     "text": [
      "Command Progress: 100%|██████████| 100/100 [00:03<00:00, 26.39it/s]\n"
     ]
    },
    {
     "name": "stderr",
     "output_type": "stream",
     "text": [
      "[2024-04-16 18:03:08][WAR][dtlpy:v1.72.7][entities.item:113] Item has been fetched from a dataset that is not belong to it\n"
     ]
    },
    {
     "name": "stdout",
     "output_type": "stream",
     "text": [
      "Command Progress: 100%|██████████| 100/100 [00:03<00:00, 25.07it/s]\n"
     ]
    },
    {
     "name": "stderr",
     "output_type": "stream",
     "text": [
      "[2024-04-16 18:03:16][WAR][dtlpy:v1.72.7][entities.item:113] Item has been fetched from a dataset that is not belong to it\n"
     ]
    },
    {
     "name": "stdout",
     "output_type": "stream",
     "text": [
      "Command Progress: 100%|██████████| 100/100 [00:07<00:00, 14.04it/s]\n"
     ]
    },
    {
     "name": "stderr",
     "output_type": "stream",
     "text": [
      "[2024-04-16 18:03:28][WAR][dtlpy:v1.72.7][entities.item:113] Item has been fetched from a dataset that is not belong to it\n"
     ]
    },
    {
     "name": "stdout",
     "output_type": "stream",
     "text": [
      "Command Progress: 100%|██████████| 100/100 [00:04<00:00, 24.17it/s]\n"
     ]
    },
    {
     "name": "stderr",
     "output_type": "stream",
     "text": [
      "[2024-04-16 18:03:39][WAR][dtlpy:v1.72.7][entities.item:113] Item has been fetched from a dataset that is not belong to it\n"
     ]
    },
    {
     "name": "stdout",
     "output_type": "stream",
     "text": [
      "Command Progress: 100%|██████████| 100/100 [00:03<00:00, 26.40it/s]\n"
     ]
    },
    {
     "name": "stderr",
     "output_type": "stream",
     "text": [
      "[2024-04-16 18:03:47][WAR][dtlpy:v1.72.7][entities.item:113] Item has been fetched from a dataset that is not belong to it\n"
     ]
    },
    {
     "name": "stdout",
     "output_type": "stream",
     "text": [
      "Command Progress: 100%|██████████| 100/100 [00:04<00:00, 23.19it/s]\n"
     ]
    },
    {
     "name": "stderr",
     "output_type": "stream",
     "text": [
      "[2024-04-16 18:03:55][WAR][dtlpy:v1.72.7][entities.item:113] Item has been fetched from a dataset that is not belong to it\n"
     ]
    },
    {
     "name": "stdout",
     "output_type": "stream",
     "text": [
      "Command Progress: 100%|██████████| 100/100 [00:03<00:00, 25.58it/s]\n"
     ]
    },
    {
     "name": "stderr",
     "output_type": "stream",
     "text": [
      "[2024-04-16 18:04:07][WAR][dtlpy:v1.72.7][entities.item:113] Item has been fetched from a dataset that is not belong to it\n"
     ]
    },
    {
     "name": "stdout",
     "output_type": "stream",
     "text": [
      "Command Progress: 100%|██████████| 100/100 [00:03<00:00, 26.66it/s]\n"
     ]
    },
    {
     "name": "stderr",
     "output_type": "stream",
     "text": [
      "[2024-04-16 18:04:15][WAR][dtlpy:v1.72.7][entities.item:113] Item has been fetched from a dataset that is not belong to it\n"
     ]
    },
    {
     "name": "stdout",
     "output_type": "stream",
     "text": [
      "Command Progress: 100%|██████████| 100/100 [00:04<00:00, 24.77it/s]\n"
     ]
    },
    {
     "name": "stderr",
     "output_type": "stream",
     "text": [
      "[2024-04-16 18:04:22][WAR][dtlpy:v1.72.7][entities.item:113] Item has been fetched from a dataset that is not belong to it\n"
     ]
    },
    {
     "name": "stdout",
     "output_type": "stream",
     "text": [
      "Command Progress: 100%|██████████| 100/100 [00:03<00:00, 26.87it/s]\n"
     ]
    },
    {
     "name": "stderr",
     "output_type": "stream",
     "text": [
      "[2024-04-16 18:04:30][WAR][dtlpy:v1.72.7][entities.item:113] Item has been fetched from a dataset that is not belong to it\n"
     ]
    },
    {
     "name": "stdout",
     "output_type": "stream",
     "text": [
      "Command Progress: 100%|██████████| 100/100 [00:04<00:00, 20.90it/s]\n"
     ]
    },
    {
     "name": "stderr",
     "output_type": "stream",
     "text": [
      "[2024-04-16 18:04:39][WAR][dtlpy:v1.72.7][entities.item:113] Item has been fetched from a dataset that is not belong to it\n"
     ]
    },
    {
     "name": "stdout",
     "output_type": "stream",
     "text": [
      "Command Progress: 100%|██████████| 100/100 [00:04<00:00, 23.12it/s]\n"
     ]
    },
    {
     "name": "stderr",
     "output_type": "stream",
     "text": [
      "[2024-04-16 18:04:47][WAR][dtlpy:v1.72.7][entities.item:113] Item has been fetched from a dataset that is not belong to it\n"
     ]
    },
    {
     "name": "stdout",
     "output_type": "stream",
     "text": [
      "Command Progress: 100%|██████████| 100/100 [00:03<00:00, 26.57it/s]\n"
     ]
    },
    {
     "name": "stderr",
     "output_type": "stream",
     "text": [
      "[2024-04-16 18:04:54][WAR][dtlpy:v1.72.7][entities.item:113] Item has been fetched from a dataset that is not belong to it\n"
     ]
    },
    {
     "name": "stdout",
     "output_type": "stream",
     "text": [
      "Command Progress: 100%|██████████| 100/100 [00:03<00:00, 25.52it/s]\n"
     ]
    },
    {
     "name": "stderr",
     "output_type": "stream",
     "text": [
      "[2024-04-16 18:05:00][WAR][dtlpy:v1.72.7][entities.item:113] Item has been fetched from a dataset that is not belong to it\n"
     ]
    },
    {
     "name": "stdout",
     "output_type": "stream",
     "text": [
      "Command Progress: 100%|██████████| 100/100 [00:03<00:00, 26.59it/s]\n"
     ]
    },
    {
     "name": "stderr",
     "output_type": "stream",
     "text": [
      "[2024-04-16 18:05:07][WAR][dtlpy:v1.72.7][entities.item:113] Item has been fetched from a dataset that is not belong to it\n"
     ]
    },
    {
     "name": "stdout",
     "output_type": "stream",
     "text": [
      "Command Progress: 100%|██████████| 100/100 [00:03<00:00, 26.92it/s]\n"
     ]
    },
    {
     "name": "stderr",
     "output_type": "stream",
     "text": [
      "[2024-04-16 18:05:16][WAR][dtlpy:v1.72.7][entities.item:113] Item has been fetched from a dataset that is not belong to it\n"
     ]
    },
    {
     "name": "stdout",
     "output_type": "stream",
     "text": [
      "Command Progress: 100%|██████████| 100/100 [00:03<00:00, 26.11it/s]\n"
     ]
    },
    {
     "name": "stderr",
     "output_type": "stream",
     "text": [
      "[2024-04-16 18:05:23][WAR][dtlpy:v1.72.7][entities.item:113] Item has been fetched from a dataset that is not belong to it\n"
     ]
    },
    {
     "name": "stdout",
     "output_type": "stream",
     "text": [
      "Command Progress: 100%|██████████| 100/100 [00:04<00:00, 24.24it/s]\n"
     ]
    },
    {
     "name": "stderr",
     "output_type": "stream",
     "text": [
      "[2024-04-16 18:05:29][WAR][dtlpy:v1.72.7][entities.item:113] Item has been fetched from a dataset that is not belong to it\n"
     ]
    },
    {
     "name": "stdout",
     "output_type": "stream",
     "text": [
      "Command Progress: 100%|██████████| 100/100 [00:03<00:00, 26.48it/s]\n"
     ]
    },
    {
     "name": "stderr",
     "output_type": "stream",
     "text": [
      "[2024-04-16 18:05:36][WAR][dtlpy:v1.72.7][entities.item:113] Item has been fetched from a dataset that is not belong to it\n"
     ]
    },
    {
     "name": "stdout",
     "output_type": "stream",
     "text": [
      "Command Progress: 100%|██████████| 100/100 [00:03<00:00, 26.72it/s]\n"
     ]
    },
    {
     "name": "stderr",
     "output_type": "stream",
     "text": [
      "[2024-04-16 18:05:46][WAR][dtlpy:v1.72.7][entities.item:113] Item has been fetched from a dataset that is not belong to it\n"
     ]
    },
    {
     "name": "stdout",
     "output_type": "stream",
     "text": [
      "Command Progress: 100%|██████████| 100/100 [00:03<00:00, 25.08it/s]\n"
     ]
    },
    {
     "name": "stderr",
     "output_type": "stream",
     "text": [
      "[2024-04-16 18:05:53][WAR][dtlpy:v1.72.7][entities.item:113] Item has been fetched from a dataset that is not belong to it\n"
     ]
    },
    {
     "name": "stdout",
     "output_type": "stream",
     "text": [
      "Command Progress: 100%|██████████| 100/100 [00:03<00:00, 26.53it/s]\n"
     ]
    },
    {
     "name": "stderr",
     "output_type": "stream",
     "text": [
      "[2024-04-16 18:06:00][WAR][dtlpy:v1.72.7][entities.item:113] Item has been fetched from a dataset that is not belong to it\n"
     ]
    },
    {
     "name": "stdout",
     "output_type": "stream",
     "text": [
      "Command Progress: 100%|██████████| 100/100 [00:03<00:00, 26.44it/s]\n"
     ]
    },
    {
     "name": "stderr",
     "output_type": "stream",
     "text": [
      "[2024-04-16 18:06:10][WAR][dtlpy:v1.72.7][entities.item:113] Item has been fetched from a dataset that is not belong to it\n"
     ]
    },
    {
     "name": "stdout",
     "output_type": "stream",
     "text": [
      "Command Progress: 100%|██████████| 100/100 [00:07<00:00, 14.16it/s]\n"
     ]
    },
    {
     "name": "stderr",
     "output_type": "stream",
     "text": [
      "[2024-04-16 18:06:24][WAR][dtlpy:v1.72.7][entities.item:113] Item has been fetched from a dataset that is not belong to it\n"
     ]
    },
    {
     "name": "stdout",
     "output_type": "stream",
     "text": [
      "Command Progress: 100%|██████████| 100/100 [00:07<00:00, 12.84it/s]\n"
     ]
    },
    {
     "name": "stderr",
     "output_type": "stream",
     "text": [
      "[2024-04-16 18:06:34][WAR][dtlpy:v1.72.7][entities.item:113] Item has been fetched from a dataset that is not belong to it\n"
     ]
    },
    {
     "name": "stdout",
     "output_type": "stream",
     "text": [
      "Command Progress: 100%|██████████| 100/100 [00:07<00:00, 14.10it/s]\n"
     ]
    },
    {
     "name": "stderr",
     "output_type": "stream",
     "text": [
      "[2024-04-16 18:06:45][WAR][dtlpy:v1.72.7][entities.item:113] Item has been fetched from a dataset that is not belong to it\n"
     ]
    },
    {
     "name": "stdout",
     "output_type": "stream",
     "text": [
      "Command Progress: 100%|██████████| 100/100 [00:07<00:00, 14.13it/s]\n"
     ]
    },
    {
     "name": "stderr",
     "output_type": "stream",
     "text": [
      "[2024-04-16 18:06:57][WAR][dtlpy:v1.72.7][entities.item:113] Item has been fetched from a dataset that is not belong to it\n"
     ]
    },
    {
     "name": "stdout",
     "output_type": "stream",
     "text": [
      "Command Progress: 100%|██████████| 100/100 [00:07<00:00, 14.15it/s]\n"
     ]
    },
    {
     "name": "stderr",
     "output_type": "stream",
     "text": [
      "[2024-04-16 18:07:07][WAR][dtlpy:v1.72.7][entities.item:113] Item has been fetched from a dataset that is not belong to it\n"
     ]
    },
    {
     "name": "stdout",
     "output_type": "stream",
     "text": [
      "Command Progress: 100%|██████████| 100/100 [00:07<00:00, 14.00it/s]\n"
     ]
    },
    {
     "name": "stderr",
     "output_type": "stream",
     "text": [
      "[2024-04-16 18:07:26][WAR][dtlpy:v1.72.7][entities.item:113] Item has been fetched from a dataset that is not belong to it\n"
     ]
    },
    {
     "name": "stdout",
     "output_type": "stream",
     "text": [
      "Command Progress: 100%|██████████| 100/100 [00:07<00:00, 13.65it/s]\n"
     ]
    },
    {
     "name": "stderr",
     "output_type": "stream",
     "text": [
      "[2024-04-16 18:07:40][WAR][dtlpy:v1.72.7][entities.item:113] Item has been fetched from a dataset that is not belong to it\n"
     ]
    },
    {
     "name": "stdout",
     "output_type": "stream",
     "text": [
      "Command Progress: 100%|██████████| 100/100 [00:04<00:00, 23.34it/s]\n"
     ]
    },
    {
     "name": "stderr",
     "output_type": "stream",
     "text": [
      "[2024-04-16 18:07:49][WAR][dtlpy:v1.72.7][entities.item:113] Item has been fetched from a dataset that is not belong to it\n"
     ]
    },
    {
     "name": "stdout",
     "output_type": "stream",
     "text": [
      "Command Progress: 100%|██████████| 100/100 [00:04<00:00, 24.01it/s]\n"
     ]
    },
    {
     "name": "stderr",
     "output_type": "stream",
     "text": [
      "[2024-04-16 18:07:57][WAR][dtlpy:v1.72.7][entities.item:113] Item has been fetched from a dataset that is not belong to it\n"
     ]
    },
    {
     "name": "stdout",
     "output_type": "stream",
     "text": [
      "Command Progress: 100%|██████████| 100/100 [00:03<00:00, 26.84it/s]\n"
     ]
    },
    {
     "name": "stderr",
     "output_type": "stream",
     "text": [
      "[2024-04-16 18:08:04][WAR][dtlpy:v1.72.7][entities.item:113] Item has been fetched from a dataset that is not belong to it\n"
     ]
    },
    {
     "name": "stdout",
     "output_type": "stream",
     "text": [
      "Command Progress: 100%|██████████| 100/100 [00:04<00:00, 24.14it/s]\n"
     ]
    },
    {
     "name": "stderr",
     "output_type": "stream",
     "text": [
      "[2024-04-16 18:08:13][WAR][dtlpy:v1.72.7][entities.item:113] Item has been fetched from a dataset that is not belong to it\n"
     ]
    },
    {
     "name": "stdout",
     "output_type": "stream",
     "text": [
      "Command Progress: 100%|██████████| 100/100 [00:04<00:00, 24.99it/s]\n"
     ]
    },
    {
     "name": "stderr",
     "output_type": "stream",
     "text": [
      "[2024-04-16 18:08:20][WAR][dtlpy:v1.72.7][entities.item:113] Item has been fetched from a dataset that is not belong to it\n"
     ]
    },
    {
     "name": "stdout",
     "output_type": "stream",
     "text": [
      "Command Progress: 100%|██████████| 100/100 [00:04<00:00, 24.38it/s]\n"
     ]
    },
    {
     "name": "stderr",
     "output_type": "stream",
     "text": [
      "[2024-04-16 18:08:29][WAR][dtlpy:v1.72.7][entities.item:113] Item has been fetched from a dataset that is not belong to it\n"
     ]
    },
    {
     "name": "stdout",
     "output_type": "stream",
     "text": [
      "Command Progress: 100%|██████████| 100/100 [00:03<00:00, 26.68it/s]\n"
     ]
    },
    {
     "name": "stderr",
     "output_type": "stream",
     "text": [
      "[2024-04-16 18:08:35][WAR][dtlpy:v1.72.7][entities.item:113] Item has been fetched from a dataset that is not belong to it\n"
     ]
    },
    {
     "name": "stdout",
     "output_type": "stream",
     "text": [
      "Command Progress: 100%|██████████| 100/100 [00:07<00:00, 14.18it/s]\n"
     ]
    },
    {
     "name": "stderr",
     "output_type": "stream",
     "text": [
      "[2024-04-16 18:08:47][WAR][dtlpy:v1.72.7][entities.item:113] Item has been fetched from a dataset that is not belong to it\n"
     ]
    },
    {
     "name": "stdout",
     "output_type": "stream",
     "text": [
      "Command Progress: 100%|██████████| 100/100 [00:07<00:00, 14.15it/s]\n"
     ]
    },
    {
     "name": "stderr",
     "output_type": "stream",
     "text": [
      "[2024-04-16 18:08:59][WAR][dtlpy:v1.72.7][entities.item:113] Item has been fetched from a dataset that is not belong to it\n"
     ]
    },
    {
     "name": "stdout",
     "output_type": "stream",
     "text": [
      "Command Progress: 100%|██████████| 100/100 [00:04<00:00, 24.43it/s]\n"
     ]
    },
    {
     "name": "stderr",
     "output_type": "stream",
     "text": [
      "[2024-04-16 18:09:07][WAR][dtlpy:v1.72.7][entities.item:113] Item has been fetched from a dataset that is not belong to it\n"
     ]
    },
    {
     "name": "stdout",
     "output_type": "stream",
     "text": [
      "Command Progress: 100%|██████████| 100/100 [00:04<00:00, 21.48it/s]\n"
     ]
    },
    {
     "name": "stderr",
     "output_type": "stream",
     "text": [
      "[2024-04-16 18:09:16][WAR][dtlpy:v1.72.7][entities.item:113] Item has been fetched from a dataset that is not belong to it\n"
     ]
    },
    {
     "name": "stdout",
     "output_type": "stream",
     "text": [
      "Command Progress: 100%|██████████| 100/100 [00:03<00:00, 26.28it/s]\n"
     ]
    },
    {
     "name": "stderr",
     "output_type": "stream",
     "text": [
      "[2024-04-16 18:09:22][WAR][dtlpy:v1.72.7][entities.item:113] Item has been fetched from a dataset that is not belong to it\n"
     ]
    },
    {
     "name": "stdout",
     "output_type": "stream",
     "text": [
      "Command Progress: 100%|██████████| 100/100 [00:04<00:00, 23.56it/s]\n"
     ]
    },
    {
     "name": "stderr",
     "output_type": "stream",
     "text": [
      "[2024-04-16 18:09:32][WAR][dtlpy:v1.72.7][entities.item:113] Item has been fetched from a dataset that is not belong to it\n"
     ]
    },
    {
     "name": "stdout",
     "output_type": "stream",
     "text": [
      "Command Progress: 100%|██████████| 100/100 [00:04<00:00, 24.04it/s]\n"
     ]
    },
    {
     "name": "stderr",
     "output_type": "stream",
     "text": [
      "[2024-04-16 18:09:41][WAR][dtlpy:v1.72.7][entities.item:113] Item has been fetched from a dataset that is not belong to it\n"
     ]
    },
    {
     "name": "stdout",
     "output_type": "stream",
     "text": [
      "Command Progress: 100%|██████████| 100/100 [00:03<00:00, 25.46it/s]\n"
     ]
    },
    {
     "name": "stderr",
     "output_type": "stream",
     "text": [
      "[2024-04-16 18:09:49][WAR][dtlpy:v1.72.7][entities.item:113] Item has been fetched from a dataset that is not belong to it\n"
     ]
    },
    {
     "name": "stdout",
     "output_type": "stream",
     "text": [
      "Command Progress: 100%|██████████| 100/100 [00:03<00:00, 25.68it/s]\n"
     ]
    },
    {
     "name": "stderr",
     "output_type": "stream",
     "text": [
      "[2024-04-16 18:09:55][WAR][dtlpy:v1.72.7][entities.item:113] Item has been fetched from a dataset that is not belong to it\n"
     ]
    },
    {
     "name": "stdout",
     "output_type": "stream",
     "text": [
      "Command Progress: 100%|██████████| 100/100 [00:03<00:00, 26.52it/s]\n"
     ]
    },
    {
     "name": "stderr",
     "output_type": "stream",
     "text": [
      "[2024-04-16 18:10:02][WAR][dtlpy:v1.72.7][entities.item:113] Item has been fetched from a dataset that is not belong to it\n"
     ]
    },
    {
     "name": "stdout",
     "output_type": "stream",
     "text": [
      "Command Progress: 100%|██████████| 100/100 [00:04<00:00, 24.81it/s]\n"
     ]
    },
    {
     "name": "stderr",
     "output_type": "stream",
     "text": [
      "[2024-04-16 18:10:10][WAR][dtlpy:v1.72.7][entities.item:113] Item has been fetched from a dataset that is not belong to it\n"
     ]
    },
    {
     "name": "stdout",
     "output_type": "stream",
     "text": [
      "Command Progress: 100%|██████████| 100/100 [00:03<00:00, 26.61it/s]\n"
     ]
    },
    {
     "name": "stderr",
     "output_type": "stream",
     "text": [
      "[2024-04-16 18:10:18][WAR][dtlpy:v1.72.7][entities.item:113] Item has been fetched from a dataset that is not belong to it\n"
     ]
    },
    {
     "name": "stdout",
     "output_type": "stream",
     "text": [
      "Command Progress: 100%|██████████| 100/100 [00:04<00:00, 24.99it/s]\n"
     ]
    },
    {
     "name": "stderr",
     "output_type": "stream",
     "text": [
      "[2024-04-16 18:10:25][WAR][dtlpy:v1.72.7][entities.item:113] Item has been fetched from a dataset that is not belong to it\n"
     ]
    },
    {
     "name": "stdout",
     "output_type": "stream",
     "text": [
      "Command Progress: 100%|██████████| 100/100 [00:03<00:00, 25.48it/s]\n"
     ]
    },
    {
     "name": "stderr",
     "output_type": "stream",
     "text": [
      "[2024-04-16 18:10:33][WAR][dtlpy:v1.72.7][entities.item:113] Item has been fetched from a dataset that is not belong to it\n"
     ]
    },
    {
     "name": "stdout",
     "output_type": "stream",
     "text": [
      "Command Progress: 100%|██████████| 100/100 [00:03<00:00, 25.04it/s]\n"
     ]
    },
    {
     "name": "stderr",
     "output_type": "stream",
     "text": [
      "[2024-04-16 18:10:41][WAR][dtlpy:v1.72.7][entities.item:113] Item has been fetched from a dataset that is not belong to it\n"
     ]
    },
    {
     "name": "stdout",
     "output_type": "stream",
     "text": [
      "Command Progress: 100%|██████████| 100/100 [00:03<00:00, 25.67it/s]\n"
     ]
    },
    {
     "name": "stderr",
     "output_type": "stream",
     "text": [
      "[2024-04-16 18:10:48][WAR][dtlpy:v1.72.7][entities.item:113] Item has been fetched from a dataset that is not belong to it\n"
     ]
    },
    {
     "name": "stdout",
     "output_type": "stream",
     "text": [
      "Command Progress: 100%|██████████| 100/100 [00:03<00:00, 26.86it/s]\n"
     ]
    },
    {
     "name": "stderr",
     "output_type": "stream",
     "text": [
      "[2024-04-16 18:10:57][WAR][dtlpy:v1.72.7][entities.item:113] Item has been fetched from a dataset that is not belong to it\n"
     ]
    },
    {
     "name": "stdout",
     "output_type": "stream",
     "text": [
      "Command Progress: 100%|██████████| 100/100 [00:07<00:00, 14.15it/s]\n"
     ]
    },
    {
     "name": "stderr",
     "output_type": "stream",
     "text": [
      "[2024-04-16 18:11:06][WAR][dtlpy:v1.72.7][entities.item:113] Item has been fetched from a dataset that is not belong to it\n"
     ]
    },
    {
     "name": "stdout",
     "output_type": "stream",
     "text": [
      "Command Progress: 100%|██████████| 100/100 [00:03<00:00, 25.95it/s]\n"
     ]
    },
    {
     "name": "stderr",
     "output_type": "stream",
     "text": [
      "[2024-04-16 18:11:15][WAR][dtlpy:v1.72.7][entities.item:113] Item has been fetched from a dataset that is not belong to it\n"
     ]
    },
    {
     "name": "stdout",
     "output_type": "stream",
     "text": [
      "Command Progress: 100%|██████████| 100/100 [00:03<00:00, 26.49it/s]\n"
     ]
    },
    {
     "name": "stderr",
     "output_type": "stream",
     "text": [
      "[2024-04-16 18:11:21][WAR][dtlpy:v1.72.7][entities.item:113] Item has been fetched from a dataset that is not belong to it\n"
     ]
    },
    {
     "name": "stdout",
     "output_type": "stream",
     "text": [
      "Command Progress: 100%|██████████| 100/100 [00:04<00:00, 23.00it/s]\n"
     ]
    },
    {
     "name": "stderr",
     "output_type": "stream",
     "text": [
      "[2024-04-16 18:11:29][WAR][dtlpy:v1.72.7][entities.item:113] Item has been fetched from a dataset that is not belong to it\n"
     ]
    },
    {
     "name": "stdout",
     "output_type": "stream",
     "text": [
      "Command Progress: 100%|██████████| 100/100 [00:03<00:00, 26.57it/s]\n"
     ]
    },
    {
     "name": "stderr",
     "output_type": "stream",
     "text": [
      "[2024-04-16 18:11:35][WAR][dtlpy:v1.72.7][entities.item:113] Item has been fetched from a dataset that is not belong to it\n"
     ]
    },
    {
     "name": "stdout",
     "output_type": "stream",
     "text": [
      "Command Progress: 100%|██████████| 100/100 [00:03<00:00, 25.62it/s]\n"
     ]
    },
    {
     "name": "stderr",
     "output_type": "stream",
     "text": [
      "[2024-04-16 18:11:43][WAR][dtlpy:v1.72.7][entities.item:113] Item has been fetched from a dataset that is not belong to it\n"
     ]
    },
    {
     "name": "stdout",
     "output_type": "stream",
     "text": [
      "Command Progress: 100%|██████████| 100/100 [00:03<00:00, 26.66it/s]\n"
     ]
    },
    {
     "name": "stderr",
     "output_type": "stream",
     "text": [
      "[2024-04-16 18:11:51][WAR][dtlpy:v1.72.7][entities.item:113] Item has been fetched from a dataset that is not belong to it\n"
     ]
    },
    {
     "name": "stdout",
     "output_type": "stream",
     "text": [
      "Command Progress: 100%|██████████| 100/100 [00:03<00:00, 26.27it/s]\n"
     ]
    },
    {
     "name": "stderr",
     "output_type": "stream",
     "text": [
      "[2024-04-16 18:12:00][WAR][dtlpy:v1.72.7][entities.item:113] Item has been fetched from a dataset that is not belong to it\n"
     ]
    },
    {
     "name": "stdout",
     "output_type": "stream",
     "text": [
      "Command Progress: 100%|██████████| 100/100 [00:07<00:00, 14.00it/s]\n"
     ]
    },
    {
     "name": "stderr",
     "output_type": "stream",
     "text": [
      "[2024-04-16 18:12:10][WAR][dtlpy:v1.72.7][entities.item:113] Item has been fetched from a dataset that is not belong to it\n"
     ]
    },
    {
     "name": "stdout",
     "output_type": "stream",
     "text": [
      "Command Progress: 100%|██████████| 100/100 [00:03<00:00, 26.76it/s]\n"
     ]
    },
    {
     "name": "stderr",
     "output_type": "stream",
     "text": [
      "[2024-04-16 18:12:15][WAR][dtlpy:v1.72.7][entities.item:113] Item has been fetched from a dataset that is not belong to it\n"
     ]
    },
    {
     "name": "stdout",
     "output_type": "stream",
     "text": [
      "Command Progress: 100%|██████████| 100/100 [00:03<00:00, 26.12it/s]\n"
     ]
    },
    {
     "name": "stderr",
     "output_type": "stream",
     "text": [
      "[2024-04-16 18:12:23][WAR][dtlpy:v1.72.7][entities.item:113] Item has been fetched from a dataset that is not belong to it\n"
     ]
    },
    {
     "name": "stdout",
     "output_type": "stream",
     "text": [
      "Command Progress: 100%|██████████| 100/100 [00:03<00:00, 26.39it/s]\n"
     ]
    },
    {
     "name": "stderr",
     "output_type": "stream",
     "text": [
      "[2024-04-16 18:12:30][WAR][dtlpy:v1.72.7][entities.item:113] Item has been fetched from a dataset that is not belong to it\n"
     ]
    },
    {
     "name": "stdout",
     "output_type": "stream",
     "text": [
      "Command Progress: 100%|██████████| 100/100 [00:03<00:00, 26.90it/s]\n"
     ]
    },
    {
     "name": "stderr",
     "output_type": "stream",
     "text": [
      "[2024-04-16 18:12:36][WAR][dtlpy:v1.72.7][entities.item:113] Item has been fetched from a dataset that is not belong to it\n"
     ]
    },
    {
     "name": "stdout",
     "output_type": "stream",
     "text": [
      "Command Progress: 100%|██████████| 100/100 [00:04<00:00, 24.65it/s]\n"
     ]
    },
    {
     "name": "stderr",
     "output_type": "stream",
     "text": [
      "[2024-04-16 18:12:45][WAR][dtlpy:v1.72.7][entities.item:113] Item has been fetched from a dataset that is not belong to it\n"
     ]
    },
    {
     "name": "stdout",
     "output_type": "stream",
     "text": [
      "Command Progress: 100%|██████████| 100/100 [00:04<00:00, 24.89it/s]\n"
     ]
    },
    {
     "name": "stderr",
     "output_type": "stream",
     "text": [
      "[2024-04-16 18:12:52][WAR][dtlpy:v1.72.7][entities.item:113] Item has been fetched from a dataset that is not belong to it\n"
     ]
    },
    {
     "name": "stdout",
     "output_type": "stream",
     "text": [
      "Command Progress: 100%|██████████| 100/100 [00:03<00:00, 26.07it/s]\n"
     ]
    },
    {
     "name": "stderr",
     "output_type": "stream",
     "text": [
      "[2024-04-16 18:12:58][WAR][dtlpy:v1.72.7][entities.item:113] Item has been fetched from a dataset that is not belong to it\n"
     ]
    },
    {
     "name": "stdout",
     "output_type": "stream",
     "text": [
      "Command Progress: 100%|██████████| 100/100 [00:07<00:00, 13.84it/s]\n"
     ]
    },
    {
     "name": "stderr",
     "output_type": "stream",
     "text": [
      "[2024-04-16 18:13:08][WAR][dtlpy:v1.72.7][entities.item:113] Item has been fetched from a dataset that is not belong to it\n"
     ]
    },
    {
     "name": "stdout",
     "output_type": "stream",
     "text": [
      "Command Progress: 100%|██████████| 100/100 [00:03<00:00, 25.94it/s]"
     ]
    },
    {
     "name": "stderr",
     "output_type": "stream",
     "text": [
      "[2024-04-16 18:13:22][WAR][dtlpy:v1.72.7][entities.item:113] Item has been fetched from a dataset that is not belong to it\n"
     ]
    },
    {
     "name": "stdout",
     "output_type": "stream",
     "text": [
      "\n",
      "Command Progress: 100%|██████████| 100/100 [00:03<00:00, 26.48it/s]\n"
     ]
    },
    {
     "name": "stderr",
     "output_type": "stream",
     "text": [
      "[2024-04-16 18:13:31][WAR][dtlpy:v1.72.7][entities.item:113] Item has been fetched from a dataset that is not belong to it\n"
     ]
    },
    {
     "name": "stdout",
     "output_type": "stream",
     "text": [
      "Command Progress: 100%|██████████| 100/100 [00:04<00:00, 22.47it/s]\n"
     ]
    },
    {
     "name": "stderr",
     "output_type": "stream",
     "text": [
      "[2024-04-16 18:13:38][WAR][dtlpy:v1.72.7][entities.item:113] Item has been fetched from a dataset that is not belong to it\n"
     ]
    },
    {
     "name": "stdout",
     "output_type": "stream",
     "text": [
      "Command Progress: 100%|██████████| 100/100 [00:07<00:00, 14.14it/s]\n"
     ]
    },
    {
     "name": "stderr",
     "output_type": "stream",
     "text": [
      "[2024-04-16 18:13:46][WAR][dtlpy:v1.72.7][entities.item:113] Item has been fetched from a dataset that is not belong to it\n"
     ]
    },
    {
     "name": "stdout",
     "output_type": "stream",
     "text": [
      "Command Progress: 100%|██████████| 100/100 [00:03<00:00, 25.05it/s]\n"
     ]
    },
    {
     "name": "stderr",
     "output_type": "stream",
     "text": [
      "[2024-04-16 18:13:52][WAR][dtlpy:v1.72.7][entities.item:113] Item has been fetched from a dataset that is not belong to it\n"
     ]
    },
    {
     "name": "stdout",
     "output_type": "stream",
     "text": [
      "Command Progress: 100%|██████████| 100/100 [00:04<00:00, 24.81it/s]\n"
     ]
    },
    {
     "name": "stderr",
     "output_type": "stream",
     "text": [
      "[2024-04-16 18:13:58][WAR][dtlpy:v1.72.7][entities.item:113] Item has been fetched from a dataset that is not belong to it\n"
     ]
    },
    {
     "name": "stdout",
     "output_type": "stream",
     "text": [
      "Command Progress: 100%|██████████| 100/100 [00:07<00:00, 13.01it/s]\n"
     ]
    },
    {
     "name": "stderr",
     "output_type": "stream",
     "text": [
      "[2024-04-16 18:14:10][WAR][dtlpy:v1.72.7][entities.item:113] Item has been fetched from a dataset that is not belong to it\n"
     ]
    },
    {
     "name": "stdout",
     "output_type": "stream",
     "text": [
      "Command Progress: 100%|██████████| 100/100 [00:04<00:00, 23.12it/s]\n"
     ]
    },
    {
     "name": "stderr",
     "output_type": "stream",
     "text": [
      "[2024-04-16 18:14:18][WAR][dtlpy:v1.72.7][entities.item:113] Item has been fetched from a dataset that is not belong to it\n"
     ]
    },
    {
     "name": "stdout",
     "output_type": "stream",
     "text": [
      "Command Progress: 100%|██████████| 100/100 [00:07<00:00, 14.16it/s]\n"
     ]
    },
    {
     "name": "stderr",
     "output_type": "stream",
     "text": [
      "[2024-04-16 18:14:28][WAR][dtlpy:v1.72.7][entities.item:113] Item has been fetched from a dataset that is not belong to it\n"
     ]
    },
    {
     "name": "stdout",
     "output_type": "stream",
     "text": [
      "Command Progress: 100%|██████████| 100/100 [00:04<00:00, 24.81it/s]\n"
     ]
    },
    {
     "name": "stderr",
     "output_type": "stream",
     "text": [
      "[2024-04-16 18:14:37][WAR][dtlpy:v1.72.7][entities.item:113] Item has been fetched from a dataset that is not belong to it\n"
     ]
    },
    {
     "name": "stdout",
     "output_type": "stream",
     "text": [
      "Command Progress: 100%|██████████| 100/100 [00:07<00:00, 14.00it/s]\n"
     ]
    },
    {
     "name": "stderr",
     "output_type": "stream",
     "text": [
      "[2024-04-16 18:14:48][WAR][dtlpy:v1.72.7][entities.item:113] Item has been fetched from a dataset that is not belong to it\n"
     ]
    },
    {
     "name": "stdout",
     "output_type": "stream",
     "text": [
      "Command Progress: 100%|██████████| 100/100 [00:04<00:00, 21.00it/s]\n"
     ]
    },
    {
     "name": "stderr",
     "output_type": "stream",
     "text": [
      "[2024-04-16 18:14:58][WAR][dtlpy:v1.72.7][entities.item:113] Item has been fetched from a dataset that is not belong to it\n"
     ]
    },
    {
     "name": "stdout",
     "output_type": "stream",
     "text": [
      "Command Progress: 100%|██████████| 100/100 [00:07<00:00, 14.11it/s]\n"
     ]
    },
    {
     "name": "stderr",
     "output_type": "stream",
     "text": [
      "[2024-04-16 18:15:07][WAR][dtlpy:v1.72.7][entities.item:113] Item has been fetched from a dataset that is not belong to it\n"
     ]
    },
    {
     "name": "stdout",
     "output_type": "stream",
     "text": [
      "Command Progress: 100%|██████████| 100/100 [00:03<00:00, 26.64it/s]\n"
     ]
    },
    {
     "name": "stderr",
     "output_type": "stream",
     "text": [
      "[2024-04-16 18:15:13][WAR][dtlpy:v1.72.7][entities.item:113] Item has been fetched from a dataset that is not belong to it\n"
     ]
    },
    {
     "name": "stdout",
     "output_type": "stream",
     "text": [
      "Command Progress: 100%|██████████| 100/100 [00:07<00:00, 13.52it/s]\n"
     ]
    },
    {
     "name": "stderr",
     "output_type": "stream",
     "text": [
      "[2024-04-16 18:15:22][WAR][dtlpy:v1.72.7][entities.item:113] Item has been fetched from a dataset that is not belong to it\n"
     ]
    },
    {
     "name": "stdout",
     "output_type": "stream",
     "text": [
      "Command Progress: 100%|██████████| 100/100 [00:03<00:00, 26.45it/s]\n"
     ]
    },
    {
     "name": "stderr",
     "output_type": "stream",
     "text": [
      "[2024-04-16 18:15:27][WAR][dtlpy:v1.72.7][entities.item:113] Item has been fetched from a dataset that is not belong to it\n"
     ]
    },
    {
     "name": "stdout",
     "output_type": "stream",
     "text": [
      "Command Progress: 100%|██████████| 100/100 [00:07<00:00, 13.79it/s]\n"
     ]
    },
    {
     "name": "stderr",
     "output_type": "stream",
     "text": [
      "[2024-04-16 18:15:36][WAR][dtlpy:v1.72.7][entities.item:113] Item has been fetched from a dataset that is not belong to it\n"
     ]
    },
    {
     "name": "stdout",
     "output_type": "stream",
     "text": [
      "Command Progress: 100%|██████████| 100/100 [00:07<00:00, 13.74it/s]\n"
     ]
    },
    {
     "name": "stderr",
     "output_type": "stream",
     "text": [
      "[2024-04-16 18:15:44][WAR][dtlpy:v1.72.7][entities.item:113] Item has been fetched from a dataset that is not belong to it\n"
     ]
    },
    {
     "name": "stdout",
     "output_type": "stream",
     "text": [
      "Command Progress: 100%|██████████| 100/100 [00:07<00:00, 13.94it/s]\n"
     ]
    },
    {
     "name": "stderr",
     "output_type": "stream",
     "text": [
      "[2024-04-16 18:15:53][WAR][dtlpy:v1.72.7][entities.item:113] Item has been fetched from a dataset that is not belong to it\n"
     ]
    },
    {
     "name": "stdout",
     "output_type": "stream",
     "text": [
      "Command Progress: 100%|██████████| 100/100 [00:07<00:00, 13.53it/s]\n"
     ]
    },
    {
     "name": "stderr",
     "output_type": "stream",
     "text": [
      "[2024-04-16 18:16:04][WAR][dtlpy:v1.72.7][entities.item:113] Item has been fetched from a dataset that is not belong to it\n"
     ]
    },
    {
     "name": "stdout",
     "output_type": "stream",
     "text": [
      "Command Progress: 100%|██████████| 100/100 [00:03<00:00, 25.24it/s]\n"
     ]
    },
    {
     "name": "stderr",
     "output_type": "stream",
     "text": [
      "[2024-04-16 18:16:13][WAR][dtlpy:v1.72.7][entities.item:113] Item has been fetched from a dataset that is not belong to it\n"
     ]
    },
    {
     "name": "stdout",
     "output_type": "stream",
     "text": [
      "Command Progress: 100%|██████████| 100/100 [00:03<00:00, 29.64it/s]\n"
     ]
    },
    {
     "name": "stderr",
     "output_type": "stream",
     "text": [
      "[2024-04-16 18:16:22][WAR][dtlpy:v1.72.7][entities.item:113] Item has been fetched from a dataset that is not belong to it\n"
     ]
    },
    {
     "name": "stdout",
     "output_type": "stream",
     "text": [
      "Command Progress: 100%|██████████| 100/100 [00:07<00:00, 14.05it/s]"
     ]
    },
    {
     "name": "stderr",
     "output_type": "stream",
     "text": [
      "[2024-04-16 18:16:30][WAR][dtlpy:v1.72.7][entities.item:113] Item has been fetched from a dataset that is not belong to it\n"
     ]
    },
    {
     "name": "stdout",
     "output_type": "stream",
     "text": [
      "\n",
      "Command Progress: 100%|██████████| 100/100 [00:07<00:00, 13.43it/s]\n"
     ]
    },
    {
     "name": "stderr",
     "output_type": "stream",
     "text": [
      "[2024-04-16 18:16:41][WAR][dtlpy:v1.72.7][entities.item:113] Item has been fetched from a dataset that is not belong to it\n"
     ]
    },
    {
     "name": "stdout",
     "output_type": "stream",
     "text": [
      "Command Progress: 100%|██████████| 100/100 [00:03<00:00, 26.13it/s]\n"
     ]
    },
    {
     "name": "stderr",
     "output_type": "stream",
     "text": [
      "[2024-04-16 18:16:47][WAR][dtlpy:v1.72.7][entities.item:113] Item has been fetched from a dataset that is not belong to it\n"
     ]
    },
    {
     "name": "stdout",
     "output_type": "stream",
     "text": [
      "Command Progress: 100%|██████████| 100/100 [00:07<00:00, 14.20it/s]\n"
     ]
    },
    {
     "name": "stderr",
     "output_type": "stream",
     "text": [
      "[2024-04-16 18:16:57][WAR][dtlpy:v1.72.7][entities.item:113] Item has been fetched from a dataset that is not belong to it\n"
     ]
    },
    {
     "name": "stdout",
     "output_type": "stream",
     "text": [
      "Command Progress: 100%|██████████| 100/100 [00:07<00:00, 13.51it/s]\n"
     ]
    },
    {
     "name": "stderr",
     "output_type": "stream",
     "text": [
      "[2024-04-16 18:17:07][WAR][dtlpy:v1.72.7][entities.item:113] Item has been fetched from a dataset that is not belong to it\n"
     ]
    },
    {
     "name": "stdout",
     "output_type": "stream",
     "text": [
      "Command Progress: 100%|██████████| 100/100 [00:03<00:00, 25.93it/s]\n"
     ]
    },
    {
     "name": "stderr",
     "output_type": "stream",
     "text": [
      "[2024-04-16 18:17:12][WAR][dtlpy:v1.72.7][entities.item:113] Item has been fetched from a dataset that is not belong to it\n"
     ]
    },
    {
     "name": "stdout",
     "output_type": "stream",
     "text": [
      "Command Progress: 100%|██████████| 100/100 [00:02<00:00, 44.48it/s]\n"
     ]
    },
    {
     "name": "stderr",
     "output_type": "stream",
     "text": [
      "[2024-04-16 18:17:17][WAR][dtlpy:v1.72.7][entities.item:113] Item has been fetched from a dataset that is not belong to it\n"
     ]
    },
    {
     "name": "stdout",
     "output_type": "stream",
     "text": [
      "Command Progress: 100%|██████████| 100/100 [00:03<00:00, 26.68it/s]"
     ]
    },
    {
     "name": "stderr",
     "output_type": "stream",
     "text": [
      "[2024-04-16 18:17:22][WAR][dtlpy:v1.72.7][entities.item:113] Item has been fetched from a dataset that is not belong to it\n"
     ]
    },
    {
     "name": "stdout",
     "output_type": "stream",
     "text": [
      "\n",
      "Command Progress: 100%|██████████| 100/100 [00:02<00:00, 45.64it/s]\n"
     ]
    },
    {
     "name": "stderr",
     "output_type": "stream",
     "text": [
      "[2024-04-16 18:17:25][WAR][dtlpy:v1.72.7][entities.item:113] Item has been fetched from a dataset that is not belong to it\n"
     ]
    },
    {
     "name": "stdout",
     "output_type": "stream",
     "text": [
      "Command Progress: 100%|██████████| 100/100 [00:02<00:00, 43.11it/s]"
     ]
    },
    {
     "name": "stderr",
     "output_type": "stream",
     "text": [
      "[2024-04-16 18:17:28][WAR][dtlpy:v1.72.7][entities.item:113] Item has been fetched from a dataset that is not belong to it\n"
     ]
    },
    {
     "name": "stdout",
     "output_type": "stream",
     "text": [
      "\n",
      "Command Progress: 100%|██████████| 100/100 [00:03<00:00, 26.51it/s]"
     ]
    },
    {
     "name": "stderr",
     "output_type": "stream",
     "text": [
      "[2024-04-16 18:17:33][WAR][dtlpy:v1.72.7][entities.item:113] Item has been fetched from a dataset that is not belong to it\n"
     ]
    },
    {
     "name": "stdout",
     "output_type": "stream",
     "text": [
      "\n",
      "Command Progress: 100%|██████████| 100/100 [00:02<00:00, 47.79it/s]\n"
     ]
    },
    {
     "name": "stderr",
     "output_type": "stream",
     "text": [
      "[2024-04-16 18:17:36][WAR][dtlpy:v1.72.7][entities.item:113] Item has been fetched from a dataset that is not belong to it\n"
     ]
    },
    {
     "name": "stdout",
     "output_type": "stream",
     "text": [
      "Command Progress: 100%|██████████| 100/100 [00:02<00:00, 39.32it/s]"
     ]
    },
    {
     "name": "stderr",
     "output_type": "stream",
     "text": [
      "[2024-04-16 18:17:39][WAR][dtlpy:v1.72.7][entities.item:113] Item has been fetched from a dataset that is not belong to it\n"
     ]
    },
    {
     "name": "stdout",
     "output_type": "stream",
     "text": [
      "\n",
      "Command Progress: 100%|██████████| 100/100 [00:02<00:00, 44.54it/s]\n"
     ]
    },
    {
     "name": "stderr",
     "output_type": "stream",
     "text": [
      "[2024-04-16 18:17:43][WAR][dtlpy:v1.72.7][entities.item:113] Item has been fetched from a dataset that is not belong to it\n"
     ]
    },
    {
     "name": "stdout",
     "output_type": "stream",
     "text": [
      "Command Progress: 100%|██████████| 100/100 [00:02<00:00, 49.42it/s]"
     ]
    },
    {
     "name": "stderr",
     "output_type": "stream",
     "text": [
      "[2024-04-16 18:17:45][WAR][dtlpy:v1.72.7][entities.item:113] Item has been fetched from a dataset that is not belong to it\n"
     ]
    },
    {
     "name": "stdout",
     "output_type": "stream",
     "text": [
      "\n",
      "Command Progress: 100%|██████████| 100/100 [00:02<00:00, 49.00it/s]"
     ]
    },
    {
     "name": "stderr",
     "output_type": "stream",
     "text": [
      "[2024-04-16 18:17:48][WAR][dtlpy:v1.72.7][entities.item:113] Item has been fetched from a dataset that is not belong to it\n"
     ]
    },
    {
     "name": "stdout",
     "output_type": "stream",
     "text": [
      "\n",
      "Command Progress: 100%|██████████| 100/100 [00:02<00:00, 43.41it/s]"
     ]
    },
    {
     "name": "stderr",
     "output_type": "stream",
     "text": [
      "[2024-04-16 18:17:52][WAR][dtlpy:v1.72.7][entities.item:113] Item has been fetched from a dataset that is not belong to it\n"
     ]
    },
    {
     "name": "stdout",
     "output_type": "stream",
     "text": [
      "\n",
      "Command Progress: 100%|██████████| 100/100 [00:03<00:00, 26.30it/s]"
     ]
    },
    {
     "name": "stderr",
     "output_type": "stream",
     "text": [
      "[2024-04-16 18:17:56][WAR][dtlpy:v1.72.7][entities.item:113] Item has been fetched from a dataset that is not belong to it\n"
     ]
    },
    {
     "name": "stdout",
     "output_type": "stream",
     "text": [
      "\n",
      "Command Progress: 100%|██████████| 100/100 [00:04<00:00, 24.03it/s]\n"
     ]
    },
    {
     "name": "stderr",
     "output_type": "stream",
     "text": [
      "[2024-04-16 18:18:02][WAR][dtlpy:v1.72.7][entities.item:113] Item has been fetched from a dataset that is not belong to it\n"
     ]
    },
    {
     "name": "stdout",
     "output_type": "stream",
     "text": [
      "Command Progress: 100%|██████████| 100/100 [00:04<00:00, 23.59it/s]\n"
     ]
    },
    {
     "name": "stderr",
     "output_type": "stream",
     "text": [
      "[2024-04-16 18:18:08][WAR][dtlpy:v1.72.7][entities.item:113] Item has been fetched from a dataset that is not belong to it\n"
     ]
    },
    {
     "name": "stdout",
     "output_type": "stream",
     "text": [
      "Command Progress: 100%|██████████| 100/100 [00:03<00:00, 26.54it/s]\n"
     ]
    },
    {
     "name": "stderr",
     "output_type": "stream",
     "text": [
      "[2024-04-16 18:18:16][WAR][dtlpy:v1.72.7][entities.item:113] Item has been fetched from a dataset that is not belong to it\n"
     ]
    },
    {
     "name": "stdout",
     "output_type": "stream",
     "text": [
      "Command Progress: 100%|██████████| 100/100 [00:02<00:00, 43.15it/s]"
     ]
    },
    {
     "name": "stderr",
     "output_type": "stream",
     "text": [
      "[2024-04-16 18:18:20][WAR][dtlpy:v1.72.7][entities.item:113] Item has been fetched from a dataset that is not belong to it\n"
     ]
    },
    {
     "name": "stdout",
     "output_type": "stream",
     "text": [
      "\n",
      "Command Progress: 100%|██████████| 100/100 [00:02<00:00, 42.46it/s]\n"
     ]
    },
    {
     "name": "stderr",
     "output_type": "stream",
     "text": [
      "[2024-04-16 18:18:24][WAR][dtlpy:v1.72.7][entities.item:113] Item has been fetched from a dataset that is not belong to it\n"
     ]
    },
    {
     "name": "stdout",
     "output_type": "stream",
     "text": [
      "Command Progress: 100%|██████████| 100/100 [00:03<00:00, 26.47it/s]\n"
     ]
    },
    {
     "name": "stderr",
     "output_type": "stream",
     "text": [
      "[2024-04-16 18:18:29][WAR][dtlpy:v1.72.7][entities.item:113] Item has been fetched from a dataset that is not belong to it\n"
     ]
    },
    {
     "name": "stdout",
     "output_type": "stream",
     "text": [
      "Command Progress: 100%|██████████| 100/100 [00:03<00:00, 25.88it/s]"
     ]
    },
    {
     "name": "stderr",
     "output_type": "stream",
     "text": [
      "[2024-04-16 18:18:34][WAR][dtlpy:v1.72.7][entities.item:113] Item has been fetched from a dataset that is not belong to it\n"
     ]
    },
    {
     "name": "stdout",
     "output_type": "stream",
     "text": [
      "\n",
      "Command Progress: 100%|██████████| 100/100 [00:02<00:00, 48.92it/s]\n"
     ]
    },
    {
     "name": "stderr",
     "output_type": "stream",
     "text": [
      "[2024-04-16 18:18:37][WAR][dtlpy:v1.72.7][entities.item:113] Item has been fetched from a dataset that is not belong to it\n"
     ]
    },
    {
     "name": "stdout",
     "output_type": "stream",
     "text": [
      "Command Progress: 100%|██████████| 100/100 [00:02<00:00, 47.88it/s]"
     ]
    },
    {
     "name": "stderr",
     "output_type": "stream",
     "text": [
      "[2024-04-16 18:18:39][WAR][dtlpy:v1.72.7][entities.item:113] Item has been fetched from a dataset that is not belong to it\n"
     ]
    },
    {
     "name": "stdout",
     "output_type": "stream",
     "text": [
      "\n",
      "Command Progress: 100%|██████████| 100/100 [00:02<00:00, 46.14it/s]"
     ]
    },
    {
     "name": "stderr",
     "output_type": "stream",
     "text": [
      "[2024-04-16 18:18:42][WAR][dtlpy:v1.72.7][entities.item:113] Item has been fetched from a dataset that is not belong to it\n"
     ]
    },
    {
     "name": "stdout",
     "output_type": "stream",
     "text": [
      "\n",
      "Command Progress: 100%|██████████| 100/100 [00:03<00:00, 26.38it/s]"
     ]
    },
    {
     "name": "stderr",
     "output_type": "stream",
     "text": [
      "[2024-04-16 18:18:47][WAR][dtlpy:v1.72.7][entities.item:113] Item has been fetched from a dataset that is not belong to it\n"
     ]
    },
    {
     "name": "stdout",
     "output_type": "stream",
     "text": [
      "\n",
      "Command Progress: 100%|██████████| 100/100 [00:02<00:00, 43.08it/s]"
     ]
    },
    {
     "name": "stderr",
     "output_type": "stream",
     "text": [
      "[2024-04-16 18:18:50][WAR][dtlpy:v1.72.7][entities.item:113] Item has been fetched from a dataset that is not belong to it\n"
     ]
    },
    {
     "name": "stdout",
     "output_type": "stream",
     "text": [
      "\n",
      "Command Progress: 100%|██████████| 100/100 [00:02<00:00, 49.82it/s]\n"
     ]
    },
    {
     "name": "stderr",
     "output_type": "stream",
     "text": [
      "[2024-04-16 18:18:52][WAR][dtlpy:v1.72.7][entities.item:113] Item has been fetched from a dataset that is not belong to it\n"
     ]
    },
    {
     "name": "stdout",
     "output_type": "stream",
     "text": [
      "Command Progress: 100%|██████████| 100/100 [00:01<00:00, 67.59it/s]\n"
     ]
    },
    {
     "name": "stderr",
     "output_type": "stream",
     "text": [
      "[2024-04-16 18:18:55][WAR][dtlpy:v1.72.7][entities.item:113] Item has been fetched from a dataset that is not belong to it\n"
     ]
    },
    {
     "name": "stdout",
     "output_type": "stream",
     "text": [
      "Command Progress: 100%|██████████| 100/100 [00:02<00:00, 48.62it/s]\n"
     ]
    },
    {
     "name": "stderr",
     "output_type": "stream",
     "text": [
      "[2024-04-16 18:18:57][WAR][dtlpy:v1.72.7][entities.item:113] Item has been fetched from a dataset that is not belong to it\n"
     ]
    },
    {
     "name": "stdout",
     "output_type": "stream",
     "text": [
      "Command Progress: 100%|██████████| 100/100 [00:01<00:00, 69.74it/s]"
     ]
    },
    {
     "name": "stderr",
     "output_type": "stream",
     "text": [
      "[2024-04-16 18:18:59][WAR][dtlpy:v1.72.7][entities.item:113] Item has been fetched from a dataset that is not belong to it\n"
     ]
    },
    {
     "name": "stdout",
     "output_type": "stream",
     "text": [
      "\n",
      "Command Progress: 100%|██████████| 100/100 [00:02<00:00, 48.66it/s]"
     ]
    },
    {
     "name": "stderr",
     "output_type": "stream",
     "text": [
      "[2024-04-16 18:19:02][WAR][dtlpy:v1.72.7][entities.item:113] Item has been fetched from a dataset that is not belong to it\n"
     ]
    },
    {
     "name": "stdout",
     "output_type": "stream",
     "text": [
      "\n",
      "Command Progress: 100%|██████████| 100/100 [00:02<00:00, 49.28it/s]"
     ]
    },
    {
     "name": "stderr",
     "output_type": "stream",
     "text": [
      "[2024-04-16 18:19:04][WAR][dtlpy:v1.72.7][entities.item:113] Item has been fetched from a dataset that is not belong to it\n"
     ]
    },
    {
     "name": "stdout",
     "output_type": "stream",
     "text": [
      "\n",
      "Command Progress: 100%|██████████| 100/100 [00:01<00:00, 64.40it/s]\n"
     ]
    },
    {
     "name": "stderr",
     "output_type": "stream",
     "text": [
      "[2024-04-16 18:19:06][WAR][dtlpy:v1.72.7][entities.item:113] Item has been fetched from a dataset that is not belong to it\n"
     ]
    },
    {
     "name": "stdout",
     "output_type": "stream",
     "text": [
      "Command Progress: 100%|██████████| 100/100 [00:01<00:00, 68.73it/s]\n"
     ]
    },
    {
     "name": "stderr",
     "output_type": "stream",
     "text": [
      "[2024-04-16 18:19:08][WAR][dtlpy:v1.72.7][entities.item:113] Item has been fetched from a dataset that is not belong to it\n"
     ]
    },
    {
     "name": "stdout",
     "output_type": "stream",
     "text": [
      "Command Progress: 100%|██████████| 100/100 [00:01<00:00, 76.21it/s]"
     ]
    },
    {
     "name": "stderr",
     "output_type": "stream",
     "text": [
      "[2024-04-16 18:19:10][WAR][dtlpy:v1.72.7][entities.item:113] Item has been fetched from a dataset that is not belong to it\n"
     ]
    },
    {
     "name": "stdout",
     "output_type": "stream",
     "text": [
      "\n",
      "Command Progress: 100%|██████████| 100/100 [00:02<00:00, 48.86it/s]"
     ]
    },
    {
     "name": "stderr",
     "output_type": "stream",
     "text": [
      "[2024-04-16 18:19:13][WAR][dtlpy:v1.72.7][entities.item:113] Item has been fetched from a dataset that is not belong to it\n"
     ]
    },
    {
     "name": "stdout",
     "output_type": "stream",
     "text": [
      "\n",
      "Command Progress: 100%|██████████| 100/100 [00:02<00:00, 49.16it/s]"
     ]
    },
    {
     "name": "stderr",
     "output_type": "stream",
     "text": [
      "[2024-04-16 18:19:15][WAR][dtlpy:v1.72.7][entities.item:113] Item has been fetched from a dataset that is not belong to it\n"
     ]
    },
    {
     "name": "stdout",
     "output_type": "stream",
     "text": [
      "\n",
      "Command Progress: 100%|██████████| 100/100 [00:02<00:00, 49.13it/s]"
     ]
    },
    {
     "name": "stderr",
     "output_type": "stream",
     "text": [
      "[2024-04-16 18:19:17][WAR][dtlpy:v1.72.7][entities.item:113] Item has been fetched from a dataset that is not belong to it\n"
     ]
    },
    {
     "name": "stdout",
     "output_type": "stream",
     "text": [
      "\n",
      "Command Progress: 100%|██████████| 100/100 [00:02<00:00, 49.04it/s]\n"
     ]
    },
    {
     "name": "stderr",
     "output_type": "stream",
     "text": [
      "[2024-04-16 18:19:20][WAR][dtlpy:v1.72.7][entities.item:113] Item has been fetched from a dataset that is not belong to it\n"
     ]
    },
    {
     "name": "stdout",
     "output_type": "stream",
     "text": [
      "Command Progress: 100%|██████████| 100/100 [00:01<00:00, 67.08it/s]"
     ]
    },
    {
     "name": "stderr",
     "output_type": "stream",
     "text": [
      "[2024-04-16 18:19:22][WAR][dtlpy:v1.72.7][entities.item:113] Item has been fetched from a dataset that is not belong to it\n"
     ]
    },
    {
     "name": "stdout",
     "output_type": "stream",
     "text": [
      "\n",
      "Command Progress: 100%|██████████| 100/100 [00:02<00:00, 49.37it/s]"
     ]
    },
    {
     "name": "stderr",
     "output_type": "stream",
     "text": [
      "[2024-04-16 18:19:24][WAR][dtlpy:v1.72.7][entities.item:113] Item has been fetched from a dataset that is not belong to it\n"
     ]
    },
    {
     "name": "stdout",
     "output_type": "stream",
     "text": [
      "\n",
      "Command Progress: 100%|██████████| 100/100 [00:02<00:00, 47.63it/s]"
     ]
    },
    {
     "name": "stderr",
     "output_type": "stream",
     "text": [
      "[2024-04-16 18:19:27][WAR][dtlpy:v1.72.7][entities.item:113] Item has been fetched from a dataset that is not belong to it\n"
     ]
    },
    {
     "name": "stdout",
     "output_type": "stream",
     "text": [
      "\n",
      "Command Progress: 100%|██████████| 100/100 [00:01<00:00, 75.01it/s]"
     ]
    },
    {
     "name": "stderr",
     "output_type": "stream",
     "text": [
      "[2024-04-16 18:19:28][WAR][dtlpy:v1.72.7][entities.item:113] Item has been fetched from a dataset that is not belong to it\n"
     ]
    },
    {
     "name": "stdout",
     "output_type": "stream",
     "text": [
      "\n",
      "Command Progress: 100%|██████████| 100/100 [00:02<00:00, 48.94it/s]"
     ]
    },
    {
     "name": "stderr",
     "output_type": "stream",
     "text": [
      "[2024-04-16 18:19:31][WAR][dtlpy:v1.72.7][entities.item:113] Item has been fetched from a dataset that is not belong to it\n"
     ]
    },
    {
     "name": "stdout",
     "output_type": "stream",
     "text": [
      "\n",
      "Command Progress: 100%|██████████| 100/100 [00:01<00:00, 79.99it/s]"
     ]
    },
    {
     "name": "stderr",
     "output_type": "stream",
     "text": [
      "[2024-04-16 18:19:32][WAR][dtlpy:v1.72.7][entities.item:113] Item has been fetched from a dataset that is not belong to it\n"
     ]
    },
    {
     "name": "stdout",
     "output_type": "stream",
     "text": [
      "\n",
      "Command Progress: 100%|██████████| 100/100 [00:01<00:00, 71.82it/s]\n"
     ]
    },
    {
     "name": "stderr",
     "output_type": "stream",
     "text": [
      "[2024-04-16 18:19:35][WAR][dtlpy:v1.72.7][entities.item:113] Item has been fetched from a dataset that is not belong to it\n"
     ]
    },
    {
     "name": "stdout",
     "output_type": "stream",
     "text": [
      "Command Progress: 100%|██████████| 100/100 [00:02<00:00, 49.12it/s]\n"
     ]
    },
    {
     "name": "stderr",
     "output_type": "stream",
     "text": [
      "[2024-04-16 18:19:37][WAR][dtlpy:v1.72.7][entities.item:113] Item has been fetched from a dataset that is not belong to it\n"
     ]
    },
    {
     "name": "stdout",
     "output_type": "stream",
     "text": [
      "Command Progress: 100%|██████████| 100/100 [00:02<00:00, 49.28it/s]"
     ]
    },
    {
     "name": "stderr",
     "output_type": "stream",
     "text": [
      "[2024-04-16 18:19:40][WAR][dtlpy:v1.72.7][entities.item:113] Item has been fetched from a dataset that is not belong to it\n"
     ]
    },
    {
     "name": "stdout",
     "output_type": "stream",
     "text": [
      "\n",
      "Command Progress: 100%|██████████| 100/100 [00:02<00:00, 49.47it/s]"
     ]
    },
    {
     "name": "stderr",
     "output_type": "stream",
     "text": [
      "[2024-04-16 18:19:42][WAR][dtlpy:v1.72.7][entities.item:113] Item has been fetched from a dataset that is not belong to it\n"
     ]
    },
    {
     "name": "stdout",
     "output_type": "stream",
     "text": [
      "\n",
      "Command Progress: 100%|██████████| 100/100 [00:02<00:00, 46.78it/s]"
     ]
    },
    {
     "name": "stderr",
     "output_type": "stream",
     "text": [
      "[2024-04-16 18:19:45][WAR][dtlpy:v1.72.7][entities.item:113] Item has been fetched from a dataset that is not belong to it\n"
     ]
    },
    {
     "name": "stdout",
     "output_type": "stream",
     "text": [
      "\n",
      "Command Progress: 100%|██████████| 100/100 [00:01<00:00, 72.12it/s]"
     ]
    },
    {
     "name": "stderr",
     "output_type": "stream",
     "text": [
      "[2024-04-16 18:19:46][WAR][dtlpy:v1.72.7][entities.item:113] Item has been fetched from a dataset that is not belong to it\n"
     ]
    },
    {
     "name": "stdout",
     "output_type": "stream",
     "text": [
      "\n",
      "Command Progress: 100%|██████████| 100/100 [00:02<00:00, 49.34it/s]"
     ]
    },
    {
     "name": "stderr",
     "output_type": "stream",
     "text": [
      "[2024-04-16 18:19:49][WAR][dtlpy:v1.72.7][entities.item:113] Item has been fetched from a dataset that is not belong to it\n"
     ]
    },
    {
     "name": "stdout",
     "output_type": "stream",
     "text": [
      "\n",
      "Command Progress: 100%|██████████| 100/100 [00:02<00:00, 49.71it/s]\n"
     ]
    },
    {
     "name": "stderr",
     "output_type": "stream",
     "text": [
      "[2024-04-16 18:19:51][WAR][dtlpy:v1.72.7][entities.item:113] Item has been fetched from a dataset that is not belong to it\n"
     ]
    },
    {
     "name": "stdout",
     "output_type": "stream",
     "text": [
      "Command Progress: 100%|██████████| 100/100 [00:02<00:00, 49.22it/s]"
     ]
    },
    {
     "name": "stderr",
     "output_type": "stream",
     "text": [
      "[2024-04-16 18:19:54][WAR][dtlpy:v1.72.7][entities.item:113] Item has been fetched from a dataset that is not belong to it\n"
     ]
    },
    {
     "name": "stdout",
     "output_type": "stream",
     "text": [
      "\n",
      "Command Progress: 100%|██████████| 100/100 [00:01<00:00, 88.39it/s]"
     ]
    },
    {
     "name": "stderr",
     "output_type": "stream",
     "text": [
      "[2024-04-16 18:19:56][WAR][dtlpy:v1.72.7][entities.item:113] Item has been fetched from a dataset that is not belong to it\n"
     ]
    },
    {
     "name": "stdout",
     "output_type": "stream",
     "text": [
      "\n",
      "Command Progress: 100%|██████████| 100/100 [00:01<00:00, 56.01it/s]"
     ]
    },
    {
     "name": "stderr",
     "output_type": "stream",
     "text": [
      "[2024-04-16 18:19:58][WAR][dtlpy:v1.72.7][entities.item:113] Item has been fetched from a dataset that is not belong to it\n"
     ]
    },
    {
     "name": "stdout",
     "output_type": "stream",
     "text": [
      "\n",
      "Command Progress: 100%|██████████| 100/100 [00:01<00:00, 85.56it/s]"
     ]
    },
    {
     "name": "stderr",
     "output_type": "stream",
     "text": [
      "[2024-04-16 18:20:00][WAR][dtlpy:v1.72.7][entities.item:113] Item has been fetched from a dataset that is not belong to it\n"
     ]
    },
    {
     "name": "stdout",
     "output_type": "stream",
     "text": [
      "\n",
      "Command Progress: 100%|██████████| 100/100 [00:02<00:00, 49.99it/s]"
     ]
    },
    {
     "name": "stderr",
     "output_type": "stream",
     "text": [
      "[2024-04-16 18:20:02][WAR][dtlpy:v1.72.7][entities.item:113] Item has been fetched from a dataset that is not belong to it\n"
     ]
    },
    {
     "name": "stdout",
     "output_type": "stream",
     "text": [
      "\n",
      "Command Progress: 100%|██████████| 100/100 [00:02<00:00, 49.43it/s]"
     ]
    },
    {
     "name": "stderr",
     "output_type": "stream",
     "text": [
      "[2024-04-16 18:20:05][WAR][dtlpy:v1.72.7][entities.item:113] Item has been fetched from a dataset that is not belong to it\n"
     ]
    },
    {
     "name": "stdout",
     "output_type": "stream",
     "text": [
      "\n",
      "Command Progress: 100%|██████████| 100/100 [00:02<00:00, 41.89it/s]"
     ]
    },
    {
     "name": "stderr",
     "output_type": "stream",
     "text": [
      "[2024-04-16 18:20:07][WAR][dtlpy:v1.72.7][entities.item:113] Item has been fetched from a dataset that is not belong to it\n"
     ]
    },
    {
     "name": "stdout",
     "output_type": "stream",
     "text": [
      "\n",
      "Command Progress: 100%|██████████| 100/100 [00:02<00:00, 45.04it/s]\n"
     ]
    },
    {
     "name": "stderr",
     "output_type": "stream",
     "text": [
      "[2024-04-16 18:20:10][WAR][dtlpy:v1.72.7][entities.item:113] Item has been fetched from a dataset that is not belong to it\n"
     ]
    },
    {
     "name": "stdout",
     "output_type": "stream",
     "text": [
      "Command Progress: 100%|██████████| 100/100 [00:01<00:00, 66.40it/s]\n"
     ]
    },
    {
     "name": "stderr",
     "output_type": "stream",
     "text": [
      "[2024-04-16 18:20:12][WAR][dtlpy:v1.72.7][entities.item:113] Item has been fetched from a dataset that is not belong to it\n"
     ]
    },
    {
     "name": "stdout",
     "output_type": "stream",
     "text": [
      "Command Progress: 100%|██████████| 100/100 [00:01<00:00, 71.74it/s]\n"
     ]
    },
    {
     "name": "stderr",
     "output_type": "stream",
     "text": [
      "[2024-04-16 18:20:15][WAR][dtlpy:v1.72.7][entities.item:113] Item has been fetched from a dataset that is not belong to it\n"
     ]
    },
    {
     "name": "stdout",
     "output_type": "stream",
     "text": [
      "Command Progress: 100%|██████████| 100/100 [00:02<00:00, 49.11it/s]"
     ]
    },
    {
     "name": "stderr",
     "output_type": "stream",
     "text": [
      "[2024-04-16 18:20:17][WAR][dtlpy:v1.72.7][entities.item:113] Item has been fetched from a dataset that is not belong to it\n"
     ]
    },
    {
     "name": "stdout",
     "output_type": "stream",
     "text": [
      "\n",
      "Command Progress: 100%|██████████| 100/100 [00:07<00:00, 13.66it/s]\n"
     ]
    },
    {
     "name": "stderr",
     "output_type": "stream",
     "text": [
      "[2024-04-16 18:20:25][WAR][dtlpy:v1.72.7][entities.item:113] Item has been fetched from a dataset that is not belong to it\n"
     ]
    },
    {
     "name": "stdout",
     "output_type": "stream",
     "text": [
      "Command Progress: 100%|██████████| 100/100 [00:02<00:00, 49.07it/s]"
     ]
    },
    {
     "name": "stderr",
     "output_type": "stream",
     "text": [
      "[2024-04-16 18:20:28][WAR][dtlpy:v1.72.7][entities.item:113] Item has been fetched from a dataset that is not belong to it\n"
     ]
    },
    {
     "name": "stdout",
     "output_type": "stream",
     "text": [
      "\n",
      "Command Progress: 100%|██████████| 100/100 [00:02<00:00, 49.17it/s]"
     ]
    },
    {
     "name": "stderr",
     "output_type": "stream",
     "text": [
      "[2024-04-16 18:20:34][WAR][dtlpy:v1.72.7][entities.item:113] Item has been fetched from a dataset that is not belong to it\n"
     ]
    },
    {
     "name": "stdout",
     "output_type": "stream",
     "text": [
      "\n",
      "Command Progress: 100%|██████████| 100/100 [00:02<00:00, 44.49it/s]\n"
     ]
    },
    {
     "name": "stderr",
     "output_type": "stream",
     "text": [
      "[2024-04-16 18:20:37][WAR][dtlpy:v1.72.7][entities.item:113] Item has been fetched from a dataset that is not belong to it\n"
     ]
    },
    {
     "name": "stdout",
     "output_type": "stream",
     "text": [
      "Command Progress: 100%|██████████| 100/100 [00:03<00:00, 26.80it/s]"
     ]
    },
    {
     "name": "stderr",
     "output_type": "stream",
     "text": [
      "[2024-04-16 18:20:42][WAR][dtlpy:v1.72.7][entities.item:113] Item has been fetched from a dataset that is not belong to it\n"
     ]
    },
    {
     "name": "stdout",
     "output_type": "stream",
     "text": [
      "\n",
      "Command Progress: 100%|██████████| 100/100 [00:02<00:00, 48.02it/s]\n"
     ]
    },
    {
     "name": "stderr",
     "output_type": "stream",
     "text": [
      "[2024-04-16 18:20:44][WAR][dtlpy:v1.72.7][entities.item:113] Item has been fetched from a dataset that is not belong to it\n"
     ]
    },
    {
     "name": "stdout",
     "output_type": "stream",
     "text": [
      "Command Progress: 100%|██████████| 100/100 [00:02<00:00, 48.80it/s]\n"
     ]
    },
    {
     "name": "stderr",
     "output_type": "stream",
     "text": [
      "[2024-04-16 18:20:48][WAR][dtlpy:v1.72.7][entities.item:113] Item has been fetched from a dataset that is not belong to it\n"
     ]
    },
    {
     "name": "stdout",
     "output_type": "stream",
     "text": [
      "Command Progress: 100%|██████████| 100/100 [00:02<00:00, 42.60it/s]"
     ]
    },
    {
     "name": "stderr",
     "output_type": "stream",
     "text": [
      "[2024-04-16 18:20:51][WAR][dtlpy:v1.72.7][entities.item:113] Item has been fetched from a dataset that is not belong to it\n"
     ]
    },
    {
     "name": "stdout",
     "output_type": "stream",
     "text": [
      "\n",
      "Command Progress: 100%|██████████| 100/100 [00:03<00:00, 26.87it/s]\n"
     ]
    },
    {
     "name": "stderr",
     "output_type": "stream",
     "text": [
      "[2024-04-16 18:20:56][WAR][dtlpy:v1.72.7][entities.item:113] Item has been fetched from a dataset that is not belong to it\n"
     ]
    },
    {
     "name": "stdout",
     "output_type": "stream",
     "text": [
      "Command Progress: 100%|██████████| 100/100 [00:03<00:00, 26.69it/s]\n"
     ]
    },
    {
     "name": "stderr",
     "output_type": "stream",
     "text": [
      "[2024-04-16 18:21:01][WAR][dtlpy:v1.72.7][entities.item:113] Item has been fetched from a dataset that is not belong to it\n"
     ]
    },
    {
     "name": "stdout",
     "output_type": "stream",
     "text": [
      "Command Progress: 100%|██████████| 100/100 [00:02<00:00, 49.01it/s]"
     ]
    },
    {
     "name": "stderr",
     "output_type": "stream",
     "text": [
      "[2024-04-16 18:21:04][WAR][dtlpy:v1.72.7][entities.item:113] Item has been fetched from a dataset that is not belong to it\n"
     ]
    },
    {
     "name": "stdout",
     "output_type": "stream",
     "text": [
      "\n",
      "Command Progress: 100%|██████████| 100/100 [00:07<00:00, 14.15it/s]\n"
     ]
    },
    {
     "name": "stderr",
     "output_type": "stream",
     "text": [
      "[2024-04-16 18:21:12][WAR][dtlpy:v1.72.7][entities.item:113] Item has been fetched from a dataset that is not belong to it\n"
     ]
    },
    {
     "name": "stdout",
     "output_type": "stream",
     "text": [
      "Command Progress: 100%|██████████| 100/100 [01:02<00:00,  1.60it/s]"
     ]
    },
    {
     "name": "stderr",
     "output_type": "stream",
     "text": [
      "[2024-04-16 18:22:16][WAR][dtlpy:v1.72.7][entities.item:113] Item has been fetched from a dataset that is not belong to it\n"
     ]
    },
    {
     "name": "stdout",
     "output_type": "stream",
     "text": [
      "\n",
      "Command Progress: 100%|██████████| 100/100 [07:18<00:00,  4.38s/it]\n",
      "Task Created\n"
     ]
    }
   ],
   "source": [
    "taggers_company_owner = {'Agteam': 'milton.delaguila@taranis.com', 'Indivillage': 'raghunath.m@indivillage.com', 'Apex': 'taranis-apex@aci.apexcovantage.com', 'Edgecase': 'nivedreddyk@brightcomgroup.com'}\n",
    "golden_project = dl.projects.get(project_id='0c8c900e-468c-4c77-aaab-1871333f772b')\n",
    "golden_dataset = golden_project.datasets.get(dataset_id='65941df20d5a6843e79c93ed')\n",
    "# list_subcat = ['141', '215']\n",
    "num_samples = 5\n",
    "taggers_company = 'Agteam'\n",
    "# task_dataset_name = f'{taggers_company}_weeds_{datetime.today().strftime(\"%Y-%m-%d\")}_dt'.lower()\n",
    "task_dataset_name = 'onbording_2024_second_task_weeds'\n",
    "task_name = task_dataset_name\n",
    "user_list = [\"constanza.gallay@taranis.com\",\"mariano.lopezseco@taranis.com\",\"guillermo.rozemblum@taranis.com\",\"manuel.barcia@taranis.com\",\"brenda.seco@taranis.com\",\"juan.ortega@taranis.com\",\"nitzan.weisman@taranis.com\",\"ilana.freidman@taranis.com\",\"ido.malka@taranis.com\",\"roi.arie@taranis.com\"]\n",
    "task_owner = taggers_company_owner[taggers_company]\n",
    "\n",
    "\n",
    "# filters = filters_funct(list_subcat)\n",
    "# item_grouped_by_threats = item_grouped_by_threats_funct_with_filters(golden_dataset, filters)\n",
    "item_grouped_by_threats = item_grouped_by_threats_funct_without_filters(golden_dataset)\n",
    "list_selected_items = get_selected_images_list_funct(item_grouped_by_threats, num_samples)\n",
    "task_dataset = create_new_dataset(task_dataset_name)\n",
    "clone_items_in_new_dataset(list_selected_items, task_dataset, task_name, user_list, task_owner)\n"
   ]
  },
  {
   "cell_type": "code",
   "execution_count": 24,
   "metadata": {},
   "outputs": [
    {
     "name": "stdout",
     "output_type": "stream",
     "text": [
      "Command Progress: 100%|██████████| 100/100 [00:02<00:00, 43.31it/s]"
     ]
    },
    {
     "name": "stderr",
     "output_type": "stream",
     "text": [
      "[2024-04-17 11:26:21][WAR][dtlpy:v1.72.7][entities.item:113] Item has been fetched from a dataset that is not belong to it\n"
     ]
    },
    {
     "name": "stdout",
     "output_type": "stream",
     "text": [
      "\n",
      "Command Progress: 100%|██████████| 100/100 [00:02<00:00, 47.64it/s]"
     ]
    },
    {
     "name": "stderr",
     "output_type": "stream",
     "text": [
      "[2024-04-17 11:26:24][WAR][dtlpy:v1.72.7][entities.item:113] Item has been fetched from a dataset that is not belong to it\n"
     ]
    },
    {
     "name": "stdout",
     "output_type": "stream",
     "text": [
      "\n",
      "Command Progress: 100%|██████████| 100/100 [00:02<00:00, 48.23it/s]"
     ]
    },
    {
     "name": "stderr",
     "output_type": "stream",
     "text": [
      "[2024-04-17 11:26:26][WAR][dtlpy:v1.72.7][entities.item:113] Item has been fetched from a dataset that is not belong to it\n"
     ]
    },
    {
     "name": "stdout",
     "output_type": "stream",
     "text": [
      "\n",
      "Command Progress: 100%|██████████| 100/100 [00:01<00:00, 69.04it/s]"
     ]
    },
    {
     "name": "stderr",
     "output_type": "stream",
     "text": [
      "[2024-04-17 11:26:28][WAR][dtlpy:v1.72.7][entities.item:113] Item has been fetched from a dataset that is not belong to it\n"
     ]
    },
    {
     "name": "stdout",
     "output_type": "stream",
     "text": [
      "\n",
      "Command Progress: 100%|██████████| 100/100 [00:02<00:00, 41.45it/s]"
     ]
    },
    {
     "name": "stderr",
     "output_type": "stream",
     "text": [
      "[2024-04-17 11:26:31][WAR][dtlpy:v1.72.7][entities.item:113] Item has been fetched from a dataset that is not belong to it\n"
     ]
    },
    {
     "name": "stdout",
     "output_type": "stream",
     "text": [
      "\n",
      "Command Progress: 100%|██████████| 100/100 [00:02<00:00, 47.83it/s]"
     ]
    },
    {
     "name": "stderr",
     "output_type": "stream",
     "text": [
      "[2024-04-17 11:26:33][WAR][dtlpy:v1.72.7][entities.item:113] Item has been fetched from a dataset that is not belong to it\n"
     ]
    },
    {
     "name": "stdout",
     "output_type": "stream",
     "text": [
      "\n",
      "Command Progress: 100%|██████████| 100/100 [00:01<00:00, 50.35it/s]"
     ]
    },
    {
     "name": "stderr",
     "output_type": "stream",
     "text": [
      "[2024-04-17 11:26:36][WAR][dtlpy:v1.72.7][entities.item:113] Item has been fetched from a dataset that is not belong to it\n"
     ]
    },
    {
     "name": "stdout",
     "output_type": "stream",
     "text": [
      "\n",
      "Command Progress: 100%|██████████| 100/100 [00:01<00:00, 66.90it/s]"
     ]
    },
    {
     "name": "stderr",
     "output_type": "stream",
     "text": [
      "[2024-04-17 11:26:37][WAR][dtlpy:v1.72.7][entities.item:113] Item has been fetched from a dataset that is not belong to it\n"
     ]
    },
    {
     "name": "stdout",
     "output_type": "stream",
     "text": [
      "\n",
      "Command Progress: 100%|██████████| 100/100 [00:02<00:00, 48.91it/s]"
     ]
    },
    {
     "name": "stderr",
     "output_type": "stream",
     "text": [
      "[2024-04-17 11:26:40][WAR][dtlpy:v1.72.7][entities.item:113] Item has been fetched from a dataset that is not belong to it\n"
     ]
    },
    {
     "name": "stdout",
     "output_type": "stream",
     "text": [
      "\n",
      "Command Progress: 100%|██████████| 100/100 [00:01<00:00, 72.70it/s]"
     ]
    },
    {
     "name": "stderr",
     "output_type": "stream",
     "text": [
      "[2024-04-17 11:26:42][WAR][dtlpy:v1.72.7][entities.item:113] Item has been fetched from a dataset that is not belong to it\n"
     ]
    },
    {
     "name": "stdout",
     "output_type": "stream",
     "text": [
      "\n",
      "Command Progress: 100%|██████████| 100/100 [00:02<00:00, 48.72it/s]"
     ]
    },
    {
     "name": "stderr",
     "output_type": "stream",
     "text": [
      "[2024-04-17 11:26:45][WAR][dtlpy:v1.72.7][entities.item:113] Item has been fetched from a dataset that is not belong to it\n"
     ]
    },
    {
     "name": "stdout",
     "output_type": "stream",
     "text": [
      "\n",
      "Command Progress: 100%|██████████| 100/100 [00:02<00:00, 47.79it/s]"
     ]
    },
    {
     "name": "stderr",
     "output_type": "stream",
     "text": [
      "[2024-04-17 11:26:47][WAR][dtlpy:v1.72.7][entities.item:113] Item has been fetched from a dataset that is not belong to it\n"
     ]
    },
    {
     "name": "stdout",
     "output_type": "stream",
     "text": [
      "\n",
      "Command Progress: 100%|██████████| 100/100 [00:02<00:00, 48.88it/s]"
     ]
    },
    {
     "name": "stderr",
     "output_type": "stream",
     "text": [
      "[2024-04-17 11:26:49][WAR][dtlpy:v1.72.7][entities.item:113] Item has been fetched from a dataset that is not belong to it\n"
     ]
    },
    {
     "name": "stdout",
     "output_type": "stream",
     "text": [
      "\n",
      "Command Progress: 100%|██████████| 100/100 [00:02<00:00, 44.18it/s]"
     ]
    },
    {
     "name": "stderr",
     "output_type": "stream",
     "text": [
      "[2024-04-17 11:26:52][WAR][dtlpy:v1.72.7][entities.item:113] Item has been fetched from a dataset that is not belong to it\n"
     ]
    },
    {
     "name": "stdout",
     "output_type": "stream",
     "text": [
      "\n",
      "Command Progress: 100%|██████████| 100/100 [00:02<00:00, 49.01it/s]"
     ]
    },
    {
     "name": "stderr",
     "output_type": "stream",
     "text": [
      "[2024-04-17 11:26:55][WAR][dtlpy:v1.72.7][entities.item:113] Item has been fetched from a dataset that is not belong to it\n"
     ]
    },
    {
     "name": "stdout",
     "output_type": "stream",
     "text": [
      "\n",
      "Command Progress: 100%|██████████| 100/100 [00:01<00:00, 71.31it/s]"
     ]
    },
    {
     "name": "stderr",
     "output_type": "stream",
     "text": [
      "[2024-04-17 11:26:56][WAR][dtlpy:v1.72.7][entities.item:113] Item has been fetched from a dataset that is not belong to it\n"
     ]
    },
    {
     "name": "stdout",
     "output_type": "stream",
     "text": [
      "\n",
      "Command Progress: 100%|██████████| 100/100 [00:02<00:00, 46.72it/s]"
     ]
    },
    {
     "name": "stderr",
     "output_type": "stream",
     "text": [
      "[2024-04-17 11:26:59][WAR][dtlpy:v1.72.7][entities.item:113] Item has been fetched from a dataset that is not belong to it\n"
     ]
    },
    {
     "name": "stdout",
     "output_type": "stream",
     "text": [
      "\n",
      "Command Progress: 100%|██████████| 100/100 [00:02<00:00, 48.14it/s]"
     ]
    },
    {
     "name": "stderr",
     "output_type": "stream",
     "text": [
      "[2024-04-17 11:27:01][WAR][dtlpy:v1.72.7][entities.item:113] Item has been fetched from a dataset that is not belong to it\n"
     ]
    },
    {
     "name": "stdout",
     "output_type": "stream",
     "text": [
      "\n",
      "Command Progress: 100%|██████████| 100/100 [00:01<00:00, 85.26it/s]"
     ]
    },
    {
     "name": "stderr",
     "output_type": "stream",
     "text": [
      "[2024-04-17 11:27:03][WAR][dtlpy:v1.72.7][entities.item:113] Item has been fetched from a dataset that is not belong to it\n"
     ]
    },
    {
     "name": "stdout",
     "output_type": "stream",
     "text": [
      "\n",
      "Command Progress: 100%|██████████| 100/100 [00:02<00:00, 47.39it/s]"
     ]
    },
    {
     "name": "stderr",
     "output_type": "stream",
     "text": [
      "[2024-04-17 11:27:06][WAR][dtlpy:v1.72.7][entities.item:113] Item has been fetched from a dataset that is not belong to it\n"
     ]
    },
    {
     "name": "stdout",
     "output_type": "stream",
     "text": [
      "\n",
      "Command Progress: 100%|██████████| 100/100 [00:02<00:00, 49.08it/s]"
     ]
    },
    {
     "name": "stderr",
     "output_type": "stream",
     "text": [
      "[2024-04-17 11:27:08][WAR][dtlpy:v1.72.7][entities.item:113] Item has been fetched from a dataset that is not belong to it\n"
     ]
    },
    {
     "name": "stdout",
     "output_type": "stream",
     "text": [
      "\n",
      "Command Progress: 100%|██████████| 100/100 [00:02<00:00, 48.83it/s]"
     ]
    },
    {
     "name": "stderr",
     "output_type": "stream",
     "text": [
      "[2024-04-17 11:27:11][WAR][dtlpy:v1.72.7][entities.item:113] Item has been fetched from a dataset that is not belong to it\n"
     ]
    },
    {
     "name": "stdout",
     "output_type": "stream",
     "text": [
      "\n",
      "Command Progress: 100%|██████████| 100/100 [00:02<00:00, 49.07it/s]"
     ]
    },
    {
     "name": "stderr",
     "output_type": "stream",
     "text": [
      "[2024-04-17 11:27:13][WAR][dtlpy:v1.72.7][entities.item:113] Item has been fetched from a dataset that is not belong to it\n"
     ]
    },
    {
     "name": "stdout",
     "output_type": "stream",
     "text": [
      "\n",
      "Command Progress: 100%|██████████| 100/100 [00:02<00:00, 48.59it/s]"
     ]
    },
    {
     "name": "stderr",
     "output_type": "stream",
     "text": [
      "[2024-04-17 11:27:16][WAR][dtlpy:v1.72.7][entities.item:113] Item has been fetched from a dataset that is not belong to it\n"
     ]
    },
    {
     "name": "stdout",
     "output_type": "stream",
     "text": [
      "\n",
      "Command Progress: 100%|██████████| 100/100 [00:02<00:00, 48.02it/s]"
     ]
    },
    {
     "name": "stderr",
     "output_type": "stream",
     "text": [
      "[2024-04-17 11:27:18][WAR][dtlpy:v1.72.7][entities.item:113] Item has been fetched from a dataset that is not belong to it\n"
     ]
    },
    {
     "name": "stdout",
     "output_type": "stream",
     "text": [
      "\n",
      "Command Progress: 100%|██████████| 100/100 [00:02<00:00, 40.86it/s]"
     ]
    },
    {
     "name": "stderr",
     "output_type": "stream",
     "text": [
      "[2024-04-17 11:27:21][WAR][dtlpy:v1.72.7][entities.item:113] Item has been fetched from a dataset that is not belong to it\n"
     ]
    },
    {
     "name": "stdout",
     "output_type": "stream",
     "text": [
      "\n",
      "Command Progress: 100%|██████████| 100/100 [00:01<00:00, 79.88it/s]"
     ]
    },
    {
     "name": "stderr",
     "output_type": "stream",
     "text": [
      "[2024-04-17 11:27:23][WAR][dtlpy:v1.72.7][entities.item:113] Item has been fetched from a dataset that is not belong to it\n"
     ]
    },
    {
     "name": "stdout",
     "output_type": "stream",
     "text": [
      "\n",
      "Command Progress: 100%|██████████| 100/100 [00:02<00:00, 49.72it/s]"
     ]
    },
    {
     "name": "stderr",
     "output_type": "stream",
     "text": [
      "[2024-04-17 11:27:25][WAR][dtlpy:v1.72.7][entities.item:113] Item has been fetched from a dataset that is not belong to it\n"
     ]
    },
    {
     "name": "stdout",
     "output_type": "stream",
     "text": [
      "\n",
      "Command Progress: 100%|██████████| 100/100 [00:01<00:00, 86.29it/s]"
     ]
    },
    {
     "name": "stderr",
     "output_type": "stream",
     "text": [
      "[2024-04-17 11:27:27][WAR][dtlpy:v1.72.7][entities.item:113] Item has been fetched from a dataset that is not belong to it\n"
     ]
    },
    {
     "name": "stdout",
     "output_type": "stream",
     "text": [
      "\n",
      "Command Progress: 100%|██████████| 100/100 [00:02<00:00, 49.13it/s]\n"
     ]
    },
    {
     "name": "stderr",
     "output_type": "stream",
     "text": [
      "[2024-04-17 11:27:30][WAR][dtlpy:v1.72.7][entities.item:113] Item has been fetched from a dataset that is not belong to it\n"
     ]
    },
    {
     "name": "stdout",
     "output_type": "stream",
     "text": [
      "Command Progress: 100%|██████████| 100/100 [00:02<00:00, 48.72it/s]"
     ]
    },
    {
     "name": "stderr",
     "output_type": "stream",
     "text": [
      "[2024-04-17 11:27:33][WAR][dtlpy:v1.72.7][entities.item:113] Item has been fetched from a dataset that is not belong to it\n"
     ]
    },
    {
     "name": "stdout",
     "output_type": "stream",
     "text": [
      "\n",
      "Command Progress: 100%|██████████| 100/100 [00:01<00:00, 63.14it/s]"
     ]
    },
    {
     "name": "stderr",
     "output_type": "stream",
     "text": [
      "[2024-04-17 11:27:35][WAR][dtlpy:v1.72.7][entities.item:113] Item has been fetched from a dataset that is not belong to it\n"
     ]
    },
    {
     "name": "stdout",
     "output_type": "stream",
     "text": [
      "\n",
      "Command Progress: 100%|██████████| 100/100 [00:02<00:00, 48.42it/s]"
     ]
    },
    {
     "name": "stderr",
     "output_type": "stream",
     "text": [
      "[2024-04-17 11:27:37][WAR][dtlpy:v1.72.7][entities.item:113] Item has been fetched from a dataset that is not belong to it\n"
     ]
    },
    {
     "name": "stdout",
     "output_type": "stream",
     "text": [
      "\n",
      "Command Progress: 100%|██████████| 100/100 [00:02<00:00, 49.17it/s]"
     ]
    },
    {
     "name": "stderr",
     "output_type": "stream",
     "text": [
      "[2024-04-17 11:27:40][WAR][dtlpy:v1.72.7][entities.item:113] Item has been fetched from a dataset that is not belong to it\n"
     ]
    },
    {
     "name": "stdout",
     "output_type": "stream",
     "text": [
      "\n",
      "Command Progress: 100%|██████████| 100/100 [00:02<00:00, 49.94it/s]"
     ]
    },
    {
     "name": "stderr",
     "output_type": "stream",
     "text": [
      "[2024-04-17 11:27:42][WAR][dtlpy:v1.72.7][entities.item:113] Item has been fetched from a dataset that is not belong to it\n"
     ]
    },
    {
     "name": "stdout",
     "output_type": "stream",
     "text": [
      "\n",
      "Command Progress: 100%|██████████| 100/100 [00:02<00:00, 48.37it/s]"
     ]
    },
    {
     "name": "stderr",
     "output_type": "stream",
     "text": [
      "[2024-04-17 11:27:45][WAR][dtlpy:v1.72.7][entities.item:113] Item has been fetched from a dataset that is not belong to it\n"
     ]
    },
    {
     "name": "stdout",
     "output_type": "stream",
     "text": [
      "\n",
      "Command Progress: 100%|██████████| 100/100 [00:02<00:00, 49.01it/s]"
     ]
    },
    {
     "name": "stderr",
     "output_type": "stream",
     "text": [
      "[2024-04-17 11:27:47][WAR][dtlpy:v1.72.7][entities.item:113] Item has been fetched from a dataset that is not belong to it\n"
     ]
    },
    {
     "name": "stdout",
     "output_type": "stream",
     "text": [
      "\n",
      "Command Progress: 100%|██████████| 100/100 [00:02<00:00, 48.86it/s]"
     ]
    },
    {
     "name": "stderr",
     "output_type": "stream",
     "text": [
      "[2024-04-17 11:27:50][WAR][dtlpy:v1.72.7][entities.item:113] Item has been fetched from a dataset that is not belong to it\n"
     ]
    },
    {
     "name": "stdout",
     "output_type": "stream",
     "text": [
      "\n",
      "Command Progress: 100%|██████████| 100/100 [00:02<00:00, 48.32it/s]"
     ]
    },
    {
     "name": "stderr",
     "output_type": "stream",
     "text": [
      "[2024-04-17 11:27:52][WAR][dtlpy:v1.72.7][entities.item:113] Item has been fetched from a dataset that is not belong to it\n"
     ]
    },
    {
     "name": "stdout",
     "output_type": "stream",
     "text": [
      "\n",
      "Command Progress: 100%|██████████| 100/100 [00:02<00:00, 49.57it/s]"
     ]
    },
    {
     "name": "stderr",
     "output_type": "stream",
     "text": [
      "[2024-04-17 11:27:54][WAR][dtlpy:v1.72.7][entities.item:113] Item has been fetched from a dataset that is not belong to it\n"
     ]
    },
    {
     "name": "stdout",
     "output_type": "stream",
     "text": [
      "\n",
      "Command Progress: 100%|██████████| 100/100 [00:01<00:00, 70.36it/s]"
     ]
    },
    {
     "name": "stderr",
     "output_type": "stream",
     "text": [
      "[2024-04-17 11:27:56][WAR][dtlpy:v1.72.7][entities.item:113] Item has been fetched from a dataset that is not belong to it\n"
     ]
    },
    {
     "name": "stdout",
     "output_type": "stream",
     "text": [
      "\n",
      "Command Progress: 100%|██████████| 100/100 [00:02<00:00, 45.81it/s]"
     ]
    },
    {
     "name": "stderr",
     "output_type": "stream",
     "text": [
      "[2024-04-17 11:27:59][WAR][dtlpy:v1.72.7][entities.item:113] Item has been fetched from a dataset that is not belong to it\n"
     ]
    },
    {
     "name": "stdout",
     "output_type": "stream",
     "text": [
      "\n",
      "Command Progress: 100%|██████████| 100/100 [00:02<00:00, 49.04it/s]"
     ]
    },
    {
     "name": "stderr",
     "output_type": "stream",
     "text": [
      "[2024-04-17 11:28:01][WAR][dtlpy:v1.72.7][entities.item:113] Item has been fetched from a dataset that is not belong to it\n"
     ]
    },
    {
     "name": "stdout",
     "output_type": "stream",
     "text": [
      "\n",
      "Command Progress: 100%|██████████| 100/100 [00:02<00:00, 49.27it/s]"
     ]
    },
    {
     "name": "stderr",
     "output_type": "stream",
     "text": [
      "[2024-04-17 11:28:04][WAR][dtlpy:v1.72.7][entities.item:113] Item has been fetched from a dataset that is not belong to it\n"
     ]
    },
    {
     "name": "stdout",
     "output_type": "stream",
     "text": [
      "\n",
      "Command Progress: 100%|██████████| 100/100 [00:02<00:00, 47.54it/s]"
     ]
    },
    {
     "name": "stderr",
     "output_type": "stream",
     "text": [
      "[2024-04-17 11:28:06][WAR][dtlpy:v1.72.7][entities.item:113] Item has been fetched from a dataset that is not belong to it\n"
     ]
    },
    {
     "name": "stdout",
     "output_type": "stream",
     "text": [
      "\n",
      "Command Progress: 100%|██████████| 100/100 [00:01<00:00, 72.08it/s]"
     ]
    },
    {
     "name": "stderr",
     "output_type": "stream",
     "text": [
      "[2024-04-17 11:28:08][WAR][dtlpy:v1.72.7][entities.item:113] Item has been fetched from a dataset that is not belong to it\n"
     ]
    },
    {
     "name": "stdout",
     "output_type": "stream",
     "text": [
      "\n",
      "Command Progress: 100%|██████████| 100/100 [00:02<00:00, 49.37it/s]"
     ]
    },
    {
     "name": "stderr",
     "output_type": "stream",
     "text": [
      "[2024-04-17 11:28:11][WAR][dtlpy:v1.72.7][entities.item:113] Item has been fetched from a dataset that is not belong to it\n"
     ]
    },
    {
     "name": "stdout",
     "output_type": "stream",
     "text": [
      "\n",
      "Command Progress: 100%|██████████| 100/100 [00:02<00:00, 48.28it/s]"
     ]
    },
    {
     "name": "stderr",
     "output_type": "stream",
     "text": [
      "[2024-04-17 11:28:13][WAR][dtlpy:v1.72.7][entities.item:113] Item has been fetched from a dataset that is not belong to it\n"
     ]
    },
    {
     "name": "stdout",
     "output_type": "stream",
     "text": [
      "\n",
      "Command Progress: 100%|██████████| 100/100 [00:01<00:00, 77.24it/s]"
     ]
    },
    {
     "name": "stderr",
     "output_type": "stream",
     "text": [
      "[2024-04-17 11:28:15][WAR][dtlpy:v1.72.7][entities.item:113] Item has been fetched from a dataset that is not belong to it\n"
     ]
    },
    {
     "name": "stdout",
     "output_type": "stream",
     "text": [
      "\n",
      "Command Progress: 100%|██████████| 100/100 [00:02<00:00, 48.56it/s]\n"
     ]
    },
    {
     "name": "stderr",
     "output_type": "stream",
     "text": [
      "[2024-04-17 11:28:18][WAR][dtlpy:v1.72.7][entities.item:113] Item has been fetched from a dataset that is not belong to it\n"
     ]
    },
    {
     "name": "stdout",
     "output_type": "stream",
     "text": [
      "Command Progress: 100%|██████████| 100/100 [00:02<00:00, 49.10it/s]"
     ]
    },
    {
     "name": "stderr",
     "output_type": "stream",
     "text": [
      "[2024-04-17 11:28:20][WAR][dtlpy:v1.72.7][entities.item:113] Item has been fetched from a dataset that is not belong to it\n"
     ]
    },
    {
     "name": "stdout",
     "output_type": "stream",
     "text": [
      "\n",
      "Command Progress: 100%|██████████| 100/100 [00:02<00:00, 48.93it/s]"
     ]
    },
    {
     "name": "stderr",
     "output_type": "stream",
     "text": [
      "[2024-04-17 11:28:23][WAR][dtlpy:v1.72.7][entities.item:113] Item has been fetched from a dataset that is not belong to it\n"
     ]
    },
    {
     "name": "stdout",
     "output_type": "stream",
     "text": [
      "\n",
      "Command Progress: 100%|██████████| 100/100 [00:02<00:00, 48.72it/s]"
     ]
    },
    {
     "name": "stderr",
     "output_type": "stream",
     "text": [
      "[2024-04-17 11:28:25][WAR][dtlpy:v1.72.7][entities.item:113] Item has been fetched from a dataset that is not belong to it\n"
     ]
    },
    {
     "name": "stdout",
     "output_type": "stream",
     "text": [
      "\n",
      "Command Progress: 100%|██████████| 100/100 [00:02<00:00, 49.78it/s]\n"
     ]
    },
    {
     "name": "stderr",
     "output_type": "stream",
     "text": [
      "[2024-04-17 11:28:28][WAR][dtlpy:v1.72.7][entities.item:113] Item has been fetched from a dataset that is not belong to it\n"
     ]
    },
    {
     "name": "stdout",
     "output_type": "stream",
     "text": [
      "Command Progress: 100%|██████████| 100/100 [00:02<00:00, 49.64it/s]"
     ]
    },
    {
     "name": "stderr",
     "output_type": "stream",
     "text": [
      "[2024-04-17 11:28:30][WAR][dtlpy:v1.72.7][entities.item:113] Item has been fetched from a dataset that is not belong to it\n"
     ]
    },
    {
     "name": "stdout",
     "output_type": "stream",
     "text": [
      "\n",
      "Command Progress: 100%|██████████| 100/100 [00:02<00:00, 49.69it/s]"
     ]
    },
    {
     "name": "stderr",
     "output_type": "stream",
     "text": [
      "[2024-04-17 11:28:32][WAR][dtlpy:v1.72.7][entities.item:113] Item has been fetched from a dataset that is not belong to it\n"
     ]
    },
    {
     "name": "stdout",
     "output_type": "stream",
     "text": [
      "\n",
      "Command Progress: 100%|██████████| 100/100 [00:02<00:00, 48.82it/s]"
     ]
    },
    {
     "name": "stderr",
     "output_type": "stream",
     "text": [
      "[2024-04-17 11:28:35][WAR][dtlpy:v1.72.7][entities.item:113] Item has been fetched from a dataset that is not belong to it\n"
     ]
    },
    {
     "name": "stdout",
     "output_type": "stream",
     "text": [
      "\n",
      "Command Progress: 100%|██████████| 100/100 [00:02<00:00, 47.14it/s]"
     ]
    },
    {
     "name": "stderr",
     "output_type": "stream",
     "text": [
      "[2024-04-17 11:28:37][WAR][dtlpy:v1.72.7][entities.item:113] Item has been fetched from a dataset that is not belong to it\n"
     ]
    },
    {
     "name": "stdout",
     "output_type": "stream",
     "text": [
      "\n",
      "Command Progress: 100%|██████████| 100/100 [00:02<00:00, 49.13it/s]"
     ]
    },
    {
     "name": "stderr",
     "output_type": "stream",
     "text": [
      "[2024-04-17 11:28:40][WAR][dtlpy:v1.72.7][entities.item:113] Item has been fetched from a dataset that is not belong to it\n"
     ]
    },
    {
     "name": "stdout",
     "output_type": "stream",
     "text": [
      "\n",
      "Command Progress: 100%|██████████| 100/100 [00:02<00:00, 48.95it/s]"
     ]
    },
    {
     "name": "stderr",
     "output_type": "stream",
     "text": [
      "[2024-04-17 11:28:42][WAR][dtlpy:v1.72.7][entities.item:113] Item has been fetched from a dataset that is not belong to it\n"
     ]
    },
    {
     "name": "stdout",
     "output_type": "stream",
     "text": [
      "\n",
      "Command Progress: 100%|██████████| 100/100 [00:02<00:00, 48.80it/s]"
     ]
    },
    {
     "name": "stderr",
     "output_type": "stream",
     "text": [
      "[2024-04-17 11:28:45][WAR][dtlpy:v1.72.7][entities.item:113] Item has been fetched from a dataset that is not belong to it\n"
     ]
    },
    {
     "name": "stdout",
     "output_type": "stream",
     "text": [
      "\n",
      "Command Progress: 100%|██████████| 100/100 [00:02<00:00, 47.60it/s]"
     ]
    },
    {
     "name": "stderr",
     "output_type": "stream",
     "text": [
      "[2024-04-17 11:28:47][WAR][dtlpy:v1.72.7][entities.item:113] Item has been fetched from a dataset that is not belong to it\n"
     ]
    },
    {
     "name": "stdout",
     "output_type": "stream",
     "text": [
      "\n",
      "Command Progress: 100%|██████████| 100/100 [00:01<00:00, 74.38it/s]"
     ]
    },
    {
     "name": "stderr",
     "output_type": "stream",
     "text": [
      "[2024-04-17 11:28:49][WAR][dtlpy:v1.72.7][entities.item:113] Item has been fetched from a dataset that is not belong to it\n"
     ]
    },
    {
     "name": "stdout",
     "output_type": "stream",
     "text": [
      "\n",
      "Command Progress: 100%|██████████| 100/100 [00:01<00:00, 69.15it/s]"
     ]
    },
    {
     "name": "stderr",
     "output_type": "stream",
     "text": [
      "[2024-04-17 11:28:51][WAR][dtlpy:v1.72.7][entities.item:113] Item has been fetched from a dataset that is not belong to it\n"
     ]
    },
    {
     "name": "stdout",
     "output_type": "stream",
     "text": [
      "\n",
      "Command Progress: 100%|██████████| 100/100 [00:02<00:00, 49.09it/s]"
     ]
    },
    {
     "name": "stderr",
     "output_type": "stream",
     "text": [
      "[2024-04-17 11:28:53][WAR][dtlpy:v1.72.7][entities.item:113] Item has been fetched from a dataset that is not belong to it\n"
     ]
    },
    {
     "name": "stdout",
     "output_type": "stream",
     "text": [
      "\n",
      "Command Progress: 100%|██████████| 100/100 [00:02<00:00, 48.51it/s]"
     ]
    },
    {
     "name": "stderr",
     "output_type": "stream",
     "text": [
      "[2024-04-17 11:28:55][WAR][dtlpy:v1.72.7][entities.item:113] Item has been fetched from a dataset that is not belong to it\n"
     ]
    },
    {
     "name": "stdout",
     "output_type": "stream",
     "text": [
      "\n",
      "Command Progress: 100%|██████████| 100/100 [00:02<00:00, 49.81it/s]"
     ]
    },
    {
     "name": "stderr",
     "output_type": "stream",
     "text": [
      "[2024-04-17 11:28:58][WAR][dtlpy:v1.72.7][entities.item:113] Item has been fetched from a dataset that is not belong to it\n"
     ]
    },
    {
     "name": "stdout",
     "output_type": "stream",
     "text": [
      "\n",
      "Command Progress: 100%|██████████| 100/100 [00:02<00:00, 48.96it/s]"
     ]
    },
    {
     "name": "stderr",
     "output_type": "stream",
     "text": [
      "[2024-04-17 11:29:00][WAR][dtlpy:v1.72.7][entities.item:113] Item has been fetched from a dataset that is not belong to it\n"
     ]
    },
    {
     "name": "stdout",
     "output_type": "stream",
     "text": [
      "\n",
      "Command Progress: 100%|██████████| 100/100 [00:01<00:00, 72.96it/s]"
     ]
    },
    {
     "name": "stderr",
     "output_type": "stream",
     "text": [
      "[2024-04-17 11:29:02][WAR][dtlpy:v1.72.7][entities.item:113] Item has been fetched from a dataset that is not belong to it\n"
     ]
    },
    {
     "name": "stdout",
     "output_type": "stream",
     "text": [
      "\n",
      "Command Progress: 100%|██████████| 100/100 [00:02<00:00, 47.84it/s]"
     ]
    },
    {
     "name": "stderr",
     "output_type": "stream",
     "text": [
      "[2024-04-17 11:29:05][WAR][dtlpy:v1.72.7][entities.item:113] Item has been fetched from a dataset that is not belong to it\n"
     ]
    },
    {
     "name": "stdout",
     "output_type": "stream",
     "text": [
      "\n",
      "Command Progress: 100%|██████████| 100/100 [00:01<00:00, 73.50it/s]"
     ]
    },
    {
     "name": "stderr",
     "output_type": "stream",
     "text": [
      "[2024-04-17 11:29:06][WAR][dtlpy:v1.72.7][entities.item:113] Item has been fetched from a dataset that is not belong to it\n"
     ]
    },
    {
     "name": "stdout",
     "output_type": "stream",
     "text": [
      "\n",
      "Command Progress: 100%|██████████| 100/100 [00:02<00:00, 47.57it/s]"
     ]
    },
    {
     "name": "stderr",
     "output_type": "stream",
     "text": [
      "[2024-04-17 11:29:09][WAR][dtlpy:v1.72.7][entities.item:113] Item has been fetched from a dataset that is not belong to it\n"
     ]
    },
    {
     "name": "stdout",
     "output_type": "stream",
     "text": [
      "\n",
      "Command Progress: 100%|██████████| 100/100 [00:02<00:00, 48.67it/s]"
     ]
    },
    {
     "name": "stderr",
     "output_type": "stream",
     "text": [
      "[2024-04-17 11:29:11][WAR][dtlpy:v1.72.7][entities.item:113] Item has been fetched from a dataset that is not belong to it\n"
     ]
    },
    {
     "name": "stdout",
     "output_type": "stream",
     "text": [
      "\n",
      "Command Progress: 100%|██████████| 100/100 [00:02<00:00, 48.25it/s]"
     ]
    },
    {
     "name": "stderr",
     "output_type": "stream",
     "text": [
      "[2024-04-17 11:29:14][WAR][dtlpy:v1.72.7][entities.item:113] Item has been fetched from a dataset that is not belong to it\n"
     ]
    },
    {
     "name": "stdout",
     "output_type": "stream",
     "text": [
      "\n",
      "Command Progress: 100%|██████████| 100/100 [00:02<00:00, 48.46it/s]"
     ]
    },
    {
     "name": "stderr",
     "output_type": "stream",
     "text": [
      "[2024-04-17 11:29:16][WAR][dtlpy:v1.72.7][entities.item:113] Item has been fetched from a dataset that is not belong to it\n"
     ]
    },
    {
     "name": "stdout",
     "output_type": "stream",
     "text": [
      "\n",
      "Command Progress: 100%|██████████| 100/100 [00:01<00:00, 75.28it/s]"
     ]
    },
    {
     "name": "stderr",
     "output_type": "stream",
     "text": [
      "[2024-04-17 11:29:18][WAR][dtlpy:v1.72.7][entities.item:113] Item has been fetched from a dataset that is not belong to it\n"
     ]
    },
    {
     "name": "stdout",
     "output_type": "stream",
     "text": [
      "\n",
      "Command Progress: 100%|██████████| 100/100 [00:02<00:00, 47.36it/s]"
     ]
    },
    {
     "name": "stderr",
     "output_type": "stream",
     "text": [
      "[2024-04-17 11:29:20][WAR][dtlpy:v1.72.7][entities.item:113] Item has been fetched from a dataset that is not belong to it\n"
     ]
    },
    {
     "name": "stdout",
     "output_type": "stream",
     "text": [
      "\n",
      "Command Progress: 100%|██████████| 100/100 [00:02<00:00, 48.37it/s]"
     ]
    },
    {
     "name": "stderr",
     "output_type": "stream",
     "text": [
      "[2024-04-17 11:29:23][WAR][dtlpy:v1.72.7][entities.item:113] Item has been fetched from a dataset that is not belong to it\n"
     ]
    },
    {
     "name": "stdout",
     "output_type": "stream",
     "text": [
      "\n",
      "Command Progress: 100%|██████████| 100/100 [00:02<00:00, 48.20it/s]"
     ]
    },
    {
     "name": "stderr",
     "output_type": "stream",
     "text": [
      "[2024-04-17 11:29:25][WAR][dtlpy:v1.72.7][entities.item:113] Item has been fetched from a dataset that is not belong to it\n"
     ]
    },
    {
     "name": "stdout",
     "output_type": "stream",
     "text": [
      "\n",
      "Command Progress: 100%|██████████| 100/100 [00:02<00:00, 49.15it/s]"
     ]
    },
    {
     "name": "stderr",
     "output_type": "stream",
     "text": [
      "[2024-04-17 11:29:28][WAR][dtlpy:v1.72.7][entities.item:113] Item has been fetched from a dataset that is not belong to it\n"
     ]
    },
    {
     "name": "stdout",
     "output_type": "stream",
     "text": [
      "\n",
      "Command Progress: 100%|██████████| 100/100 [00:02<00:00, 48.41it/s]"
     ]
    },
    {
     "name": "stderr",
     "output_type": "stream",
     "text": [
      "[2024-04-17 11:29:30][WAR][dtlpy:v1.72.7][entities.item:113] Item has been fetched from a dataset that is not belong to it\n"
     ]
    },
    {
     "name": "stdout",
     "output_type": "stream",
     "text": [
      "\n",
      "Command Progress: 100%|██████████| 100/100 [00:02<00:00, 49.05it/s]"
     ]
    },
    {
     "name": "stderr",
     "output_type": "stream",
     "text": [
      "[2024-04-17 11:29:33][WAR][dtlpy:v1.72.7][entities.item:113] Item has been fetched from a dataset that is not belong to it\n"
     ]
    },
    {
     "name": "stdout",
     "output_type": "stream",
     "text": [
      "\n",
      "Command Progress: 100%|██████████| 100/100 [00:02<00:00, 49.67it/s]"
     ]
    },
    {
     "name": "stderr",
     "output_type": "stream",
     "text": [
      "[2024-04-17 11:29:36][WAR][dtlpy:v1.72.7][entities.item:113] Item has been fetched from a dataset that is not belong to it\n"
     ]
    },
    {
     "name": "stdout",
     "output_type": "stream",
     "text": [
      "\n",
      "Command Progress: 100%|██████████| 100/100 [00:02<00:00, 48.60it/s]"
     ]
    },
    {
     "name": "stderr",
     "output_type": "stream",
     "text": [
      "[2024-04-17 11:29:38][WAR][dtlpy:v1.72.7][entities.item:113] Item has been fetched from a dataset that is not belong to it\n"
     ]
    },
    {
     "name": "stdout",
     "output_type": "stream",
     "text": [
      "\n",
      "Command Progress: 100%|██████████| 100/100 [00:02<00:00, 48.74it/s]"
     ]
    },
    {
     "name": "stderr",
     "output_type": "stream",
     "text": [
      "[2024-04-17 11:29:41][WAR][dtlpy:v1.72.7][entities.item:113] Item has been fetched from a dataset that is not belong to it\n"
     ]
    },
    {
     "name": "stdout",
     "output_type": "stream",
     "text": [
      "\n",
      "Command Progress: 100%|██████████| 100/100 [00:02<00:00, 49.43it/s]"
     ]
    },
    {
     "name": "stderr",
     "output_type": "stream",
     "text": [
      "[2024-04-17 11:29:43][WAR][dtlpy:v1.72.7][entities.item:113] Item has been fetched from a dataset that is not belong to it\n"
     ]
    },
    {
     "name": "stdout",
     "output_type": "stream",
     "text": [
      "\n",
      "Command Progress: 100%|██████████| 100/100 [00:02<00:00, 48.82it/s]"
     ]
    },
    {
     "name": "stderr",
     "output_type": "stream",
     "text": [
      "[2024-04-17 11:29:45][WAR][dtlpy:v1.72.7][entities.item:113] Item has been fetched from a dataset that is not belong to it\n"
     ]
    },
    {
     "name": "stdout",
     "output_type": "stream",
     "text": [
      "\n",
      "Command Progress: 100%|██████████| 100/100 [00:02<00:00, 49.59it/s]"
     ]
    },
    {
     "name": "stderr",
     "output_type": "stream",
     "text": [
      "[2024-04-17 11:29:48][WAR][dtlpy:v1.72.7][entities.item:113] Item has been fetched from a dataset that is not belong to it\n"
     ]
    },
    {
     "name": "stdout",
     "output_type": "stream",
     "text": [
      "\n",
      "Command Progress: 100%|██████████| 100/100 [00:02<00:00, 49.37it/s]"
     ]
    },
    {
     "name": "stderr",
     "output_type": "stream",
     "text": [
      "[2024-04-17 11:29:50][WAR][dtlpy:v1.72.7][entities.item:113] Item has been fetched from a dataset that is not belong to it\n"
     ]
    },
    {
     "name": "stdout",
     "output_type": "stream",
     "text": [
      "\n",
      "Command Progress: 100%|██████████| 100/100 [00:02<00:00, 49.31it/s]\n"
     ]
    },
    {
     "name": "stderr",
     "output_type": "stream",
     "text": [
      "[2024-04-17 11:29:53][WAR][dtlpy:v1.72.7][entities.item:113] Item has been fetched from a dataset that is not belong to it\n"
     ]
    },
    {
     "name": "stdout",
     "output_type": "stream",
     "text": [
      "Command Progress: 100%|██████████| 100/100 [00:02<00:00, 49.35it/s]\n"
     ]
    },
    {
     "name": "stderr",
     "output_type": "stream",
     "text": [
      "[2024-04-17 11:29:55][WAR][dtlpy:v1.72.7][entities.item:113] Item has been fetched from a dataset that is not belong to it\n"
     ]
    },
    {
     "name": "stdout",
     "output_type": "stream",
     "text": [
      "Command Progress: 100%|██████████| 100/100 [00:02<00:00, 49.85it/s]\n"
     ]
    },
    {
     "name": "stderr",
     "output_type": "stream",
     "text": [
      "[2024-04-17 11:29:58][WAR][dtlpy:v1.72.7][entities.item:113] Item has been fetched from a dataset that is not belong to it\n"
     ]
    },
    {
     "name": "stdout",
     "output_type": "stream",
     "text": [
      "Command Progress: 100%|██████████| 100/100 [00:02<00:00, 49.37it/s]"
     ]
    },
    {
     "name": "stderr",
     "output_type": "stream",
     "text": [
      "[2024-04-17 11:30:00][WAR][dtlpy:v1.72.7][entities.item:113] Item has been fetched from a dataset that is not belong to it\n"
     ]
    },
    {
     "name": "stdout",
     "output_type": "stream",
     "text": [
      "\n",
      "Command Progress: 100%|██████████| 100/100 [00:02<00:00, 48.53it/s]"
     ]
    },
    {
     "name": "stderr",
     "output_type": "stream",
     "text": [
      "[2024-04-17 11:30:03][WAR][dtlpy:v1.72.7][entities.item:113] Item has been fetched from a dataset that is not belong to it\n"
     ]
    },
    {
     "name": "stdout",
     "output_type": "stream",
     "text": [
      "\n",
      "Command Progress: 100%|██████████| 100/100 [00:02<00:00, 48.25it/s]"
     ]
    },
    {
     "name": "stderr",
     "output_type": "stream",
     "text": [
      "[2024-04-17 11:30:05][WAR][dtlpy:v1.72.7][entities.item:113] Item has been fetched from a dataset that is not belong to it\n"
     ]
    },
    {
     "name": "stdout",
     "output_type": "stream",
     "text": [
      "\n",
      "Command Progress: 100%|██████████| 100/100 [00:01<00:00, 70.16it/s]"
     ]
    },
    {
     "name": "stderr",
     "output_type": "stream",
     "text": [
      "[2024-04-17 11:30:07][WAR][dtlpy:v1.72.7][entities.item:113] Item has been fetched from a dataset that is not belong to it\n"
     ]
    },
    {
     "name": "stdout",
     "output_type": "stream",
     "text": [
      "\n",
      "Command Progress: 100%|██████████| 100/100 [00:02<00:00, 48.39it/s]"
     ]
    },
    {
     "name": "stderr",
     "output_type": "stream",
     "text": [
      "[2024-04-17 11:30:09][WAR][dtlpy:v1.72.7][entities.item:113] Item has been fetched from a dataset that is not belong to it\n"
     ]
    },
    {
     "name": "stdout",
     "output_type": "stream",
     "text": [
      "\n",
      "Command Progress: 100%|██████████| 100/100 [00:02<00:00, 48.60it/s]"
     ]
    },
    {
     "name": "stderr",
     "output_type": "stream",
     "text": [
      "[2024-04-17 11:30:12][WAR][dtlpy:v1.72.7][entities.item:113] Item has been fetched from a dataset that is not belong to it\n"
     ]
    },
    {
     "name": "stdout",
     "output_type": "stream",
     "text": [
      "\n",
      "Command Progress: 100%|██████████| 100/100 [00:02<00:00, 48.94it/s]"
     ]
    },
    {
     "name": "stderr",
     "output_type": "stream",
     "text": [
      "[2024-04-17 11:30:14][WAR][dtlpy:v1.72.7][entities.item:113] Item has been fetched from a dataset that is not belong to it\n"
     ]
    },
    {
     "name": "stdout",
     "output_type": "stream",
     "text": [
      "\n",
      "Command Progress: 100%|██████████| 100/100 [00:02<00:00, 49.63it/s]"
     ]
    },
    {
     "name": "stderr",
     "output_type": "stream",
     "text": [
      "[2024-04-17 11:30:17][WAR][dtlpy:v1.72.7][entities.item:113] Item has been fetched from a dataset that is not belong to it\n"
     ]
    },
    {
     "name": "stdout",
     "output_type": "stream",
     "text": [
      "\n",
      "Command Progress: 100%|██████████| 100/100 [00:02<00:00, 49.03it/s]"
     ]
    },
    {
     "name": "stderr",
     "output_type": "stream",
     "text": [
      "[2024-04-17 11:30:19][WAR][dtlpy:v1.72.7][entities.item:113] Item has been fetched from a dataset that is not belong to it\n"
     ]
    },
    {
     "name": "stdout",
     "output_type": "stream",
     "text": [
      "\n",
      "Command Progress: 100%|██████████| 100/100 [00:02<00:00, 48.48it/s]"
     ]
    },
    {
     "name": "stderr",
     "output_type": "stream",
     "text": [
      "[2024-04-17 11:30:22][WAR][dtlpy:v1.72.7][entities.item:113] Item has been fetched from a dataset that is not belong to it\n"
     ]
    },
    {
     "name": "stdout",
     "output_type": "stream",
     "text": [
      "\n",
      "Command Progress: 100%|██████████| 100/100 [00:02<00:00, 49.53it/s]"
     ]
    },
    {
     "name": "stderr",
     "output_type": "stream",
     "text": [
      "[2024-04-17 11:30:24][WAR][dtlpy:v1.72.7][entities.item:113] Item has been fetched from a dataset that is not belong to it\n"
     ]
    },
    {
     "name": "stdout",
     "output_type": "stream",
     "text": [
      "\n",
      "Command Progress: 100%|██████████| 100/100 [00:02<00:00, 48.70it/s]"
     ]
    },
    {
     "name": "stderr",
     "output_type": "stream",
     "text": [
      "[2024-04-17 11:30:27][WAR][dtlpy:v1.72.7][entities.item:113] Item has been fetched from a dataset that is not belong to it\n"
     ]
    },
    {
     "name": "stdout",
     "output_type": "stream",
     "text": [
      "\n",
      "Command Progress: 100%|██████████| 100/100 [00:01<00:00, 75.42it/s]"
     ]
    },
    {
     "name": "stderr",
     "output_type": "stream",
     "text": [
      "[2024-04-17 11:30:28][WAR][dtlpy:v1.72.7][entities.item:113] Item has been fetched from a dataset that is not belong to it\n"
     ]
    },
    {
     "name": "stdout",
     "output_type": "stream",
     "text": [
      "\n",
      "Command Progress: 100%|██████████| 100/100 [00:02<00:00, 48.60it/s]"
     ]
    },
    {
     "name": "stderr",
     "output_type": "stream",
     "text": [
      "[2024-04-17 11:30:31][WAR][dtlpy:v1.72.7][entities.item:113] Item has been fetched from a dataset that is not belong to it\n"
     ]
    },
    {
     "name": "stdout",
     "output_type": "stream",
     "text": [
      "\n",
      "Command Progress: 100%|██████████| 100/100 [00:02<00:00, 49.38it/s]"
     ]
    },
    {
     "name": "stderr",
     "output_type": "stream",
     "text": [
      "[2024-04-17 11:30:33][WAR][dtlpy:v1.72.7][entities.item:113] Item has been fetched from a dataset that is not belong to it\n"
     ]
    },
    {
     "name": "stdout",
     "output_type": "stream",
     "text": [
      "\n",
      "Command Progress: 100%|██████████| 100/100 [00:02<00:00, 49.20it/s]"
     ]
    },
    {
     "name": "stderr",
     "output_type": "stream",
     "text": [
      "[2024-04-17 11:30:36][WAR][dtlpy:v1.72.7][entities.item:113] Item has been fetched from a dataset that is not belong to it\n"
     ]
    },
    {
     "name": "stdout",
     "output_type": "stream",
     "text": [
      "\n",
      "Command Progress: 100%|██████████| 100/100 [00:02<00:00, 49.56it/s]"
     ]
    },
    {
     "name": "stderr",
     "output_type": "stream",
     "text": [
      "[2024-04-17 11:30:38][WAR][dtlpy:v1.72.7][entities.item:113] Item has been fetched from a dataset that is not belong to it\n"
     ]
    },
    {
     "name": "stdout",
     "output_type": "stream",
     "text": [
      "\n",
      "Command Progress: 100%|██████████| 100/100 [00:02<00:00, 49.34it/s]"
     ]
    },
    {
     "name": "stderr",
     "output_type": "stream",
     "text": [
      "[2024-04-17 11:30:40][WAR][dtlpy:v1.72.7][entities.item:113] Item has been fetched from a dataset that is not belong to it\n"
     ]
    },
    {
     "name": "stdout",
     "output_type": "stream",
     "text": [
      "\n",
      "Command Progress: 100%|██████████| 100/100 [00:02<00:00, 49.43it/s]"
     ]
    },
    {
     "name": "stderr",
     "output_type": "stream",
     "text": [
      "[2024-04-17 11:30:43][WAR][dtlpy:v1.72.7][entities.item:113] Item has been fetched from a dataset that is not belong to it\n"
     ]
    },
    {
     "name": "stdout",
     "output_type": "stream",
     "text": [
      "\n",
      "Command Progress: 100%|██████████| 100/100 [00:02<00:00, 48.95it/s]"
     ]
    },
    {
     "name": "stderr",
     "output_type": "stream",
     "text": [
      "[2024-04-17 11:30:45][WAR][dtlpy:v1.72.7][entities.item:113] Item has been fetched from a dataset that is not belong to it\n"
     ]
    },
    {
     "name": "stdout",
     "output_type": "stream",
     "text": [
      "\n",
      "Command Progress: 100%|██████████| 100/100 [00:02<00:00, 48.51it/s]"
     ]
    },
    {
     "name": "stderr",
     "output_type": "stream",
     "text": [
      "[2024-04-17 11:30:48][WAR][dtlpy:v1.72.7][entities.item:113] Item has been fetched from a dataset that is not belong to it\n"
     ]
    },
    {
     "name": "stdout",
     "output_type": "stream",
     "text": [
      "\n",
      "Command Progress: 100%|██████████| 100/100 [00:02<00:00, 47.95it/s]"
     ]
    },
    {
     "name": "stderr",
     "output_type": "stream",
     "text": [
      "[2024-04-17 11:30:50][WAR][dtlpy:v1.72.7][entities.item:113] Item has been fetched from a dataset that is not belong to it\n"
     ]
    },
    {
     "name": "stdout",
     "output_type": "stream",
     "text": [
      "\n",
      "Command Progress: 100%|██████████| 100/100 [00:02<00:00, 49.79it/s]"
     ]
    },
    {
     "name": "stderr",
     "output_type": "stream",
     "text": [
      "[2024-04-17 11:30:53][WAR][dtlpy:v1.72.7][entities.item:113] Item has been fetched from a dataset that is not belong to it\n"
     ]
    },
    {
     "name": "stdout",
     "output_type": "stream",
     "text": [
      "\n",
      "Command Progress: 100%|██████████| 100/100 [00:02<00:00, 44.97it/s]"
     ]
    },
    {
     "name": "stderr",
     "output_type": "stream",
     "text": [
      "[2024-04-17 11:30:55][WAR][dtlpy:v1.72.7][entities.item:113] Item has been fetched from a dataset that is not belong to it\n"
     ]
    },
    {
     "name": "stdout",
     "output_type": "stream",
     "text": [
      "\n",
      "Command Progress: 100%|██████████| 100/100 [00:02<00:00, 44.32it/s]"
     ]
    },
    {
     "name": "stderr",
     "output_type": "stream",
     "text": [
      "[2024-04-17 11:30:58][WAR][dtlpy:v1.72.7][entities.item:113] Item has been fetched from a dataset that is not belong to it\n"
     ]
    },
    {
     "name": "stdout",
     "output_type": "stream",
     "text": [
      "\n",
      "Command Progress: 100%|██████████| 100/100 [00:02<00:00, 49.49it/s]"
     ]
    },
    {
     "name": "stderr",
     "output_type": "stream",
     "text": [
      "[2024-04-17 11:31:00][WAR][dtlpy:v1.72.7][entities.item:113] Item has been fetched from a dataset that is not belong to it\n"
     ]
    },
    {
     "name": "stdout",
     "output_type": "stream",
     "text": [
      "\n",
      "Command Progress: 100%|██████████| 100/100 [00:02<00:00, 49.52it/s]"
     ]
    },
    {
     "name": "stderr",
     "output_type": "stream",
     "text": [
      "[2024-04-17 11:31:03][WAR][dtlpy:v1.72.7][entities.item:113] Item has been fetched from a dataset that is not belong to it\n"
     ]
    },
    {
     "name": "stdout",
     "output_type": "stream",
     "text": [
      "\n",
      "Command Progress: 100%|██████████| 100/100 [00:02<00:00, 46.14it/s]"
     ]
    },
    {
     "name": "stderr",
     "output_type": "stream",
     "text": [
      "[2024-04-17 11:31:05][WAR][dtlpy:v1.72.7][entities.item:113] Item has been fetched from a dataset that is not belong to it\n"
     ]
    },
    {
     "name": "stdout",
     "output_type": "stream",
     "text": [
      "\n",
      "Command Progress: 100%|██████████| 100/100 [00:02<00:00, 49.68it/s]"
     ]
    },
    {
     "name": "stderr",
     "output_type": "stream",
     "text": [
      "[2024-04-17 11:31:08][WAR][dtlpy:v1.72.7][entities.item:113] Item has been fetched from a dataset that is not belong to it\n"
     ]
    },
    {
     "name": "stdout",
     "output_type": "stream",
     "text": [
      "\n",
      "Command Progress: 100%|██████████| 100/100 [00:02<00:00, 48.07it/s]"
     ]
    },
    {
     "name": "stderr",
     "output_type": "stream",
     "text": [
      "[2024-04-17 11:31:10][WAR][dtlpy:v1.72.7][entities.item:113] Item has been fetched from a dataset that is not belong to it\n"
     ]
    },
    {
     "name": "stdout",
     "output_type": "stream",
     "text": [
      "\n",
      "Command Progress: 100%|██████████| 100/100 [00:02<00:00, 48.44it/s]"
     ]
    },
    {
     "name": "stderr",
     "output_type": "stream",
     "text": [
      "[2024-04-17 11:31:13][WAR][dtlpy:v1.72.7][entities.item:113] Item has been fetched from a dataset that is not belong to it\n"
     ]
    },
    {
     "name": "stdout",
     "output_type": "stream",
     "text": [
      "\n",
      "Command Progress: 100%|██████████| 100/100 [00:02<00:00, 49.44it/s]"
     ]
    },
    {
     "name": "stderr",
     "output_type": "stream",
     "text": [
      "[2024-04-17 11:31:15][WAR][dtlpy:v1.72.7][entities.item:113] Item has been fetched from a dataset that is not belong to it\n"
     ]
    },
    {
     "name": "stdout",
     "output_type": "stream",
     "text": [
      "\n",
      "Command Progress: 100%|██████████| 100/100 [00:01<00:00, 69.87it/s]"
     ]
    },
    {
     "name": "stderr",
     "output_type": "stream",
     "text": [
      "[2024-04-17 11:31:17][WAR][dtlpy:v1.72.7][entities.item:113] Item has been fetched from a dataset that is not belong to it\n"
     ]
    },
    {
     "name": "stdout",
     "output_type": "stream",
     "text": [
      "\n",
      "Command Progress: 100%|██████████| 100/100 [00:01<00:00, 80.15it/s]"
     ]
    },
    {
     "name": "stderr",
     "output_type": "stream",
     "text": [
      "[2024-04-17 11:31:19][WAR][dtlpy:v1.72.7][entities.item:113] Item has been fetched from a dataset that is not belong to it\n"
     ]
    },
    {
     "name": "stdout",
     "output_type": "stream",
     "text": [
      "\n",
      "Command Progress: 100%|██████████| 100/100 [00:01<00:00, 63.81it/s]"
     ]
    },
    {
     "name": "stderr",
     "output_type": "stream",
     "text": [
      "[2024-04-17 11:31:21][WAR][dtlpy:v1.72.7][entities.item:113] Item has been fetched from a dataset that is not belong to it\n"
     ]
    },
    {
     "name": "stdout",
     "output_type": "stream",
     "text": [
      "\n",
      "Command Progress: 100%|██████████| 100/100 [00:02<00:00, 49.75it/s]"
     ]
    },
    {
     "name": "stderr",
     "output_type": "stream",
     "text": [
      "[2024-04-17 11:31:23][WAR][dtlpy:v1.72.7][entities.item:113] Item has been fetched from a dataset that is not belong to it\n"
     ]
    },
    {
     "name": "stdout",
     "output_type": "stream",
     "text": [
      "\n",
      "Command Progress: 100%|██████████| 100/100 [00:02<00:00, 49.68it/s]"
     ]
    },
    {
     "name": "stderr",
     "output_type": "stream",
     "text": [
      "[2024-04-17 11:31:25][WAR][dtlpy:v1.72.7][entities.item:113] Item has been fetched from a dataset that is not belong to it\n"
     ]
    },
    {
     "name": "stdout",
     "output_type": "stream",
     "text": [
      "\n",
      "Command Progress: 100%|██████████| 100/100 [00:02<00:00, 45.47it/s]"
     ]
    },
    {
     "name": "stderr",
     "output_type": "stream",
     "text": [
      "[2024-04-17 11:31:28][WAR][dtlpy:v1.72.7][entities.item:113] Item has been fetched from a dataset that is not belong to it\n"
     ]
    },
    {
     "name": "stdout",
     "output_type": "stream",
     "text": [
      "\n",
      "Command Progress: 100%|██████████| 100/100 [00:02<00:00, 41.23it/s]"
     ]
    },
    {
     "name": "stderr",
     "output_type": "stream",
     "text": [
      "[2024-04-17 11:31:31][WAR][dtlpy:v1.72.7][entities.item:113] Item has been fetched from a dataset that is not belong to it\n"
     ]
    },
    {
     "name": "stdout",
     "output_type": "stream",
     "text": [
      "\n",
      "Command Progress: 100%|██████████| 100/100 [00:02<00:00, 49.03it/s]"
     ]
    },
    {
     "name": "stderr",
     "output_type": "stream",
     "text": [
      "[2024-04-17 11:31:33][WAR][dtlpy:v1.72.7][entities.item:113] Item has been fetched from a dataset that is not belong to it\n"
     ]
    },
    {
     "name": "stdout",
     "output_type": "stream",
     "text": [
      "\n",
      "Command Progress: 100%|██████████| 100/100 [00:02<00:00, 49.49it/s]"
     ]
    },
    {
     "name": "stderr",
     "output_type": "stream",
     "text": [
      "[2024-04-17 11:31:36][WAR][dtlpy:v1.72.7][entities.item:113] Item has been fetched from a dataset that is not belong to it\n"
     ]
    },
    {
     "name": "stdout",
     "output_type": "stream",
     "text": [
      "\n",
      "Command Progress: 100%|██████████| 100/100 [00:02<00:00, 49.39it/s]"
     ]
    },
    {
     "name": "stderr",
     "output_type": "stream",
     "text": [
      "[2024-04-17 11:31:38][WAR][dtlpy:v1.72.7][entities.item:113] Item has been fetched from a dataset that is not belong to it\n"
     ]
    },
    {
     "name": "stdout",
     "output_type": "stream",
     "text": [
      "\n",
      "Command Progress: 100%|██████████| 100/100 [00:01<00:00, 70.02it/s]"
     ]
    },
    {
     "name": "stderr",
     "output_type": "stream",
     "text": [
      "[2024-04-17 11:31:40][WAR][dtlpy:v1.72.7][entities.item:113] Item has been fetched from a dataset that is not belong to it\n"
     ]
    },
    {
     "name": "stdout",
     "output_type": "stream",
     "text": [
      "\n",
      "Command Progress: 100%|██████████| 100/100 [00:02<00:00, 49.30it/s]"
     ]
    },
    {
     "name": "stderr",
     "output_type": "stream",
     "text": [
      "[2024-04-17 11:31:42][WAR][dtlpy:v1.72.7][entities.item:113] Item has been fetched from a dataset that is not belong to it\n"
     ]
    },
    {
     "name": "stdout",
     "output_type": "stream",
     "text": [
      "\n",
      "Command Progress: 100%|██████████| 100/100 [00:02<00:00, 48.42it/s]"
     ]
    },
    {
     "name": "stderr",
     "output_type": "stream",
     "text": [
      "[2024-04-17 11:31:45][WAR][dtlpy:v1.72.7][entities.item:113] Item has been fetched from a dataset that is not belong to it\n"
     ]
    },
    {
     "name": "stdout",
     "output_type": "stream",
     "text": [
      "\n",
      "Command Progress: 100%|██████████| 100/100 [00:02<00:00, 49.32it/s]"
     ]
    },
    {
     "name": "stderr",
     "output_type": "stream",
     "text": [
      "[2024-04-17 11:31:47][WAR][dtlpy:v1.72.7][entities.item:113] Item has been fetched from a dataset that is not belong to it\n"
     ]
    },
    {
     "name": "stdout",
     "output_type": "stream",
     "text": [
      "\n",
      "Command Progress: 100%|██████████| 100/100 [00:02<00:00, 49.21it/s]"
     ]
    },
    {
     "name": "stderr",
     "output_type": "stream",
     "text": [
      "[2024-04-17 11:31:50][WAR][dtlpy:v1.72.7][entities.item:113] Item has been fetched from a dataset that is not belong to it\n"
     ]
    },
    {
     "name": "stdout",
     "output_type": "stream",
     "text": [
      "\n",
      "Command Progress: 100%|██████████| 100/100 [00:02<00:00, 49.91it/s]"
     ]
    },
    {
     "name": "stderr",
     "output_type": "stream",
     "text": [
      "[2024-04-17 11:31:52][WAR][dtlpy:v1.72.7][entities.item:113] Item has been fetched from a dataset that is not belong to it\n"
     ]
    },
    {
     "name": "stdout",
     "output_type": "stream",
     "text": [
      "\n",
      "Command Progress: 100%|██████████| 100/100 [00:02<00:00, 49.49it/s]"
     ]
    },
    {
     "name": "stderr",
     "output_type": "stream",
     "text": [
      "[2024-04-17 11:31:54][WAR][dtlpy:v1.72.7][entities.item:113] Item has been fetched from a dataset that is not belong to it\n"
     ]
    },
    {
     "name": "stdout",
     "output_type": "stream",
     "text": [
      "\n",
      "Command Progress: 100%|██████████| 100/100 [00:02<00:00, 49.37it/s]"
     ]
    },
    {
     "name": "stderr",
     "output_type": "stream",
     "text": [
      "[2024-04-17 11:31:57][WAR][dtlpy:v1.72.7][entities.item:113] Item has been fetched from a dataset that is not belong to it\n"
     ]
    },
    {
     "name": "stdout",
     "output_type": "stream",
     "text": [
      "\n",
      "Command Progress: 100%|██████████| 100/100 [00:02<00:00, 48.86it/s]"
     ]
    },
    {
     "name": "stderr",
     "output_type": "stream",
     "text": [
      "[2024-04-17 11:31:59][WAR][dtlpy:v1.72.7][entities.item:113] Item has been fetched from a dataset that is not belong to it\n"
     ]
    },
    {
     "name": "stdout",
     "output_type": "stream",
     "text": [
      "\n",
      "Command Progress: 100%|██████████| 100/100 [00:02<00:00, 49.41it/s]"
     ]
    },
    {
     "name": "stderr",
     "output_type": "stream",
     "text": [
      "[2024-04-17 11:32:02][WAR][dtlpy:v1.72.7][entities.item:113] Item has been fetched from a dataset that is not belong to it\n"
     ]
    },
    {
     "name": "stdout",
     "output_type": "stream",
     "text": [
      "\n",
      "Command Progress: 100%|██████████| 100/100 [00:02<00:00, 49.63it/s]"
     ]
    },
    {
     "name": "stderr",
     "output_type": "stream",
     "text": [
      "[2024-04-17 11:32:04][WAR][dtlpy:v1.72.7][entities.item:113] Item has been fetched from a dataset that is not belong to it\n"
     ]
    },
    {
     "name": "stdout",
     "output_type": "stream",
     "text": [
      "\n",
      "Command Progress: 100%|██████████| 100/100 [00:02<00:00, 49.01it/s]"
     ]
    },
    {
     "name": "stderr",
     "output_type": "stream",
     "text": [
      "[2024-04-17 11:32:07][WAR][dtlpy:v1.72.7][entities.item:113] Item has been fetched from a dataset that is not belong to it\n"
     ]
    },
    {
     "name": "stdout",
     "output_type": "stream",
     "text": [
      "\n",
      "Command Progress: 100%|██████████| 100/100 [00:02<00:00, 46.04it/s]"
     ]
    },
    {
     "name": "stderr",
     "output_type": "stream",
     "text": [
      "[2024-04-17 11:32:09][WAR][dtlpy:v1.72.7][entities.item:113] Item has been fetched from a dataset that is not belong to it\n"
     ]
    },
    {
     "name": "stdout",
     "output_type": "stream",
     "text": [
      "\n",
      "Command Progress: 100%|██████████| 100/100 [00:02<00:00, 49.46it/s]"
     ]
    },
    {
     "name": "stderr",
     "output_type": "stream",
     "text": [
      "[2024-04-17 11:32:12][WAR][dtlpy:v1.72.7][entities.item:113] Item has been fetched from a dataset that is not belong to it\n"
     ]
    },
    {
     "name": "stdout",
     "output_type": "stream",
     "text": [
      "\n",
      "Command Progress: 100%|██████████| 100/100 [00:02<00:00, 49.20it/s]"
     ]
    },
    {
     "name": "stderr",
     "output_type": "stream",
     "text": [
      "[2024-04-17 11:32:14][WAR][dtlpy:v1.72.7][entities.item:113] Item has been fetched from a dataset that is not belong to it\n"
     ]
    },
    {
     "name": "stdout",
     "output_type": "stream",
     "text": [
      "\n",
      "Command Progress: 100%|██████████| 100/100 [00:02<00:00, 42.85it/s]"
     ]
    },
    {
     "name": "stderr",
     "output_type": "stream",
     "text": [
      "[2024-04-17 11:32:17][WAR][dtlpy:v1.72.7][entities.item:113] Item has been fetched from a dataset that is not belong to it\n"
     ]
    },
    {
     "name": "stdout",
     "output_type": "stream",
     "text": [
      "\n",
      "Command Progress: 100%|██████████| 100/100 [00:02<00:00, 49.34it/s]"
     ]
    },
    {
     "name": "stderr",
     "output_type": "stream",
     "text": [
      "[2024-04-17 11:32:19][WAR][dtlpy:v1.72.7][entities.item:113] Item has been fetched from a dataset that is not belong to it\n"
     ]
    },
    {
     "name": "stdout",
     "output_type": "stream",
     "text": [
      "\n",
      "Command Progress: 100%|██████████| 100/100 [00:02<00:00, 49.01it/s]"
     ]
    },
    {
     "name": "stderr",
     "output_type": "stream",
     "text": [
      "[2024-04-17 11:32:22][WAR][dtlpy:v1.72.7][entities.item:113] Item has been fetched from a dataset that is not belong to it\n"
     ]
    },
    {
     "name": "stdout",
     "output_type": "stream",
     "text": [
      "\n",
      "Command Progress: 100%|██████████| 100/100 [00:01<00:00, 63.91it/s]"
     ]
    },
    {
     "name": "stderr",
     "output_type": "stream",
     "text": [
      "[2024-04-17 11:32:24][WAR][dtlpy:v1.72.7][entities.item:113] Item has been fetched from a dataset that is not belong to it\n"
     ]
    },
    {
     "name": "stdout",
     "output_type": "stream",
     "text": [
      "\n",
      "Command Progress: 100%|██████████| 100/100 [00:02<00:00, 49.38it/s]"
     ]
    },
    {
     "name": "stderr",
     "output_type": "stream",
     "text": [
      "[2024-04-17 11:32:26][WAR][dtlpy:v1.72.7][entities.item:113] Item has been fetched from a dataset that is not belong to it\n"
     ]
    },
    {
     "name": "stdout",
     "output_type": "stream",
     "text": [
      "\n",
      "Command Progress: 100%|██████████| 100/100 [00:02<00:00, 49.73it/s]"
     ]
    },
    {
     "name": "stderr",
     "output_type": "stream",
     "text": [
      "[2024-04-17 11:32:29][WAR][dtlpy:v1.72.7][entities.item:113] Item has been fetched from a dataset that is not belong to it\n"
     ]
    },
    {
     "name": "stdout",
     "output_type": "stream",
     "text": [
      "\n",
      "Command Progress: 100%|██████████| 100/100 [00:02<00:00, 49.77it/s]"
     ]
    },
    {
     "name": "stderr",
     "output_type": "stream",
     "text": [
      "[2024-04-17 11:32:31][WAR][dtlpy:v1.72.7][entities.item:113] Item has been fetched from a dataset that is not belong to it\n"
     ]
    },
    {
     "name": "stdout",
     "output_type": "stream",
     "text": [
      "\n",
      "Command Progress: 100%|██████████| 100/100 [00:02<00:00, 47.48it/s]"
     ]
    },
    {
     "name": "stderr",
     "output_type": "stream",
     "text": [
      "[2024-04-17 11:32:33][WAR][dtlpy:v1.72.7][entities.item:113] Item has been fetched from a dataset that is not belong to it\n"
     ]
    },
    {
     "name": "stdout",
     "output_type": "stream",
     "text": [
      "\n",
      "Command Progress: 100%|██████████| 100/100 [00:01<00:00, 79.89it/s]"
     ]
    },
    {
     "name": "stderr",
     "output_type": "stream",
     "text": [
      "[2024-04-17 11:32:35][WAR][dtlpy:v1.72.7][entities.item:113] Item has been fetched from a dataset that is not belong to it\n"
     ]
    },
    {
     "name": "stdout",
     "output_type": "stream",
     "text": [
      "\n",
      "Command Progress: 100%|██████████| 100/100 [00:02<00:00, 48.98it/s]\n"
     ]
    },
    {
     "name": "stderr",
     "output_type": "stream",
     "text": [
      "[2024-04-17 11:32:38][WAR][dtlpy:v1.72.7][entities.item:113] Item has been fetched from a dataset that is not belong to it\n"
     ]
    },
    {
     "name": "stdout",
     "output_type": "stream",
     "text": [
      "Command Progress: 100%|██████████| 100/100 [00:02<00:00, 49.59it/s]"
     ]
    },
    {
     "name": "stderr",
     "output_type": "stream",
     "text": [
      "[2024-04-17 11:32:40][WAR][dtlpy:v1.72.7][entities.item:113] Item has been fetched from a dataset that is not belong to it\n"
     ]
    },
    {
     "name": "stdout",
     "output_type": "stream",
     "text": [
      "\n",
      "Command Progress: 100%|██████████| 100/100 [00:02<00:00, 49.36it/s]"
     ]
    },
    {
     "name": "stderr",
     "output_type": "stream",
     "text": [
      "[2024-04-17 11:32:42][WAR][dtlpy:v1.72.7][entities.item:113] Item has been fetched from a dataset that is not belong to it\n"
     ]
    },
    {
     "name": "stdout",
     "output_type": "stream",
     "text": [
      "\n",
      "Command Progress: 100%|██████████| 100/100 [00:01<00:00, 50.06it/s]"
     ]
    },
    {
     "name": "stderr",
     "output_type": "stream",
     "text": [
      "[2024-04-17 11:32:45][WAR][dtlpy:v1.72.7][entities.item:113] Item has been fetched from a dataset that is not belong to it\n"
     ]
    },
    {
     "name": "stdout",
     "output_type": "stream",
     "text": [
      "\n",
      "Command Progress: 100%|██████████| 100/100 [00:02<00:00, 49.32it/s]"
     ]
    },
    {
     "name": "stderr",
     "output_type": "stream",
     "text": [
      "[2024-04-17 11:32:47][WAR][dtlpy:v1.72.7][entities.item:113] Item has been fetched from a dataset that is not belong to it\n"
     ]
    },
    {
     "name": "stdout",
     "output_type": "stream",
     "text": [
      "\n",
      "Command Progress: 100%|██████████| 100/100 [00:02<00:00, 49.27it/s]"
     ]
    },
    {
     "name": "stderr",
     "output_type": "stream",
     "text": [
      "[2024-04-17 11:32:50][WAR][dtlpy:v1.72.7][entities.item:113] Item has been fetched from a dataset that is not belong to it\n"
     ]
    },
    {
     "name": "stdout",
     "output_type": "stream",
     "text": [
      "\n",
      "Command Progress: 100%|██████████| 100/100 [00:02<00:00, 48.68it/s]"
     ]
    },
    {
     "name": "stderr",
     "output_type": "stream",
     "text": [
      "[2024-04-17 11:32:52][WAR][dtlpy:v1.72.7][entities.item:113] Item has been fetched from a dataset that is not belong to it\n"
     ]
    },
    {
     "name": "stdout",
     "output_type": "stream",
     "text": [
      "\n",
      "Command Progress: 100%|██████████| 100/100 [00:02<00:00, 39.74it/s]"
     ]
    },
    {
     "name": "stderr",
     "output_type": "stream",
     "text": [
      "[2024-04-17 11:32:55][WAR][dtlpy:v1.72.7][entities.item:113] Item has been fetched from a dataset that is not belong to it\n"
     ]
    },
    {
     "name": "stdout",
     "output_type": "stream",
     "text": [
      "\n",
      "Command Progress: 100%|██████████| 100/100 [00:02<00:00, 49.66it/s]"
     ]
    },
    {
     "name": "stderr",
     "output_type": "stream",
     "text": [
      "[2024-04-17 11:32:58][WAR][dtlpy:v1.72.7][entities.item:113] Item has been fetched from a dataset that is not belong to it\n"
     ]
    },
    {
     "name": "stdout",
     "output_type": "stream",
     "text": [
      "\n",
      "Command Progress: 100%|██████████| 100/100 [00:02<00:00, 47.95it/s]"
     ]
    },
    {
     "name": "stderr",
     "output_type": "stream",
     "text": [
      "[2024-04-17 11:33:00][WAR][dtlpy:v1.72.7][entities.item:113] Item has been fetched from a dataset that is not belong to it\n"
     ]
    },
    {
     "name": "stdout",
     "output_type": "stream",
     "text": [
      "\n",
      "Command Progress: 100%|██████████| 100/100 [00:02<00:00, 49.74it/s]"
     ]
    },
    {
     "name": "stderr",
     "output_type": "stream",
     "text": [
      "[2024-04-17 11:33:03][WAR][dtlpy:v1.72.7][entities.item:113] Item has been fetched from a dataset that is not belong to it\n"
     ]
    },
    {
     "name": "stdout",
     "output_type": "stream",
     "text": [
      "\n",
      "Command Progress: 100%|██████████| 100/100 [00:02<00:00, 49.35it/s]"
     ]
    },
    {
     "name": "stderr",
     "output_type": "stream",
     "text": [
      "[2024-04-17 11:33:05][WAR][dtlpy:v1.72.7][entities.item:113] Item has been fetched from a dataset that is not belong to it\n"
     ]
    },
    {
     "name": "stdout",
     "output_type": "stream",
     "text": [
      "\n",
      "Command Progress: 100%|██████████| 100/100 [00:02<00:00, 49.33it/s]"
     ]
    },
    {
     "name": "stderr",
     "output_type": "stream",
     "text": [
      "[2024-04-17 11:33:07][WAR][dtlpy:v1.72.7][entities.item:113] Item has been fetched from a dataset that is not belong to it\n"
     ]
    },
    {
     "name": "stdout",
     "output_type": "stream",
     "text": [
      "\n",
      "Command Progress: 100%|██████████| 100/100 [00:02<00:00, 48.51it/s]"
     ]
    },
    {
     "name": "stderr",
     "output_type": "stream",
     "text": [
      "[2024-04-17 11:33:10][WAR][dtlpy:v1.72.7][entities.item:113] Item has been fetched from a dataset that is not belong to it\n"
     ]
    },
    {
     "name": "stdout",
     "output_type": "stream",
     "text": [
      "\n",
      "Command Progress: 100%|██████████| 100/100 [00:02<00:00, 48.96it/s]"
     ]
    },
    {
     "name": "stderr",
     "output_type": "stream",
     "text": [
      "[2024-04-17 11:33:12][WAR][dtlpy:v1.72.7][entities.item:113] Item has been fetched from a dataset that is not belong to it\n"
     ]
    },
    {
     "name": "stdout",
     "output_type": "stream",
     "text": [
      "\n",
      "Command Progress: 100%|██████████| 100/100 [00:02<00:00, 48.91it/s]"
     ]
    },
    {
     "name": "stderr",
     "output_type": "stream",
     "text": [
      "[2024-04-17 11:33:15][WAR][dtlpy:v1.72.7][entities.item:113] Item has been fetched from a dataset that is not belong to it\n"
     ]
    },
    {
     "name": "stdout",
     "output_type": "stream",
     "text": [
      "\n",
      "Command Progress: 100%|██████████| 100/100 [00:02<00:00, 49.13it/s]"
     ]
    },
    {
     "name": "stderr",
     "output_type": "stream",
     "text": [
      "[2024-04-17 11:33:17][WAR][dtlpy:v1.72.7][entities.item:113] Item has been fetched from a dataset that is not belong to it\n"
     ]
    },
    {
     "name": "stdout",
     "output_type": "stream",
     "text": [
      "\n",
      "Command Progress: 100%|██████████| 100/100 [00:02<00:00, 49.35it/s]"
     ]
    },
    {
     "name": "stderr",
     "output_type": "stream",
     "text": [
      "[2024-04-17 11:33:20][WAR][dtlpy:v1.72.7][entities.item:113] Item has been fetched from a dataset that is not belong to it\n"
     ]
    },
    {
     "name": "stdout",
     "output_type": "stream",
     "text": [
      "\n",
      "Command Progress: 100%|██████████| 100/100 [00:01<00:00, 60.87it/s]"
     ]
    },
    {
     "name": "stderr",
     "output_type": "stream",
     "text": [
      "[2024-04-17 11:33:22][WAR][dtlpy:v1.72.7][entities.item:113] Item has been fetched from a dataset that is not belong to it\n"
     ]
    },
    {
     "name": "stdout",
     "output_type": "stream",
     "text": [
      "\n",
      "Command Progress: 100%|██████████| 100/100 [00:02<00:00, 48.47it/s]"
     ]
    },
    {
     "name": "stderr",
     "output_type": "stream",
     "text": [
      "[2024-04-17 11:33:24][WAR][dtlpy:v1.72.7][entities.item:113] Item has been fetched from a dataset that is not belong to it\n"
     ]
    },
    {
     "name": "stdout",
     "output_type": "stream",
     "text": [
      "\n",
      "Command Progress: 100%|██████████| 100/100 [00:01<00:00, 80.64it/s]"
     ]
    },
    {
     "name": "stderr",
     "output_type": "stream",
     "text": [
      "[2024-04-17 11:33:26][WAR][dtlpy:v1.72.7][entities.item:113] Item has been fetched from a dataset that is not belong to it\n"
     ]
    },
    {
     "name": "stdout",
     "output_type": "stream",
     "text": [
      "\n",
      "Command Progress: 100%|██████████| 100/100 [00:02<00:00, 49.72it/s]"
     ]
    },
    {
     "name": "stderr",
     "output_type": "stream",
     "text": [
      "[2024-04-17 11:33:28][WAR][dtlpy:v1.72.7][entities.item:113] Item has been fetched from a dataset that is not belong to it\n"
     ]
    },
    {
     "name": "stdout",
     "output_type": "stream",
     "text": [
      "\n",
      "Command Progress: 100%|██████████| 100/100 [00:01<00:00, 74.94it/s]"
     ]
    },
    {
     "name": "stderr",
     "output_type": "stream",
     "text": [
      "[2024-04-17 11:33:30][WAR][dtlpy:v1.72.7][entities.item:113] Item has been fetched from a dataset that is not belong to it\n"
     ]
    },
    {
     "name": "stdout",
     "output_type": "stream",
     "text": [
      "\n",
      "Command Progress: 100%|██████████| 100/100 [00:02<00:00, 48.88it/s]"
     ]
    },
    {
     "name": "stderr",
     "output_type": "stream",
     "text": [
      "[2024-04-17 11:33:32][WAR][dtlpy:v1.72.7][entities.item:113] Item has been fetched from a dataset that is not belong to it\n"
     ]
    },
    {
     "name": "stdout",
     "output_type": "stream",
     "text": [
      "\n",
      "Command Progress: 100%|██████████| 100/100 [00:02<00:00, 48.00it/s]"
     ]
    },
    {
     "name": "stderr",
     "output_type": "stream",
     "text": [
      "[2024-04-17 11:33:35][WAR][dtlpy:v1.72.7][entities.item:113] Item has been fetched from a dataset that is not belong to it\n"
     ]
    },
    {
     "name": "stdout",
     "output_type": "stream",
     "text": [
      "\n",
      "Command Progress: 100%|██████████| 100/100 [00:02<00:00, 48.00it/s]"
     ]
    },
    {
     "name": "stderr",
     "output_type": "stream",
     "text": [
      "[2024-04-17 11:33:37][WAR][dtlpy:v1.72.7][entities.item:113] Item has been fetched from a dataset that is not belong to it\n"
     ]
    },
    {
     "name": "stdout",
     "output_type": "stream",
     "text": [
      "\n",
      "Command Progress: 100%|██████████| 100/100 [00:02<00:00, 49.37it/s]"
     ]
    },
    {
     "name": "stderr",
     "output_type": "stream",
     "text": [
      "[2024-04-17 11:33:40][WAR][dtlpy:v1.72.7][entities.item:113] Item has been fetched from a dataset that is not belong to it\n"
     ]
    },
    {
     "name": "stdout",
     "output_type": "stream",
     "text": [
      "\n",
      "Command Progress: 100%|██████████| 100/100 [00:02<00:00, 49.44it/s]"
     ]
    },
    {
     "name": "stderr",
     "output_type": "stream",
     "text": [
      "[2024-04-17 11:33:42][WAR][dtlpy:v1.72.7][entities.item:113] Item has been fetched from a dataset that is not belong to it\n"
     ]
    },
    {
     "name": "stdout",
     "output_type": "stream",
     "text": [
      "\n",
      "Command Progress: 100%|██████████| 100/100 [00:02<00:00, 49.37it/s]"
     ]
    },
    {
     "name": "stderr",
     "output_type": "stream",
     "text": [
      "[2024-04-17 11:33:45][WAR][dtlpy:v1.72.7][entities.item:113] Item has been fetched from a dataset that is not belong to it\n"
     ]
    },
    {
     "name": "stdout",
     "output_type": "stream",
     "text": [
      "\n",
      "Command Progress: 100%|██████████| 100/100 [00:02<00:00, 47.95it/s]"
     ]
    },
    {
     "name": "stderr",
     "output_type": "stream",
     "text": [
      "[2024-04-17 11:33:47][WAR][dtlpy:v1.72.7][entities.item:113] Item has been fetched from a dataset that is not belong to it\n"
     ]
    },
    {
     "name": "stdout",
     "output_type": "stream",
     "text": [
      "\n",
      "Command Progress: 100%|██████████| 100/100 [00:02<00:00, 46.59it/s]"
     ]
    },
    {
     "name": "stderr",
     "output_type": "stream",
     "text": [
      "[2024-04-17 11:33:50][WAR][dtlpy:v1.72.7][entities.item:113] Item has been fetched from a dataset that is not belong to it\n"
     ]
    },
    {
     "name": "stdout",
     "output_type": "stream",
     "text": [
      "\n",
      "Command Progress: 100%|██████████| 100/100 [00:02<00:00, 47.41it/s]"
     ]
    },
    {
     "name": "stderr",
     "output_type": "stream",
     "text": [
      "[2024-04-17 11:33:52][WAR][dtlpy:v1.72.7][entities.item:113] Item has been fetched from a dataset that is not belong to it\n"
     ]
    },
    {
     "name": "stdout",
     "output_type": "stream",
     "text": [
      "\n",
      "Command Progress: 100%|██████████| 100/100 [00:02<00:00, 48.51it/s]"
     ]
    },
    {
     "name": "stderr",
     "output_type": "stream",
     "text": [
      "[2024-04-17 11:33:55][WAR][dtlpy:v1.72.7][entities.item:113] Item has been fetched from a dataset that is not belong to it\n"
     ]
    },
    {
     "name": "stdout",
     "output_type": "stream",
     "text": [
      "\n",
      "Command Progress: 100%|██████████| 100/100 [00:02<00:00, 48.37it/s]"
     ]
    },
    {
     "name": "stderr",
     "output_type": "stream",
     "text": [
      "[2024-04-17 11:33:57][WAR][dtlpy:v1.72.7][entities.item:113] Item has been fetched from a dataset that is not belong to it\n"
     ]
    },
    {
     "name": "stdout",
     "output_type": "stream",
     "text": [
      "\n",
      "Command Progress: 100%|██████████| 100/100 [00:02<00:00, 49.30it/s]"
     ]
    },
    {
     "name": "stderr",
     "output_type": "stream",
     "text": [
      "[2024-04-17 11:34:00][WAR][dtlpy:v1.72.7][entities.item:113] Item has been fetched from a dataset that is not belong to it\n"
     ]
    },
    {
     "name": "stdout",
     "output_type": "stream",
     "text": [
      "\n",
      "Command Progress: 100%|██████████| 100/100 [00:02<00:00, 46.61it/s]"
     ]
    },
    {
     "name": "stderr",
     "output_type": "stream",
     "text": [
      "[2024-04-17 11:34:02][WAR][dtlpy:v1.72.7][entities.item:113] Item has been fetched from a dataset that is not belong to it\n"
     ]
    },
    {
     "name": "stdout",
     "output_type": "stream",
     "text": [
      "\n",
      "Command Progress: 100%|██████████| 100/100 [00:02<00:00, 49.43it/s]"
     ]
    },
    {
     "name": "stderr",
     "output_type": "stream",
     "text": [
      "[2024-04-17 11:34:05][WAR][dtlpy:v1.72.7][entities.item:113] Item has been fetched from a dataset that is not belong to it\n"
     ]
    },
    {
     "name": "stdout",
     "output_type": "stream",
     "text": [
      "\n",
      "Command Progress: 100%|██████████| 100/100 [00:02<00:00, 48.95it/s]"
     ]
    },
    {
     "name": "stderr",
     "output_type": "stream",
     "text": [
      "[2024-04-17 11:34:07][WAR][dtlpy:v1.72.7][entities.item:113] Item has been fetched from a dataset that is not belong to it\n"
     ]
    },
    {
     "name": "stdout",
     "output_type": "stream",
     "text": [
      "\n",
      "Command Progress: 100%|██████████| 100/100 [00:02<00:00, 49.47it/s]"
     ]
    },
    {
     "name": "stderr",
     "output_type": "stream",
     "text": [
      "[2024-04-17 11:34:09][WAR][dtlpy:v1.72.7][entities.item:113] Item has been fetched from a dataset that is not belong to it\n"
     ]
    },
    {
     "name": "stdout",
     "output_type": "stream",
     "text": [
      "\n",
      "Command Progress: 100%|██████████| 100/100 [00:02<00:00, 41.77it/s]"
     ]
    },
    {
     "name": "stderr",
     "output_type": "stream",
     "text": [
      "[2024-04-17 11:34:12][WAR][dtlpy:v1.72.7][entities.item:113] Item has been fetched from a dataset that is not belong to it\n"
     ]
    },
    {
     "name": "stdout",
     "output_type": "stream",
     "text": [
      "\n",
      "Command Progress: 100%|██████████| 100/100 [00:02<00:00, 49.15it/s]"
     ]
    },
    {
     "name": "stderr",
     "output_type": "stream",
     "text": [
      "[2024-04-17 11:34:15][WAR][dtlpy:v1.72.7][entities.item:113] Item has been fetched from a dataset that is not belong to it\n"
     ]
    },
    {
     "name": "stdout",
     "output_type": "stream",
     "text": [
      "\n",
      "Command Progress: 100%|██████████| 100/100 [00:02<00:00, 49.06it/s]"
     ]
    },
    {
     "name": "stderr",
     "output_type": "stream",
     "text": [
      "[2024-04-17 11:34:17][WAR][dtlpy:v1.72.7][entities.item:113] Item has been fetched from a dataset that is not belong to it\n"
     ]
    },
    {
     "name": "stdout",
     "output_type": "stream",
     "text": [
      "\n",
      "Command Progress: 100%|██████████| 100/100 [00:01<00:00, 69.28it/s]"
     ]
    },
    {
     "name": "stderr",
     "output_type": "stream",
     "text": [
      "[2024-04-17 11:34:19][WAR][dtlpy:v1.72.7][entities.item:113] Item has been fetched from a dataset that is not belong to it\n"
     ]
    },
    {
     "name": "stdout",
     "output_type": "stream",
     "text": [
      "\n",
      "Command Progress: 100%|██████████| 100/100 [00:02<00:00, 49.30it/s]"
     ]
    },
    {
     "name": "stderr",
     "output_type": "stream",
     "text": [
      "[2024-04-17 11:34:21][WAR][dtlpy:v1.72.7][entities.item:113] Item has been fetched from a dataset that is not belong to it\n"
     ]
    },
    {
     "name": "stdout",
     "output_type": "stream",
     "text": [
      "\n",
      "Command Progress: 100%|██████████| 100/100 [00:01<00:00, 71.87it/s]"
     ]
    },
    {
     "name": "stderr",
     "output_type": "stream",
     "text": [
      "[2024-04-17 11:34:23][WAR][dtlpy:v1.72.7][entities.item:113] Item has been fetched from a dataset that is not belong to it\n"
     ]
    },
    {
     "name": "stdout",
     "output_type": "stream",
     "text": [
      "\n",
      "Command Progress: 100%|██████████| 100/100 [00:02<00:00, 48.96it/s]"
     ]
    },
    {
     "name": "stderr",
     "output_type": "stream",
     "text": [
      "[2024-04-17 11:34:25][WAR][dtlpy:v1.72.7][entities.item:113] Item has been fetched from a dataset that is not belong to it\n"
     ]
    },
    {
     "name": "stdout",
     "output_type": "stream",
     "text": [
      "\n",
      "Command Progress: 100%|██████████| 100/100 [00:02<00:00, 48.70it/s]"
     ]
    },
    {
     "name": "stderr",
     "output_type": "stream",
     "text": [
      "[2024-04-17 11:34:28][WAR][dtlpy:v1.72.7][entities.item:113] Item has been fetched from a dataset that is not belong to it\n"
     ]
    },
    {
     "name": "stdout",
     "output_type": "stream",
     "text": [
      "\n",
      "Command Progress: 100%|██████████| 100/100 [00:02<00:00, 49.50it/s]"
     ]
    },
    {
     "name": "stderr",
     "output_type": "stream",
     "text": [
      "[2024-04-17 11:34:30][WAR][dtlpy:v1.72.7][entities.item:113] Item has been fetched from a dataset that is not belong to it\n"
     ]
    },
    {
     "name": "stdout",
     "output_type": "stream",
     "text": [
      "\n",
      "Command Progress: 100%|██████████| 100/100 [00:02<00:00, 49.23it/s]"
     ]
    },
    {
     "name": "stderr",
     "output_type": "stream",
     "text": [
      "[2024-04-17 11:34:33][WAR][dtlpy:v1.72.7][entities.item:113] Item has been fetched from a dataset that is not belong to it\n"
     ]
    },
    {
     "name": "stdout",
     "output_type": "stream",
     "text": [
      "\n",
      "Command Progress: 100%|██████████| 100/100 [00:02<00:00, 49.35it/s]"
     ]
    },
    {
     "name": "stderr",
     "output_type": "stream",
     "text": [
      "[2024-04-17 11:34:35][WAR][dtlpy:v1.72.7][entities.item:113] Item has been fetched from a dataset that is not belong to it\n"
     ]
    },
    {
     "name": "stdout",
     "output_type": "stream",
     "text": [
      "\n",
      "Command Progress: 100%|██████████| 100/100 [00:02<00:00, 48.50it/s]"
     ]
    },
    {
     "name": "stderr",
     "output_type": "stream",
     "text": [
      "[2024-04-17 11:34:37][WAR][dtlpy:v1.72.7][entities.item:113] Item has been fetched from a dataset that is not belong to it\n"
     ]
    },
    {
     "name": "stdout",
     "output_type": "stream",
     "text": [
      "\n",
      "Command Progress: 100%|██████████| 100/100 [00:02<00:00, 48.65it/s]"
     ]
    },
    {
     "name": "stderr",
     "output_type": "stream",
     "text": [
      "[2024-04-17 11:34:40][WAR][dtlpy:v1.72.7][entities.item:113] Item has been fetched from a dataset that is not belong to it\n"
     ]
    },
    {
     "name": "stdout",
     "output_type": "stream",
     "text": [
      "\n",
      "Command Progress: 100%|██████████| 100/100 [00:02<00:00, 48.58it/s]"
     ]
    },
    {
     "name": "stderr",
     "output_type": "stream",
     "text": [
      "[2024-04-17 11:34:42][WAR][dtlpy:v1.72.7][entities.item:113] Item has been fetched from a dataset that is not belong to it\n"
     ]
    },
    {
     "name": "stdout",
     "output_type": "stream",
     "text": [
      "\n",
      "Command Progress: 100%|██████████| 100/100 [00:02<00:00, 48.99it/s]"
     ]
    },
    {
     "name": "stderr",
     "output_type": "stream",
     "text": [
      "[2024-04-17 11:34:45][WAR][dtlpy:v1.72.7][entities.item:113] Item has been fetched from a dataset that is not belong to it\n"
     ]
    },
    {
     "name": "stdout",
     "output_type": "stream",
     "text": [
      "\n",
      "Command Progress: 100%|██████████| 100/100 [00:01<00:00, 67.83it/s]"
     ]
    },
    {
     "name": "stderr",
     "output_type": "stream",
     "text": [
      "[2024-04-17 11:34:47][WAR][dtlpy:v1.72.7][entities.item:113] Item has been fetched from a dataset that is not belong to it\n"
     ]
    },
    {
     "name": "stdout",
     "output_type": "stream",
     "text": [
      "\n",
      "Command Progress: 100%|██████████| 100/100 [00:01<00:00, 69.43it/s]"
     ]
    },
    {
     "name": "stderr",
     "output_type": "stream",
     "text": [
      "[2024-04-17 11:34:49][WAR][dtlpy:v1.72.7][entities.item:113] Item has been fetched from a dataset that is not belong to it\n"
     ]
    },
    {
     "name": "stdout",
     "output_type": "stream",
     "text": [
      "\n",
      "Command Progress: 100%|██████████| 100/100 [00:02<00:00, 49.30it/s]"
     ]
    },
    {
     "name": "stderr",
     "output_type": "stream",
     "text": [
      "[2024-04-17 11:34:51][WAR][dtlpy:v1.72.7][entities.item:113] Item has been fetched from a dataset that is not belong to it\n"
     ]
    },
    {
     "name": "stdout",
     "output_type": "stream",
     "text": [
      "\n",
      "Command Progress: 100%|██████████| 100/100 [00:02<00:00, 49.34it/s]"
     ]
    },
    {
     "name": "stderr",
     "output_type": "stream",
     "text": [
      "[2024-04-17 11:34:54][WAR][dtlpy:v1.72.7][entities.item:113] Item has been fetched from a dataset that is not belong to it\n"
     ]
    },
    {
     "name": "stdout",
     "output_type": "stream",
     "text": [
      "\n",
      "Command Progress: 100%|██████████| 100/100 [00:02<00:00, 49.61it/s]"
     ]
    },
    {
     "name": "stderr",
     "output_type": "stream",
     "text": [
      "[2024-04-17 11:34:56][WAR][dtlpy:v1.72.7][entities.item:113] Item has been fetched from a dataset that is not belong to it\n"
     ]
    },
    {
     "name": "stdout",
     "output_type": "stream",
     "text": [
      "\n",
      "Command Progress: 100%|██████████| 100/100 [00:02<00:00, 49.88it/s]"
     ]
    },
    {
     "name": "stderr",
     "output_type": "stream",
     "text": [
      "[2024-04-17 11:34:58][WAR][dtlpy:v1.72.7][entities.item:113] Item has been fetched from a dataset that is not belong to it\n"
     ]
    },
    {
     "name": "stdout",
     "output_type": "stream",
     "text": [
      "\n",
      "Command Progress: 100%|██████████| 100/100 [00:02<00:00, 48.80it/s]"
     ]
    },
    {
     "name": "stderr",
     "output_type": "stream",
     "text": [
      "[2024-04-17 11:35:01][WAR][dtlpy:v1.72.7][entities.item:113] Item has been fetched from a dataset that is not belong to it\n"
     ]
    },
    {
     "name": "stdout",
     "output_type": "stream",
     "text": [
      "\n",
      "Command Progress: 100%|██████████| 100/100 [00:02<00:00, 49.24it/s]"
     ]
    },
    {
     "name": "stderr",
     "output_type": "stream",
     "text": [
      "[2024-04-17 11:35:03][WAR][dtlpy:v1.72.7][entities.item:113] Item has been fetched from a dataset that is not belong to it\n"
     ]
    },
    {
     "name": "stdout",
     "output_type": "stream",
     "text": [
      "\n",
      "Command Progress: 100%|██████████| 100/100 [00:01<00:00, 80.55it/s]"
     ]
    },
    {
     "name": "stderr",
     "output_type": "stream",
     "text": [
      "[2024-04-17 11:35:05][WAR][dtlpy:v1.72.7][entities.item:113] Item has been fetched from a dataset that is not belong to it\n"
     ]
    },
    {
     "name": "stdout",
     "output_type": "stream",
     "text": [
      "\n",
      "Command Progress: 100%|██████████| 100/100 [00:02<00:00, 43.54it/s]"
     ]
    },
    {
     "name": "stderr",
     "output_type": "stream",
     "text": [
      "[2024-04-17 11:35:08][WAR][dtlpy:v1.72.7][entities.item:113] Item has been fetched from a dataset that is not belong to it\n"
     ]
    },
    {
     "name": "stdout",
     "output_type": "stream",
     "text": [
      "\n",
      "Command Progress: 100%|██████████| 100/100 [00:02<00:00, 49.69it/s]"
     ]
    },
    {
     "name": "stderr",
     "output_type": "stream",
     "text": [
      "[2024-04-17 11:35:10][WAR][dtlpy:v1.72.7][entities.item:113] Item has been fetched from a dataset that is not belong to it\n"
     ]
    },
    {
     "name": "stdout",
     "output_type": "stream",
     "text": [
      "\n",
      "Command Progress: 100%|██████████| 100/100 [00:02<00:00, 49.07it/s]"
     ]
    },
    {
     "name": "stderr",
     "output_type": "stream",
     "text": [
      "[2024-04-17 11:35:13][WAR][dtlpy:v1.72.7][entities.item:113] Item has been fetched from a dataset that is not belong to it\n"
     ]
    },
    {
     "name": "stdout",
     "output_type": "stream",
     "text": [
      "\n",
      "Command Progress: 100%|██████████| 100/100 [00:02<00:00, 49.29it/s]"
     ]
    },
    {
     "name": "stderr",
     "output_type": "stream",
     "text": [
      "[2024-04-17 11:35:15][WAR][dtlpy:v1.72.7][entities.item:113] Item has been fetched from a dataset that is not belong to it\n"
     ]
    },
    {
     "name": "stdout",
     "output_type": "stream",
     "text": [
      "\n",
      "Command Progress: 100%|██████████| 100/100 [00:02<00:00, 49.23it/s]\n"
     ]
    },
    {
     "name": "stderr",
     "output_type": "stream",
     "text": [
      "[2024-04-17 11:35:18][WAR][dtlpy:v1.72.7][entities.item:113] Item has been fetched from a dataset that is not belong to it\n"
     ]
    },
    {
     "name": "stdout",
     "output_type": "stream",
     "text": [
      "Command Progress: 100%|██████████| 100/100 [00:02<00:00, 48.93it/s]"
     ]
    },
    {
     "name": "stderr",
     "output_type": "stream",
     "text": [
      "[2024-04-17 11:35:20][WAR][dtlpy:v1.72.7][entities.item:113] Item has been fetched from a dataset that is not belong to it\n"
     ]
    },
    {
     "name": "stdout",
     "output_type": "stream",
     "text": [
      "\n",
      "Command Progress: 100%|██████████| 100/100 [00:01<00:00, 50.03it/s]"
     ]
    },
    {
     "name": "stderr",
     "output_type": "stream",
     "text": [
      "[2024-04-17 11:35:23][WAR][dtlpy:v1.72.7][entities.item:113] Item has been fetched from a dataset that is not belong to it\n"
     ]
    },
    {
     "name": "stdout",
     "output_type": "stream",
     "text": [
      "\n",
      "Command Progress: 100%|██████████| 100/100 [00:02<00:00, 45.41it/s]"
     ]
    },
    {
     "name": "stderr",
     "output_type": "stream",
     "text": [
      "[2024-04-17 11:35:25][WAR][dtlpy:v1.72.7][entities.item:113] Item has been fetched from a dataset that is not belong to it\n"
     ]
    },
    {
     "name": "stdout",
     "output_type": "stream",
     "text": [
      "\n",
      "Command Progress: 100%|██████████| 100/100 [00:02<00:00, 48.76it/s]"
     ]
    },
    {
     "name": "stderr",
     "output_type": "stream",
     "text": [
      "[2024-04-17 11:35:28][WAR][dtlpy:v1.72.7][entities.item:113] Item has been fetched from a dataset that is not belong to it\n"
     ]
    },
    {
     "name": "stdout",
     "output_type": "stream",
     "text": [
      "\n",
      "Command Progress: 100%|██████████| 100/100 [00:02<00:00, 48.36it/s]"
     ]
    },
    {
     "name": "stderr",
     "output_type": "stream",
     "text": [
      "[2024-04-17 11:35:30][WAR][dtlpy:v1.72.7][entities.item:113] Item has been fetched from a dataset that is not belong to it\n"
     ]
    },
    {
     "name": "stdout",
     "output_type": "stream",
     "text": [
      "\n",
      "Command Progress: 100%|██████████| 100/100 [00:02<00:00, 49.12it/s]"
     ]
    },
    {
     "name": "stderr",
     "output_type": "stream",
     "text": [
      "[2024-04-17 11:35:33][WAR][dtlpy:v1.72.7][entities.item:113] Item has been fetched from a dataset that is not belong to it\n"
     ]
    },
    {
     "name": "stdout",
     "output_type": "stream",
     "text": [
      "\n",
      "Command Progress: 100%|██████████| 100/100 [00:02<00:00, 44.11it/s]"
     ]
    },
    {
     "name": "stderr",
     "output_type": "stream",
     "text": [
      "[2024-04-17 11:35:35][WAR][dtlpy:v1.72.7][entities.item:113] Item has been fetched from a dataset that is not belong to it\n"
     ]
    },
    {
     "name": "stdout",
     "output_type": "stream",
     "text": [
      "\n",
      "Command Progress: 100%|██████████| 100/100 [00:02<00:00, 47.36it/s]"
     ]
    },
    {
     "name": "stderr",
     "output_type": "stream",
     "text": [
      "[2024-04-17 11:35:38][WAR][dtlpy:v1.72.7][entities.item:113] Item has been fetched from a dataset that is not belong to it\n"
     ]
    },
    {
     "name": "stdout",
     "output_type": "stream",
     "text": [
      "\n",
      "Command Progress: 100%|██████████| 100/100 [00:02<00:00, 49.51it/s]"
     ]
    },
    {
     "name": "stderr",
     "output_type": "stream",
     "text": [
      "[2024-04-17 11:35:40][WAR][dtlpy:v1.72.7][entities.item:113] Item has been fetched from a dataset that is not belong to it\n"
     ]
    },
    {
     "name": "stdout",
     "output_type": "stream",
     "text": [
      "\n",
      "Command Progress: 100%|██████████| 100/100 [00:02<00:00, 49.69it/s]"
     ]
    },
    {
     "name": "stderr",
     "output_type": "stream",
     "text": [
      "[2024-04-17 11:35:42][WAR][dtlpy:v1.72.7][entities.item:113] Item has been fetched from a dataset that is not belong to it\n"
     ]
    },
    {
     "name": "stdout",
     "output_type": "stream",
     "text": [
      "\n",
      "Command Progress: 100%|██████████| 100/100 [00:02<00:00, 43.34it/s]"
     ]
    },
    {
     "name": "stderr",
     "output_type": "stream",
     "text": [
      "[2024-04-17 11:35:45][WAR][dtlpy:v1.72.7][entities.item:113] Item has been fetched from a dataset that is not belong to it\n"
     ]
    },
    {
     "name": "stdout",
     "output_type": "stream",
     "text": [
      "\n",
      "Command Progress: 100%|██████████| 100/100 [00:02<00:00, 48.84it/s]\n"
     ]
    },
    {
     "name": "stderr",
     "output_type": "stream",
     "text": [
      "[2024-04-17 11:35:48][WAR][dtlpy:v1.72.7][entities.item:113] Item has been fetched from a dataset that is not belong to it\n"
     ]
    },
    {
     "name": "stdout",
     "output_type": "stream",
     "text": [
      "Command Progress: 100%|██████████| 100/100 [00:02<00:00, 48.42it/s]"
     ]
    },
    {
     "name": "stderr",
     "output_type": "stream",
     "text": [
      "[2024-04-17 11:35:50][WAR][dtlpy:v1.72.7][entities.item:113] Item has been fetched from a dataset that is not belong to it\n"
     ]
    },
    {
     "name": "stdout",
     "output_type": "stream",
     "text": [
      "\n",
      "Command Progress: 100%|██████████| 100/100 [00:02<00:00, 49.22it/s]"
     ]
    },
    {
     "name": "stderr",
     "output_type": "stream",
     "text": [
      "[2024-04-17 11:35:53][WAR][dtlpy:v1.72.7][entities.item:113] Item has been fetched from a dataset that is not belong to it\n"
     ]
    },
    {
     "name": "stdout",
     "output_type": "stream",
     "text": [
      "\n",
      "Command Progress: 100%|██████████| 100/100 [00:02<00:00, 49.03it/s]"
     ]
    },
    {
     "name": "stderr",
     "output_type": "stream",
     "text": [
      "[2024-04-17 11:35:55][WAR][dtlpy:v1.72.7][entities.item:113] Item has been fetched from a dataset that is not belong to it\n"
     ]
    },
    {
     "name": "stdout",
     "output_type": "stream",
     "text": [
      "\n",
      "Command Progress: 100%|██████████| 100/100 [00:02<00:00, 49.95it/s]"
     ]
    },
    {
     "name": "stderr",
     "output_type": "stream",
     "text": [
      "[2024-04-17 11:35:57][WAR][dtlpy:v1.72.7][entities.item:113] Item has been fetched from a dataset that is not belong to it\n"
     ]
    },
    {
     "name": "stdout",
     "output_type": "stream",
     "text": [
      "\n",
      "Command Progress: 100%|██████████| 100/100 [00:01<00:00, 78.21it/s]"
     ]
    },
    {
     "name": "stderr",
     "output_type": "stream",
     "text": [
      "[2024-04-17 11:35:59][WAR][dtlpy:v1.72.7][entities.item:113] Item has been fetched from a dataset that is not belong to it\n"
     ]
    },
    {
     "name": "stdout",
     "output_type": "stream",
     "text": [
      "\n",
      "Command Progress: 100%|██████████| 100/100 [00:02<00:00, 49.54it/s]\n"
     ]
    },
    {
     "name": "stderr",
     "output_type": "stream",
     "text": [
      "[2024-04-17 11:36:02][WAR][dtlpy:v1.72.7][entities.item:113] Item has been fetched from a dataset that is not belong to it\n"
     ]
    },
    {
     "name": "stdout",
     "output_type": "stream",
     "text": [
      "Command Progress: 100%|██████████| 100/100 [00:02<00:00, 49.01it/s]"
     ]
    },
    {
     "name": "stderr",
     "output_type": "stream",
     "text": [
      "[2024-04-17 11:36:04][WAR][dtlpy:v1.72.7][entities.item:113] Item has been fetched from a dataset that is not belong to it\n"
     ]
    },
    {
     "name": "stdout",
     "output_type": "stream",
     "text": [
      "\n",
      "Command Progress: 100%|██████████| 100/100 [00:01<00:00, 72.13it/s]"
     ]
    },
    {
     "name": "stderr",
     "output_type": "stream",
     "text": [
      "[2024-04-17 11:36:06][WAR][dtlpy:v1.72.7][entities.item:113] Item has been fetched from a dataset that is not belong to it\n"
     ]
    },
    {
     "name": "stdout",
     "output_type": "stream",
     "text": [
      "\n",
      "Command Progress: 100%|██████████| 100/100 [00:02<00:00, 45.25it/s]"
     ]
    },
    {
     "name": "stderr",
     "output_type": "stream",
     "text": [
      "[2024-04-17 11:36:09][WAR][dtlpy:v1.72.7][entities.item:113] Item has been fetched from a dataset that is not belong to it\n"
     ]
    },
    {
     "name": "stdout",
     "output_type": "stream",
     "text": [
      "\n",
      "Command Progress: 100%|██████████| 100/100 [00:02<00:00, 49.40it/s]"
     ]
    },
    {
     "name": "stderr",
     "output_type": "stream",
     "text": [
      "[2024-04-17 11:36:11][WAR][dtlpy:v1.72.7][entities.item:113] Item has been fetched from a dataset that is not belong to it\n"
     ]
    },
    {
     "name": "stdout",
     "output_type": "stream",
     "text": [
      "\n",
      "Command Progress: 100%|██████████| 100/100 [00:01<00:00, 76.61it/s]"
     ]
    },
    {
     "name": "stderr",
     "output_type": "stream",
     "text": [
      "[2024-04-17 11:36:13][WAR][dtlpy:v1.72.7][entities.item:113] Item has been fetched from a dataset that is not belong to it\n"
     ]
    },
    {
     "name": "stdout",
     "output_type": "stream",
     "text": [
      "\n",
      "Command Progress: 100%|██████████| 100/100 [00:02<00:00, 49.34it/s]"
     ]
    },
    {
     "name": "stderr",
     "output_type": "stream",
     "text": [
      "[2024-04-17 11:36:15][WAR][dtlpy:v1.72.7][entities.item:113] Item has been fetched from a dataset that is not belong to it\n"
     ]
    },
    {
     "name": "stdout",
     "output_type": "stream",
     "text": [
      "\n",
      "Command Progress: 100%|██████████| 100/100 [00:02<00:00, 48.71it/s]"
     ]
    },
    {
     "name": "stderr",
     "output_type": "stream",
     "text": [
      "[2024-04-17 11:36:18][WAR][dtlpy:v1.72.7][entities.item:113] Item has been fetched from a dataset that is not belong to it\n"
     ]
    },
    {
     "name": "stdout",
     "output_type": "stream",
     "text": [
      "\n",
      "Command Progress: 100%|██████████| 100/100 [00:02<00:00, 48.67it/s]"
     ]
    },
    {
     "name": "stderr",
     "output_type": "stream",
     "text": [
      "[2024-04-17 11:36:20][WAR][dtlpy:v1.72.7][entities.item:113] Item has been fetched from a dataset that is not belong to it\n"
     ]
    },
    {
     "name": "stdout",
     "output_type": "stream",
     "text": [
      "\n",
      "Command Progress: 100%|██████████| 100/100 [00:02<00:00, 48.94it/s]"
     ]
    },
    {
     "name": "stderr",
     "output_type": "stream",
     "text": [
      "[2024-04-17 11:36:23][WAR][dtlpy:v1.72.7][entities.item:113] Item has been fetched from a dataset that is not belong to it\n"
     ]
    },
    {
     "name": "stdout",
     "output_type": "stream",
     "text": [
      "\n",
      "Command Progress: 100%|██████████| 100/100 [00:02<00:00, 43.43it/s]"
     ]
    },
    {
     "name": "stderr",
     "output_type": "stream",
     "text": [
      "[2024-04-17 11:36:25][WAR][dtlpy:v1.72.7][entities.item:113] Item has been fetched from a dataset that is not belong to it\n"
     ]
    },
    {
     "name": "stdout",
     "output_type": "stream",
     "text": [
      "\n",
      "Command Progress: 100%|██████████| 100/100 [00:02<00:00, 47.98it/s]"
     ]
    },
    {
     "name": "stderr",
     "output_type": "stream",
     "text": [
      "[2024-04-17 11:36:28][WAR][dtlpy:v1.72.7][entities.item:113] Item has been fetched from a dataset that is not belong to it\n"
     ]
    },
    {
     "name": "stdout",
     "output_type": "stream",
     "text": [
      "\n",
      "Command Progress: 100%|██████████| 100/100 [00:02<00:00, 48.65it/s]"
     ]
    },
    {
     "name": "stderr",
     "output_type": "stream",
     "text": [
      "[2024-04-17 11:36:30][WAR][dtlpy:v1.72.7][entities.item:113] Item has been fetched from a dataset that is not belong to it\n"
     ]
    },
    {
     "name": "stdout",
     "output_type": "stream",
     "text": [
      "\n",
      "Command Progress: 100%|██████████| 100/100 [00:02<00:00, 48.43it/s]"
     ]
    },
    {
     "name": "stderr",
     "output_type": "stream",
     "text": [
      "[2024-04-17 11:36:33][WAR][dtlpy:v1.72.7][entities.item:113] Item has been fetched from a dataset that is not belong to it\n"
     ]
    },
    {
     "name": "stdout",
     "output_type": "stream",
     "text": [
      "\n",
      "Command Progress: 100%|██████████| 100/100 [00:02<00:00, 48.63it/s]"
     ]
    },
    {
     "name": "stderr",
     "output_type": "stream",
     "text": [
      "[2024-04-17 11:36:35][WAR][dtlpy:v1.72.7][entities.item:113] Item has been fetched from a dataset that is not belong to it\n"
     ]
    },
    {
     "name": "stdout",
     "output_type": "stream",
     "text": [
      "\n",
      "Command Progress: 100%|██████████| 100/100 [00:02<00:00, 47.23it/s]"
     ]
    },
    {
     "name": "stderr",
     "output_type": "stream",
     "text": [
      "[2024-04-17 11:36:38][WAR][dtlpy:v1.72.7][entities.item:113] Item has been fetched from a dataset that is not belong to it\n"
     ]
    },
    {
     "name": "stdout",
     "output_type": "stream",
     "text": [
      "\n",
      "Command Progress: 100%|██████████| 100/100 [00:02<00:00, 47.95it/s]"
     ]
    },
    {
     "name": "stderr",
     "output_type": "stream",
     "text": [
      "[2024-04-17 11:36:40][WAR][dtlpy:v1.72.7][entities.item:113] Item has been fetched from a dataset that is not belong to it\n"
     ]
    },
    {
     "name": "stdout",
     "output_type": "stream",
     "text": [
      "\n",
      "Command Progress: 100%|██████████| 100/100 [00:02<00:00, 48.46it/s]"
     ]
    },
    {
     "name": "stderr",
     "output_type": "stream",
     "text": [
      "[2024-04-17 11:36:43][WAR][dtlpy:v1.72.7][entities.item:113] Item has been fetched from a dataset that is not belong to it\n"
     ]
    },
    {
     "name": "stdout",
     "output_type": "stream",
     "text": [
      "\n",
      "Command Progress: 100%|██████████| 100/100 [00:02<00:00, 48.94it/s]"
     ]
    },
    {
     "name": "stderr",
     "output_type": "stream",
     "text": [
      "[2024-04-17 11:36:45][WAR][dtlpy:v1.72.7][entities.item:113] Item has been fetched from a dataset that is not belong to it\n"
     ]
    },
    {
     "name": "stdout",
     "output_type": "stream",
     "text": [
      "\n",
      "Command Progress: 100%|██████████| 100/100 [00:02<00:00, 48.51it/s]"
     ]
    },
    {
     "name": "stderr",
     "output_type": "stream",
     "text": [
      "[2024-04-17 11:36:48][WAR][dtlpy:v1.72.7][entities.item:113] Item has been fetched from a dataset that is not belong to it\n"
     ]
    },
    {
     "name": "stdout",
     "output_type": "stream",
     "text": [
      "\n",
      "Command Progress: 100%|██████████| 100/100 [00:02<00:00, 48.48it/s]"
     ]
    },
    {
     "name": "stderr",
     "output_type": "stream",
     "text": [
      "[2024-04-17 11:36:50][WAR][dtlpy:v1.72.7][entities.item:113] Item has been fetched from a dataset that is not belong to it\n"
     ]
    },
    {
     "name": "stdout",
     "output_type": "stream",
     "text": [
      "\n",
      "Command Progress: 100%|██████████| 100/100 [00:01<00:00, 67.25it/s]"
     ]
    },
    {
     "name": "stderr",
     "output_type": "stream",
     "text": [
      "[2024-04-17 11:36:52][WAR][dtlpy:v1.72.7][entities.item:113] Item has been fetched from a dataset that is not belong to it\n"
     ]
    },
    {
     "name": "stdout",
     "output_type": "stream",
     "text": [
      "\n",
      "Command Progress: 100%|██████████| 100/100 [00:02<00:00, 47.86it/s]"
     ]
    },
    {
     "name": "stderr",
     "output_type": "stream",
     "text": [
      "[2024-04-17 11:36:55][WAR][dtlpy:v1.72.7][entities.item:113] Item has been fetched from a dataset that is not belong to it\n"
     ]
    },
    {
     "name": "stdout",
     "output_type": "stream",
     "text": [
      "\n",
      "Command Progress: 100%|██████████| 100/100 [00:02<00:00, 49.07it/s]"
     ]
    },
    {
     "name": "stderr",
     "output_type": "stream",
     "text": [
      "[2024-04-17 11:36:57][WAR][dtlpy:v1.72.7][entities.item:113] Item has been fetched from a dataset that is not belong to it\n"
     ]
    },
    {
     "name": "stdout",
     "output_type": "stream",
     "text": [
      "\n",
      "Command Progress: 100%|██████████| 100/100 [00:02<00:00, 49.64it/s]"
     ]
    },
    {
     "name": "stderr",
     "output_type": "stream",
     "text": [
      "[2024-04-17 11:37:00][WAR][dtlpy:v1.72.7][entities.item:113] Item has been fetched from a dataset that is not belong to it\n"
     ]
    },
    {
     "name": "stdout",
     "output_type": "stream",
     "text": [
      "\n",
      "Command Progress: 100%|██████████| 100/100 [00:02<00:00, 49.43it/s]"
     ]
    },
    {
     "name": "stderr",
     "output_type": "stream",
     "text": [
      "[2024-04-17 11:37:02][WAR][dtlpy:v1.72.7][entities.item:113] Item has been fetched from a dataset that is not belong to it\n"
     ]
    },
    {
     "name": "stdout",
     "output_type": "stream",
     "text": [
      "\n",
      "Command Progress: 100%|██████████| 100/100 [00:02<00:00, 49.78it/s]"
     ]
    },
    {
     "name": "stderr",
     "output_type": "stream",
     "text": [
      "[2024-04-17 11:37:04][WAR][dtlpy:v1.72.7][entities.item:113] Item has been fetched from a dataset that is not belong to it\n"
     ]
    },
    {
     "name": "stdout",
     "output_type": "stream",
     "text": [
      "\n",
      "Command Progress: 100%|██████████| 100/100 [00:02<00:00, 47.43it/s]"
     ]
    },
    {
     "name": "stderr",
     "output_type": "stream",
     "text": [
      "[2024-04-17 11:37:07][WAR][dtlpy:v1.72.7][entities.item:113] Item has been fetched from a dataset that is not belong to it\n"
     ]
    },
    {
     "name": "stdout",
     "output_type": "stream",
     "text": [
      "\n",
      "Command Progress: 100%|██████████| 100/100 [00:01<00:00, 77.27it/s]"
     ]
    },
    {
     "name": "stderr",
     "output_type": "stream",
     "text": [
      "[2024-04-17 11:37:09][WAR][dtlpy:v1.72.7][entities.item:113] Item has been fetched from a dataset that is not belong to it\n"
     ]
    },
    {
     "name": "stdout",
     "output_type": "stream",
     "text": [
      "\n",
      "Command Progress: 100%|██████████| 100/100 [00:02<00:00, 48.32it/s]"
     ]
    },
    {
     "name": "stderr",
     "output_type": "stream",
     "text": [
      "[2024-04-17 11:37:11][WAR][dtlpy:v1.72.7][entities.item:113] Item has been fetched from a dataset that is not belong to it\n"
     ]
    },
    {
     "name": "stdout",
     "output_type": "stream",
     "text": [
      "\n",
      "Command Progress: 100%|██████████| 100/100 [00:02<00:00, 49.23it/s]"
     ]
    },
    {
     "name": "stderr",
     "output_type": "stream",
     "text": [
      "[2024-04-17 11:37:14][WAR][dtlpy:v1.72.7][entities.item:113] Item has been fetched from a dataset that is not belong to it\n"
     ]
    },
    {
     "name": "stdout",
     "output_type": "stream",
     "text": [
      "\n",
      "Command Progress: 100%|██████████| 100/100 [00:02<00:00, 49.10it/s]"
     ]
    },
    {
     "name": "stderr",
     "output_type": "stream",
     "text": [
      "[2024-04-17 11:37:16][WAR][dtlpy:v1.72.7][entities.item:113] Item has been fetched from a dataset that is not belong to it\n"
     ]
    },
    {
     "name": "stdout",
     "output_type": "stream",
     "text": [
      "\n",
      "Command Progress: 100%|██████████| 100/100 [00:01<00:00, 60.52it/s]"
     ]
    },
    {
     "name": "stderr",
     "output_type": "stream",
     "text": [
      "[2024-04-17 11:37:18][WAR][dtlpy:v1.72.7][entities.item:113] Item has been fetched from a dataset that is not belong to it\n"
     ]
    },
    {
     "name": "stdout",
     "output_type": "stream",
     "text": [
      "\n",
      "Command Progress: 100%|██████████| 100/100 [00:02<00:00, 46.35it/s]"
     ]
    },
    {
     "name": "stderr",
     "output_type": "stream",
     "text": [
      "[2024-04-17 11:37:21][WAR][dtlpy:v1.72.7][entities.item:113] Item has been fetched from a dataset that is not belong to it\n"
     ]
    },
    {
     "name": "stdout",
     "output_type": "stream",
     "text": [
      "\n",
      "Command Progress: 100%|██████████| 100/100 [00:02<00:00, 42.54it/s]"
     ]
    },
    {
     "name": "stderr",
     "output_type": "stream",
     "text": [
      "[2024-04-17 11:37:23][WAR][dtlpy:v1.72.7][entities.item:113] Item has been fetched from a dataset that is not belong to it\n"
     ]
    },
    {
     "name": "stdout",
     "output_type": "stream",
     "text": [
      "\n",
      "Command Progress: 100%|██████████| 100/100 [00:02<00:00, 46.99it/s]"
     ]
    },
    {
     "name": "stderr",
     "output_type": "stream",
     "text": [
      "[2024-04-17 11:37:26][WAR][dtlpy:v1.72.7][entities.item:113] Item has been fetched from a dataset that is not belong to it\n"
     ]
    },
    {
     "name": "stdout",
     "output_type": "stream",
     "text": [
      "\n",
      "Command Progress: 100%|██████████| 100/100 [00:01<00:00, 63.95it/s]"
     ]
    },
    {
     "name": "stderr",
     "output_type": "stream",
     "text": [
      "[2024-04-17 11:37:28][WAR][dtlpy:v1.72.7][entities.item:113] Item has been fetched from a dataset that is not belong to it\n"
     ]
    },
    {
     "name": "stdout",
     "output_type": "stream",
     "text": [
      "\n",
      "Command Progress: 100%|██████████| 100/100 [00:02<00:00, 44.64it/s]"
     ]
    },
    {
     "name": "stderr",
     "output_type": "stream",
     "text": [
      "[2024-04-17 11:37:31][WAR][dtlpy:v1.72.7][entities.item:113] Item has been fetched from a dataset that is not belong to it\n"
     ]
    },
    {
     "name": "stdout",
     "output_type": "stream",
     "text": [
      "\n",
      "Command Progress: 100%|██████████| 100/100 [00:02<00:00, 48.39it/s]"
     ]
    },
    {
     "name": "stderr",
     "output_type": "stream",
     "text": [
      "[2024-04-17 11:37:33][WAR][dtlpy:v1.72.7][entities.item:113] Item has been fetched from a dataset that is not belong to it\n"
     ]
    },
    {
     "name": "stdout",
     "output_type": "stream",
     "text": [
      "\n",
      "Command Progress: 100%|██████████| 100/100 [00:02<00:00, 48.22it/s]"
     ]
    },
    {
     "name": "stderr",
     "output_type": "stream",
     "text": [
      "[2024-04-17 11:37:36][WAR][dtlpy:v1.72.7][entities.item:113] Item has been fetched from a dataset that is not belong to it\n"
     ]
    },
    {
     "name": "stdout",
     "output_type": "stream",
     "text": [
      "\n",
      "Command Progress: 100%|██████████| 100/100 [00:02<00:00, 49.64it/s]"
     ]
    },
    {
     "name": "stderr",
     "output_type": "stream",
     "text": [
      "[2024-04-17 11:37:38][WAR][dtlpy:v1.72.7][entities.item:113] Item has been fetched from a dataset that is not belong to it\n"
     ]
    },
    {
     "name": "stdout",
     "output_type": "stream",
     "text": [
      "\n",
      "Command Progress: 100%|██████████| 100/100 [00:02<00:00, 49.44it/s]"
     ]
    },
    {
     "name": "stderr",
     "output_type": "stream",
     "text": [
      "[2024-04-17 11:37:41][WAR][dtlpy:v1.72.7][entities.item:113] Item has been fetched from a dataset that is not belong to it\n"
     ]
    },
    {
     "name": "stdout",
     "output_type": "stream",
     "text": [
      "\n",
      "Command Progress: 100%|██████████| 100/100 [00:02<00:00, 49.74it/s]"
     ]
    },
    {
     "name": "stderr",
     "output_type": "stream",
     "text": [
      "[2024-04-17 11:37:43][WAR][dtlpy:v1.72.7][entities.item:113] Item has been fetched from a dataset that is not belong to it\n"
     ]
    },
    {
     "name": "stdout",
     "output_type": "stream",
     "text": [
      "\n",
      "Command Progress: 100%|██████████| 100/100 [00:02<00:00, 47.79it/s]"
     ]
    },
    {
     "name": "stderr",
     "output_type": "stream",
     "text": [
      "[2024-04-17 11:37:46][WAR][dtlpy:v1.72.7][entities.item:113] Item has been fetched from a dataset that is not belong to it\n"
     ]
    },
    {
     "name": "stdout",
     "output_type": "stream",
     "text": [
      "\n",
      "Command Progress: 100%|██████████| 100/100 [00:01<00:00, 66.38it/s]"
     ]
    },
    {
     "name": "stderr",
     "output_type": "stream",
     "text": [
      "[2024-04-17 11:37:48][WAR][dtlpy:v1.72.7][entities.item:113] Item has been fetched from a dataset that is not belong to it\n"
     ]
    },
    {
     "name": "stdout",
     "output_type": "stream",
     "text": [
      "\n",
      "Command Progress: 100%|██████████| 100/100 [00:02<00:00, 47.63it/s]"
     ]
    },
    {
     "name": "stderr",
     "output_type": "stream",
     "text": [
      "[2024-04-17 11:37:50][WAR][dtlpy:v1.72.7][entities.item:113] Item has been fetched from a dataset that is not belong to it\n"
     ]
    },
    {
     "name": "stdout",
     "output_type": "stream",
     "text": [
      "\n",
      "Command Progress: 100%|██████████| 100/100 [00:02<00:00, 45.74it/s]"
     ]
    },
    {
     "name": "stderr",
     "output_type": "stream",
     "text": [
      "[2024-04-17 11:37:53][WAR][dtlpy:v1.72.7][entities.item:113] Item has been fetched from a dataset that is not belong to it\n"
     ]
    },
    {
     "name": "stdout",
     "output_type": "stream",
     "text": [
      "\n",
      "Command Progress: 100%|██████████| 100/100 [00:01<00:00, 62.16it/s]"
     ]
    },
    {
     "name": "stderr",
     "output_type": "stream",
     "text": [
      "[2024-04-17 11:37:55][WAR][dtlpy:v1.72.7][entities.item:113] Item has been fetched from a dataset that is not belong to it\n"
     ]
    },
    {
     "name": "stdout",
     "output_type": "stream",
     "text": [
      "\n",
      "Command Progress: 100%|██████████| 100/100 [00:01<00:00, 62.13it/s]"
     ]
    },
    {
     "name": "stderr",
     "output_type": "stream",
     "text": [
      "[2024-04-17 11:37:57][WAR][dtlpy:v1.72.7][entities.item:113] Item has been fetched from a dataset that is not belong to it\n"
     ]
    },
    {
     "name": "stdout",
     "output_type": "stream",
     "text": [
      "\n",
      "Command Progress: 100%|██████████| 100/100 [00:02<00:00, 49.46it/s]"
     ]
    },
    {
     "name": "stderr",
     "output_type": "stream",
     "text": [
      "[2024-04-17 11:37:59][WAR][dtlpy:v1.72.7][entities.item:113] Item has been fetched from a dataset that is not belong to it\n"
     ]
    },
    {
     "name": "stdout",
     "output_type": "stream",
     "text": [
      "\n",
      "Command Progress: 100%|██████████| 100/100 [00:02<00:00, 48.29it/s]"
     ]
    },
    {
     "name": "stderr",
     "output_type": "stream",
     "text": [
      "[2024-04-17 11:38:02][WAR][dtlpy:v1.72.7][entities.item:113] Item has been fetched from a dataset that is not belong to it\n"
     ]
    },
    {
     "name": "stdout",
     "output_type": "stream",
     "text": [
      "\n",
      "Command Progress: 100%|██████████| 100/100 [00:02<00:00, 47.31it/s]"
     ]
    },
    {
     "name": "stderr",
     "output_type": "stream",
     "text": [
      "[2024-04-17 11:38:04][WAR][dtlpy:v1.72.7][entities.item:113] Item has been fetched from a dataset that is not belong to it\n"
     ]
    },
    {
     "name": "stdout",
     "output_type": "stream",
     "text": [
      "\n",
      "Command Progress: 100%|██████████| 100/100 [00:02<00:00, 48.87it/s]"
     ]
    },
    {
     "name": "stderr",
     "output_type": "stream",
     "text": [
      "[2024-04-17 11:38:07][WAR][dtlpy:v1.72.7][entities.item:113] Item has been fetched from a dataset that is not belong to it\n"
     ]
    },
    {
     "name": "stdout",
     "output_type": "stream",
     "text": [
      "\n",
      "Command Progress: 100%|██████████| 100/100 [00:02<00:00, 48.77it/s]"
     ]
    },
    {
     "name": "stderr",
     "output_type": "stream",
     "text": [
      "[2024-04-17 11:38:09][WAR][dtlpy:v1.72.7][entities.item:113] Item has been fetched from a dataset that is not belong to it\n"
     ]
    },
    {
     "name": "stdout",
     "output_type": "stream",
     "text": [
      "\n",
      "Command Progress: 100%|██████████| 100/100 [00:01<00:00, 70.07it/s]"
     ]
    },
    {
     "name": "stderr",
     "output_type": "stream",
     "text": [
      "[2024-04-17 11:38:11][WAR][dtlpy:v1.72.7][entities.item:113] Item has been fetched from a dataset that is not belong to it\n"
     ]
    },
    {
     "name": "stdout",
     "output_type": "stream",
     "text": [
      "\n",
      "Command Progress: 100%|██████████| 100/100 [00:02<00:00, 48.11it/s]"
     ]
    },
    {
     "name": "stderr",
     "output_type": "stream",
     "text": [
      "[2024-04-17 11:38:14][WAR][dtlpy:v1.72.7][entities.item:113] Item has been fetched from a dataset that is not belong to it\n"
     ]
    },
    {
     "name": "stdout",
     "output_type": "stream",
     "text": [
      "\n",
      "Command Progress: 100%|██████████| 100/100 [00:02<00:00, 48.72it/s]"
     ]
    },
    {
     "name": "stderr",
     "output_type": "stream",
     "text": [
      "[2024-04-17 11:38:16][WAR][dtlpy:v1.72.7][entities.item:113] Item has been fetched from a dataset that is not belong to it\n"
     ]
    },
    {
     "name": "stdout",
     "output_type": "stream",
     "text": [
      "\n",
      "Command Progress: 100%|██████████| 100/100 [00:01<00:00, 74.82it/s]"
     ]
    },
    {
     "name": "stderr",
     "output_type": "stream",
     "text": [
      "[2024-04-17 11:38:18][WAR][dtlpy:v1.72.7][entities.item:113] Item has been fetched from a dataset that is not belong to it\n"
     ]
    },
    {
     "name": "stdout",
     "output_type": "stream",
     "text": [
      "\n",
      "Command Progress: 100%|██████████| 100/100 [00:02<00:00, 39.44it/s]"
     ]
    },
    {
     "name": "stderr",
     "output_type": "stream",
     "text": [
      "[2024-04-17 11:38:21][WAR][dtlpy:v1.72.7][entities.item:113] Item has been fetched from a dataset that is not belong to it\n"
     ]
    },
    {
     "name": "stdout",
     "output_type": "stream",
     "text": [
      "\n",
      "Command Progress: 100%|██████████| 100/100 [00:02<00:00, 49.46it/s]"
     ]
    },
    {
     "name": "stderr",
     "output_type": "stream",
     "text": [
      "[2024-04-17 11:38:23][WAR][dtlpy:v1.72.7][entities.item:113] Item has been fetched from a dataset that is not belong to it\n"
     ]
    },
    {
     "name": "stdout",
     "output_type": "stream",
     "text": [
      "\n",
      "Command Progress: 100%|██████████| 100/100 [00:02<00:00, 49.71it/s]"
     ]
    },
    {
     "name": "stderr",
     "output_type": "stream",
     "text": [
      "[2024-04-17 11:38:25][WAR][dtlpy:v1.72.7][entities.item:113] Item has been fetched from a dataset that is not belong to it\n"
     ]
    },
    {
     "name": "stdout",
     "output_type": "stream",
     "text": [
      "\n",
      "Command Progress: 100%|██████████| 100/100 [00:01<00:00, 58.50it/s]"
     ]
    },
    {
     "name": "stderr",
     "output_type": "stream",
     "text": [
      "[2024-04-17 11:38:27][WAR][dtlpy:v1.72.7][entities.item:113] Item has been fetched from a dataset that is not belong to it\n"
     ]
    },
    {
     "name": "stdout",
     "output_type": "stream",
     "text": [
      "\n",
      "Command Progress: 100%|██████████| 100/100 [00:02<00:00, 49.89it/s]"
     ]
    },
    {
     "name": "stderr",
     "output_type": "stream",
     "text": [
      "[2024-04-17 11:38:30][WAR][dtlpy:v1.72.7][entities.item:113] Item has been fetched from a dataset that is not belong to it\n"
     ]
    },
    {
     "name": "stdout",
     "output_type": "stream",
     "text": [
      "\n",
      "Command Progress: 100%|██████████| 100/100 [00:01<00:00, 69.78it/s]"
     ]
    },
    {
     "name": "stderr",
     "output_type": "stream",
     "text": [
      "[2024-04-17 11:38:32][WAR][dtlpy:v1.72.7][entities.item:113] Item has been fetched from a dataset that is not belong to it\n"
     ]
    },
    {
     "name": "stdout",
     "output_type": "stream",
     "text": [
      "\n",
      "Command Progress: 100%|██████████| 100/100 [00:02<00:00, 40.72it/s]"
     ]
    },
    {
     "name": "stderr",
     "output_type": "stream",
     "text": [
      "[2024-04-17 11:38:34][WAR][dtlpy:v1.72.7][entities.item:113] Item has been fetched from a dataset that is not belong to it\n"
     ]
    },
    {
     "name": "stdout",
     "output_type": "stream",
     "text": [
      "\n",
      "Command Progress: 100%|██████████| 100/100 [00:01<00:00, 73.13it/s]"
     ]
    },
    {
     "name": "stderr",
     "output_type": "stream",
     "text": [
      "[2024-04-17 11:38:36][WAR][dtlpy:v1.72.7][entities.item:113] Item has been fetched from a dataset that is not belong to it\n"
     ]
    },
    {
     "name": "stdout",
     "output_type": "stream",
     "text": [
      "\n",
      "Command Progress: 100%|██████████| 100/100 [00:02<00:00, 49.66it/s]"
     ]
    },
    {
     "name": "stderr",
     "output_type": "stream",
     "text": [
      "[2024-04-17 11:38:39][WAR][dtlpy:v1.72.7][entities.item:113] Item has been fetched from a dataset that is not belong to it\n"
     ]
    },
    {
     "name": "stdout",
     "output_type": "stream",
     "text": [
      "\n",
      "Command Progress: 100%|██████████| 100/100 [00:02<00:00, 49.47it/s]"
     ]
    },
    {
     "name": "stderr",
     "output_type": "stream",
     "text": [
      "[2024-04-17 11:38:41][WAR][dtlpy:v1.72.7][entities.item:113] Item has been fetched from a dataset that is not belong to it\n"
     ]
    },
    {
     "name": "stdout",
     "output_type": "stream",
     "text": [
      "\n",
      "Command Progress: 100%|██████████| 100/100 [00:02<00:00, 49.71it/s]"
     ]
    },
    {
     "name": "stderr",
     "output_type": "stream",
     "text": [
      "[2024-04-17 11:38:43][WAR][dtlpy:v1.72.7][entities.item:113] Item has been fetched from a dataset that is not belong to it\n"
     ]
    },
    {
     "name": "stdout",
     "output_type": "stream",
     "text": [
      "\n",
      "Command Progress: 100%|██████████| 100/100 [00:02<00:00, 49.19it/s]"
     ]
    },
    {
     "name": "stderr",
     "output_type": "stream",
     "text": [
      "[2024-04-17 11:38:46][WAR][dtlpy:v1.72.7][entities.item:113] Item has been fetched from a dataset that is not belong to it\n"
     ]
    },
    {
     "name": "stdout",
     "output_type": "stream",
     "text": [
      "\n",
      "Command Progress: 100%|██████████| 100/100 [00:02<00:00, 49.66it/s]"
     ]
    },
    {
     "name": "stderr",
     "output_type": "stream",
     "text": [
      "[2024-04-17 11:38:48][WAR][dtlpy:v1.72.7][entities.item:113] Item has been fetched from a dataset that is not belong to it\n"
     ]
    },
    {
     "name": "stdout",
     "output_type": "stream",
     "text": [
      "\n",
      "Command Progress: 100%|██████████| 100/100 [00:02<00:00, 49.54it/s]"
     ]
    },
    {
     "name": "stderr",
     "output_type": "stream",
     "text": [
      "[2024-04-17 11:38:50][WAR][dtlpy:v1.72.7][entities.item:113] Item has been fetched from a dataset that is not belong to it\n"
     ]
    },
    {
     "name": "stdout",
     "output_type": "stream",
     "text": [
      "\n",
      "Command Progress: 100%|██████████| 100/100 [00:02<00:00, 49.64it/s]"
     ]
    },
    {
     "name": "stderr",
     "output_type": "stream",
     "text": [
      "[2024-04-17 11:38:53][WAR][dtlpy:v1.72.7][entities.item:113] Item has been fetched from a dataset that is not belong to it\n"
     ]
    },
    {
     "name": "stdout",
     "output_type": "stream",
     "text": [
      "\n",
      "Command Progress: 100%|██████████| 100/100 [00:02<00:00, 48.65it/s]"
     ]
    },
    {
     "name": "stderr",
     "output_type": "stream",
     "text": [
      "[2024-04-17 11:38:55][WAR][dtlpy:v1.72.7][entities.item:113] Item has been fetched from a dataset that is not belong to it\n"
     ]
    },
    {
     "name": "stdout",
     "output_type": "stream",
     "text": [
      "\n",
      "Command Progress: 100%|██████████| 100/100 [00:02<00:00, 49.96it/s]"
     ]
    },
    {
     "name": "stderr",
     "output_type": "stream",
     "text": [
      "[2024-04-17 11:38:58][WAR][dtlpy:v1.72.7][entities.item:113] Item has been fetched from a dataset that is not belong to it\n"
     ]
    },
    {
     "name": "stdout",
     "output_type": "stream",
     "text": [
      "\n",
      "Command Progress: 100%|██████████| 100/100 [00:02<00:00, 48.78it/s]"
     ]
    },
    {
     "name": "stderr",
     "output_type": "stream",
     "text": [
      "[2024-04-17 11:39:00][WAR][dtlpy:v1.72.7][entities.item:113] Item has been fetched from a dataset that is not belong to it\n"
     ]
    },
    {
     "name": "stdout",
     "output_type": "stream",
     "text": [
      "\n",
      "Command Progress: 100%|██████████| 100/100 [00:02<00:00, 49.40it/s]\n"
     ]
    },
    {
     "name": "stderr",
     "output_type": "stream",
     "text": [
      "[2024-04-17 11:39:03][WAR][dtlpy:v1.72.7][entities.item:113] Item has been fetched from a dataset that is not belong to it\n"
     ]
    },
    {
     "name": "stdout",
     "output_type": "stream",
     "text": [
      "Command Progress: 100%|██████████| 100/100 [00:01<00:00, 75.85it/s]"
     ]
    },
    {
     "name": "stderr",
     "output_type": "stream",
     "text": [
      "[2024-04-17 11:39:04][WAR][dtlpy:v1.72.7][entities.item:113] Item has been fetched from a dataset that is not belong to it\n"
     ]
    },
    {
     "name": "stdout",
     "output_type": "stream",
     "text": [
      "\n",
      "Command Progress: 100%|██████████| 100/100 [00:01<00:00, 73.83it/s]"
     ]
    },
    {
     "name": "stderr",
     "output_type": "stream",
     "text": [
      "[2024-04-17 11:39:06][WAR][dtlpy:v1.72.7][entities.item:113] Item has been fetched from a dataset that is not belong to it\n"
     ]
    },
    {
     "name": "stdout",
     "output_type": "stream",
     "text": [
      "\n",
      "Command Progress: 100%|██████████| 100/100 [00:02<00:00, 45.68it/s]"
     ]
    },
    {
     "name": "stderr",
     "output_type": "stream",
     "text": [
      "[2024-04-17 11:39:09][WAR][dtlpy:v1.72.7][entities.item:113] Item has been fetched from a dataset that is not belong to it\n"
     ]
    },
    {
     "name": "stdout",
     "output_type": "stream",
     "text": [
      "\n",
      "Command Progress: 100%|██████████| 100/100 [00:01<00:00, 56.77it/s]"
     ]
    },
    {
     "name": "stderr",
     "output_type": "stream",
     "text": [
      "[2024-04-17 11:39:11][WAR][dtlpy:v1.72.7][entities.item:113] Item has been fetched from a dataset that is not belong to it\n"
     ]
    },
    {
     "name": "stdout",
     "output_type": "stream",
     "text": [
      "\n",
      "Command Progress: 100%|██████████| 100/100 [00:01<00:00, 65.47it/s]"
     ]
    },
    {
     "name": "stderr",
     "output_type": "stream",
     "text": [
      "[2024-04-17 11:39:13][WAR][dtlpy:v1.72.7][entities.item:113] Item has been fetched from a dataset that is not belong to it\n"
     ]
    },
    {
     "name": "stdout",
     "output_type": "stream",
     "text": [
      "\n",
      "Command Progress: 100%|██████████| 100/100 [00:02<00:00, 47.85it/s]"
     ]
    },
    {
     "name": "stderr",
     "output_type": "stream",
     "text": [
      "[2024-04-17 11:39:15][WAR][dtlpy:v1.72.7][entities.item:113] Item has been fetched from a dataset that is not belong to it\n"
     ]
    },
    {
     "name": "stdout",
     "output_type": "stream",
     "text": [
      "\n",
      "Command Progress: 100%|██████████| 100/100 [00:02<00:00, 49.74it/s]"
     ]
    },
    {
     "name": "stderr",
     "output_type": "stream",
     "text": [
      "[2024-04-17 11:39:18][WAR][dtlpy:v1.72.7][entities.item:113] Item has been fetched from a dataset that is not belong to it\n"
     ]
    },
    {
     "name": "stdout",
     "output_type": "stream",
     "text": [
      "\n",
      "Command Progress: 100%|██████████| 100/100 [00:02<00:00, 49.91it/s]"
     ]
    },
    {
     "name": "stderr",
     "output_type": "stream",
     "text": [
      "[2024-04-17 11:39:20][WAR][dtlpy:v1.72.7][entities.item:113] Item has been fetched from a dataset that is not belong to it\n"
     ]
    },
    {
     "name": "stdout",
     "output_type": "stream",
     "text": [
      "\n",
      "Command Progress: 100%|██████████| 100/100 [00:01<00:00, 74.38it/s]"
     ]
    },
    {
     "name": "stderr",
     "output_type": "stream",
     "text": [
      "[2024-04-17 11:39:22][WAR][dtlpy:v1.72.7][entities.item:113] Item has been fetched from a dataset that is not belong to it\n"
     ]
    },
    {
     "name": "stdout",
     "output_type": "stream",
     "text": [
      "\n",
      "Command Progress: 100%|██████████| 100/100 [00:02<00:00, 49.67it/s]"
     ]
    },
    {
     "name": "stderr",
     "output_type": "stream",
     "text": [
      "[2024-04-17 11:39:24][WAR][dtlpy:v1.72.7][entities.item:113] Item has been fetched from a dataset that is not belong to it\n"
     ]
    },
    {
     "name": "stdout",
     "output_type": "stream",
     "text": [
      "\n",
      "Command Progress: 100%|██████████| 100/100 [00:02<00:00, 49.64it/s]"
     ]
    },
    {
     "name": "stderr",
     "output_type": "stream",
     "text": [
      "[2024-04-17 11:39:27][WAR][dtlpy:v1.72.7][entities.item:113] Item has been fetched from a dataset that is not belong to it\n"
     ]
    },
    {
     "name": "stdout",
     "output_type": "stream",
     "text": [
      "\n",
      "Command Progress: 100%|██████████| 100/100 [00:02<00:00, 49.64it/s]"
     ]
    },
    {
     "name": "stderr",
     "output_type": "stream",
     "text": [
      "[2024-04-17 11:39:29][WAR][dtlpy:v1.72.7][entities.item:113] Item has been fetched from a dataset that is not belong to it\n"
     ]
    },
    {
     "name": "stdout",
     "output_type": "stream",
     "text": [
      "\n",
      "Command Progress: 100%|██████████| 100/100 [00:02<00:00, 49.69it/s]"
     ]
    },
    {
     "name": "stderr",
     "output_type": "stream",
     "text": [
      "[2024-04-17 11:39:32][WAR][dtlpy:v1.72.7][entities.item:113] Item has been fetched from a dataset that is not belong to it\n"
     ]
    },
    {
     "name": "stdout",
     "output_type": "stream",
     "text": [
      "\n",
      "Command Progress: 100%|██████████| 100/100 [00:02<00:00, 49.10it/s]"
     ]
    },
    {
     "name": "stderr",
     "output_type": "stream",
     "text": [
      "[2024-04-17 11:39:34][WAR][dtlpy:v1.72.7][entities.item:113] Item has been fetched from a dataset that is not belong to it\n"
     ]
    },
    {
     "name": "stdout",
     "output_type": "stream",
     "text": [
      "\n",
      "Command Progress: 100%|██████████| 100/100 [00:02<00:00, 49.60it/s]"
     ]
    },
    {
     "name": "stderr",
     "output_type": "stream",
     "text": [
      "[2024-04-17 11:39:36][WAR][dtlpy:v1.72.7][entities.item:113] Item has been fetched from a dataset that is not belong to it\n"
     ]
    },
    {
     "name": "stdout",
     "output_type": "stream",
     "text": [
      "\n",
      "Command Progress: 100%|██████████| 100/100 [00:02<00:00, 49.61it/s]"
     ]
    },
    {
     "name": "stderr",
     "output_type": "stream",
     "text": [
      "[2024-04-17 11:39:39][WAR][dtlpy:v1.72.7][entities.item:113] Item has been fetched from a dataset that is not belong to it\n"
     ]
    },
    {
     "name": "stdout",
     "output_type": "stream",
     "text": [
      "\n",
      "Command Progress: 100%|██████████| 100/100 [00:01<00:00, 62.71it/s]"
     ]
    },
    {
     "name": "stderr",
     "output_type": "stream",
     "text": [
      "[2024-04-17 11:39:41][WAR][dtlpy:v1.72.7][entities.item:113] Item has been fetched from a dataset that is not belong to it\n"
     ]
    },
    {
     "name": "stdout",
     "output_type": "stream",
     "text": [
      "\n",
      "Command Progress: 100%|██████████| 100/100 [00:02<00:00, 49.96it/s]"
     ]
    },
    {
     "name": "stderr",
     "output_type": "stream",
     "text": [
      "[2024-04-17 11:39:43][WAR][dtlpy:v1.72.7][entities.item:113] Item has been fetched from a dataset that is not belong to it\n"
     ]
    },
    {
     "name": "stdout",
     "output_type": "stream",
     "text": [
      "\n",
      "Command Progress: 100%|██████████| 100/100 [00:02<00:00, 49.73it/s]\n"
     ]
    },
    {
     "name": "stderr",
     "output_type": "stream",
     "text": [
      "[2024-04-17 11:39:46][WAR][dtlpy:v1.72.7][entities.item:113] Item has been fetched from a dataset that is not belong to it\n"
     ]
    },
    {
     "name": "stdout",
     "output_type": "stream",
     "text": [
      "Command Progress: 100%|██████████| 100/100 [00:02<00:00, 49.01it/s]"
     ]
    },
    {
     "name": "stderr",
     "output_type": "stream",
     "text": [
      "[2024-04-17 11:39:49][WAR][dtlpy:v1.72.7][entities.item:113] Item has been fetched from a dataset that is not belong to it\n"
     ]
    },
    {
     "name": "stdout",
     "output_type": "stream",
     "text": [
      "\n",
      "Command Progress: 100%|██████████| 100/100 [00:02<00:00, 48.42it/s]"
     ]
    },
    {
     "name": "stderr",
     "output_type": "stream",
     "text": [
      "[2024-04-17 11:39:51][WAR][dtlpy:v1.72.7][entities.item:113] Item has been fetched from a dataset that is not belong to it\n"
     ]
    },
    {
     "name": "stdout",
     "output_type": "stream",
     "text": [
      "\n",
      "Command Progress: 100%|██████████| 100/100 [00:02<00:00, 39.43it/s]"
     ]
    },
    {
     "name": "stderr",
     "output_type": "stream",
     "text": [
      "[2024-04-17 11:39:54][WAR][dtlpy:v1.72.7][entities.item:113] Item has been fetched from a dataset that is not belong to it\n"
     ]
    },
    {
     "name": "stdout",
     "output_type": "stream",
     "text": [
      "\n",
      "Command Progress: 100%|██████████| 100/100 [00:02<00:00, 49.89it/s]"
     ]
    },
    {
     "name": "stderr",
     "output_type": "stream",
     "text": [
      "[2024-04-17 11:39:57][WAR][dtlpy:v1.72.7][entities.item:113] Item has been fetched from a dataset that is not belong to it\n"
     ]
    },
    {
     "name": "stdout",
     "output_type": "stream",
     "text": [
      "\n",
      "Command Progress: 100%|██████████| 100/100 [00:02<00:00, 49.55it/s]"
     ]
    },
    {
     "name": "stderr",
     "output_type": "stream",
     "text": [
      "[2024-04-17 11:39:59][WAR][dtlpy:v1.72.7][entities.item:113] Item has been fetched from a dataset that is not belong to it\n"
     ]
    },
    {
     "name": "stdout",
     "output_type": "stream",
     "text": [
      "\n",
      "Command Progress: 100%|██████████| 100/100 [00:02<00:00, 48.90it/s]"
     ]
    },
    {
     "name": "stderr",
     "output_type": "stream",
     "text": [
      "[2024-04-17 11:40:02][WAR][dtlpy:v1.72.7][entities.item:113] Item has been fetched from a dataset that is not belong to it\n"
     ]
    },
    {
     "name": "stdout",
     "output_type": "stream",
     "text": [
      "\n",
      "Command Progress: 100%|██████████| 100/100 [00:01<00:00, 71.83it/s]"
     ]
    },
    {
     "name": "stderr",
     "output_type": "stream",
     "text": [
      "[2024-04-17 11:40:03][WAR][dtlpy:v1.72.7][entities.item:113] Item has been fetched from a dataset that is not belong to it\n"
     ]
    },
    {
     "name": "stdout",
     "output_type": "stream",
     "text": [
      "\n",
      "Command Progress: 100%|██████████| 100/100 [00:01<00:00, 68.43it/s]"
     ]
    },
    {
     "name": "stderr",
     "output_type": "stream",
     "text": [
      "[2024-04-17 11:40:05][WAR][dtlpy:v1.72.7][entities.item:113] Item has been fetched from a dataset that is not belong to it\n"
     ]
    },
    {
     "name": "stdout",
     "output_type": "stream",
     "text": [
      "\n",
      "Command Progress: 100%|██████████| 100/100 [00:02<00:00, 47.42it/s]"
     ]
    },
    {
     "name": "stderr",
     "output_type": "stream",
     "text": [
      "[2024-04-17 11:40:08][WAR][dtlpy:v1.72.7][entities.item:113] Item has been fetched from a dataset that is not belong to it\n"
     ]
    },
    {
     "name": "stdout",
     "output_type": "stream",
     "text": [
      "\n",
      "Command Progress: 100%|██████████| 100/100 [00:02<00:00, 49.53it/s]"
     ]
    },
    {
     "name": "stderr",
     "output_type": "stream",
     "text": [
      "[2024-04-17 11:40:10][WAR][dtlpy:v1.72.7][entities.item:113] Item has been fetched from a dataset that is not belong to it\n"
     ]
    },
    {
     "name": "stdout",
     "output_type": "stream",
     "text": [
      "\n",
      "Command Progress: 100%|██████████| 100/100 [00:02<00:00, 49.30it/s]"
     ]
    },
    {
     "name": "stderr",
     "output_type": "stream",
     "text": [
      "[2024-04-17 11:40:13][WAR][dtlpy:v1.72.7][entities.item:113] Item has been fetched from a dataset that is not belong to it\n"
     ]
    },
    {
     "name": "stdout",
     "output_type": "stream",
     "text": [
      "\n",
      "Command Progress: 100%|██████████| 100/100 [00:02<00:00, 49.20it/s]"
     ]
    },
    {
     "name": "stderr",
     "output_type": "stream",
     "text": [
      "[2024-04-17 11:40:15][WAR][dtlpy:v1.72.7][entities.item:113] Item has been fetched from a dataset that is not belong to it\n"
     ]
    },
    {
     "name": "stdout",
     "output_type": "stream",
     "text": [
      "\n",
      "Command Progress: 100%|██████████| 100/100 [00:02<00:00, 49.65it/s]"
     ]
    },
    {
     "name": "stderr",
     "output_type": "stream",
     "text": [
      "[2024-04-17 11:40:17][WAR][dtlpy:v1.72.7][entities.item:113] Item has been fetched from a dataset that is not belong to it\n"
     ]
    },
    {
     "name": "stdout",
     "output_type": "stream",
     "text": [
      "\n",
      "Command Progress: 100%|██████████| 100/100 [00:02<00:00, 49.22it/s]"
     ]
    },
    {
     "name": "stderr",
     "output_type": "stream",
     "text": [
      "[2024-04-17 11:40:20][WAR][dtlpy:v1.72.7][entities.item:113] Item has been fetched from a dataset that is not belong to it\n"
     ]
    },
    {
     "name": "stdout",
     "output_type": "stream",
     "text": [
      "\n",
      "Command Progress: 100%|██████████| 100/100 [00:01<00:00, 68.12it/s]"
     ]
    },
    {
     "name": "stderr",
     "output_type": "stream",
     "text": [
      "[2024-04-17 11:40:22][WAR][dtlpy:v1.72.7][entities.item:113] Item has been fetched from a dataset that is not belong to it\n"
     ]
    },
    {
     "name": "stdout",
     "output_type": "stream",
     "text": [
      "\n",
      "Command Progress: 100%|██████████| 100/100 [00:02<00:00, 49.84it/s]"
     ]
    },
    {
     "name": "stderr",
     "output_type": "stream",
     "text": [
      "[2024-04-17 11:40:24][WAR][dtlpy:v1.72.7][entities.item:113] Item has been fetched from a dataset that is not belong to it\n"
     ]
    },
    {
     "name": "stdout",
     "output_type": "stream",
     "text": [
      "\n",
      "Command Progress: 100%|██████████| 100/100 [00:02<00:00, 43.43it/s]"
     ]
    },
    {
     "name": "stderr",
     "output_type": "stream",
     "text": [
      "[2024-04-17 11:40:27][WAR][dtlpy:v1.72.7][entities.item:113] Item has been fetched from a dataset that is not belong to it\n"
     ]
    },
    {
     "name": "stdout",
     "output_type": "stream",
     "text": [
      "\n",
      "Command Progress: 100%|██████████| 100/100 [00:02<00:00, 49.39it/s]"
     ]
    },
    {
     "name": "stderr",
     "output_type": "stream",
     "text": [
      "[2024-04-17 11:40:29][WAR][dtlpy:v1.72.7][entities.item:113] Item has been fetched from a dataset that is not belong to it\n"
     ]
    },
    {
     "name": "stdout",
     "output_type": "stream",
     "text": [
      "\n",
      "Command Progress: 100%|██████████| 100/100 [00:02<00:00, 49.62it/s]"
     ]
    },
    {
     "name": "stderr",
     "output_type": "stream",
     "text": [
      "[2024-04-17 11:40:32][WAR][dtlpy:v1.72.7][entities.item:113] Item has been fetched from a dataset that is not belong to it\n"
     ]
    },
    {
     "name": "stdout",
     "output_type": "stream",
     "text": [
      "\n",
      "Command Progress: 100%|██████████| 100/100 [00:02<00:00, 49.49it/s]"
     ]
    },
    {
     "name": "stderr",
     "output_type": "stream",
     "text": [
      "[2024-04-17 11:40:34][WAR][dtlpy:v1.72.7][entities.item:113] Item has been fetched from a dataset that is not belong to it\n"
     ]
    },
    {
     "name": "stdout",
     "output_type": "stream",
     "text": [
      "\n",
      "Command Progress: 100%|██████████| 100/100 [00:01<00:00, 54.58it/s]"
     ]
    },
    {
     "name": "stderr",
     "output_type": "stream",
     "text": [
      "[2024-04-17 11:40:36][WAR][dtlpy:v1.72.7][entities.item:113] Item has been fetched from a dataset that is not belong to it\n"
     ]
    },
    {
     "name": "stdout",
     "output_type": "stream",
     "text": [
      "\n",
      "Command Progress: 100%|██████████| 100/100 [00:02<00:00, 49.09it/s]"
     ]
    },
    {
     "name": "stderr",
     "output_type": "stream",
     "text": [
      "[2024-04-17 11:40:39][WAR][dtlpy:v1.72.7][entities.item:113] Item has been fetched from a dataset that is not belong to it\n"
     ]
    },
    {
     "name": "stdout",
     "output_type": "stream",
     "text": [
      "\n",
      "Command Progress: 100%|██████████| 100/100 [00:02<00:00, 49.36it/s]"
     ]
    },
    {
     "name": "stderr",
     "output_type": "stream",
     "text": [
      "[2024-04-17 11:40:41][WAR][dtlpy:v1.72.7][entities.item:113] Item has been fetched from a dataset that is not belong to it\n"
     ]
    },
    {
     "name": "stdout",
     "output_type": "stream",
     "text": [
      "\n",
      "Command Progress: 100%|██████████| 100/100 [00:02<00:00, 49.40it/s]"
     ]
    },
    {
     "name": "stderr",
     "output_type": "stream",
     "text": [
      "[2024-04-17 11:40:44][WAR][dtlpy:v1.72.7][entities.item:113] Item has been fetched from a dataset that is not belong to it\n"
     ]
    },
    {
     "name": "stdout",
     "output_type": "stream",
     "text": [
      "\n",
      "Command Progress: 100%|██████████| 100/100 [00:01<00:00, 75.93it/s]"
     ]
    },
    {
     "name": "stderr",
     "output_type": "stream",
     "text": [
      "[2024-04-17 11:40:45][WAR][dtlpy:v1.72.7][entities.item:113] Item has been fetched from a dataset that is not belong to it\n"
     ]
    },
    {
     "name": "stdout",
     "output_type": "stream",
     "text": [
      "\n",
      "Command Progress: 100%|██████████| 100/100 [00:02<00:00, 49.46it/s]"
     ]
    },
    {
     "name": "stderr",
     "output_type": "stream",
     "text": [
      "[2024-04-17 11:40:48][WAR][dtlpy:v1.72.7][entities.item:113] Item has been fetched from a dataset that is not belong to it\n"
     ]
    },
    {
     "name": "stdout",
     "output_type": "stream",
     "text": [
      "\n",
      "Command Progress: 100%|██████████| 100/100 [00:01<00:00, 50.01it/s]"
     ]
    },
    {
     "name": "stderr",
     "output_type": "stream",
     "text": [
      "[2024-04-17 11:40:50][WAR][dtlpy:v1.72.7][entities.item:113] Item has been fetched from a dataset that is not belong to it\n"
     ]
    },
    {
     "name": "stdout",
     "output_type": "stream",
     "text": [
      "\n",
      "Command Progress: 100%|██████████| 100/100 [00:02<00:00, 49.93it/s]"
     ]
    },
    {
     "name": "stderr",
     "output_type": "stream",
     "text": [
      "[2024-04-17 11:40:52][WAR][dtlpy:v1.72.7][entities.item:113] Item has been fetched from a dataset that is not belong to it\n"
     ]
    },
    {
     "name": "stdout",
     "output_type": "stream",
     "text": [
      "\n",
      "Command Progress: 100%|██████████| 100/100 [00:02<00:00, 49.30it/s]"
     ]
    },
    {
     "name": "stderr",
     "output_type": "stream",
     "text": [
      "[2024-04-17 11:40:55][WAR][dtlpy:v1.72.7][entities.item:113] Item has been fetched from a dataset that is not belong to it\n"
     ]
    },
    {
     "name": "stdout",
     "output_type": "stream",
     "text": [
      "\n",
      "Command Progress: 100%|██████████| 100/100 [00:01<00:00, 60.11it/s]"
     ]
    },
    {
     "name": "stderr",
     "output_type": "stream",
     "text": [
      "[2024-04-17 11:40:57][WAR][dtlpy:v1.72.7][entities.item:113] Item has been fetched from a dataset that is not belong to it\n"
     ]
    },
    {
     "name": "stdout",
     "output_type": "stream",
     "text": [
      "\n",
      "Command Progress: 100%|██████████| 100/100 [00:01<00:00, 70.53it/s]"
     ]
    },
    {
     "name": "stderr",
     "output_type": "stream",
     "text": [
      "[2024-04-17 11:40:59][WAR][dtlpy:v1.72.7][entities.item:113] Item has been fetched from a dataset that is not belong to it\n"
     ]
    },
    {
     "name": "stdout",
     "output_type": "stream",
     "text": [
      "\n",
      "Command Progress: 100%|██████████| 100/100 [00:02<00:00, 49.71it/s]"
     ]
    },
    {
     "name": "stderr",
     "output_type": "stream",
     "text": [
      "[2024-04-17 11:41:01][WAR][dtlpy:v1.72.7][entities.item:113] Item has been fetched from a dataset that is not belong to it\n"
     ]
    },
    {
     "name": "stdout",
     "output_type": "stream",
     "text": [
      "\n",
      "Command Progress: 100%|██████████| 100/100 [00:01<00:00, 50.13it/s]"
     ]
    },
    {
     "name": "stderr",
     "output_type": "stream",
     "text": [
      "[2024-04-17 11:41:03][WAR][dtlpy:v1.72.7][entities.item:113] Item has been fetched from a dataset that is not belong to it\n"
     ]
    },
    {
     "name": "stdout",
     "output_type": "stream",
     "text": [
      "\n",
      "Command Progress: 100%|██████████| 100/100 [00:02<00:00, 40.31it/s]"
     ]
    },
    {
     "name": "stderr",
     "output_type": "stream",
     "text": [
      "[2024-04-17 11:41:06][WAR][dtlpy:v1.72.7][entities.item:113] Item has been fetched from a dataset that is not belong to it\n"
     ]
    },
    {
     "name": "stdout",
     "output_type": "stream",
     "text": [
      "\n",
      "Command Progress: 100%|██████████| 100/100 [00:02<00:00, 49.22it/s]"
     ]
    },
    {
     "name": "stderr",
     "output_type": "stream",
     "text": [
      "[2024-04-17 11:41:09][WAR][dtlpy:v1.72.7][entities.item:113] Item has been fetched from a dataset that is not belong to it\n"
     ]
    },
    {
     "name": "stdout",
     "output_type": "stream",
     "text": [
      "\n",
      "Command Progress: 100%|██████████| 100/100 [00:02<00:00, 49.42it/s]"
     ]
    },
    {
     "name": "stderr",
     "output_type": "stream",
     "text": [
      "[2024-04-17 11:41:11][WAR][dtlpy:v1.72.7][entities.item:113] Item has been fetched from a dataset that is not belong to it\n"
     ]
    },
    {
     "name": "stdout",
     "output_type": "stream",
     "text": [
      "\n",
      "Command Progress: 100%|██████████| 100/100 [00:02<00:00, 49.49it/s]"
     ]
    },
    {
     "name": "stderr",
     "output_type": "stream",
     "text": [
      "[2024-04-17 11:41:14][WAR][dtlpy:v1.72.7][entities.item:113] Item has been fetched from a dataset that is not belong to it\n"
     ]
    },
    {
     "name": "stdout",
     "output_type": "stream",
     "text": [
      "\n",
      "Command Progress: 100%|██████████| 100/100 [00:02<00:00, 47.91it/s]"
     ]
    },
    {
     "name": "stderr",
     "output_type": "stream",
     "text": [
      "[2024-04-17 11:41:16][WAR][dtlpy:v1.72.7][entities.item:113] Item has been fetched from a dataset that is not belong to it\n"
     ]
    },
    {
     "name": "stdout",
     "output_type": "stream",
     "text": [
      "\n",
      "Command Progress: 100%|██████████| 100/100 [00:01<00:00, 79.71it/s]"
     ]
    },
    {
     "name": "stderr",
     "output_type": "stream",
     "text": [
      "[2024-04-17 11:41:18][WAR][dtlpy:v1.72.7][entities.item:113] Item has been fetched from a dataset that is not belong to it\n"
     ]
    },
    {
     "name": "stdout",
     "output_type": "stream",
     "text": [
      "\n",
      "Command Progress: 100%|██████████| 100/100 [00:02<00:00, 49.92it/s]"
     ]
    },
    {
     "name": "stderr",
     "output_type": "stream",
     "text": [
      "[2024-04-17 11:41:20][WAR][dtlpy:v1.72.7][entities.item:113] Item has been fetched from a dataset that is not belong to it\n"
     ]
    },
    {
     "name": "stdout",
     "output_type": "stream",
     "text": [
      "\n",
      "Command Progress: 100%|██████████| 100/100 [00:02<00:00, 49.27it/s]"
     ]
    },
    {
     "name": "stderr",
     "output_type": "stream",
     "text": [
      "[2024-04-17 11:41:23][WAR][dtlpy:v1.72.7][entities.item:113] Item has been fetched from a dataset that is not belong to it\n"
     ]
    },
    {
     "name": "stdout",
     "output_type": "stream",
     "text": [
      "\n",
      "Command Progress: 100%|██████████| 100/100 [00:02<00:00, 44.13it/s]"
     ]
    },
    {
     "name": "stderr",
     "output_type": "stream",
     "text": [
      "[2024-04-17 11:41:25][WAR][dtlpy:v1.72.7][entities.item:113] Item has been fetched from a dataset that is not belong to it\n"
     ]
    },
    {
     "name": "stdout",
     "output_type": "stream",
     "text": [
      "\n",
      "Command Progress: 100%|██████████| 100/100 [00:01<00:00, 81.52it/s]"
     ]
    },
    {
     "name": "stderr",
     "output_type": "stream",
     "text": [
      "[2024-04-17 11:41:27][WAR][dtlpy:v1.72.7][entities.item:113] Item has been fetched from a dataset that is not belong to it\n"
     ]
    },
    {
     "name": "stdout",
     "output_type": "stream",
     "text": [
      "\n",
      "Command Progress: 100%|██████████| 100/100 [00:02<00:00, 49.39it/s]"
     ]
    },
    {
     "name": "stderr",
     "output_type": "stream",
     "text": [
      "[2024-04-17 11:41:29][WAR][dtlpy:v1.72.7][entities.item:113] Item has been fetched from a dataset that is not belong to it\n"
     ]
    },
    {
     "name": "stdout",
     "output_type": "stream",
     "text": [
      "\n",
      "Command Progress: 100%|██████████| 100/100 [00:02<00:00, 49.41it/s]"
     ]
    },
    {
     "name": "stderr",
     "output_type": "stream",
     "text": [
      "[2024-04-17 11:41:32][WAR][dtlpy:v1.72.7][entities.item:113] Item has been fetched from a dataset that is not belong to it\n"
     ]
    },
    {
     "name": "stdout",
     "output_type": "stream",
     "text": [
      "\n",
      "Command Progress: 100%|██████████| 100/100 [00:02<00:00, 48.85it/s]"
     ]
    },
    {
     "name": "stderr",
     "output_type": "stream",
     "text": [
      "[2024-04-17 11:41:34][WAR][dtlpy:v1.72.7][entities.item:113] Item has been fetched from a dataset that is not belong to it\n"
     ]
    },
    {
     "name": "stdout",
     "output_type": "stream",
     "text": [
      "\n",
      "Command Progress: 100%|██████████| 100/100 [00:01<00:00, 66.55it/s]"
     ]
    },
    {
     "name": "stderr",
     "output_type": "stream",
     "text": [
      "[2024-04-17 11:41:36][WAR][dtlpy:v1.72.7][entities.item:113] Item has been fetched from a dataset that is not belong to it\n"
     ]
    },
    {
     "name": "stdout",
     "output_type": "stream",
     "text": [
      "\n",
      "Command Progress: 100%|██████████| 100/100 [00:02<00:00, 49.15it/s]"
     ]
    },
    {
     "name": "stderr",
     "output_type": "stream",
     "text": [
      "[2024-04-17 11:41:38][WAR][dtlpy:v1.72.7][entities.item:113] Item has been fetched from a dataset that is not belong to it\n"
     ]
    },
    {
     "name": "stdout",
     "output_type": "stream",
     "text": [
      "\n",
      "Command Progress: 100%|██████████| 100/100 [00:02<00:00, 49.56it/s]"
     ]
    },
    {
     "name": "stderr",
     "output_type": "stream",
     "text": [
      "[2024-04-17 11:41:41][WAR][dtlpy:v1.72.7][entities.item:113] Item has been fetched from a dataset that is not belong to it\n"
     ]
    },
    {
     "name": "stdout",
     "output_type": "stream",
     "text": [
      "\n",
      "Command Progress: 100%|██████████| 100/100 [00:02<00:00, 49.56it/s]"
     ]
    },
    {
     "name": "stderr",
     "output_type": "stream",
     "text": [
      "[2024-04-17 11:41:43][WAR][dtlpy:v1.72.7][entities.item:113] Item has been fetched from a dataset that is not belong to it\n"
     ]
    },
    {
     "name": "stdout",
     "output_type": "stream",
     "text": [
      "\n",
      "Command Progress: 100%|██████████| 100/100 [00:02<00:00, 49.27it/s]"
     ]
    },
    {
     "name": "stderr",
     "output_type": "stream",
     "text": [
      "[2024-04-17 11:41:46][WAR][dtlpy:v1.72.7][entities.item:113] Item has been fetched from a dataset that is not belong to it\n"
     ]
    },
    {
     "name": "stdout",
     "output_type": "stream",
     "text": [
      "\n",
      "Command Progress: 100%|██████████| 100/100 [00:02<00:00, 49.45it/s]"
     ]
    },
    {
     "name": "stderr",
     "output_type": "stream",
     "text": [
      "[2024-04-17 11:41:48][WAR][dtlpy:v1.72.7][entities.item:113] Item has been fetched from a dataset that is not belong to it\n"
     ]
    },
    {
     "name": "stdout",
     "output_type": "stream",
     "text": [
      "\n",
      "Command Progress: 100%|██████████| 100/100 [00:02<00:00, 49.05it/s]"
     ]
    },
    {
     "name": "stderr",
     "output_type": "stream",
     "text": [
      "[2024-04-17 11:41:50][WAR][dtlpy:v1.72.7][entities.item:113] Item has been fetched from a dataset that is not belong to it\n"
     ]
    },
    {
     "name": "stdout",
     "output_type": "stream",
     "text": [
      "\n",
      "Command Progress: 100%|██████████| 100/100 [00:02<00:00, 49.59it/s]"
     ]
    },
    {
     "name": "stderr",
     "output_type": "stream",
     "text": [
      "[2024-04-17 11:41:53][WAR][dtlpy:v1.72.7][entities.item:113] Item has been fetched from a dataset that is not belong to it\n"
     ]
    },
    {
     "name": "stdout",
     "output_type": "stream",
     "text": [
      "\n",
      "Command Progress: 100%|██████████| 100/100 [00:02<00:00, 49.49it/s]"
     ]
    },
    {
     "name": "stderr",
     "output_type": "stream",
     "text": [
      "[2024-04-17 11:41:55][WAR][dtlpy:v1.72.7][entities.item:113] Item has been fetched from a dataset that is not belong to it\n"
     ]
    },
    {
     "name": "stdout",
     "output_type": "stream",
     "text": [
      "\n",
      "Command Progress: 100%|██████████| 100/100 [00:02<00:00, 49.64it/s]"
     ]
    },
    {
     "name": "stderr",
     "output_type": "stream",
     "text": [
      "[2024-04-17 11:41:58][WAR][dtlpy:v1.72.7][entities.item:113] Item has been fetched from a dataset that is not belong to it\n"
     ]
    },
    {
     "name": "stdout",
     "output_type": "stream",
     "text": [
      "\n",
      "Command Progress: 100%|██████████| 100/100 [00:01<00:00, 75.44it/s]"
     ]
    },
    {
     "name": "stderr",
     "output_type": "stream",
     "text": [
      "[2024-04-17 11:41:59][WAR][dtlpy:v1.72.7][entities.item:113] Item has been fetched from a dataset that is not belong to it\n"
     ]
    },
    {
     "name": "stdout",
     "output_type": "stream",
     "text": [
      "\n",
      "Command Progress: 100%|██████████| 100/100 [00:02<00:00, 49.84it/s]"
     ]
    },
    {
     "name": "stderr",
     "output_type": "stream",
     "text": [
      "[2024-04-17 11:42:02][WAR][dtlpy:v1.72.7][entities.item:113] Item has been fetched from a dataset that is not belong to it\n"
     ]
    },
    {
     "name": "stdout",
     "output_type": "stream",
     "text": [
      "\n",
      "Command Progress: 100%|██████████| 100/100 [00:02<00:00, 42.40it/s]"
     ]
    },
    {
     "name": "stderr",
     "output_type": "stream",
     "text": [
      "[2024-04-17 11:42:04][WAR][dtlpy:v1.72.7][entities.item:113] Item has been fetched from a dataset that is not belong to it\n"
     ]
    },
    {
     "name": "stdout",
     "output_type": "stream",
     "text": [
      "\n",
      "Command Progress: 100%|██████████| 100/100 [00:02<00:00, 49.64it/s]"
     ]
    },
    {
     "name": "stderr",
     "output_type": "stream",
     "text": [
      "[2024-04-17 11:42:07][WAR][dtlpy:v1.72.7][entities.item:113] Item has been fetched from a dataset that is not belong to it\n"
     ]
    },
    {
     "name": "stdout",
     "output_type": "stream",
     "text": [
      "\n",
      "Command Progress: 100%|██████████| 100/100 [00:02<00:00, 49.34it/s]"
     ]
    },
    {
     "name": "stderr",
     "output_type": "stream",
     "text": [
      "[2024-04-17 11:42:09][WAR][dtlpy:v1.72.7][entities.item:113] Item has been fetched from a dataset that is not belong to it\n"
     ]
    },
    {
     "name": "stdout",
     "output_type": "stream",
     "text": [
      "\n",
      "Command Progress: 100%|██████████| 100/100 [00:02<00:00, 49.02it/s]"
     ]
    },
    {
     "name": "stderr",
     "output_type": "stream",
     "text": [
      "[2024-04-17 11:42:12][WAR][dtlpy:v1.72.7][entities.item:113] Item has been fetched from a dataset that is not belong to it\n"
     ]
    },
    {
     "name": "stdout",
     "output_type": "stream",
     "text": [
      "\n",
      "Command Progress: 100%|██████████| 100/100 [00:02<00:00, 49.96it/s]"
     ]
    },
    {
     "name": "stderr",
     "output_type": "stream",
     "text": [
      "[2024-04-17 11:42:14][WAR][dtlpy:v1.72.7][entities.item:113] Item has been fetched from a dataset that is not belong to it\n"
     ]
    },
    {
     "name": "stdout",
     "output_type": "stream",
     "text": [
      "\n",
      "Command Progress: 100%|██████████| 100/100 [00:02<00:00, 48.77it/s]"
     ]
    },
    {
     "name": "stderr",
     "output_type": "stream",
     "text": [
      "[2024-04-17 11:42:16][WAR][dtlpy:v1.72.7][entities.item:113] Item has been fetched from a dataset that is not belong to it\n"
     ]
    },
    {
     "name": "stdout",
     "output_type": "stream",
     "text": [
      "\n",
      "Command Progress: 100%|██████████| 100/100 [00:01<00:00, 70.02it/s]"
     ]
    },
    {
     "name": "stderr",
     "output_type": "stream",
     "text": [
      "[2024-04-17 11:42:18][WAR][dtlpy:v1.72.7][entities.item:113] Item has been fetched from a dataset that is not belong to it\n"
     ]
    },
    {
     "name": "stdout",
     "output_type": "stream",
     "text": [
      "\n",
      "Command Progress: 100%|██████████| 100/100 [00:02<00:00, 49.01it/s]"
     ]
    },
    {
     "name": "stderr",
     "output_type": "stream",
     "text": [
      "[2024-04-17 11:42:21][WAR][dtlpy:v1.72.7][entities.item:113] Item has been fetched from a dataset that is not belong to it\n"
     ]
    },
    {
     "name": "stdout",
     "output_type": "stream",
     "text": [
      "\n",
      "Command Progress: 100%|██████████| 100/100 [00:02<00:00, 49.27it/s]"
     ]
    },
    {
     "name": "stderr",
     "output_type": "stream",
     "text": [
      "[2024-04-17 11:42:23][WAR][dtlpy:v1.72.7][entities.item:113] Item has been fetched from a dataset that is not belong to it\n"
     ]
    },
    {
     "name": "stdout",
     "output_type": "stream",
     "text": [
      "\n",
      "Command Progress: 100%|██████████| 100/100 [00:01<00:00, 62.08it/s]"
     ]
    },
    {
     "name": "stderr",
     "output_type": "stream",
     "text": [
      "[2024-04-17 11:42:25][WAR][dtlpy:v1.72.7][entities.item:113] Item has been fetched from a dataset that is not belong to it\n"
     ]
    },
    {
     "name": "stdout",
     "output_type": "stream",
     "text": [
      "\n",
      "Command Progress: 100%|██████████| 100/100 [00:01<00:00, 61.82it/s]"
     ]
    },
    {
     "name": "stderr",
     "output_type": "stream",
     "text": [
      "[2024-04-17 11:42:27][WAR][dtlpy:v1.72.7][entities.item:113] Item has been fetched from a dataset that is not belong to it\n"
     ]
    },
    {
     "name": "stdout",
     "output_type": "stream",
     "text": [
      "\n",
      "Command Progress: 100%|██████████| 100/100 [00:02<00:00, 49.05it/s]"
     ]
    },
    {
     "name": "stderr",
     "output_type": "stream",
     "text": [
      "[2024-04-17 11:42:30][WAR][dtlpy:v1.72.7][entities.item:113] Item has been fetched from a dataset that is not belong to it\n"
     ]
    },
    {
     "name": "stdout",
     "output_type": "stream",
     "text": [
      "\n",
      "Command Progress: 100%|██████████| 100/100 [00:03<00:00, 30.13it/s]"
     ]
    },
    {
     "name": "stderr",
     "output_type": "stream",
     "text": [
      "[2024-04-17 11:42:33][WAR][dtlpy:v1.72.7][entities.item:113] Item has been fetched from a dataset that is not belong to it\n"
     ]
    },
    {
     "name": "stdout",
     "output_type": "stream",
     "text": [
      "\n",
      "Command Progress: 100%|██████████| 100/100 [00:01<00:00, 73.13it/s]"
     ]
    },
    {
     "name": "stderr",
     "output_type": "stream",
     "text": [
      "[2024-04-17 11:42:35][WAR][dtlpy:v1.72.7][entities.item:113] Item has been fetched from a dataset that is not belong to it\n"
     ]
    },
    {
     "name": "stdout",
     "output_type": "stream",
     "text": [
      "\n",
      "Command Progress: 100%|██████████| 100/100 [00:01<00:00, 72.03it/s]"
     ]
    },
    {
     "name": "stderr",
     "output_type": "stream",
     "text": [
      "[2024-04-17 11:42:37][WAR][dtlpy:v1.72.7][entities.item:113] Item has been fetched from a dataset that is not belong to it\n"
     ]
    },
    {
     "name": "stdout",
     "output_type": "stream",
     "text": [
      "\n",
      "Command Progress: 100%|██████████| 100/100 [00:02<00:00, 49.30it/s]"
     ]
    },
    {
     "name": "stderr",
     "output_type": "stream",
     "text": [
      "[2024-04-17 11:42:39][WAR][dtlpy:v1.72.7][entities.item:113] Item has been fetched from a dataset that is not belong to it\n"
     ]
    },
    {
     "name": "stdout",
     "output_type": "stream",
     "text": [
      "\n",
      "Command Progress: 100%|██████████| 100/100 [00:02<00:00, 49.74it/s]"
     ]
    },
    {
     "name": "stderr",
     "output_type": "stream",
     "text": [
      "[2024-04-17 11:42:42][WAR][dtlpy:v1.72.7][entities.item:113] Item has been fetched from a dataset that is not belong to it\n"
     ]
    },
    {
     "name": "stdout",
     "output_type": "stream",
     "text": [
      "\n",
      "Command Progress: 100%|██████████| 100/100 [00:02<00:00, 41.53it/s]"
     ]
    },
    {
     "name": "stderr",
     "output_type": "stream",
     "text": [
      "[2024-04-17 11:42:44][WAR][dtlpy:v1.72.7][entities.item:113] Item has been fetched from a dataset that is not belong to it\n"
     ]
    },
    {
     "name": "stdout",
     "output_type": "stream",
     "text": [
      "\n",
      "Command Progress: 100%|██████████| 100/100 [00:02<00:00, 47.59it/s]"
     ]
    },
    {
     "name": "stderr",
     "output_type": "stream",
     "text": [
      "[2024-04-17 11:42:47][WAR][dtlpy:v1.72.7][entities.item:113] Item has been fetched from a dataset that is not belong to it\n"
     ]
    },
    {
     "name": "stdout",
     "output_type": "stream",
     "text": [
      "\n",
      "Command Progress: 100%|██████████| 100/100 [00:02<00:00, 49.78it/s]"
     ]
    },
    {
     "name": "stderr",
     "output_type": "stream",
     "text": [
      "[2024-04-17 11:42:49][WAR][dtlpy:v1.72.7][entities.item:113] Item has been fetched from a dataset that is not belong to it\n"
     ]
    },
    {
     "name": "stdout",
     "output_type": "stream",
     "text": [
      "\n",
      "Command Progress: 100%|██████████| 100/100 [00:02<00:00, 49.10it/s]"
     ]
    },
    {
     "name": "stderr",
     "output_type": "stream",
     "text": [
      "[2024-04-17 11:42:52][WAR][dtlpy:v1.72.7][entities.item:113] Item has been fetched from a dataset that is not belong to it\n"
     ]
    },
    {
     "name": "stdout",
     "output_type": "stream",
     "text": [
      "\n",
      "Command Progress: 100%|██████████| 100/100 [00:02<00:00, 49.32it/s]"
     ]
    },
    {
     "name": "stderr",
     "output_type": "stream",
     "text": [
      "[2024-04-17 11:42:54][WAR][dtlpy:v1.72.7][entities.item:113] Item has been fetched from a dataset that is not belong to it\n"
     ]
    },
    {
     "name": "stdout",
     "output_type": "stream",
     "text": [
      "\n",
      "Command Progress: 100%|██████████| 100/100 [00:02<00:00, 49.29it/s]"
     ]
    },
    {
     "name": "stderr",
     "output_type": "stream",
     "text": [
      "[2024-04-17 11:42:57][WAR][dtlpy:v1.72.7][entities.item:113] Item has been fetched from a dataset that is not belong to it\n"
     ]
    },
    {
     "name": "stdout",
     "output_type": "stream",
     "text": [
      "\n",
      "Command Progress: 100%|██████████| 100/100 [00:02<00:00, 49.71it/s]"
     ]
    },
    {
     "name": "stderr",
     "output_type": "stream",
     "text": [
      "[2024-04-17 11:42:59][WAR][dtlpy:v1.72.7][entities.item:113] Item has been fetched from a dataset that is not belong to it\n"
     ]
    },
    {
     "name": "stdout",
     "output_type": "stream",
     "text": [
      "\n",
      "Command Progress: 100%|██████████| 100/100 [00:02<00:00, 49.81it/s]"
     ]
    },
    {
     "name": "stderr",
     "output_type": "stream",
     "text": [
      "[2024-04-17 11:43:01][WAR][dtlpy:v1.72.7][entities.item:113] Item has been fetched from a dataset that is not belong to it\n"
     ]
    },
    {
     "name": "stdout",
     "output_type": "stream",
     "text": [
      "\n",
      "Command Progress: 100%|██████████| 100/100 [00:01<00:00, 50.03it/s]"
     ]
    },
    {
     "name": "stderr",
     "output_type": "stream",
     "text": [
      "[2024-04-17 11:43:04][WAR][dtlpy:v1.72.7][entities.item:113] Item has been fetched from a dataset that is not belong to it\n"
     ]
    },
    {
     "name": "stdout",
     "output_type": "stream",
     "text": [
      "\n",
      "Command Progress: 100%|██████████| 100/100 [00:01<00:00, 73.40it/s]"
     ]
    },
    {
     "name": "stderr",
     "output_type": "stream",
     "text": [
      "[2024-04-17 11:43:05][WAR][dtlpy:v1.72.7][entities.item:113] Item has been fetched from a dataset that is not belong to it\n"
     ]
    },
    {
     "name": "stdout",
     "output_type": "stream",
     "text": [
      "\n",
      "Command Progress: 100%|██████████| 100/100 [00:01<00:00, 84.70it/s]"
     ]
    },
    {
     "name": "stderr",
     "output_type": "stream",
     "text": [
      "[2024-04-17 11:43:07][WAR][dtlpy:v1.72.7][entities.item:113] Item has been fetched from a dataset that is not belong to it\n"
     ]
    },
    {
     "name": "stdout",
     "output_type": "stream",
     "text": [
      "\n",
      "Command Progress: 100%|██████████| 100/100 [00:01<00:00, 50.43it/s]"
     ]
    },
    {
     "name": "stderr",
     "output_type": "stream",
     "text": [
      "[2024-04-17 11:43:10][WAR][dtlpy:v1.72.7][entities.item:113] Item has been fetched from a dataset that is not belong to it\n"
     ]
    },
    {
     "name": "stdout",
     "output_type": "stream",
     "text": [
      "\n",
      "Command Progress: 100%|██████████| 100/100 [00:02<00:00, 49.76it/s]"
     ]
    },
    {
     "name": "stderr",
     "output_type": "stream",
     "text": [
      "[2024-04-17 11:43:12][WAR][dtlpy:v1.72.7][entities.item:113] Item has been fetched from a dataset that is not belong to it\n"
     ]
    },
    {
     "name": "stdout",
     "output_type": "stream",
     "text": [
      "\n",
      "Command Progress: 100%|██████████| 100/100 [00:02<00:00, 49.32it/s]"
     ]
    },
    {
     "name": "stderr",
     "output_type": "stream",
     "text": [
      "[2024-04-17 11:43:15][WAR][dtlpy:v1.72.7][entities.item:113] Item has been fetched from a dataset that is not belong to it\n"
     ]
    },
    {
     "name": "stdout",
     "output_type": "stream",
     "text": [
      "\n",
      "Command Progress: 100%|██████████| 100/100 [00:02<00:00, 49.61it/s]"
     ]
    },
    {
     "name": "stderr",
     "output_type": "stream",
     "text": [
      "[2024-04-17 11:43:17][WAR][dtlpy:v1.72.7][entities.item:113] Item has been fetched from a dataset that is not belong to it\n"
     ]
    },
    {
     "name": "stdout",
     "output_type": "stream",
     "text": [
      "\n",
      "Command Progress: 100%|██████████| 100/100 [00:02<00:00, 49.98it/s]"
     ]
    },
    {
     "name": "stderr",
     "output_type": "stream",
     "text": [
      "[2024-04-17 11:43:19][WAR][dtlpy:v1.72.7][entities.item:113] Item has been fetched from a dataset that is not belong to it\n"
     ]
    },
    {
     "name": "stdout",
     "output_type": "stream",
     "text": [
      "\n",
      "Command Progress: 100%|██████████| 100/100 [00:02<00:00, 49.40it/s]"
     ]
    },
    {
     "name": "stderr",
     "output_type": "stream",
     "text": [
      "[2024-04-17 11:43:22][WAR][dtlpy:v1.72.7][entities.item:113] Item has been fetched from a dataset that is not belong to it\n"
     ]
    },
    {
     "name": "stdout",
     "output_type": "stream",
     "text": [
      "\n",
      "Command Progress: 100%|██████████| 100/100 [00:02<00:00, 49.76it/s]"
     ]
    },
    {
     "name": "stderr",
     "output_type": "stream",
     "text": [
      "[2024-04-17 11:43:24][WAR][dtlpy:v1.72.7][entities.item:113] Item has been fetched from a dataset that is not belong to it\n"
     ]
    },
    {
     "name": "stdout",
     "output_type": "stream",
     "text": [
      "\n",
      "Command Progress: 100%|██████████| 100/100 [00:02<00:00, 49.37it/s]"
     ]
    },
    {
     "name": "stderr",
     "output_type": "stream",
     "text": [
      "[2024-04-17 11:43:27][WAR][dtlpy:v1.72.7][entities.item:113] Item has been fetched from a dataset that is not belong to it\n"
     ]
    },
    {
     "name": "stdout",
     "output_type": "stream",
     "text": [
      "\n",
      "Command Progress: 100%|██████████| 100/100 [00:03<00:00, 26.87it/s]"
     ]
    },
    {
     "name": "stderr",
     "output_type": "stream",
     "text": [
      "[2024-04-17 11:43:31][WAR][dtlpy:v1.72.7][entities.item:113] Item has been fetched from a dataset that is not belong to it\n"
     ]
    },
    {
     "name": "stdout",
     "output_type": "stream",
     "text": [
      "\n",
      "Command Progress: 100%|██████████| 100/100 [00:02<00:00, 49.10it/s]"
     ]
    },
    {
     "name": "stderr",
     "output_type": "stream",
     "text": [
      "[2024-04-17 11:43:33][WAR][dtlpy:v1.72.7][entities.item:113] Item has been fetched from a dataset that is not belong to it\n"
     ]
    },
    {
     "name": "stdout",
     "output_type": "stream",
     "text": [
      "\n",
      "Command Progress: 100%|██████████| 100/100 [00:02<00:00, 39.82it/s]"
     ]
    },
    {
     "name": "stderr",
     "output_type": "stream",
     "text": [
      "[2024-04-17 11:43:36][WAR][dtlpy:v1.72.7][entities.item:113] Item has been fetched from a dataset that is not belong to it\n"
     ]
    },
    {
     "name": "stdout",
     "output_type": "stream",
     "text": [
      "\n",
      "Command Progress: 100%|██████████| 100/100 [00:02<00:00, 45.25it/s]"
     ]
    },
    {
     "name": "stderr",
     "output_type": "stream",
     "text": [
      "[2024-04-17 11:43:39][WAR][dtlpy:v1.72.7][entities.item:113] Item has been fetched from a dataset that is not belong to it\n"
     ]
    },
    {
     "name": "stdout",
     "output_type": "stream",
     "text": [
      "\n",
      "Command Progress: 100%|██████████| 100/100 [00:02<00:00, 44.48it/s]"
     ]
    },
    {
     "name": "stderr",
     "output_type": "stream",
     "text": [
      "[2024-04-17 11:43:41][WAR][dtlpy:v1.72.7][entities.item:113] Item has been fetched from a dataset that is not belong to it\n"
     ]
    },
    {
     "name": "stdout",
     "output_type": "stream",
     "text": [
      "\n",
      "Command Progress: 100%|██████████| 100/100 [00:02<00:00, 49.83it/s]"
     ]
    },
    {
     "name": "stderr",
     "output_type": "stream",
     "text": [
      "[2024-04-17 11:43:44][WAR][dtlpy:v1.72.7][entities.item:113] Item has been fetched from a dataset that is not belong to it\n"
     ]
    },
    {
     "name": "stdout",
     "output_type": "stream",
     "text": [
      "\n",
      "Command Progress: 100%|██████████| 100/100 [00:02<00:00, 49.91it/s]"
     ]
    },
    {
     "name": "stderr",
     "output_type": "stream",
     "text": [
      "[2024-04-17 11:43:46][WAR][dtlpy:v1.72.7][entities.item:113] Item has been fetched from a dataset that is not belong to it\n"
     ]
    },
    {
     "name": "stdout",
     "output_type": "stream",
     "text": [
      "\n",
      "Command Progress: 100%|██████████| 100/100 [00:03<00:00, 26.74it/s]"
     ]
    },
    {
     "name": "stderr",
     "output_type": "stream",
     "text": [
      "[2024-04-17 11:43:51][WAR][dtlpy:v1.72.7][entities.item:113] Item has been fetched from a dataset that is not belong to it\n"
     ]
    },
    {
     "name": "stdout",
     "output_type": "stream",
     "text": [
      "\n",
      "Command Progress: 100%|██████████| 100/100 [00:02<00:00, 49.37it/s]"
     ]
    },
    {
     "name": "stderr",
     "output_type": "stream",
     "text": [
      "[2024-04-17 11:43:53][WAR][dtlpy:v1.72.7][entities.item:113] Item has been fetched from a dataset that is not belong to it\n"
     ]
    },
    {
     "name": "stdout",
     "output_type": "stream",
     "text": [
      "\n",
      "Command Progress: 100%|██████████| 100/100 [00:02<00:00, 49.49it/s]"
     ]
    },
    {
     "name": "stderr",
     "output_type": "stream",
     "text": [
      "[2024-04-17 11:43:55][WAR][dtlpy:v1.72.7][entities.item:113] Item has been fetched from a dataset that is not belong to it\n"
     ]
    },
    {
     "name": "stdout",
     "output_type": "stream",
     "text": [
      "\n",
      "Command Progress: 100%|██████████| 100/100 [00:01<00:00, 68.97it/s]"
     ]
    },
    {
     "name": "stderr",
     "output_type": "stream",
     "text": [
      "[2024-04-17 11:43:57][WAR][dtlpy:v1.72.7][entities.item:113] Item has been fetched from a dataset that is not belong to it\n"
     ]
    },
    {
     "name": "stdout",
     "output_type": "stream",
     "text": [
      "\n",
      "Command Progress: 100%|██████████| 100/100 [00:02<00:00, 49.06it/s]"
     ]
    },
    {
     "name": "stderr",
     "output_type": "stream",
     "text": [
      "[2024-04-17 11:44:00][WAR][dtlpy:v1.72.7][entities.item:113] Item has been fetched from a dataset that is not belong to it\n"
     ]
    },
    {
     "name": "stdout",
     "output_type": "stream",
     "text": [
      "\n",
      "Command Progress: 100%|██████████| 100/100 [00:02<00:00, 49.64it/s]"
     ]
    },
    {
     "name": "stderr",
     "output_type": "stream",
     "text": [
      "[2024-04-17 11:44:02][WAR][dtlpy:v1.72.7][entities.item:113] Item has been fetched from a dataset that is not belong to it\n"
     ]
    },
    {
     "name": "stdout",
     "output_type": "stream",
     "text": [
      "\n",
      "Command Progress: 100%|██████████| 100/100 [00:02<00:00, 47.43it/s]"
     ]
    },
    {
     "name": "stderr",
     "output_type": "stream",
     "text": [
      "[2024-04-17 11:44:05][WAR][dtlpy:v1.72.7][entities.item:113] Item has been fetched from a dataset that is not belong to it\n"
     ]
    },
    {
     "name": "stdout",
     "output_type": "stream",
     "text": [
      "\n",
      "Command Progress: 100%|██████████| 100/100 [00:02<00:00, 49.76it/s]"
     ]
    },
    {
     "name": "stderr",
     "output_type": "stream",
     "text": [
      "[2024-04-17 11:44:07][WAR][dtlpy:v1.72.7][entities.item:113] Item has been fetched from a dataset that is not belong to it\n"
     ]
    },
    {
     "name": "stdout",
     "output_type": "stream",
     "text": [
      "\n",
      "Command Progress: 100%|██████████| 100/100 [00:01<00:00, 50.10it/s]"
     ]
    },
    {
     "name": "stderr",
     "output_type": "stream",
     "text": [
      "[2024-04-17 11:44:09][WAR][dtlpy:v1.72.7][entities.item:113] Item has been fetched from a dataset that is not belong to it\n"
     ]
    },
    {
     "name": "stdout",
     "output_type": "stream",
     "text": [
      "\n",
      "Command Progress: 100%|██████████| 100/100 [00:02<00:00, 49.56it/s]"
     ]
    },
    {
     "name": "stderr",
     "output_type": "stream",
     "text": [
      "[2024-04-17 11:44:12][WAR][dtlpy:v1.72.7][entities.item:113] Item has been fetched from a dataset that is not belong to it\n"
     ]
    },
    {
     "name": "stdout",
     "output_type": "stream",
     "text": [
      "\n",
      "Command Progress: 100%|██████████| 100/100 [00:02<00:00, 42.40it/s]"
     ]
    },
    {
     "name": "stderr",
     "output_type": "stream",
     "text": [
      "[2024-04-17 11:44:14][WAR][dtlpy:v1.72.7][entities.item:113] Item has been fetched from a dataset that is not belong to it\n"
     ]
    },
    {
     "name": "stdout",
     "output_type": "stream",
     "text": [
      "\n",
      "Command Progress: 100%|██████████| 100/100 [00:01<00:00, 65.06it/s]\n"
     ]
    },
    {
     "name": "stderr",
     "output_type": "stream",
     "text": [
      "[2024-04-17 11:44:17][WAR][dtlpy:v1.72.7][entities.item:113] Item has been fetched from a dataset that is not belong to it\n"
     ]
    },
    {
     "name": "stdout",
     "output_type": "stream",
     "text": [
      "Command Progress: 100%|██████████| 100/100 [00:02<00:00, 49.59it/s]"
     ]
    },
    {
     "name": "stderr",
     "output_type": "stream",
     "text": [
      "[2024-04-17 11:44:19][WAR][dtlpy:v1.72.7][entities.item:113] Item has been fetched from a dataset that is not belong to it\n"
     ]
    },
    {
     "name": "stdout",
     "output_type": "stream",
     "text": [
      "\n",
      "Command Progress: 100%|██████████| 100/100 [00:02<00:00, 49.69it/s]"
     ]
    },
    {
     "name": "stderr",
     "output_type": "stream",
     "text": [
      "[2024-04-17 11:44:22][WAR][dtlpy:v1.72.7][entities.item:113] Item has been fetched from a dataset that is not belong to it\n"
     ]
    },
    {
     "name": "stdout",
     "output_type": "stream",
     "text": [
      "\n",
      "Command Progress: 100%|██████████| 100/100 [00:01<00:00, 50.06it/s]"
     ]
    },
    {
     "name": "stderr",
     "output_type": "stream",
     "text": [
      "[2024-04-17 11:44:24][WAR][dtlpy:v1.72.7][entities.item:113] Item has been fetched from a dataset that is not belong to it\n"
     ]
    },
    {
     "name": "stdout",
     "output_type": "stream",
     "text": [
      "\n",
      "Command Progress: 100%|██████████| 100/100 [00:02<00:00, 36.86it/s]"
     ]
    },
    {
     "name": "stderr",
     "output_type": "stream",
     "text": [
      "[2024-04-17 11:44:27][WAR][dtlpy:v1.72.7][entities.item:113] Item has been fetched from a dataset that is not belong to it\n"
     ]
    },
    {
     "name": "stdout",
     "output_type": "stream",
     "text": [
      "\n",
      "Command Progress: 100%|██████████| 100/100 [00:02<00:00, 49.39it/s]"
     ]
    },
    {
     "name": "stderr",
     "output_type": "stream",
     "text": [
      "[2024-04-17 11:44:30][WAR][dtlpy:v1.72.7][entities.item:113] Item has been fetched from a dataset that is not belong to it\n"
     ]
    },
    {
     "name": "stdout",
     "output_type": "stream",
     "text": [
      "\n",
      "Command Progress: 100%|██████████| 100/100 [00:01<00:00, 66.49it/s]"
     ]
    },
    {
     "name": "stderr",
     "output_type": "stream",
     "text": [
      "[2024-04-17 11:44:31][WAR][dtlpy:v1.72.7][entities.item:113] Item has been fetched from a dataset that is not belong to it\n"
     ]
    },
    {
     "name": "stdout",
     "output_type": "stream",
     "text": [
      "\n",
      "Command Progress: 100%|██████████| 100/100 [00:02<00:00, 49.81it/s]"
     ]
    },
    {
     "name": "stderr",
     "output_type": "stream",
     "text": [
      "[2024-04-17 11:44:34][WAR][dtlpy:v1.72.7][entities.item:113] Item has been fetched from a dataset that is not belong to it\n"
     ]
    },
    {
     "name": "stdout",
     "output_type": "stream",
     "text": [
      "\n",
      "Command Progress: 100%|██████████| 100/100 [00:02<00:00, 48.62it/s]"
     ]
    },
    {
     "name": "stderr",
     "output_type": "stream",
     "text": [
      "[2024-04-17 11:44:36][WAR][dtlpy:v1.72.7][entities.item:113] Item has been fetched from a dataset that is not belong to it\n"
     ]
    },
    {
     "name": "stdout",
     "output_type": "stream",
     "text": [
      "\n",
      "Command Progress: 100%|██████████| 100/100 [00:02<00:00, 49.20it/s]"
     ]
    },
    {
     "name": "stderr",
     "output_type": "stream",
     "text": [
      "[2024-04-17 11:44:39][WAR][dtlpy:v1.72.7][entities.item:113] Item has been fetched from a dataset that is not belong to it\n"
     ]
    },
    {
     "name": "stdout",
     "output_type": "stream",
     "text": [
      "\n",
      "Command Progress: 100%|██████████| 100/100 [00:02<00:00, 40.54it/s]"
     ]
    },
    {
     "name": "stderr",
     "output_type": "stream",
     "text": [
      "[2024-04-17 11:44:41][WAR][dtlpy:v1.72.7][entities.item:113] Item has been fetched from a dataset that is not belong to it\n"
     ]
    },
    {
     "name": "stdout",
     "output_type": "stream",
     "text": [
      "\n",
      "Command Progress: 100%|██████████| 100/100 [00:02<00:00, 39.17it/s]"
     ]
    },
    {
     "name": "stderr",
     "output_type": "stream",
     "text": [
      "[2024-04-17 11:44:44][WAR][dtlpy:v1.72.7][entities.item:113] Item has been fetched from a dataset that is not belong to it\n"
     ]
    },
    {
     "name": "stdout",
     "output_type": "stream",
     "text": [
      "\n",
      "Command Progress: 100%|██████████| 100/100 [00:01<00:00, 50.13it/s]"
     ]
    },
    {
     "name": "stderr",
     "output_type": "stream",
     "text": [
      "[2024-04-17 11:44:47][WAR][dtlpy:v1.72.7][entities.item:113] Item has been fetched from a dataset that is not belong to it\n"
     ]
    },
    {
     "name": "stdout",
     "output_type": "stream",
     "text": [
      "\n",
      "Command Progress: 100%|██████████| 100/100 [00:02<00:00, 49.71it/s]"
     ]
    },
    {
     "name": "stderr",
     "output_type": "stream",
     "text": [
      "[2024-04-17 11:44:49][WAR][dtlpy:v1.72.7][entities.item:113] Item has been fetched from a dataset that is not belong to it\n"
     ]
    },
    {
     "name": "stdout",
     "output_type": "stream",
     "text": [
      "\n",
      "Command Progress: 100%|██████████| 100/100 [00:02<00:00, 49.83it/s]"
     ]
    },
    {
     "name": "stderr",
     "output_type": "stream",
     "text": [
      "[2024-04-17 11:44:52][WAR][dtlpy:v1.72.7][entities.item:113] Item has been fetched from a dataset that is not belong to it\n"
     ]
    },
    {
     "name": "stdout",
     "output_type": "stream",
     "text": [
      "\n",
      "Command Progress: 100%|██████████| 100/100 [00:02<00:00, 39.95it/s]"
     ]
    },
    {
     "name": "stderr",
     "output_type": "stream",
     "text": [
      "[2024-04-17 11:44:54][WAR][dtlpy:v1.72.7][entities.item:113] Item has been fetched from a dataset that is not belong to it\n"
     ]
    },
    {
     "name": "stdout",
     "output_type": "stream",
     "text": [
      "\n",
      "Command Progress: 100%|██████████| 100/100 [00:02<00:00, 49.69it/s]"
     ]
    },
    {
     "name": "stderr",
     "output_type": "stream",
     "text": [
      "[2024-04-17 11:44:57][WAR][dtlpy:v1.72.7][entities.item:113] Item has been fetched from a dataset that is not belong to it\n"
     ]
    },
    {
     "name": "stdout",
     "output_type": "stream",
     "text": [
      "\n",
      "Command Progress: 100%|██████████| 100/100 [00:02<00:00, 49.66it/s]"
     ]
    },
    {
     "name": "stderr",
     "output_type": "stream",
     "text": [
      "[2024-04-17 11:44:59][WAR][dtlpy:v1.72.7][entities.item:113] Item has been fetched from a dataset that is not belong to it\n"
     ]
    },
    {
     "name": "stdout",
     "output_type": "stream",
     "text": [
      "\n",
      "Command Progress: 100%|██████████| 100/100 [00:02<00:00, 49.65it/s]"
     ]
    },
    {
     "name": "stderr",
     "output_type": "stream",
     "text": [
      "[2024-04-17 11:45:02][WAR][dtlpy:v1.72.7][entities.item:113] Item has been fetched from a dataset that is not belong to it\n"
     ]
    },
    {
     "name": "stdout",
     "output_type": "stream",
     "text": [
      "\n",
      "Command Progress: 100%|██████████| 100/100 [00:02<00:00, 49.48it/s]"
     ]
    },
    {
     "name": "stderr",
     "output_type": "stream",
     "text": [
      "[2024-04-17 11:45:04][WAR][dtlpy:v1.72.7][entities.item:113] Item has been fetched from a dataset that is not belong to it\n"
     ]
    },
    {
     "name": "stdout",
     "output_type": "stream",
     "text": [
      "\n",
      "Command Progress: 100%|██████████| 100/100 [00:02<00:00, 49.42it/s]"
     ]
    },
    {
     "name": "stderr",
     "output_type": "stream",
     "text": [
      "[2024-04-17 11:45:06][WAR][dtlpy:v1.72.7][entities.item:113] Item has been fetched from a dataset that is not belong to it\n"
     ]
    },
    {
     "name": "stdout",
     "output_type": "stream",
     "text": [
      "\n",
      "Command Progress: 100%|██████████| 100/100 [00:02<00:00, 49.56it/s]"
     ]
    },
    {
     "name": "stderr",
     "output_type": "stream",
     "text": [
      "[2024-04-17 11:45:09][WAR][dtlpy:v1.72.7][entities.item:113] Item has been fetched from a dataset that is not belong to it\n"
     ]
    },
    {
     "name": "stdout",
     "output_type": "stream",
     "text": [
      "\n",
      "Command Progress: 100%|██████████| 100/100 [00:02<00:00, 49.76it/s]"
     ]
    },
    {
     "name": "stderr",
     "output_type": "stream",
     "text": [
      "[2024-04-17 11:45:11][WAR][dtlpy:v1.72.7][entities.item:113] Item has been fetched from a dataset that is not belong to it\n"
     ]
    },
    {
     "name": "stdout",
     "output_type": "stream",
     "text": [
      "\n",
      "Command Progress: 100%|██████████| 100/100 [00:02<00:00, 49.89it/s]"
     ]
    },
    {
     "name": "stderr",
     "output_type": "stream",
     "text": [
      "[2024-04-17 11:45:14][WAR][dtlpy:v1.72.7][entities.item:113] Item has been fetched from a dataset that is not belong to it\n"
     ]
    },
    {
     "name": "stdout",
     "output_type": "stream",
     "text": [
      "\n",
      "Command Progress: 100%|██████████| 100/100 [00:02<00:00, 49.52it/s]\n"
     ]
    },
    {
     "name": "stderr",
     "output_type": "stream",
     "text": [
      "[2024-04-17 11:45:16][WAR][dtlpy:v1.72.7][entities.item:113] Item has been fetched from a dataset that is not belong to it\n"
     ]
    },
    {
     "name": "stdout",
     "output_type": "stream",
     "text": [
      "Command Progress: 100%|██████████| 100/100 [00:02<00:00, 49.58it/s]"
     ]
    },
    {
     "name": "stderr",
     "output_type": "stream",
     "text": [
      "[2024-04-17 11:45:19][WAR][dtlpy:v1.72.7][entities.item:113] Item has been fetched from a dataset that is not belong to it\n"
     ]
    },
    {
     "name": "stdout",
     "output_type": "stream",
     "text": [
      "\n",
      "Command Progress: 100%|██████████| 100/100 [00:01<00:00, 50.34it/s]"
     ]
    },
    {
     "name": "stderr",
     "output_type": "stream",
     "text": [
      "[2024-04-17 11:45:21][WAR][dtlpy:v1.72.7][entities.item:113] Item has been fetched from a dataset that is not belong to it\n"
     ]
    },
    {
     "name": "stdout",
     "output_type": "stream",
     "text": [
      "\n",
      "Command Progress: 100%|██████████| 100/100 [00:02<00:00, 49.66it/s]"
     ]
    },
    {
     "name": "stderr",
     "output_type": "stream",
     "text": [
      "[2024-04-17 11:45:23][WAR][dtlpy:v1.72.7][entities.item:113] Item has been fetched from a dataset that is not belong to it\n"
     ]
    },
    {
     "name": "stdout",
     "output_type": "stream",
     "text": [
      "\n",
      "Command Progress: 100%|██████████| 100/100 [00:02<00:00, 49.81it/s]"
     ]
    },
    {
     "name": "stderr",
     "output_type": "stream",
     "text": [
      "[2024-04-17 11:45:26][WAR][dtlpy:v1.72.7][entities.item:113] Item has been fetched from a dataset that is not belong to it\n"
     ]
    },
    {
     "name": "stdout",
     "output_type": "stream",
     "text": [
      "\n",
      "Command Progress: 100%|██████████| 100/100 [00:02<00:00, 49.44it/s]"
     ]
    },
    {
     "name": "stderr",
     "output_type": "stream",
     "text": [
      "[2024-04-17 11:45:28][WAR][dtlpy:v1.72.7][entities.item:113] Item has been fetched from a dataset that is not belong to it\n"
     ]
    },
    {
     "name": "stdout",
     "output_type": "stream",
     "text": [
      "\n",
      "Command Progress: 100%|██████████| 100/100 [00:02<00:00, 49.57it/s]"
     ]
    },
    {
     "name": "stderr",
     "output_type": "stream",
     "text": [
      "[2024-04-17 11:45:31][WAR][dtlpy:v1.72.7][entities.item:113] Item has been fetched from a dataset that is not belong to it\n"
     ]
    },
    {
     "name": "stdout",
     "output_type": "stream",
     "text": [
      "\n",
      "Command Progress: 100%|██████████| 100/100 [00:01<00:00, 50.11it/s]"
     ]
    },
    {
     "name": "stderr",
     "output_type": "stream",
     "text": [
      "[2024-04-17 11:45:33][WAR][dtlpy:v1.72.7][entities.item:113] Item has been fetched from a dataset that is not belong to it\n"
     ]
    },
    {
     "name": "stdout",
     "output_type": "stream",
     "text": [
      "\n",
      "Command Progress: 100%|██████████| 100/100 [00:01<00:00, 70.17it/s]"
     ]
    },
    {
     "name": "stderr",
     "output_type": "stream",
     "text": [
      "[2024-04-17 11:45:35][WAR][dtlpy:v1.72.7][entities.item:113] Item has been fetched from a dataset that is not belong to it\n"
     ]
    },
    {
     "name": "stdout",
     "output_type": "stream",
     "text": [
      "\n",
      "Command Progress: 100%|██████████| 100/100 [00:02<00:00, 48.63it/s]"
     ]
    },
    {
     "name": "stderr",
     "output_type": "stream",
     "text": [
      "[2024-04-17 11:45:37][WAR][dtlpy:v1.72.7][entities.item:113] Item has been fetched from a dataset that is not belong to it\n"
     ]
    },
    {
     "name": "stdout",
     "output_type": "stream",
     "text": [
      "\n",
      "Command Progress: 100%|██████████| 100/100 [00:02<00:00, 49.56it/s]"
     ]
    },
    {
     "name": "stderr",
     "output_type": "stream",
     "text": [
      "[2024-04-17 11:45:40][WAR][dtlpy:v1.72.7][entities.item:113] Item has been fetched from a dataset that is not belong to it\n"
     ]
    },
    {
     "name": "stdout",
     "output_type": "stream",
     "text": [
      "\n",
      "Command Progress: 100%|██████████| 100/100 [00:01<00:00, 72.97it/s]"
     ]
    },
    {
     "name": "stderr",
     "output_type": "stream",
     "text": [
      "[2024-04-17 11:45:42][WAR][dtlpy:v1.72.7][entities.item:113] Item has been fetched from a dataset that is not belong to it\n"
     ]
    },
    {
     "name": "stdout",
     "output_type": "stream",
     "text": [
      "\n",
      "Command Progress: 100%|██████████| 100/100 [00:02<00:00, 40.87it/s]"
     ]
    },
    {
     "name": "stderr",
     "output_type": "stream",
     "text": [
      "[2024-04-17 11:45:44][WAR][dtlpy:v1.72.7][entities.item:113] Item has been fetched from a dataset that is not belong to it\n"
     ]
    },
    {
     "name": "stdout",
     "output_type": "stream",
     "text": [
      "\n",
      "Command Progress: 100%|██████████| 100/100 [00:02<00:00, 49.39it/s]"
     ]
    },
    {
     "name": "stderr",
     "output_type": "stream",
     "text": [
      "[2024-04-17 11:45:47][WAR][dtlpy:v1.72.7][entities.item:113] Item has been fetched from a dataset that is not belong to it\n"
     ]
    },
    {
     "name": "stdout",
     "output_type": "stream",
     "text": [
      "\n",
      "Command Progress: 100%|██████████| 100/100 [00:02<00:00, 49.36it/s]"
     ]
    },
    {
     "name": "stderr",
     "output_type": "stream",
     "text": [
      "[2024-04-17 11:45:49][WAR][dtlpy:v1.72.7][entities.item:113] Item has been fetched from a dataset that is not belong to it\n"
     ]
    },
    {
     "name": "stdout",
     "output_type": "stream",
     "text": [
      "\n",
      "Command Progress: 100%|██████████| 100/100 [00:02<00:00, 49.32it/s]"
     ]
    },
    {
     "name": "stderr",
     "output_type": "stream",
     "text": [
      "[2024-04-17 11:45:52][WAR][dtlpy:v1.72.7][entities.item:113] Item has been fetched from a dataset that is not belong to it\n"
     ]
    },
    {
     "name": "stdout",
     "output_type": "stream",
     "text": [
      "\n",
      "Command Progress: 100%|██████████| 100/100 [00:02<00:00, 49.77it/s]"
     ]
    },
    {
     "name": "stderr",
     "output_type": "stream",
     "text": [
      "[2024-04-17 11:45:54][WAR][dtlpy:v1.72.7][entities.item:113] Item has been fetched from a dataset that is not belong to it\n"
     ]
    },
    {
     "name": "stdout",
     "output_type": "stream",
     "text": [
      "\n",
      "Command Progress: 100%|██████████| 100/100 [00:02<00:00, 49.75it/s]"
     ]
    },
    {
     "name": "stderr",
     "output_type": "stream",
     "text": [
      "[2024-04-17 11:45:56][WAR][dtlpy:v1.72.7][entities.item:113] Item has been fetched from a dataset that is not belong to it\n"
     ]
    },
    {
     "name": "stdout",
     "output_type": "stream",
     "text": [
      "\n",
      "Command Progress: 100%|██████████| 100/100 [00:02<00:00, 49.49it/s]"
     ]
    },
    {
     "name": "stderr",
     "output_type": "stream",
     "text": [
      "[2024-04-17 11:45:59][WAR][dtlpy:v1.72.7][entities.item:113] Item has been fetched from a dataset that is not belong to it\n"
     ]
    },
    {
     "name": "stdout",
     "output_type": "stream",
     "text": [
      "\n",
      "Command Progress: 100%|██████████| 100/100 [00:02<00:00, 49.42it/s]"
     ]
    },
    {
     "name": "stderr",
     "output_type": "stream",
     "text": [
      "[2024-04-17 11:46:01][WAR][dtlpy:v1.72.7][entities.item:113] Item has been fetched from a dataset that is not belong to it\n"
     ]
    },
    {
     "name": "stdout",
     "output_type": "stream",
     "text": [
      "\n",
      "Command Progress: 100%|██████████| 100/100 [00:02<00:00, 49.76it/s]"
     ]
    },
    {
     "name": "stderr",
     "output_type": "stream",
     "text": [
      "[2024-04-17 11:46:04][WAR][dtlpy:v1.72.7][entities.item:113] Item has been fetched from a dataset that is not belong to it\n"
     ]
    },
    {
     "name": "stdout",
     "output_type": "stream",
     "text": [
      "\n",
      "Command Progress: 100%|██████████| 100/100 [00:02<00:00, 49.71it/s]"
     ]
    },
    {
     "name": "stderr",
     "output_type": "stream",
     "text": [
      "[2024-04-17 11:46:06][WAR][dtlpy:v1.72.7][entities.item:113] Item has been fetched from a dataset that is not belong to it\n"
     ]
    },
    {
     "name": "stdout",
     "output_type": "stream",
     "text": [
      "\n",
      "Command Progress: 100%|██████████| 100/100 [00:02<00:00, 49.70it/s]"
     ]
    },
    {
     "name": "stderr",
     "output_type": "stream",
     "text": [
      "[2024-04-17 11:46:09][WAR][dtlpy:v1.72.7][entities.item:113] Item has been fetched from a dataset that is not belong to it\n"
     ]
    },
    {
     "name": "stdout",
     "output_type": "stream",
     "text": [
      "\n",
      "Command Progress: 100%|██████████| 100/100 [00:01<00:00, 70.87it/s]"
     ]
    },
    {
     "name": "stderr",
     "output_type": "stream",
     "text": [
      "[2024-04-17 11:46:11][WAR][dtlpy:v1.72.7][entities.item:113] Item has been fetched from a dataset that is not belong to it\n"
     ]
    },
    {
     "name": "stdout",
     "output_type": "stream",
     "text": [
      "\n",
      "Command Progress: 100%|██████████| 100/100 [00:02<00:00, 49.99it/s]"
     ]
    },
    {
     "name": "stderr",
     "output_type": "stream",
     "text": [
      "[2024-04-17 11:46:13][WAR][dtlpy:v1.72.7][entities.item:113] Item has been fetched from a dataset that is not belong to it\n"
     ]
    },
    {
     "name": "stdout",
     "output_type": "stream",
     "text": [
      "\n",
      "Command Progress: 100%|██████████| 100/100 [00:01<00:00, 50.08it/s]"
     ]
    },
    {
     "name": "stderr",
     "output_type": "stream",
     "text": [
      "[2024-04-17 11:46:15][WAR][dtlpy:v1.72.7][entities.item:113] Item has been fetched from a dataset that is not belong to it\n"
     ]
    },
    {
     "name": "stdout",
     "output_type": "stream",
     "text": [
      "\n",
      "Command Progress: 100%|██████████| 100/100 [00:01<00:00, 87.95it/s]"
     ]
    },
    {
     "name": "stderr",
     "output_type": "stream",
     "text": [
      "[2024-04-17 11:46:17][WAR][dtlpy:v1.72.7][entities.item:113] Item has been fetched from a dataset that is not belong to it\n"
     ]
    },
    {
     "name": "stdout",
     "output_type": "stream",
     "text": [
      "\n",
      "Command Progress: 100%|██████████| 100/100 [00:02<00:00, 49.21it/s]"
     ]
    },
    {
     "name": "stderr",
     "output_type": "stream",
     "text": [
      "[2024-04-17 11:46:20][WAR][dtlpy:v1.72.7][entities.item:113] Item has been fetched from a dataset that is not belong to it\n"
     ]
    },
    {
     "name": "stdout",
     "output_type": "stream",
     "text": [
      "\n",
      "Command Progress: 100%|██████████| 100/100 [00:02<00:00, 49.00it/s]"
     ]
    },
    {
     "name": "stderr",
     "output_type": "stream",
     "text": [
      "[2024-04-17 11:46:22][WAR][dtlpy:v1.72.7][entities.item:113] Item has been fetched from a dataset that is not belong to it\n"
     ]
    },
    {
     "name": "stdout",
     "output_type": "stream",
     "text": [
      "\n",
      "Command Progress: 100%|██████████| 100/100 [00:01<00:00, 56.23it/s]"
     ]
    },
    {
     "name": "stderr",
     "output_type": "stream",
     "text": [
      "[2024-04-17 11:46:24][WAR][dtlpy:v1.72.7][entities.item:113] Item has been fetched from a dataset that is not belong to it\n"
     ]
    },
    {
     "name": "stdout",
     "output_type": "stream",
     "text": [
      "\n",
      "Command Progress: 100%|██████████| 100/100 [00:01<00:00, 66.62it/s]"
     ]
    },
    {
     "name": "stderr",
     "output_type": "stream",
     "text": [
      "[2024-04-17 11:46:26][WAR][dtlpy:v1.72.7][entities.item:113] Item has been fetched from a dataset that is not belong to it\n"
     ]
    },
    {
     "name": "stdout",
     "output_type": "stream",
     "text": [
      "\n",
      "Command Progress: 100%|██████████| 100/100 [00:02<00:00, 48.96it/s]"
     ]
    },
    {
     "name": "stderr",
     "output_type": "stream",
     "text": [
      "[2024-04-17 11:46:29][WAR][dtlpy:v1.72.7][entities.item:113] Item has been fetched from a dataset that is not belong to it\n"
     ]
    },
    {
     "name": "stdout",
     "output_type": "stream",
     "text": [
      "\n",
      "Command Progress: 100%|██████████| 100/100 [00:02<00:00, 49.08it/s]"
     ]
    },
    {
     "name": "stderr",
     "output_type": "stream",
     "text": [
      "[2024-04-17 11:46:31][WAR][dtlpy:v1.72.7][entities.item:113] Item has been fetched from a dataset that is not belong to it\n"
     ]
    },
    {
     "name": "stdout",
     "output_type": "stream",
     "text": [
      "\n",
      "Command Progress: 100%|██████████| 100/100 [00:01<00:00, 75.11it/s]"
     ]
    },
    {
     "name": "stderr",
     "output_type": "stream",
     "text": [
      "[2024-04-17 11:46:33][WAR][dtlpy:v1.72.7][entities.item:113] Item has been fetched from a dataset that is not belong to it\n"
     ]
    },
    {
     "name": "stdout",
     "output_type": "stream",
     "text": [
      "\n",
      "Command Progress: 100%|██████████| 100/100 [00:02<00:00, 48.97it/s]"
     ]
    },
    {
     "name": "stderr",
     "output_type": "stream",
     "text": [
      "[2024-04-17 11:46:35][WAR][dtlpy:v1.72.7][entities.item:113] Item has been fetched from a dataset that is not belong to it\n"
     ]
    },
    {
     "name": "stdout",
     "output_type": "stream",
     "text": [
      "\n",
      "Command Progress: 100%|██████████| 100/100 [00:02<00:00, 48.32it/s]"
     ]
    },
    {
     "name": "stderr",
     "output_type": "stream",
     "text": [
      "[2024-04-17 11:46:38][WAR][dtlpy:v1.72.7][entities.item:113] Item has been fetched from a dataset that is not belong to it\n"
     ]
    },
    {
     "name": "stdout",
     "output_type": "stream",
     "text": [
      "\n",
      "Command Progress: 100%|██████████| 100/100 [00:02<00:00, 48.30it/s]"
     ]
    },
    {
     "name": "stderr",
     "output_type": "stream",
     "text": [
      "[2024-04-17 11:46:40][WAR][dtlpy:v1.72.7][entities.item:113] Item has been fetched from a dataset that is not belong to it\n"
     ]
    },
    {
     "name": "stdout",
     "output_type": "stream",
     "text": [
      "\n",
      "Command Progress: 100%|██████████| 100/100 [00:02<00:00, 48.86it/s]"
     ]
    },
    {
     "name": "stderr",
     "output_type": "stream",
     "text": [
      "[2024-04-17 11:46:43][WAR][dtlpy:v1.72.7][entities.item:113] Item has been fetched from a dataset that is not belong to it\n"
     ]
    },
    {
     "name": "stdout",
     "output_type": "stream",
     "text": [
      "\n",
      "Command Progress: 100%|██████████| 100/100 [00:02<00:00, 48.63it/s]"
     ]
    },
    {
     "name": "stderr",
     "output_type": "stream",
     "text": [
      "[2024-04-17 11:46:45][WAR][dtlpy:v1.72.7][entities.item:113] Item has been fetched from a dataset that is not belong to it\n"
     ]
    },
    {
     "name": "stdout",
     "output_type": "stream",
     "text": [
      "\n",
      "Command Progress: 100%|██████████| 100/100 [00:02<00:00, 48.58it/s]"
     ]
    },
    {
     "name": "stderr",
     "output_type": "stream",
     "text": [
      "[2024-04-17 11:46:48][WAR][dtlpy:v1.72.7][entities.item:113] Item has been fetched from a dataset that is not belong to it\n"
     ]
    },
    {
     "name": "stdout",
     "output_type": "stream",
     "text": [
      "\n",
      "Command Progress: 100%|██████████| 100/100 [00:02<00:00, 49.46it/s]"
     ]
    },
    {
     "name": "stderr",
     "output_type": "stream",
     "text": [
      "[2024-04-17 11:46:50][WAR][dtlpy:v1.72.7][entities.item:113] Item has been fetched from a dataset that is not belong to it\n"
     ]
    },
    {
     "name": "stdout",
     "output_type": "stream",
     "text": [
      "\n",
      "Command Progress: 100%|██████████| 100/100 [00:01<00:00, 63.01it/s]"
     ]
    },
    {
     "name": "stderr",
     "output_type": "stream",
     "text": [
      "[2024-04-17 11:46:52][WAR][dtlpy:v1.72.7][entities.item:113] Item has been fetched from a dataset that is not belong to it\n"
     ]
    },
    {
     "name": "stdout",
     "output_type": "stream",
     "text": [
      "\n",
      "Command Progress: 100%|██████████| 100/100 [00:02<00:00, 47.91it/s]"
     ]
    },
    {
     "name": "stderr",
     "output_type": "stream",
     "text": [
      "[2024-04-17 11:46:55][WAR][dtlpy:v1.72.7][entities.item:113] Item has been fetched from a dataset that is not belong to it\n"
     ]
    },
    {
     "name": "stdout",
     "output_type": "stream",
     "text": [
      "\n",
      "Command Progress: 100%|██████████| 100/100 [00:02<00:00, 48.48it/s]"
     ]
    },
    {
     "name": "stderr",
     "output_type": "stream",
     "text": [
      "[2024-04-17 11:46:57][WAR][dtlpy:v1.72.7][entities.item:113] Item has been fetched from a dataset that is not belong to it\n"
     ]
    },
    {
     "name": "stdout",
     "output_type": "stream",
     "text": [
      "\n",
      "Command Progress: 100%|██████████| 100/100 [00:01<00:00, 69.49it/s]"
     ]
    },
    {
     "name": "stderr",
     "output_type": "stream",
     "text": [
      "[2024-04-17 11:46:59][WAR][dtlpy:v1.72.7][entities.item:113] Item has been fetched from a dataset that is not belong to it\n"
     ]
    },
    {
     "name": "stdout",
     "output_type": "stream",
     "text": [
      "\n",
      "Command Progress: 100%|██████████| 100/100 [00:02<00:00, 49.69it/s]"
     ]
    },
    {
     "name": "stderr",
     "output_type": "stream",
     "text": [
      "[2024-04-17 11:47:01][WAR][dtlpy:v1.72.7][entities.item:113] Item has been fetched from a dataset that is not belong to it\n"
     ]
    },
    {
     "name": "stdout",
     "output_type": "stream",
     "text": [
      "\n",
      "Command Progress: 100%|██████████| 100/100 [00:02<00:00, 49.46it/s]"
     ]
    },
    {
     "name": "stderr",
     "output_type": "stream",
     "text": [
      "[2024-04-17 11:47:04][WAR][dtlpy:v1.72.7][entities.item:113] Item has been fetched from a dataset that is not belong to it\n"
     ]
    },
    {
     "name": "stdout",
     "output_type": "stream",
     "text": [
      "\n",
      "Command Progress: 100%|██████████| 100/100 [00:02<00:00, 49.36it/s]"
     ]
    },
    {
     "name": "stderr",
     "output_type": "stream",
     "text": [
      "[2024-04-17 11:47:06][WAR][dtlpy:v1.72.7][entities.item:113] Item has been fetched from a dataset that is not belong to it\n"
     ]
    },
    {
     "name": "stdout",
     "output_type": "stream",
     "text": [
      "\n",
      "Command Progress: 100%|██████████| 100/100 [00:01<00:00, 50.07it/s]"
     ]
    },
    {
     "name": "stderr",
     "output_type": "stream",
     "text": [
      "[2024-04-17 11:47:08][WAR][dtlpy:v1.72.7][entities.item:113] Item has been fetched from a dataset that is not belong to it\n"
     ]
    },
    {
     "name": "stdout",
     "output_type": "stream",
     "text": [
      "\n",
      "Command Progress: 100%|██████████| 100/100 [00:02<00:00, 49.66it/s]"
     ]
    },
    {
     "name": "stderr",
     "output_type": "stream",
     "text": [
      "[2024-04-17 11:47:11][WAR][dtlpy:v1.72.7][entities.item:113] Item has been fetched from a dataset that is not belong to it\n"
     ]
    },
    {
     "name": "stdout",
     "output_type": "stream",
     "text": [
      "\n",
      "Command Progress: 100%|██████████| 100/100 [03:12<00:00,  1.92s/it]\n",
      "Task Created\n"
     ]
    }
   ],
   "source": [
    "task_name = task_dataset_name\n",
    "\n",
    "clone_items_in_new_dataset(list_selected_items, task_dataset, task_name, user_list, task_owner)\n"
   ]
  },
  {
   "cell_type": "markdown",
   "metadata": {},
   "source": [
    "------------------------------------------"
   ]
  }
 ],
 "metadata": {
  "kernelspec": {
   "display_name": "base",
   "language": "python",
   "name": "python3"
  },
  "language_info": {
   "codemirror_mode": {
    "name": "ipython",
    "version": 3
   },
   "file_extension": ".py",
   "mimetype": "text/x-python",
   "name": "python",
   "nbconvert_exporter": "python",
   "pygments_lexer": "ipython3",
   "version": "3.9.7"
  }
 },
 "nbformat": 4,
 "nbformat_minor": 2
}
